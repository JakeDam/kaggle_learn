{
 "cells": [
  {
   "cell_type": "markdown",
   "id": "65c77cdf",
   "metadata": {
    "papermill": {
     "duration": 0.009516,
     "end_time": "2023-01-26T20:32:37.179105",
     "exception": false,
     "start_time": "2023-01-26T20:32:37.169589",
     "status": "completed"
    },
    "tags": []
   },
   "source": [
    "**This notebook is an exercise in the [Data Visualization](https://www.kaggle.com/learn/data-visualization) course.  You can reference the tutorial at [this link](https://www.kaggle.com/alexisbcook/scatter-plots).**\n",
    "\n",
    "---\n"
   ]
  },
  {
   "cell_type": "markdown",
   "id": "0c12644c",
   "metadata": {
    "papermill": {
     "duration": 0.00845,
     "end_time": "2023-01-26T20:32:37.196160",
     "exception": false,
     "start_time": "2023-01-26T20:32:37.187710",
     "status": "completed"
    },
    "tags": []
   },
   "source": [
    "In this exercise, you will use your new knowledge to propose a solution to a real-world scenario.  To succeed, you will need to import data into Python, answer questions using the data, and generate **scatter plots** to understand patterns in the data.\n",
    "\n",
    "## Scenario\n",
    "\n",
    "You work for a major candy producer, and your goal is to write a report that your company can use to guide the design of its next product.  Soon after starting your research, you stumble across this [very interesting dataset](https://fivethirtyeight.com/features/the-ultimate-halloween-candy-power-ranking/) containing results from a fun survey to crowdsource favorite candies.\n",
    "\n",
    "## Setup\n",
    "\n",
    "Run the next cell to import and configure the Python libraries that you need to complete the exercise."
   ]
  },
  {
   "cell_type": "code",
   "execution_count": 1,
   "id": "4527696c",
   "metadata": {
    "execution": {
     "iopub.execute_input": "2023-01-26T20:32:37.215375Z",
     "iopub.status.busy": "2023-01-26T20:32:37.214568Z",
     "iopub.status.idle": "2023-01-26T20:32:38.340553Z",
     "shell.execute_reply": "2023-01-26T20:32:38.339101Z"
    },
    "papermill": {
     "duration": 1.138641,
     "end_time": "2023-01-26T20:32:38.343310",
     "exception": false,
     "start_time": "2023-01-26T20:32:37.204669",
     "status": "completed"
    },
    "tags": []
   },
   "outputs": [
    {
     "name": "stdout",
     "output_type": "stream",
     "text": [
      "Setup Complete\n"
     ]
    }
   ],
   "source": [
    "import pandas as pd\n",
    "pd.plotting.register_matplotlib_converters()\n",
    "import matplotlib.pyplot as plt\n",
    "%matplotlib inline\n",
    "import seaborn as sns\n",
    "print(\"Setup Complete\")"
   ]
  },
  {
   "cell_type": "markdown",
   "id": "1ae8dc35",
   "metadata": {
    "papermill": {
     "duration": 0.0083,
     "end_time": "2023-01-26T20:32:38.360249",
     "exception": false,
     "start_time": "2023-01-26T20:32:38.351949",
     "status": "completed"
    },
    "tags": []
   },
   "source": [
    "The questions below will give you feedback on your work. Run the following cell to set up our feedback system."
   ]
  },
  {
   "cell_type": "code",
   "execution_count": 2,
   "id": "3da79bcd",
   "metadata": {
    "execution": {
     "iopub.execute_input": "2023-01-26T20:32:38.379665Z",
     "iopub.status.busy": "2023-01-26T20:32:38.378911Z",
     "iopub.status.idle": "2023-01-26T20:32:38.444260Z",
     "shell.execute_reply": "2023-01-26T20:32:38.442874Z"
    },
    "papermill": {
     "duration": 0.078455,
     "end_time": "2023-01-26T20:32:38.447401",
     "exception": false,
     "start_time": "2023-01-26T20:32:38.368946",
     "status": "completed"
    },
    "tags": []
   },
   "outputs": [
    {
     "name": "stdout",
     "output_type": "stream",
     "text": [
      "Setup Complete\n"
     ]
    }
   ],
   "source": [
    "# Set up code checking\n",
    "import os\n",
    "if not os.path.exists(\"../input/candy.csv\"):\n",
    "    os.symlink(\"../input/data-for-datavis/candy.csv\", \"../input/candy.csv\") \n",
    "from learntools.core import binder\n",
    "binder.bind(globals())\n",
    "from learntools.data_viz_to_coder.ex4 import *\n",
    "print(\"Setup Complete\")"
   ]
  },
  {
   "cell_type": "markdown",
   "id": "8720b41f",
   "metadata": {
    "papermill": {
     "duration": 0.008197,
     "end_time": "2023-01-26T20:32:38.464830",
     "exception": false,
     "start_time": "2023-01-26T20:32:38.456633",
     "status": "completed"
    },
    "tags": []
   },
   "source": [
    "## Step 1: Load the Data\n",
    "\n",
    "Read the candy data file into `candy_data`.  Use the `\"id\"` column to label the rows."
   ]
  },
  {
   "cell_type": "code",
   "execution_count": 3,
   "id": "a97cd9f5",
   "metadata": {
    "execution": {
     "iopub.execute_input": "2023-01-26T20:32:38.484435Z",
     "iopub.status.busy": "2023-01-26T20:32:38.483756Z",
     "iopub.status.idle": "2023-01-26T20:32:38.499038Z",
     "shell.execute_reply": "2023-01-26T20:32:38.497935Z"
    },
    "papermill": {
     "duration": 0.027942,
     "end_time": "2023-01-26T20:32:38.501162",
     "exception": false,
     "start_time": "2023-01-26T20:32:38.473220",
     "status": "completed"
    },
    "tags": []
   },
   "outputs": [
    {
     "data": {
      "application/javascript": [
       "parent.postMessage({\"jupyterEvent\": \"custom.exercise_interaction\", \"data\": {\"outcomeType\": 1, \"valueTowardsCompletion\": 0.3333333333333333, \"interactionType\": 1, \"questionType\": 1, \"questionId\": \"1_LoadData\", \"learnToolsVersion\": \"0.3.4\", \"failureMessage\": \"\", \"exceptionClass\": \"\", \"trace\": \"\"}}, \"*\")"
      ],
      "text/plain": [
       "<IPython.core.display.Javascript object>"
      ]
     },
     "metadata": {},
     "output_type": "display_data"
    },
    {
     "data": {
      "text/markdown": [
       "<span style=\"color:#33cc33\">Correct</span>"
      ],
      "text/plain": [
       "Correct"
      ]
     },
     "metadata": {},
     "output_type": "display_data"
    }
   ],
   "source": [
    "# Path of the file to read\n",
    "candy_filepath = \"../input/candy.csv\"\n",
    "\n",
    "# Fill in the line below to read the file into a variable candy_data\n",
    "candy_data = pd.read_csv(candy_filepath, index_col=\"id\")\n",
    "\n",
    "# Run the line below with no changes to check that you've loaded the data correctly\n",
    "step_1.check()"
   ]
  },
  {
   "cell_type": "code",
   "execution_count": 4,
   "id": "5c13262d",
   "metadata": {
    "execution": {
     "iopub.execute_input": "2023-01-26T20:32:38.521993Z",
     "iopub.status.busy": "2023-01-26T20:32:38.521259Z",
     "iopub.status.idle": "2023-01-26T20:32:38.526280Z",
     "shell.execute_reply": "2023-01-26T20:32:38.525235Z"
    },
    "papermill": {
     "duration": 0.017451,
     "end_time": "2023-01-26T20:32:38.528581",
     "exception": false,
     "start_time": "2023-01-26T20:32:38.511130",
     "status": "completed"
    },
    "tags": []
   },
   "outputs": [],
   "source": [
    "# Lines below will give you a hint or solution code\n",
    "#step_1.hint()\n",
    "#step_1.solution()"
   ]
  },
  {
   "cell_type": "markdown",
   "id": "2a0fdebc",
   "metadata": {
    "papermill": {
     "duration": 0.009392,
     "end_time": "2023-01-26T20:32:38.546984",
     "exception": false,
     "start_time": "2023-01-26T20:32:38.537592",
     "status": "completed"
    },
    "tags": []
   },
   "source": [
    "## Step 2: Review the data\n",
    "\n",
    "Use a Python command to print the first five rows of the data."
   ]
  },
  {
   "cell_type": "code",
   "execution_count": 5,
   "id": "9f2c61eb",
   "metadata": {
    "execution": {
     "iopub.execute_input": "2023-01-26T20:32:38.566677Z",
     "iopub.status.busy": "2023-01-26T20:32:38.565959Z",
     "iopub.status.idle": "2023-01-26T20:32:38.589448Z",
     "shell.execute_reply": "2023-01-26T20:32:38.588312Z"
    },
    "papermill": {
     "duration": 0.035824,
     "end_time": "2023-01-26T20:32:38.591837",
     "exception": false,
     "start_time": "2023-01-26T20:32:38.556013",
     "status": "completed"
    },
    "tags": []
   },
   "outputs": [
    {
     "data": {
      "text/html": [
       "<div>\n",
       "<style scoped>\n",
       "    .dataframe tbody tr th:only-of-type {\n",
       "        vertical-align: middle;\n",
       "    }\n",
       "\n",
       "    .dataframe tbody tr th {\n",
       "        vertical-align: top;\n",
       "    }\n",
       "\n",
       "    .dataframe thead th {\n",
       "        text-align: right;\n",
       "    }\n",
       "</style>\n",
       "<table border=\"1\" class=\"dataframe\">\n",
       "  <thead>\n",
       "    <tr style=\"text-align: right;\">\n",
       "      <th></th>\n",
       "      <th>competitorname</th>\n",
       "      <th>chocolate</th>\n",
       "      <th>fruity</th>\n",
       "      <th>caramel</th>\n",
       "      <th>peanutyalmondy</th>\n",
       "      <th>nougat</th>\n",
       "      <th>crispedricewafer</th>\n",
       "      <th>hard</th>\n",
       "      <th>bar</th>\n",
       "      <th>pluribus</th>\n",
       "      <th>sugarpercent</th>\n",
       "      <th>pricepercent</th>\n",
       "      <th>winpercent</th>\n",
       "    </tr>\n",
       "    <tr>\n",
       "      <th>id</th>\n",
       "      <th></th>\n",
       "      <th></th>\n",
       "      <th></th>\n",
       "      <th></th>\n",
       "      <th></th>\n",
       "      <th></th>\n",
       "      <th></th>\n",
       "      <th></th>\n",
       "      <th></th>\n",
       "      <th></th>\n",
       "      <th></th>\n",
       "      <th></th>\n",
       "      <th></th>\n",
       "    </tr>\n",
       "  </thead>\n",
       "  <tbody>\n",
       "    <tr>\n",
       "      <th>0</th>\n",
       "      <td>100 Grand</td>\n",
       "      <td>Yes</td>\n",
       "      <td>No</td>\n",
       "      <td>Yes</td>\n",
       "      <td>No</td>\n",
       "      <td>No</td>\n",
       "      <td>Yes</td>\n",
       "      <td>No</td>\n",
       "      <td>Yes</td>\n",
       "      <td>No</td>\n",
       "      <td>0.732</td>\n",
       "      <td>0.860</td>\n",
       "      <td>66.971725</td>\n",
       "    </tr>\n",
       "    <tr>\n",
       "      <th>1</th>\n",
       "      <td>3 Musketeers</td>\n",
       "      <td>Yes</td>\n",
       "      <td>No</td>\n",
       "      <td>No</td>\n",
       "      <td>No</td>\n",
       "      <td>Yes</td>\n",
       "      <td>No</td>\n",
       "      <td>No</td>\n",
       "      <td>Yes</td>\n",
       "      <td>No</td>\n",
       "      <td>0.604</td>\n",
       "      <td>0.511</td>\n",
       "      <td>67.602936</td>\n",
       "    </tr>\n",
       "    <tr>\n",
       "      <th>2</th>\n",
       "      <td>Air Heads</td>\n",
       "      <td>No</td>\n",
       "      <td>Yes</td>\n",
       "      <td>No</td>\n",
       "      <td>No</td>\n",
       "      <td>No</td>\n",
       "      <td>No</td>\n",
       "      <td>No</td>\n",
       "      <td>No</td>\n",
       "      <td>No</td>\n",
       "      <td>0.906</td>\n",
       "      <td>0.511</td>\n",
       "      <td>52.341465</td>\n",
       "    </tr>\n",
       "    <tr>\n",
       "      <th>3</th>\n",
       "      <td>Almond Joy</td>\n",
       "      <td>Yes</td>\n",
       "      <td>No</td>\n",
       "      <td>No</td>\n",
       "      <td>Yes</td>\n",
       "      <td>No</td>\n",
       "      <td>No</td>\n",
       "      <td>No</td>\n",
       "      <td>Yes</td>\n",
       "      <td>No</td>\n",
       "      <td>0.465</td>\n",
       "      <td>0.767</td>\n",
       "      <td>50.347546</td>\n",
       "    </tr>\n",
       "    <tr>\n",
       "      <th>4</th>\n",
       "      <td>Baby Ruth</td>\n",
       "      <td>Yes</td>\n",
       "      <td>No</td>\n",
       "      <td>Yes</td>\n",
       "      <td>Yes</td>\n",
       "      <td>Yes</td>\n",
       "      <td>No</td>\n",
       "      <td>No</td>\n",
       "      <td>Yes</td>\n",
       "      <td>No</td>\n",
       "      <td>0.604</td>\n",
       "      <td>0.767</td>\n",
       "      <td>56.914547</td>\n",
       "    </tr>\n",
       "  </tbody>\n",
       "</table>\n",
       "</div>"
      ],
      "text/plain": [
       "   competitorname chocolate fruity caramel peanutyalmondy nougat  \\\n",
       "id                                                                 \n",
       "0       100 Grand       Yes     No     Yes             No     No   \n",
       "1    3 Musketeers       Yes     No      No             No    Yes   \n",
       "2       Air Heads        No    Yes      No             No     No   \n",
       "3      Almond Joy       Yes     No      No            Yes     No   \n",
       "4       Baby Ruth       Yes     No     Yes            Yes    Yes   \n",
       "\n",
       "   crispedricewafer hard  bar pluribus  sugarpercent  pricepercent  winpercent  \n",
       "id                                                                              \n",
       "0               Yes   No  Yes       No         0.732         0.860   66.971725  \n",
       "1                No   No  Yes       No         0.604         0.511   67.602936  \n",
       "2                No   No   No       No         0.906         0.511   52.341465  \n",
       "3                No   No  Yes       No         0.465         0.767   50.347546  \n",
       "4                No   No  Yes       No         0.604         0.767   56.914547  "
      ]
     },
     "execution_count": 5,
     "metadata": {},
     "output_type": "execute_result"
    }
   ],
   "source": [
    "# Print the first five rows of the data\n",
    "candy_data.head() # Your code here"
   ]
  },
  {
   "cell_type": "markdown",
   "id": "984d2b54",
   "metadata": {
    "papermill": {
     "duration": 0.008483,
     "end_time": "2023-01-26T20:32:38.609443",
     "exception": false,
     "start_time": "2023-01-26T20:32:38.600960",
     "status": "completed"
    },
    "tags": []
   },
   "source": [
    "The dataset contains 83 rows, where each corresponds to a different candy bar.  There are 13 columns:\n",
    "- `'competitorname'` contains the name of the candy bar. \n",
    "- the next **9** columns (from `'chocolate'` to `'pluribus'`) describe the candy.  For instance, rows with chocolate candies have `\"Yes\"` in the `'chocolate'` column (and candies without chocolate have `\"No\"` in the same column).\n",
    "- `'sugarpercent'` provides some indication of the amount of sugar, where higher values signify higher sugar content.\n",
    "- `'pricepercent'` shows the price per unit, relative to the other candies in the dataset.\n",
    "- `'winpercent'` is calculated from the survey results; higher values indicate that the candy was more popular with survey respondents.\n",
    "\n",
    "Use the first five rows of the data to answer the questions below."
   ]
  },
  {
   "cell_type": "code",
   "execution_count": 6,
   "id": "db29ed38",
   "metadata": {
    "execution": {
     "iopub.execute_input": "2023-01-26T20:32:38.629159Z",
     "iopub.status.busy": "2023-01-26T20:32:38.628732Z",
     "iopub.status.idle": "2023-01-26T20:32:38.638034Z",
     "shell.execute_reply": "2023-01-26T20:32:38.637007Z"
    },
    "papermill": {
     "duration": 0.0219,
     "end_time": "2023-01-26T20:32:38.640260",
     "exception": false,
     "start_time": "2023-01-26T20:32:38.618360",
     "status": "completed"
    },
    "tags": []
   },
   "outputs": [
    {
     "data": {
      "application/javascript": [
       "parent.postMessage({\"jupyterEvent\": \"custom.exercise_interaction\", \"data\": {\"outcomeType\": 1, \"valueTowardsCompletion\": 0.3333333333333333, \"interactionType\": 1, \"questionType\": 1, \"questionId\": \"2_ReviewData\", \"learnToolsVersion\": \"0.3.4\", \"failureMessage\": \"\", \"exceptionClass\": \"\", \"trace\": \"\"}}, \"*\")"
      ],
      "text/plain": [
       "<IPython.core.display.Javascript object>"
      ]
     },
     "metadata": {},
     "output_type": "display_data"
    },
    {
     "data": {
      "text/markdown": [
       "<span style=\"color:#33cc33\">Correct</span>"
      ],
      "text/plain": [
       "Correct"
      ]
     },
     "metadata": {},
     "output_type": "display_data"
    }
   ],
   "source": [
    "# Fill in the line below: Which candy was more popular with survey respondents:\n",
    "# '3 Musketeers' or 'Almond Joy'?  (Please enclose your answer in single quotes.)\n",
    "more_popular = \"3 Musketeers\"\n",
    "\n",
    "# Fill in the line below: Which candy has higher sugar content: 'Air Heads'\n",
    "# or 'Baby Ruth'? (Please enclose your answer in single quotes.)\n",
    "more_sugar = \"Air Heads\"\n",
    "\n",
    "# Check your answers\n",
    "step_2.check()"
   ]
  },
  {
   "cell_type": "code",
   "execution_count": 7,
   "id": "dfea76e6",
   "metadata": {
    "execution": {
     "iopub.execute_input": "2023-01-26T20:32:38.661202Z",
     "iopub.status.busy": "2023-01-26T20:32:38.660791Z",
     "iopub.status.idle": "2023-01-26T20:32:38.665294Z",
     "shell.execute_reply": "2023-01-26T20:32:38.664137Z"
    },
    "papermill": {
     "duration": 0.017773,
     "end_time": "2023-01-26T20:32:38.667552",
     "exception": false,
     "start_time": "2023-01-26T20:32:38.649779",
     "status": "completed"
    },
    "tags": []
   },
   "outputs": [],
   "source": [
    "# Lines below will give you a hint or solution code\n",
    "#step_2.hint()\n",
    "#step_2.solution()"
   ]
  },
  {
   "cell_type": "markdown",
   "id": "fb43c88a",
   "metadata": {
    "papermill": {
     "duration": 0.009217,
     "end_time": "2023-01-26T20:32:38.686135",
     "exception": false,
     "start_time": "2023-01-26T20:32:38.676918",
     "status": "completed"
    },
    "tags": []
   },
   "source": [
    "## Step 3: The role of sugar\n",
    "\n",
    "Do people tend to prefer candies with higher sugar content?  \n",
    "\n",
    "#### Part A\n",
    "\n",
    "Create a scatter plot that shows the relationship between `'sugarpercent'` (on the horizontal x-axis) and `'winpercent'` (on the vertical y-axis).  _Don't add a regression line just yet -- you'll do that in the next step!_"
   ]
  },
  {
   "cell_type": "code",
   "execution_count": 8,
   "id": "27890e4c",
   "metadata": {
    "execution": {
     "iopub.execute_input": "2023-01-26T20:32:38.706895Z",
     "iopub.status.busy": "2023-01-26T20:32:38.706477Z",
     "iopub.status.idle": "2023-01-26T20:32:38.917121Z",
     "shell.execute_reply": "2023-01-26T20:32:38.916182Z"
    },
    "papermill": {
     "duration": 0.223807,
     "end_time": "2023-01-26T20:32:38.919366",
     "exception": false,
     "start_time": "2023-01-26T20:32:38.695559",
     "status": "completed"
    },
    "tags": []
   },
   "outputs": [
    {
     "data": {
      "application/javascript": [
       "parent.postMessage({\"jupyterEvent\": \"custom.exercise_interaction\", \"data\": {\"outcomeType\": 1, \"valueTowardsCompletion\": 0.3333333333333333, \"interactionType\": 1, \"questionType\": 2, \"questionId\": \"3.1_PlotBlueScatter\", \"learnToolsVersion\": \"0.3.4\", \"failureMessage\": \"\", \"exceptionClass\": \"\", \"trace\": \"\"}}, \"*\")"
      ],
      "text/plain": [
       "<IPython.core.display.Javascript object>"
      ]
     },
     "metadata": {},
     "output_type": "display_data"
    },
    {
     "data": {
      "text/markdown": [
       "<span style=\"color:#33cc33\">Correct</span>"
      ],
      "text/plain": [
       "Correct"
      ]
     },
     "metadata": {},
     "output_type": "display_data"
    },
    {
     "data": {
      "image/png": "[encoded data removed]",
      "text/plain": [
       "<Figure size 432x288 with 1 Axes>"
      ]
     },
     "metadata": {
      "needs_background": "light"
     },
     "output_type": "display_data"
    }
   ],
   "source": [
    "# Scatter plot showing the relationship between 'sugarpercent' and 'winpercent'\n",
    "sns.scatterplot(x=candy_data[\"sugarpercent\"], y=candy_data[\"winpercent\"]) # Your code here\n",
    "\n",
    "# Check your answer\n",
    "step_3.a.check()"
   ]
  },
  {
   "cell_type": "code",
   "execution_count": 9,
   "id": "06f12981",
   "metadata": {
    "execution": {
     "iopub.execute_input": "2023-01-26T20:32:38.941227Z",
     "iopub.status.busy": "2023-01-26T20:32:38.940520Z",
     "iopub.status.idle": "2023-01-26T20:32:38.945001Z",
     "shell.execute_reply": "2023-01-26T20:32:38.943977Z"
    },
    "papermill": {
     "duration": 0.018009,
     "end_time": "2023-01-26T20:32:38.947300",
     "exception": false,
     "start_time": "2023-01-26T20:32:38.929291",
     "status": "completed"
    },
    "tags": []
   },
   "outputs": [],
   "source": [
    "# Lines below will give you a hint or solution code\n",
    "#step_3.a.hint()\n",
    "#step_3.a.solution_plot()"
   ]
  },
  {
   "cell_type": "markdown",
   "id": "f12acbe7",
   "metadata": {
    "papermill": {
     "duration": 0.009326,
     "end_time": "2023-01-26T20:32:38.966433",
     "exception": false,
     "start_time": "2023-01-26T20:32:38.957107",
     "status": "completed"
    },
    "tags": []
   },
   "source": [
    "#### Part B\n",
    "\n",
    "Does the scatter plot show a **strong** correlation between the two variables?  If so, are candies with more sugar relatively more or less popular with the survey respondents?"
   ]
  },
  {
   "cell_type": "code",
   "execution_count": 10,
   "id": "3f762d32",
   "metadata": {
    "execution": {
     "iopub.execute_input": "2023-01-26T20:32:38.988266Z",
     "iopub.status.busy": "2023-01-26T20:32:38.987859Z",
     "iopub.status.idle": "2023-01-26T20:32:38.993114Z",
     "shell.execute_reply": "2023-01-26T20:32:38.991918Z"
    },
    "papermill": {
     "duration": 0.019245,
     "end_time": "2023-01-26T20:32:38.995655",
     "exception": false,
     "start_time": "2023-01-26T20:32:38.976410",
     "status": "completed"
    },
    "tags": []
   },
   "outputs": [],
   "source": [
    "#step_3.b.hint()"
   ]
  },
  {
   "cell_type": "code",
   "execution_count": 11,
   "id": "ad104579",
   "metadata": {
    "execution": {
     "iopub.execute_input": "2023-01-26T20:32:39.018155Z",
     "iopub.status.busy": "2023-01-26T20:32:39.017744Z",
     "iopub.status.idle": "2023-01-26T20:32:39.025419Z",
     "shell.execute_reply": "2023-01-26T20:32:39.024657Z"
    },
    "papermill": {
     "duration": 0.021426,
     "end_time": "2023-01-26T20:32:39.027472",
     "exception": false,
     "start_time": "2023-01-26T20:32:39.006046",
     "status": "completed"
    },
    "tags": []
   },
   "outputs": [
    {
     "data": {
      "application/javascript": [
       "parent.postMessage({\"jupyterEvent\": \"custom.exercise_interaction\", \"data\": {\"interactionType\": 3, \"questionType\": 4, \"questionId\": \"3.2_ThinkBlueScatter\", \"learnToolsVersion\": \"0.3.4\", \"valueTowardsCompletion\": 0.0, \"failureMessage\": \"\", \"exceptionClass\": \"\", \"trace\": \"\", \"outcomeType\": 4}}, \"*\")"
      ],
      "text/plain": [
       "<IPython.core.display.Javascript object>"
      ]
     },
     "metadata": {},
     "output_type": "display_data"
    },
    {
     "data": {
      "text/markdown": [
       "<span style=\"color:#33cc99\">Solution:</span> The scatter plot does not show a strong correlation between the two variables. Since there is no clear relationship between the two variables, this tells us that sugar content does not play a strong role in candy popularity."
      ],
      "text/plain": [
       "Solution: The scatter plot does not show a strong correlation between the two variables. Since there is no clear relationship between the two variables, this tells us that sugar content does not play a strong role in candy popularity."
      ]
     },
     "metadata": {},
     "output_type": "display_data"
    }
   ],
   "source": [
    "# Check your answer (Run this code cell to receive credit!)\n",
    "step_3.b.solution()"
   ]
  },
  {
   "cell_type": "markdown",
   "id": "fa693127",
   "metadata": {
    "papermill": {
     "duration": 0.009656,
     "end_time": "2023-01-26T20:32:39.047277",
     "exception": false,
     "start_time": "2023-01-26T20:32:39.037621",
     "status": "completed"
    },
    "tags": []
   },
   "source": [
    "## Step 4: Take a closer look\n",
    "\n",
    "#### Part A\n",
    "\n",
    "Create the same scatter plot you created in **Step 3**, but now with a regression line!"
   ]
  },
  {
   "cell_type": "code",
   "execution_count": 12,
   "id": "dd376e8a",
   "metadata": {
    "execution": {
     "iopub.execute_input": "2023-01-26T20:32:39.069838Z",
     "iopub.status.busy": "2023-01-26T20:32:39.068544Z",
     "iopub.status.idle": "2023-01-26T20:32:39.314097Z",
     "shell.execute_reply": "2023-01-26T20:32:39.312921Z"
    },
    "papermill": {
     "duration": 0.259474,
     "end_time": "2023-01-26T20:32:39.316838",
     "exception": false,
     "start_time": "2023-01-26T20:32:39.057364",
     "status": "completed"
    },
    "tags": []
   },
   "outputs": [
    {
     "data": {
      "application/javascript": [
       "parent.postMessage({\"jupyterEvent\": \"custom.exercise_interaction\", \"data\": {\"outcomeType\": 1, \"valueTowardsCompletion\": 0.3333333333333333, \"interactionType\": 1, \"questionType\": 2, \"questionId\": \"4.1_PlotBlueReg\", \"learnToolsVersion\": \"0.3.4\", \"failureMessage\": \"\", \"exceptionClass\": \"\", \"trace\": \"\"}}, \"*\")"
      ],
      "text/plain": [
       "<IPython.core.display.Javascript object>"
      ]
     },
     "metadata": {},
     "output_type": "display_data"
    },
    {
     "data": {
      "text/markdown": [
       "<span style=\"color:#33cc33\">Correct</span>"
      ],
      "text/plain": [
       "Correct"
      ]
     },
     "metadata": {},
     "output_type": "display_data"
    },
    {
     "data": {
      "image/png": "[encoded data removed]",
      "text/plain": [
       "<Figure size 432x288 with 1 Axes>"
      ]
     },
     "metadata": {
      "needs_background": "light"
     },
     "output_type": "display_data"
    }
   ],
   "source": [
    "# Scatter plot w/ regression line showing the relationship between 'sugarpercent' and 'winpercent'\n",
    "sns.regplot(x=candy_data[\"sugarpercent\"], y=candy_data[\"winpercent\"]) # Your code here\n",
    "\n",
    "# Check your answer\n",
    "step_4.a.check()"
   ]
  },
  {
   "cell_type": "code",
   "execution_count": 13,
   "id": "d853fb8c",
   "metadata": {
    "execution": {
     "iopub.execute_input": "2023-01-26T20:32:39.340256Z",
     "iopub.status.busy": "2023-01-26T20:32:39.339846Z",
     "iopub.status.idle": "2023-01-26T20:32:39.344361Z",
     "shell.execute_reply": "2023-01-26T20:32:39.343406Z"
    },
    "papermill": {
     "duration": 0.018786,
     "end_time": "2023-01-26T20:32:39.346542",
     "exception": false,
     "start_time": "2023-01-26T20:32:39.327756",
     "status": "completed"
    },
    "tags": []
   },
   "outputs": [],
   "source": [
    "# Lines below will give you a hint or solution code\n",
    "#step_4.a.hint()\n",
    "#step_4.a.solution_plot()"
   ]
  },
  {
   "cell_type": "markdown",
   "id": "006a9192",
   "metadata": {
    "papermill": {
     "duration": 0.010355,
     "end_time": "2023-01-26T20:32:39.367723",
     "exception": false,
     "start_time": "2023-01-26T20:32:39.357368",
     "status": "completed"
    },
    "tags": []
   },
   "source": [
    "#### Part B\n",
    "\n",
    "According to the plot above, is there a **slight** correlation between `'winpercent'` and `'sugarpercent'`?  What does this tell you about the candy that people tend to prefer?"
   ]
  },
  {
   "cell_type": "code",
   "execution_count": 14,
   "id": "e7999f82",
   "metadata": {
    "execution": {
     "iopub.execute_input": "2023-01-26T20:32:39.392342Z",
     "iopub.status.busy": "2023-01-26T20:32:39.391618Z",
     "iopub.status.idle": "2023-01-26T20:32:39.395580Z",
     "shell.execute_reply": "2023-01-26T20:32:39.394778Z"
    },
    "papermill": {
     "duration": 0.018304,
     "end_time": "2023-01-26T20:32:39.397703",
     "exception": false,
     "start_time": "2023-01-26T20:32:39.379399",
     "status": "completed"
    },
    "tags": []
   },
   "outputs": [],
   "source": [
    "#step_4.b.hint()"
   ]
  },
  {
   "cell_type": "code",
   "execution_count": 15,
   "id": "04e336ad",
   "metadata": {
    "execution": {
     "iopub.execute_input": "2023-01-26T20:32:39.421414Z",
     "iopub.status.busy": "2023-01-26T20:32:39.420705Z",
     "iopub.status.idle": "2023-01-26T20:32:39.427980Z",
     "shell.execute_reply": "2023-01-26T20:32:39.427137Z"
    },
    "papermill": {
     "duration": 0.021485,
     "end_time": "2023-01-26T20:32:39.430104",
     "exception": false,
     "start_time": "2023-01-26T20:32:39.408619",
     "status": "completed"
    },
    "tags": []
   },
   "outputs": [
    {
     "data": {
      "application/javascript": [
       "parent.postMessage({\"jupyterEvent\": \"custom.exercise_interaction\", \"data\": {\"interactionType\": 3, \"questionType\": 4, \"questionId\": \"4.2_ThinkBlueReg\", \"learnToolsVersion\": \"0.3.4\", \"valueTowardsCompletion\": 0.0, \"failureMessage\": \"\", \"exceptionClass\": \"\", \"trace\": \"\", \"outcomeType\": 4}}, \"*\")"
      ],
      "text/plain": [
       "<IPython.core.display.Javascript object>"
      ]
     },
     "metadata": {},
     "output_type": "display_data"
    },
    {
     "data": {
      "text/markdown": [
       "<span style=\"color:#33cc99\">Solution:</span> Since the regression line has a slightly positive slope, this tells us that there is a slightly positive correlation between `'winpercent'` and `'sugarpercent'`. Thus, people have a slight preference for candies containing relatively more sugar."
      ],
      "text/plain": [
       "Solution: Since the regression line has a slightly positive slope, this tells us that there is a slightly positive correlation between `'winpercent'` and `'sugarpercent'`. Thus, people have a slight preference for candies containing relatively more sugar."
      ]
     },
     "metadata": {},
     "output_type": "display_data"
    }
   ],
   "source": [
    "# Check your answer (Run this code cell to receive credit!)\n",
    "step_4.b.solution()"
   ]
  },
  {
   "cell_type": "markdown",
   "id": "16fc6295",
   "metadata": {
    "papermill": {
     "duration": 0.010659,
     "end_time": "2023-01-26T20:32:39.451863",
     "exception": false,
     "start_time": "2023-01-26T20:32:39.441204",
     "status": "completed"
    },
    "tags": []
   },
   "source": [
    "## Step 5: Chocolate!\n",
    "\n",
    "In the code cell below, create a scatter plot to show the relationship between `'pricepercent'` (on the horizontal x-axis) and `'winpercent'` (on the vertical y-axis). Use the `'chocolate'` column to color-code the points.  _Don't add any regression lines just yet -- you'll do that in the next step!_"
   ]
  },
  {
   "cell_type": "code",
   "execution_count": 16,
   "id": "fa53e163",
   "metadata": {
    "execution": {
     "iopub.execute_input": "2023-01-26T20:32:39.476285Z",
     "iopub.status.busy": "2023-01-26T20:32:39.475513Z",
     "iopub.status.idle": "2023-01-26T20:32:39.716378Z",
     "shell.execute_reply": "2023-01-26T20:32:39.715470Z"
    },
    "papermill": {
     "duration": 0.255738,
     "end_time": "2023-01-26T20:32:39.718810",
     "exception": false,
     "start_time": "2023-01-26T20:32:39.463072",
     "status": "completed"
    },
    "tags": []
   },
   "outputs": [
    {
     "data": {
      "application/javascript": [
       "parent.postMessage({\"jupyterEvent\": \"custom.exercise_interaction\", \"data\": {\"outcomeType\": 1, \"valueTowardsCompletion\": 0.3333333333333333, \"interactionType\": 1, \"questionType\": 2, \"questionId\": \"5_ColorScatter\", \"learnToolsVersion\": \"0.3.4\", \"failureMessage\": \"\", \"exceptionClass\": \"\", \"trace\": \"\"}}, \"*\")"
      ],
      "text/plain": [
       "<IPython.core.display.Javascript object>"
      ]
     },
     "metadata": {},
     "output_type": "display_data"
    },
    {
     "data": {
      "text/markdown": [
       "<span style=\"color:#33cc33\">Correct</span>"
      ],
      "text/plain": [
       "Correct"
      ]
     },
     "metadata": {},
     "output_type": "display_data"
    },
    {
     "data": {
      "image/png": "[encoded data removed]",
      "text/plain": [
       "<Figure size 432x288 with 1 Axes>"
      ]
     },
     "metadata": {
      "needs_background": "light"
     },
     "output_type": "display_data"
    }
   ],
   "source": [
    "# Scatter plot showing the relationship between 'pricepercent', 'winpercent', and 'chocolate'\n",
    "sns.scatterplot(x=candy_data[\"pricepercent\"], y=candy_data[\"winpercent\"], hue=candy_data[\"chocolate\"]) # Your code here\n",
    "\n",
    "# Check your answer\n",
    "step_5.check()"
   ]
  },
  {
   "cell_type": "code",
   "execution_count": 17,
   "id": "46947eb8",
   "metadata": {
    "execution": {
     "iopub.execute_input": "2023-01-26T20:32:39.745063Z",
     "iopub.status.busy": "2023-01-26T20:32:39.744377Z",
     "iopub.status.idle": "2023-01-26T20:32:39.748318Z",
     "shell.execute_reply": "2023-01-26T20:32:39.747496Z"
    },
    "papermill": {
     "duration": 0.019826,
     "end_time": "2023-01-26T20:32:39.750481",
     "exception": false,
     "start_time": "2023-01-26T20:32:39.730655",
     "status": "completed"
    },
    "tags": []
   },
   "outputs": [],
   "source": [
    "# Lines below will give you a hint or solution code\n",
    "#step_5.hint()\n",
    "#step_5.solution_plot()"
   ]
  },
  {
   "cell_type": "markdown",
   "id": "05abe92c",
   "metadata": {
    "papermill": {
     "duration": 0.011376,
     "end_time": "2023-01-26T20:32:39.774172",
     "exception": false,
     "start_time": "2023-01-26T20:32:39.762796",
     "status": "completed"
    },
    "tags": []
   },
   "source": [
    "Can you see any interesting patterns in the scatter plot?  We'll investigate this plot further  by adding regression lines in the next step!\n",
    "\n",
    "## Step 6: Investigate chocolate\n",
    "\n",
    "#### Part A\n",
    "\n",
    "Create the same scatter plot you created in **Step 5**, but now with two regression lines, corresponding to (1) chocolate candies and (2) candies without chocolate."
   ]
  },
  {
   "cell_type": "code",
   "execution_count": 18,
   "id": "2324fb14",
   "metadata": {
    "execution": {
     "iopub.execute_input": "2023-01-26T20:32:39.799712Z",
     "iopub.status.busy": "2023-01-26T20:32:39.798981Z",
     "iopub.status.idle": "2023-01-26T20:32:40.417907Z",
     "shell.execute_reply": "2023-01-26T20:32:40.416322Z"
    },
    "papermill": {
     "duration": 0.634759,
     "end_time": "2023-01-26T20:32:40.420659",
     "exception": false,
     "start_time": "2023-01-26T20:32:39.785900",
     "status": "completed"
    },
    "tags": []
   },
   "outputs": [
    {
     "data": {
      "application/javascript": [
       "parent.postMessage({\"jupyterEvent\": \"custom.exercise_interaction\", \"data\": {\"outcomeType\": 1, \"valueTowardsCompletion\": 0.3333333333333333, \"interactionType\": 1, \"questionType\": 2, \"questionId\": \"6.1_PlotColorReg\", \"learnToolsVersion\": \"0.3.4\", \"failureMessage\": \"\", \"exceptionClass\": \"\", \"trace\": \"\"}}, \"*\")"
      ],
      "text/plain": [
       "<IPython.core.display.Javascript object>"
      ]
     },
     "metadata": {},
     "output_type": "display_data"
    },
    {
     "data": {
      "text/markdown": [
       "<span style=\"color:#33cc33\">Correct</span>"
      ],
      "text/plain": [
       "Correct"
      ]
     },
     "metadata": {},
     "output_type": "display_data"
    },
    {
     "data": {
      "image/png": "[encoded data removed]",
      "text/plain": [
       "<Figure size 416.375x360 with 1 Axes>"
      ]
     },
     "metadata": {
      "needs_background": "light"
     },
     "output_type": "display_data"
    }
   ],
   "source": [
    "# Color-coded scatter plot w/ regression lines\n",
    "sns.lmplot(x=\"pricepercent\", y=\"winpercent\", hue=\"chocolate\", data=candy_data) # Your code here\n",
    "\n",
    "# Check your answer\n",
    "step_6.a.check()"
   ]
  },
  {
   "cell_type": "code",
   "execution_count": 19,
   "id": "41ae01a1",
   "metadata": {
    "execution": {
     "iopub.execute_input": "2023-01-26T20:32:40.448084Z",
     "iopub.status.busy": "2023-01-26T20:32:40.447647Z",
     "iopub.status.idle": "2023-01-26T20:32:40.452779Z",
     "shell.execute_reply": "2023-01-26T20:32:40.451472Z"
    },
    "papermill": {
     "duration": 0.022025,
     "end_time": "2023-01-26T20:32:40.455543",
     "exception": false,
     "start_time": "2023-01-26T20:32:40.433518",
     "status": "completed"
    },
    "tags": []
   },
   "outputs": [],
   "source": [
    "# Lines below will give you a hint or solution code\n",
    "#step_6.a.hint()\n",
    "#step_6.a.solution_plot()"
   ]
  },
  {
   "cell_type": "markdown",
   "id": "df720ff1",
   "metadata": {
    "papermill": {
     "duration": 0.012118,
     "end_time": "2023-01-26T20:32:40.480291",
     "exception": false,
     "start_time": "2023-01-26T20:32:40.468173",
     "status": "completed"
    },
    "tags": []
   },
   "source": [
    "#### Part B\n",
    "\n",
    "Using the regression lines, what conclusions can you draw about the effects of chocolate and price on candy popularity?"
   ]
  },
  {
   "cell_type": "code",
   "execution_count": 20,
   "id": "4ce77ff8",
   "metadata": {
    "execution": {
     "iopub.execute_input": "2023-01-26T20:32:40.506629Z",
     "iopub.status.busy": "2023-01-26T20:32:40.506162Z",
     "iopub.status.idle": "2023-01-26T20:32:40.510995Z",
     "shell.execute_reply": "2023-01-26T20:32:40.509895Z"
    },
    "papermill": {
     "duration": 0.020551,
     "end_time": "2023-01-26T20:32:40.513200",
     "exception": false,
     "start_time": "2023-01-26T20:32:40.492649",
     "status": "completed"
    },
    "tags": []
   },
   "outputs": [],
   "source": [
    "#step_6.b.hint()"
   ]
  },
  {
   "cell_type": "code",
   "execution_count": 21,
   "id": "3ce3fd17",
   "metadata": {
    "execution": {
     "iopub.execute_input": "2023-01-26T20:32:40.541472Z",
     "iopub.status.busy": "2023-01-26T20:32:40.540421Z",
     "iopub.status.idle": "2023-01-26T20:32:40.548766Z",
     "shell.execute_reply": "2023-01-26T20:32:40.547896Z"
    },
    "papermill": {
     "duration": 0.024633,
     "end_time": "2023-01-26T20:32:40.551072",
     "exception": false,
     "start_time": "2023-01-26T20:32:40.526439",
     "status": "completed"
    },
    "tags": []
   },
   "outputs": [
    {
     "data": {
      "application/javascript": [
       "parent.postMessage({\"jupyterEvent\": \"custom.exercise_interaction\", \"data\": {\"interactionType\": 3, \"questionType\": 4, \"questionId\": \"6.2_ThinkColorReg\", \"learnToolsVersion\": \"0.3.4\", \"valueTowardsCompletion\": 0.0, \"failureMessage\": \"\", \"exceptionClass\": \"\", \"trace\": \"\", \"outcomeType\": 4}}, \"*\")"
      ],
      "text/plain": [
       "<IPython.core.display.Javascript object>"
      ]
     },
     "metadata": {},
     "output_type": "display_data"
    },
    {
     "data": {
      "text/markdown": [
       "<span style=\"color:#33cc99\">Solution:</span> We'll begin with the regression line for chocolate candies. Since this line has a slightly positive slope, we can say that more expensive chocolate candies tend to be more popular (than relatively cheaper chocolate candies).  Likewise, since the regression line for candies without chocolate has a negative slope, we can say that if candies don't contain chocolate, they tend to be more popular when they are cheaper.  One important note, however, is that the dataset is quite small -- so we shouldn't invest too much trust in these patterns!  To inspire more confidence in the results, we should add more candies to the dataset."
      ],
      "text/plain": [
       "Solution: We'll begin with the regression line for chocolate candies. Since this line has a slightly positive slope, we can say that more expensive chocolate candies tend to be more popular (than relatively cheaper chocolate candies).  Likewise, since the regression line for candies without chocolate has a negative slope, we can say that if candies don't contain chocolate, they tend to be more popular when they are cheaper.  One important note, however, is that the dataset is quite small -- so we shouldn't invest too much trust in these patterns!  To inspire more confidence in the results, we should add more candies to the dataset."
      ]
     },
     "metadata": {},
     "output_type": "display_data"
    }
   ],
   "source": [
    "# Check your answer (Run this code cell to receive credit!)\n",
    "step_6.b.solution()"
   ]
  },
  {
   "cell_type": "markdown",
   "id": "ccb028ac",
   "metadata": {
    "papermill": {
     "duration": 0.012771,
     "end_time": "2023-01-26T20:32:40.577129",
     "exception": false,
     "start_time": "2023-01-26T20:32:40.564358",
     "status": "completed"
    },
    "tags": []
   },
   "source": [
    "## Step 7: Everybody loves chocolate.\n",
    "\n",
    "#### Part A\n",
    "\n",
    "Create a categorical scatter plot to highlight the relationship between `'chocolate'` and `'winpercent'`.  Put `'chocolate'` on the (horizontal) x-axis, and `'winpercent'` on the (vertical) y-axis."
   ]
  },
  {
   "cell_type": "code",
   "execution_count": 22,
   "id": "34582edb",
   "metadata": {
    "execution": {
     "iopub.execute_input": "2023-01-26T20:32:40.604796Z",
     "iopub.status.busy": "2023-01-26T20:32:40.604355Z",
     "iopub.status.idle": "2023-01-26T20:32:40.785962Z",
     "shell.execute_reply": "2023-01-26T20:32:40.785095Z"
    },
    "papermill": {
     "duration": 0.198233,
     "end_time": "2023-01-26T20:32:40.788305",
     "exception": false,
     "start_time": "2023-01-26T20:32:40.590072",
     "status": "completed"
    },
    "tags": []
   },
   "outputs": [
    {
     "data": {
      "application/javascript": [
       "parent.postMessage({\"jupyterEvent\": \"custom.exercise_interaction\", \"data\": {\"outcomeType\": 1, \"valueTowardsCompletion\": 0.3333333333333333, \"interactionType\": 1, \"questionType\": 2, \"questionId\": \"7.1_PlotSwarm\", \"learnToolsVersion\": \"0.3.4\", \"failureMessage\": \"\", \"exceptionClass\": \"\", \"trace\": \"\"}}, \"*\")"
      ],
      "text/plain": [
       "<IPython.core.display.Javascript object>"
      ]
     },
     "metadata": {},
     "output_type": "display_data"
    },
    {
     "data": {
      "text/markdown": [
       "<span style=\"color:#33cc33\">Correct</span>"
      ],
      "text/plain": [
       "Correct"
      ]
     },
     "metadata": {},
     "output_type": "display_data"
    },
    {
     "data": {
      "image/png": "[encoded data removed]",
      "text/plain": [
       "<Figure size 432x288 with 1 Axes>"
      ]
     },
     "metadata": {
      "needs_background": "light"
     },
     "output_type": "display_data"
    }
   ],
   "source": [
    "# Scatter plot showing the relationship between 'chocolate' and 'winpercent'\n",
    "sns.swarmplot(x=candy_data['chocolate'],\n",
    "              y=candy_data['winpercent']) # Your code here\n",
    "\n",
    "# Check your answer\n",
    "step_7.a.check()"
   ]
  },
  {
   "cell_type": "code",
   "execution_count": 23,
   "id": "37e66884",
   "metadata": {
    "execution": {
     "iopub.execute_input": "2023-01-26T20:32:40.818199Z",
     "iopub.status.busy": "2023-01-26T20:32:40.817487Z",
     "iopub.status.idle": "2023-01-26T20:32:40.822211Z",
     "shell.execute_reply": "2023-01-26T20:32:40.821045Z"
    },
    "papermill": {
     "duration": 0.02254,
     "end_time": "2023-01-26T20:32:40.824432",
     "exception": false,
     "start_time": "2023-01-26T20:32:40.801892",
     "status": "completed"
    },
    "tags": []
   },
   "outputs": [],
   "source": [
    "# Lines below will give you a hint or solution code\n",
    "#step_7.a.hint()\n",
    "#step_7.a.solution_plot()"
   ]
  },
  {
   "cell_type": "markdown",
   "id": "c4ffcea7",
   "metadata": {
    "papermill": {
     "duration": 0.014035,
     "end_time": "2023-01-26T20:32:40.852410",
     "exception": false,
     "start_time": "2023-01-26T20:32:40.838375",
     "status": "completed"
    },
    "tags": []
   },
   "source": [
    "#### Part B\n",
    "\n",
    "You decide to dedicate a section of your report to the fact that chocolate candies tend to be more popular than candies without chocolate.  Which plot is more appropriate to tell this story: the plot from **Step 6**, or the plot from **Step 7**?"
   ]
  },
  {
   "cell_type": "code",
   "execution_count": 24,
   "id": "cdd1f8d1",
   "metadata": {
    "execution": {
     "iopub.execute_input": "2023-01-26T20:32:40.881309Z",
     "iopub.status.busy": "2023-01-26T20:32:40.880627Z",
     "iopub.status.idle": "2023-01-26T20:32:40.884671Z",
     "shell.execute_reply": "2023-01-26T20:32:40.883772Z"
    },
    "papermill": {
     "duration": 0.02094,
     "end_time": "2023-01-26T20:32:40.886700",
     "exception": false,
     "start_time": "2023-01-26T20:32:40.865760",
     "status": "completed"
    },
    "tags": []
   },
   "outputs": [],
   "source": [
    "#step_7.b.hint()"
   ]
  },
  {
   "cell_type": "code",
   "execution_count": 25,
   "id": "c070eef4",
   "metadata": {
    "execution": {
     "iopub.execute_input": "2023-01-26T20:32:40.915196Z",
     "iopub.status.busy": "2023-01-26T20:32:40.914772Z",
     "iopub.status.idle": "2023-01-26T20:32:40.922737Z",
     "shell.execute_reply": "2023-01-26T20:32:40.921909Z"
    },
    "papermill": {
     "duration": 0.024809,
     "end_time": "2023-01-26T20:32:40.924892",
     "exception": false,
     "start_time": "2023-01-26T20:32:40.900083",
     "status": "completed"
    },
    "tags": []
   },
   "outputs": [
    {
     "data": {
      "application/javascript": [
       "parent.postMessage({\"jupyterEvent\": \"custom.exercise_interaction\", \"data\": {\"interactionType\": 3, \"questionType\": 4, \"questionId\": \"7.2_ThinkSwarm\", \"learnToolsVersion\": \"0.3.4\", \"valueTowardsCompletion\": 0.0, \"failureMessage\": \"\", \"exceptionClass\": \"\", \"trace\": \"\", \"outcomeType\": 4}}, \"*\")"
      ],
      "text/plain": [
       "<IPython.core.display.Javascript object>"
      ]
     },
     "metadata": {},
     "output_type": "display_data"
    },
    {
     "data": {
      "text/markdown": [
       "<span style=\"color:#33cc99\">Solution:</span> In this case, the categorical scatter plot from **Step 7** is the more appropriate plot. While both plots tell the desired story, the plot from **Step 6** conveys far more information that could distract from the main point."
      ],
      "text/plain": [
       "Solution: In this case, the categorical scatter plot from **Step 7** is the more appropriate plot. While both plots tell the desired story, the plot from **Step 6** conveys far more information that could distract from the main point."
      ]
     },
     "metadata": {},
     "output_type": "display_data"
    }
   ],
   "source": [
    "# Check your answer (Run this code cell to receive credit!)\n",
    "step_7.b.solution()"
   ]
  },
  {
   "cell_type": "markdown",
   "id": "11ab15df",
   "metadata": {
    "papermill": {
     "duration": 0.013653,
     "end_time": "2023-01-26T20:32:40.952535",
     "exception": false,
     "start_time": "2023-01-26T20:32:40.938882",
     "status": "completed"
    },
    "tags": []
   },
   "source": [
    "## Keep going\n",
    "\n",
    "Explore **[histograms and density plots](https://www.kaggle.com/alexisbcook/distributions)**."
   ]
  },
  {
   "cell_type": "markdown",
   "id": "1725641b",
   "metadata": {
    "papermill": {
     "duration": 0.014114,
     "end_time": "2023-01-26T20:32:40.980425",
     "exception": false,
     "start_time": "2023-01-26T20:32:40.966311",
     "status": "completed"
    },
    "tags": []
   },
   "source": [
    "---\n",
    "\n",
    "\n",
    "\n",
    "\n",
    "*Have questions or comments? Visit the [course discussion forum](https://www.kaggle.com/learn/data-visualization/discussion) to chat with other learners.*"
   ]
  }
 ],
 "metadata": {
  "kernelspec": {
   "display_name": "Python 3",
   "language": "python",
   "name": "python3"
  },
  "language_info": {
   "codemirror_mode": {
    "name": "ipython",
    "version": 3
   },
   "file_extension": ".py",
   "mimetype": "text/x-python",
   "name": "python",
   "nbconvert_exporter": "python",
   "pygments_lexer": "ipython3",
   "version": "3.7.12"
  },
  "papermill": {
   "default_parameters": {},
   "duration": 13.337344,
   "end_time": "2023-01-26T20:32:41.715923",
   "environment_variables": {},
   "exception": null,
   "input_path": "__notebook__.ipynb",
   "output_path": "__notebook__.ipynb",
   "parameters": {},
   "start_time": "2023-01-26T20:32:28.378579",
   "version": "2.3.4"
  }
 },
 "nbformat": 4,
 "nbformat_minor": 5
}
