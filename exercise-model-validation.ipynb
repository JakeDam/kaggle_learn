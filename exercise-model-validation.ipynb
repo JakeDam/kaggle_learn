{
 "cells": [
  {
   "cell_type": "markdown",
   "id": "661a252d",
   "metadata": {
    "papermill": {
     "duration": 0.00934,
     "end_time": "2022-12-21T16:24:35.270838",
     "exception": false,
     "start_time": "2022-12-21T16:24:35.261498",
     "status": "completed"
    },
    "tags": []
   },
   "source": [
    "**This notebook is an exercise in the [Introduction to Machine Learning](https://www.kaggle.com/learn/intro-to-machine-learning) course.  You can reference the tutorial at [this link](https://www.kaggle.com/dansbecker/model-validation).**\n",
    "\n",
    "---\n"
   ]
  },
  {
   "cell_type": "markdown",
   "id": "f51eb9f1",
   "metadata": {
    "papermill": {
     "duration": 0.0062,
     "end_time": "2022-12-21T16:24:35.282946",
     "exception": false,
     "start_time": "2022-12-21T16:24:35.276746",
     "status": "completed"
    },
    "tags": []
   },
   "source": [
    "## Recap\n",
    "You've built a model. In this exercise you will test how good your model is.\n",
    "\n",
    "Run the cell below to set up your coding environment where the previous exercise left off."
   ]
  },
  {
   "cell_type": "code",
   "execution_count": 1,
   "id": "c08f2e7a",
   "metadata": {
    "execution": {
     "iopub.execute_input": "2022-12-21T16:24:35.299087Z",
     "iopub.status.busy": "2022-12-21T16:24:35.298199Z",
     "iopub.status.idle": "2022-12-21T16:24:36.846582Z",
     "shell.execute_reply": "2022-12-21T16:24:36.845344Z"
    },
    "papermill": {
     "duration": 1.564655,
     "end_time": "2022-12-21T16:24:36.852623",
     "exception": false,
     "start_time": "2022-12-21T16:24:35.287968",
     "status": "completed"
    },
    "tags": []
   },
   "outputs": [
    {
     "name": "stdout",
     "output_type": "stream",
     "text": [
      "First in-sample predictions: [208500. 181500. 223500. 140000. 250000.]\n",
      "Actual target values for those homes: [208500, 181500, 223500, 140000, 250000]\n",
      "Setup Complete\n"
     ]
    }
   ],
   "source": [
    "# Code you have previously used to load data\n",
    "import pandas as pd\n",
    "from sklearn.tree import DecisionTreeRegressor\n",
    "\n",
    "# Path of the file to read\n",
    "iowa_file_path = '../input/home-data-for-ml-course/train.csv'\n",
    "\n",
    "home_data = pd.read_csv(iowa_file_path)\n",
    "y = home_data.SalePrice\n",
    "feature_columns = ['LotArea', 'YearBuilt', '1stFlrSF', '2ndFlrSF', 'FullBath', 'BedroomAbvGr', 'TotRmsAbvGrd']\n",
    "X = home_data[feature_columns]\n",
    "\n",
    "# Specify Model\n",
    "iowa_model = DecisionTreeRegressor()\n",
    "# Fit Model\n",
    "iowa_model.fit(X, y)\n",
    "\n",
    "print(\"First in-sample predictions:\", iowa_model.predict(X.head()))\n",
    "print(\"Actual target values for those homes:\", y.head().tolist())\n",
    "\n",
    "# Set up code checking\n",
    "from learntools.core import binder\n",
    "binder.bind(globals())\n",
    "from learntools.machine_learning.ex4 import *\n",
    "print(\"Setup Complete\")"
   ]
  },
  {
   "cell_type": "markdown",
   "id": "cd72209e",
   "metadata": {
    "papermill": {
     "duration": 0.005689,
     "end_time": "2022-12-21T16:24:36.866822",
     "exception": false,
     "start_time": "2022-12-21T16:24:36.861133",
     "status": "completed"
    },
    "tags": []
   },
   "source": [
    "# Exercises\n",
    "\n",
    "## Step 1: Split Your Data\n",
    "Use the `train_test_split` function to split up your data.\n",
    "\n",
    "Give it the argument `random_state=1` so the `check` functions know what to expect when verifying your code.\n",
    "\n",
    "Recall, your features are loaded in the DataFrame **X** and your target is loaded in **y**.\n"
   ]
  },
  {
   "cell_type": "code",
   "execution_count": 2,
   "id": "e2cea3c0",
   "metadata": {
    "execution": {
     "iopub.execute_input": "2022-12-21T16:24:36.878986Z",
     "iopub.status.busy": "2022-12-21T16:24:36.878033Z",
     "iopub.status.idle": "2022-12-21T16:24:36.892535Z",
     "shell.execute_reply": "2022-12-21T16:24:36.891474Z"
    },
    "papermill": {
     "duration": 0.024135,
     "end_time": "2022-12-21T16:24:36.896186",
     "exception": false,
     "start_time": "2022-12-21T16:24:36.872051",
     "status": "completed"
    },
    "tags": []
   },
   "outputs": [
    {
     "data": {
      "application/javascript": [
       "parent.postMessage({\"jupyterEvent\": \"custom.exercise_interaction\", \"data\": {\"outcomeType\": 1, \"valueTowardsCompletion\": 0.25, \"interactionType\": 1, \"questionType\": 2, \"questionId\": \"1_SplitData\", \"learnToolsVersion\": \"0.3.4\", \"failureMessage\": \"\", \"exceptionClass\": \"\", \"trace\": \"\"}}, \"*\")"
      ],
      "text/plain": [
       "<IPython.core.display.Javascript object>"
      ]
     },
     "metadata": {},
     "output_type": "display_data"
    },
    {
     "data": {
      "text/markdown": [
       "<span style=\"color:#33cc33\">Correct</span>"
      ],
      "text/plain": [
       "Correct"
      ]
     },
     "metadata": {},
     "output_type": "display_data"
    }
   ],
   "source": [
    "# Import the train_test_split function and uncomment\n",
    "from sklearn.model_selection import train_test_split\n",
    "\n",
    "# fill in and uncomment\n",
    "train_X, val_X, train_y, val_y = train_test_split(X, y, random_state=1)\n",
    "\n",
    "# Check your answer\n",
    "step_1.check()"
   ]
  },
  {
   "cell_type": "code",
   "execution_count": 3,
   "id": "1724e65a",
   "metadata": {
    "execution": {
     "iopub.execute_input": "2022-12-21T16:24:36.915019Z",
     "iopub.status.busy": "2022-12-21T16:24:36.914145Z",
     "iopub.status.idle": "2022-12-21T16:24:36.920052Z",
     "shell.execute_reply": "2022-12-21T16:24:36.918372Z"
    },
    "papermill": {
     "duration": 0.017136,
     "end_time": "2022-12-21T16:24:36.922808",
     "exception": false,
     "start_time": "2022-12-21T16:24:36.905672",
     "status": "completed"
    },
    "tags": []
   },
   "outputs": [],
   "source": [
    "# The lines below will show you a hint or the solution.\n",
    "# step_1.hint() \n",
    "# step_1.solution()\n"
   ]
  },
  {
   "cell_type": "markdown",
   "id": "85e489e2",
   "metadata": {
    "papermill": {
     "duration": 0.00505,
     "end_time": "2022-12-21T16:24:36.932866",
     "exception": false,
     "start_time": "2022-12-21T16:24:36.927816",
     "status": "completed"
    },
    "tags": []
   },
   "source": [
    "## Step 2: Specify and Fit the Model\n",
    "\n",
    "Create a `DecisionTreeRegressor` model and fit it to the relevant data.\n",
    "Set `random_state` to 1 again when creating the model."
   ]
  },
  {
   "cell_type": "code",
   "execution_count": 4,
   "id": "0534a37b",
   "metadata": {
    "execution": {
     "iopub.execute_input": "2022-12-21T16:24:36.945609Z",
     "iopub.status.busy": "2022-12-21T16:24:36.945102Z",
     "iopub.status.idle": "2022-12-21T16:24:36.989580Z",
     "shell.execute_reply": "2022-12-21T16:24:36.988316Z"
    },
    "papermill": {
     "duration": 0.054967,
     "end_time": "2022-12-21T16:24:36.992668",
     "exception": false,
     "start_time": "2022-12-21T16:24:36.937701",
     "status": "completed"
    },
    "tags": []
   },
   "outputs": [
    {
     "name": "stdout",
     "output_type": "stream",
     "text": [
      "[186500. 184000. 130000.  92000. 164500. 220000. 335000. 144152. 215000.\n",
      " 262000.]\n",
      "[186500. 184000. 130000.  92000. 164500. 220000. 335000. 144152. 215000.\n",
      " 262000.]\n"
     ]
    },
    {
     "data": {
      "application/javascript": [
       "parent.postMessage({\"jupyterEvent\": \"custom.exercise_interaction\", \"data\": {\"outcomeType\": 1, \"valueTowardsCompletion\": 0.25, \"interactionType\": 1, \"questionType\": 2, \"questionId\": \"2_FitModelWithTrain\", \"learnToolsVersion\": \"0.3.4\", \"failureMessage\": \"\", \"exceptionClass\": \"\", \"trace\": \"\"}}, \"*\")"
      ],
      "text/plain": [
       "<IPython.core.display.Javascript object>"
      ]
     },
     "metadata": {},
     "output_type": "display_data"
    },
    {
     "data": {
      "text/markdown": [
       "<span style=\"color:#33cc33\">Correct</span>"
      ],
      "text/plain": [
       "Correct"
      ]
     },
     "metadata": {},
     "output_type": "display_data"
    }
   ],
   "source": [
    "# You imported DecisionTreeRegressor in your last exercise\n",
    "# and that code has been copied to the setup code above. So, no need to\n",
    "# import it again\n",
    "\n",
    "# Specify the model\n",
    "iowa_model = DecisionTreeRegressor(random_state=1)\n",
    "\n",
    "# Fit iowa_model with the training data.\n",
    "iowa_model.fit(train_X, train_y)\n",
    "\n",
    "# Check your answer\n",
    "step_2.check()"
   ]
  },
  {
   "cell_type": "code",
   "execution_count": 5,
   "id": "70422474",
   "metadata": {
    "execution": {
     "iopub.execute_input": "2022-12-21T16:24:37.013872Z",
     "iopub.status.busy": "2022-12-21T16:24:37.012367Z",
     "iopub.status.idle": "2022-12-21T16:24:37.018346Z",
     "shell.execute_reply": "2022-12-21T16:24:37.017380Z"
    },
    "papermill": {
     "duration": 0.016283,
     "end_time": "2022-12-21T16:24:37.020783",
     "exception": false,
     "start_time": "2022-12-21T16:24:37.004500",
     "status": "completed"
    },
    "tags": []
   },
   "outputs": [],
   "source": [
    "# step_2.hint()\n",
    "# step_2.solution()"
   ]
  },
  {
   "cell_type": "markdown",
   "id": "2ff6f0f0",
   "metadata": {
    "papermill": {
     "duration": 0.005005,
     "end_time": "2022-12-21T16:24:37.031140",
     "exception": false,
     "start_time": "2022-12-21T16:24:37.026135",
     "status": "completed"
    },
    "tags": []
   },
   "source": [
    "## Step 3: Make Predictions with Validation data\n"
   ]
  },
  {
   "cell_type": "code",
   "execution_count": 6,
   "id": "a82f1194",
   "metadata": {
    "execution": {
     "iopub.execute_input": "2022-12-21T16:24:37.043924Z",
     "iopub.status.busy": "2022-12-21T16:24:37.043145Z",
     "iopub.status.idle": "2022-12-21T16:24:37.058239Z",
     "shell.execute_reply": "2022-12-21T16:24:37.056974Z"
    },
    "papermill": {
     "duration": 0.024299,
     "end_time": "2022-12-21T16:24:37.060798",
     "exception": false,
     "start_time": "2022-12-21T16:24:37.036499",
     "status": "completed"
    },
    "tags": []
   },
   "outputs": [
    {
     "data": {
      "application/javascript": [
       "parent.postMessage({\"jupyterEvent\": \"custom.exercise_interaction\", \"data\": {\"outcomeType\": 1, \"valueTowardsCompletion\": 0.25, \"interactionType\": 1, \"questionType\": 2, \"questionId\": \"3_ValPreds\", \"learnToolsVersion\": \"0.3.4\", \"failureMessage\": \"\", \"exceptionClass\": \"\", \"trace\": \"\"}}, \"*\")"
      ],
      "text/plain": [
       "<IPython.core.display.Javascript object>"
      ]
     },
     "metadata": {},
     "output_type": "display_data"
    },
    {
     "data": {
      "text/markdown": [
       "<span style=\"color:#33cc33\">Correct</span>"
      ],
      "text/plain": [
       "Correct"
      ]
     },
     "metadata": {},
     "output_type": "display_data"
    }
   ],
   "source": [
    "# Predict with all validation observations\n",
    "val_predictions = iowa_model.predict(val_X)\n",
    "\n",
    "# Check your answer\n",
    "step_3.check()"
   ]
  },
  {
   "cell_type": "code",
   "execution_count": 7,
   "id": "93c5e913",
   "metadata": {
    "execution": {
     "iopub.execute_input": "2022-12-21T16:24:37.074960Z",
     "iopub.status.busy": "2022-12-21T16:24:37.073689Z",
     "iopub.status.idle": "2022-12-21T16:24:37.079402Z",
     "shell.execute_reply": "2022-12-21T16:24:37.077944Z"
    },
    "papermill": {
     "duration": 0.015972,
     "end_time": "2022-12-21T16:24:37.082503",
     "exception": false,
     "start_time": "2022-12-21T16:24:37.066531",
     "status": "completed"
    },
    "tags": []
   },
   "outputs": [],
   "source": [
    "# step_3.hint()\n",
    "# step_3.solution()"
   ]
  },
  {
   "cell_type": "markdown",
   "id": "68fc22d4",
   "metadata": {
    "papermill": {
     "duration": 0.005893,
     "end_time": "2022-12-21T16:24:37.094513",
     "exception": false,
     "start_time": "2022-12-21T16:24:37.088620",
     "status": "completed"
    },
    "tags": []
   },
   "source": [
    "Inspect your predictions and actual values from validation data."
   ]
  },
  {
   "cell_type": "code",
   "execution_count": 8,
   "id": "fb671434",
   "metadata": {
    "execution": {
     "iopub.execute_input": "2022-12-21T16:24:37.110316Z",
     "iopub.status.busy": "2022-12-21T16:24:37.109296Z",
     "iopub.status.idle": "2022-12-21T16:24:37.119809Z",
     "shell.execute_reply": "2022-12-21T16:24:37.117578Z"
    },
    "papermill": {
     "duration": 0.022507,
     "end_time": "2022-12-21T16:24:37.123291",
     "exception": false,
     "start_time": "2022-12-21T16:24:37.100784",
     "status": "completed"
    },
    "tags": []
   },
   "outputs": [
    {
     "name": "stdout",
     "output_type": "stream",
     "text": [
      "[186500. 184000. 130000.  92000. 164500.]\n",
      "258     231500\n",
      "267     179500\n",
      "288     122000\n",
      "649      84500\n",
      "1233    142000\n",
      "Name: SalePrice, dtype: int64\n"
     ]
    }
   ],
   "source": [
    "# print the top few validation predictions\n",
    "print(val_predictions[:5])\n",
    "# print the top few actual prices from validation data\n",
    "print(val_y[:5])"
   ]
  },
  {
   "cell_type": "markdown",
   "id": "bdd4b9a3",
   "metadata": {
    "papermill": {
     "duration": 0.005253,
     "end_time": "2022-12-21T16:24:37.135729",
     "exception": false,
     "start_time": "2022-12-21T16:24:37.130476",
     "status": "completed"
    },
    "tags": []
   },
   "source": [
    "What do you notice that is different from what you saw with in-sample predictions (which are printed after the top code cell in this page).\n",
    "\n",
    "Do you remember why validation predictions differ from in-sample (or training) predictions? This is an important idea from the last lesson.\n",
    "\n",
    "## Step 4: Calculate the Mean Absolute Error in Validation Data\n"
   ]
  },
  {
   "cell_type": "code",
   "execution_count": 9,
   "id": "1d305b54",
   "metadata": {
    "execution": {
     "iopub.execute_input": "2022-12-21T16:24:37.149812Z",
     "iopub.status.busy": "2022-12-21T16:24:37.148744Z",
     "iopub.status.idle": "2022-12-21T16:24:37.162896Z",
     "shell.execute_reply": "2022-12-21T16:24:37.161718Z"
    },
    "papermill": {
     "duration": 0.024539,
     "end_time": "2022-12-21T16:24:37.165808",
     "exception": false,
     "start_time": "2022-12-21T16:24:37.141269",
     "status": "completed"
    },
    "tags": []
   },
   "outputs": [
    {
     "name": "stdout",
     "output_type": "stream",
     "text": [
      "29652.931506849316\n"
     ]
    },
    {
     "data": {
      "application/javascript": [
       "parent.postMessage({\"jupyterEvent\": \"custom.exercise_interaction\", \"data\": {\"outcomeType\": 1, \"valueTowardsCompletion\": 0.25, \"interactionType\": 1, \"questionType\": 1, \"questionId\": \"4_MAE\", \"learnToolsVersion\": \"0.3.4\", \"failureMessage\": \"\", \"exceptionClass\": \"\", \"trace\": \"\"}}, \"*\")"
      ],
      "text/plain": [
       "<IPython.core.display.Javascript object>"
      ]
     },
     "metadata": {},
     "output_type": "display_data"
    },
    {
     "data": {
      "text/markdown": [
       "<span style=\"color:#33cc33\">Correct</span>"
      ],
      "text/plain": [
       "Correct"
      ]
     },
     "metadata": {},
     "output_type": "display_data"
    }
   ],
   "source": [
    "from sklearn.metrics import mean_absolute_error\n",
    "val_mae = mean_absolute_error(val_y, val_predictions)\n",
    "\n",
    "# uncomment following line to see the validation_mae\n",
    "print(val_mae)\n",
    "\n",
    "# Check your answer\n",
    "step_4.check()"
   ]
  },
  {
   "cell_type": "code",
   "execution_count": 10,
   "id": "23db2f22",
   "metadata": {
    "execution": {
     "iopub.execute_input": "2022-12-21T16:24:37.180908Z",
     "iopub.status.busy": "2022-12-21T16:24:37.180003Z",
     "iopub.status.idle": "2022-12-21T16:24:37.185222Z",
     "shell.execute_reply": "2022-12-21T16:24:37.183998Z"
    },
    "papermill": {
     "duration": 0.015949,
     "end_time": "2022-12-21T16:24:37.187840",
     "exception": false,
     "start_time": "2022-12-21T16:24:37.171891",
     "status": "completed"
    },
    "tags": []
   },
   "outputs": [],
   "source": [
    "# step_4.hint()\n",
    "# step_4.solution()"
   ]
  },
  {
   "cell_type": "markdown",
   "id": "00cb4602",
   "metadata": {
    "papermill": {
     "duration": 0.00558,
     "end_time": "2022-12-21T16:24:37.199482",
     "exception": false,
     "start_time": "2022-12-21T16:24:37.193902",
     "status": "completed"
    },
    "tags": []
   },
   "source": [
    "Is that MAE good?  There isn't a general rule for what values are good that applies across applications. But you'll see how to use (and improve) this number in the next step.\n",
    "\n",
    "# Keep Going\n",
    "\n",
    "You are ready for **[Underfitting and Overfitting](https://www.kaggle.com/dansbecker/underfitting-and-overfitting).**\n"
   ]
  },
  {
   "cell_type": "markdown",
   "id": "f49f415f",
   "metadata": {
    "papermill": {
     "duration": 0.005959,
     "end_time": "2022-12-21T16:24:37.212063",
     "exception": false,
     "start_time": "2022-12-21T16:24:37.206104",
     "status": "completed"
    },
    "tags": []
   },
   "source": [
    "---\n",
    "\n",
    "\n",
    "\n",
    "\n",
    "*Have questions or comments? Visit the [course discussion forum](https://www.kaggle.com/learn/intro-to-machine-learning/discussion) to chat with other learners.*"
   ]
  }
 ],
 "metadata": {
  "kernelspec": {
   "display_name": "Python 3",
   "language": "python",
   "name": "python3"
  },
  "language_info": {
   "codemirror_mode": {
    "name": "ipython",
    "version": 3
   },
   "file_extension": ".py",
   "mimetype": "text/x-python",
   "name": "python",
   "nbconvert_exporter": "python",
   "pygments_lexer": "ipython3",
   "version": "3.7.12"
  },
  "papermill": {
   "default_parameters": {},
   "duration": 12.116602,
   "end_time": "2022-12-21T16:24:38.043122",
   "environment_variables": {},
   "exception": null,
   "input_path": "__notebook__.ipynb",
   "output_path": "__notebook__.ipynb",
   "parameters": {},
   "start_time": "2022-12-21T16:24:25.926520",
   "version": "2.3.4"
  }
 },
 "nbformat": 4,
 "nbformat_minor": 5
}
