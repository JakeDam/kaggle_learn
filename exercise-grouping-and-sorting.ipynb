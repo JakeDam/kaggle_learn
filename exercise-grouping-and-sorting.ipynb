{
 "cells": [
  {
   "cell_type": "markdown",
   "id": "8b8a27e3",
   "metadata": {
    "papermill": {
     "duration": 0.006969,
     "end_time": "2022-12-31T03:21:13.253034",
     "exception": false,
     "start_time": "2022-12-31T03:21:13.246065",
     "status": "completed"
    },
    "tags": []
   },
   "source": [
    "**This notebook is an exercise in the [Pandas](https://www.kaggle.com/learn/pandas) course.  You can reference the tutorial at [this link](https://www.kaggle.com/residentmario/grouping-and-sorting).**\n",
    "\n",
    "---\n"
   ]
  },
  {
   "cell_type": "markdown",
   "id": "4aa174ce",
   "metadata": {
    "papermill": {
     "duration": 0.005523,
     "end_time": "2022-12-31T03:21:13.264394",
     "exception": false,
     "start_time": "2022-12-31T03:21:13.258871",
     "status": "completed"
    },
    "tags": []
   },
   "source": [
    "# Introduction\n",
    "\n",
    "In these exercises we'll apply groupwise analysis to our dataset.\n",
    "\n",
    "Run the code cell below to load the data before running the exercises."
   ]
  },
  {
   "cell_type": "code",
   "execution_count": 1,
   "id": "e5cac5cb",
   "metadata": {
    "execution": {
     "iopub.execute_input": "2022-12-31T03:21:13.277965Z",
     "iopub.status.busy": "2022-12-31T03:21:13.277490Z",
     "iopub.status.idle": "2022-12-31T03:21:16.328652Z",
     "shell.execute_reply": "2022-12-31T03:21:16.327785Z"
    },
    "papermill": {
     "duration": 3.061269,
     "end_time": "2022-12-31T03:21:16.331392",
     "exception": false,
     "start_time": "2022-12-31T03:21:13.270123",
     "status": "completed"
    },
    "tags": []
   },
   "outputs": [
    {
     "name": "stdout",
     "output_type": "stream",
     "text": [
      "Setup complete.\n"
     ]
    }
   ],
   "source": [
    "import pandas as pd\n",
    "\n",
    "reviews = pd.read_csv(\"../input/wine-reviews/winemag-data-130k-v2.csv\", index_col=0)\n",
    "#pd.set_option(\"display.max_rows\", 5)\n",
    "\n",
    "from learntools.core import binder; binder.bind(globals())\n",
    "from learntools.pandas.grouping_and_sorting import *\n",
    "print(\"Setup complete.\")"
   ]
  },
  {
   "cell_type": "markdown",
   "id": "38d2c95b",
   "metadata": {
    "papermill": {
     "duration": 0.005414,
     "end_time": "2022-12-31T03:21:16.342690",
     "exception": false,
     "start_time": "2022-12-31T03:21:16.337276",
     "status": "completed"
    },
    "tags": []
   },
   "source": [
    "# Exercises"
   ]
  },
  {
   "cell_type": "markdown",
   "id": "c813edd9",
   "metadata": {
    "papermill": {
     "duration": 0.005362,
     "end_time": "2022-12-31T03:21:16.353563",
     "exception": false,
     "start_time": "2022-12-31T03:21:16.348201",
     "status": "completed"
    },
    "tags": []
   },
   "source": [
    "## 1.\n",
    "Who are the most common wine reviewers in the dataset? Create a `Series` whose index is the `taster_twitter_handle` category from the dataset, and whose values count how many reviews each person wrote."
   ]
  },
  {
   "cell_type": "code",
   "execution_count": 2,
   "id": "08d8bef3",
   "metadata": {
    "execution": {
     "iopub.execute_input": "2022-12-31T03:21:16.366866Z",
     "iopub.status.busy": "2022-12-31T03:21:16.366061Z",
     "iopub.status.idle": "2022-12-31T03:21:16.393101Z",
     "shell.execute_reply": "2022-12-31T03:21:16.391939Z"
    },
    "papermill": {
     "duration": 0.036671,
     "end_time": "2022-12-31T03:21:16.395868",
     "exception": false,
     "start_time": "2022-12-31T03:21:16.359197",
     "status": "completed"
    },
    "tags": []
   },
   "outputs": [
    {
     "data": {
      "application/javascript": [
       "parent.postMessage({\"jupyterEvent\": \"custom.exercise_interaction\", \"data\": {\"outcomeType\": 1, \"valueTowardsCompletion\": 0.16666666666666666, \"interactionType\": 1, \"questionType\": 1, \"questionId\": \"1_ReviewsWritten\", \"learnToolsVersion\": \"0.3.4\", \"failureMessage\": \"\", \"exceptionClass\": \"\", \"trace\": \"\"}}, \"*\")"
      ],
      "text/plain": [
       "<IPython.core.display.Javascript object>"
      ]
     },
     "metadata": {},
     "output_type": "display_data"
    },
    {
     "data": {
      "text/markdown": [
       "<span style=\"color:#33cc33\">Correct:</span> \n",
       "\n",
       "\n",
       "```python\n",
       "reviews_written = reviews.groupby('taster_twitter_handle').size()\n",
       "```\n",
       "or\n",
       "```python\n",
       "reviews_written = reviews.groupby('taster_twitter_handle').taster_twitter_handle.count()\n",
       "```\n"
      ],
      "text/plain": [
       "Correct: \n",
       "\n",
       "\n",
       "```python\n",
       "reviews_written = reviews.groupby('taster_twitter_handle').size()\n",
       "```\n",
       "or\n",
       "```python\n",
       "reviews_written = reviews.groupby('taster_twitter_handle').taster_twitter_handle.count()\n",
       "```"
      ]
     },
     "metadata": {},
     "output_type": "display_data"
    }
   ],
   "source": [
    "# Your code here\n",
    "reviews_written = reviews.groupby('taster_twitter_handle').size()\n",
    "\n",
    "# Check your answer\n",
    "q1.check()"
   ]
  },
  {
   "cell_type": "code",
   "execution_count": 3,
   "id": "e2b091da",
   "metadata": {
    "execution": {
     "iopub.execute_input": "2022-12-31T03:21:16.409209Z",
     "iopub.status.busy": "2022-12-31T03:21:16.408831Z",
     "iopub.status.idle": "2022-12-31T03:21:16.413276Z",
     "shell.execute_reply": "2022-12-31T03:21:16.412247Z"
    },
    "papermill": {
     "duration": 0.013631,
     "end_time": "2022-12-31T03:21:16.415538",
     "exception": false,
     "start_time": "2022-12-31T03:21:16.401907",
     "status": "completed"
    },
    "tags": []
   },
   "outputs": [],
   "source": [
    "#q1.hint()\n",
    "#q1.solution()"
   ]
  },
  {
   "cell_type": "markdown",
   "id": "cafe3ce2",
   "metadata": {
    "papermill": {
     "duration": 0.007224,
     "end_time": "2022-12-31T03:21:16.428654",
     "exception": false,
     "start_time": "2022-12-31T03:21:16.421430",
     "status": "completed"
    },
    "tags": []
   },
   "source": [
    "## 2.\n",
    "What is the best wine I can buy for a given amount of money? Create a `Series` whose index is wine prices and whose values is the maximum number of points a wine costing that much was given in a review. Sort the values by price, ascending (so that `4.0` dollars is at the top and `3300.0` dollars is at the bottom)."
   ]
  },
  {
   "cell_type": "code",
   "execution_count": 4,
   "id": "4ba33a4e",
   "metadata": {
    "execution": {
     "iopub.execute_input": "2022-12-31T03:21:16.443067Z",
     "iopub.status.busy": "2022-12-31T03:21:16.442382Z",
     "iopub.status.idle": "2022-12-31T03:21:16.455730Z",
     "shell.execute_reply": "2022-12-31T03:21:16.454942Z"
    },
    "papermill": {
     "duration": 0.022692,
     "end_time": "2022-12-31T03:21:16.457766",
     "exception": false,
     "start_time": "2022-12-31T03:21:16.435074",
     "status": "completed"
    },
    "tags": []
   },
   "outputs": [
    {
     "data": {
      "application/javascript": [
       "parent.postMessage({\"jupyterEvent\": \"custom.exercise_interaction\", \"data\": {\"outcomeType\": 1, \"valueTowardsCompletion\": 0.16666666666666666, \"interactionType\": 1, \"questionType\": 1, \"questionId\": \"2_BestRatingPerPrice\", \"learnToolsVersion\": \"0.3.4\", \"failureMessage\": \"\", \"exceptionClass\": \"\", \"trace\": \"\"}}, \"*\")"
      ],
      "text/plain": [
       "<IPython.core.display.Javascript object>"
      ]
     },
     "metadata": {},
     "output_type": "display_data"
    },
    {
     "data": {
      "text/markdown": [
       "<span style=\"color:#33cc33\">Correct</span>"
      ],
      "text/plain": [
       "Correct"
      ]
     },
     "metadata": {},
     "output_type": "display_data"
    }
   ],
   "source": [
    "best_rating_per_price = reviews.groupby('price')['points'].max().sort_index()\n",
    "\n",
    "# Check your answer\n",
    "q2.check()"
   ]
  },
  {
   "cell_type": "code",
   "execution_count": 5,
   "id": "bb02b853",
   "metadata": {
    "execution": {
     "iopub.execute_input": "2022-12-31T03:21:16.472788Z",
     "iopub.status.busy": "2022-12-31T03:21:16.471753Z",
     "iopub.status.idle": "2022-12-31T03:21:16.476109Z",
     "shell.execute_reply": "2022-12-31T03:21:16.475325Z"
    },
    "papermill": {
     "duration": 0.013973,
     "end_time": "2022-12-31T03:21:16.478162",
     "exception": false,
     "start_time": "2022-12-31T03:21:16.464189",
     "status": "completed"
    },
    "tags": []
   },
   "outputs": [],
   "source": [
    "#q2.hint()\n",
    "#q2.solution()"
   ]
  },
  {
   "cell_type": "markdown",
   "id": "c7a3e8d3",
   "metadata": {
    "papermill": {
     "duration": 0.006824,
     "end_time": "2022-12-31T03:21:16.491304",
     "exception": false,
     "start_time": "2022-12-31T03:21:16.484480",
     "status": "completed"
    },
    "tags": []
   },
   "source": [
    "## 3.\n",
    "What are the minimum and maximum prices for each `variety` of wine? Create a `DataFrame` whose index is the `variety` category from the dataset and whose values are the `min` and `max` values thereof."
   ]
  },
  {
   "cell_type": "code",
   "execution_count": 6,
   "id": "d2945285",
   "metadata": {
    "execution": {
     "iopub.execute_input": "2022-12-31T03:21:16.506058Z",
     "iopub.status.busy": "2022-12-31T03:21:16.505586Z",
     "iopub.status.idle": "2022-12-31T03:21:16.530668Z",
     "shell.execute_reply": "2022-12-31T03:21:16.529458Z"
    },
    "papermill": {
     "duration": 0.035588,
     "end_time": "2022-12-31T03:21:16.533252",
     "exception": false,
     "start_time": "2022-12-31T03:21:16.497664",
     "status": "completed"
    },
    "tags": []
   },
   "outputs": [
    {
     "data": {
      "application/javascript": [
       "parent.postMessage({\"jupyterEvent\": \"custom.exercise_interaction\", \"data\": {\"outcomeType\": 1, \"valueTowardsCompletion\": 0.16666666666666666, \"interactionType\": 1, \"questionType\": 1, \"questionId\": \"3_PriceExtremes\", \"learnToolsVersion\": \"0.3.4\", \"failureMessage\": \"\", \"exceptionClass\": \"\", \"trace\": \"\"}}, \"*\")"
      ],
      "text/plain": [
       "<IPython.core.display.Javascript object>"
      ]
     },
     "metadata": {},
     "output_type": "display_data"
    },
    {
     "data": {
      "text/markdown": [
       "<span style=\"color:#33cc33\">Correct</span>"
      ],
      "text/plain": [
       "Correct"
      ]
     },
     "metadata": {},
     "output_type": "display_data"
    }
   ],
   "source": [
    "price_extremes = reviews.groupby('variety')['price'].agg([min, max])\n",
    "\n",
    "# Check your answer\n",
    "q3.check()"
   ]
  },
  {
   "cell_type": "code",
   "execution_count": 7,
   "id": "360488c4",
   "metadata": {
    "execution": {
     "iopub.execute_input": "2022-12-31T03:21:16.548589Z",
     "iopub.status.busy": "2022-12-31T03:21:16.548146Z",
     "iopub.status.idle": "2022-12-31T03:21:16.553163Z",
     "shell.execute_reply": "2022-12-31T03:21:16.551938Z"
    },
    "papermill": {
     "duration": 0.015458,
     "end_time": "2022-12-31T03:21:16.555608",
     "exception": false,
     "start_time": "2022-12-31T03:21:16.540150",
     "status": "completed"
    },
    "tags": []
   },
   "outputs": [],
   "source": [
    "#q3.hint()\n",
    "#q3.solution()"
   ]
  },
  {
   "cell_type": "markdown",
   "id": "807ad915",
   "metadata": {
    "papermill": {
     "duration": 0.006191,
     "end_time": "2022-12-31T03:21:16.568552",
     "exception": false,
     "start_time": "2022-12-31T03:21:16.562361",
     "status": "completed"
    },
    "tags": []
   },
   "source": [
    "## 4.\n",
    "What are the most expensive wine varieties? Create a variable `sorted_varieties` containing a copy of the dataframe from the previous question where varieties are sorted in descending order based on minimum price, then on maximum price (to break ties)."
   ]
  },
  {
   "cell_type": "code",
   "execution_count": 8,
   "id": "3187e4a1",
   "metadata": {
    "execution": {
     "iopub.execute_input": "2022-12-31T03:21:16.583009Z",
     "iopub.status.busy": "2022-12-31T03:21:16.582539Z",
     "iopub.status.idle": "2022-12-31T03:21:16.595515Z",
     "shell.execute_reply": "2022-12-31T03:21:16.594426Z"
    },
    "papermill": {
     "duration": 0.02294,
     "end_time": "2022-12-31T03:21:16.597831",
     "exception": false,
     "start_time": "2022-12-31T03:21:16.574891",
     "status": "completed"
    },
    "tags": []
   },
   "outputs": [
    {
     "data": {
      "application/javascript": [
       "parent.postMessage({\"jupyterEvent\": \"custom.exercise_interaction\", \"data\": {\"outcomeType\": 1, \"valueTowardsCompletion\": 0.16666666666666666, \"interactionType\": 1, \"questionType\": 1, \"questionId\": \"4_SortedVarieties\", \"learnToolsVersion\": \"0.3.4\", \"failureMessage\": \"\", \"exceptionClass\": \"\", \"trace\": \"\"}}, \"*\")"
      ],
      "text/plain": [
       "<IPython.core.display.Javascript object>"
      ]
     },
     "metadata": {},
     "output_type": "display_data"
    },
    {
     "data": {
      "text/markdown": [
       "<span style=\"color:#33cc33\">Correct</span>"
      ],
      "text/plain": [
       "Correct"
      ]
     },
     "metadata": {},
     "output_type": "display_data"
    }
   ],
   "source": [
    "sorted_varieties = price_extremes.sort_values(by=['min', 'max'], ascending=False)\n",
    "\n",
    "# Check your answer\n",
    "q4.check()"
   ]
  },
  {
   "cell_type": "code",
   "execution_count": 9,
   "id": "73a4de57",
   "metadata": {
    "execution": {
     "iopub.execute_input": "2022-12-31T03:21:16.613213Z",
     "iopub.status.busy": "2022-12-31T03:21:16.612803Z",
     "iopub.status.idle": "2022-12-31T03:21:16.617463Z",
     "shell.execute_reply": "2022-12-31T03:21:16.616483Z"
    },
    "papermill": {
     "duration": 0.01492,
     "end_time": "2022-12-31T03:21:16.619694",
     "exception": false,
     "start_time": "2022-12-31T03:21:16.604774",
     "status": "completed"
    },
    "tags": []
   },
   "outputs": [],
   "source": [
    "#q4.hint()\n",
    "#q4.solution()"
   ]
  },
  {
   "cell_type": "markdown",
   "id": "8915d6e6",
   "metadata": {
    "papermill": {
     "duration": 0.006546,
     "end_time": "2022-12-31T03:21:16.633034",
     "exception": false,
     "start_time": "2022-12-31T03:21:16.626488",
     "status": "completed"
    },
    "tags": []
   },
   "source": [
    "## 5.\n",
    "Create a `Series` whose index is reviewers and whose values is the average review score given out by that reviewer. Hint: you will need the `taster_name` and `points` columns."
   ]
  },
  {
   "cell_type": "code",
   "execution_count": 10,
   "id": "41e06014",
   "metadata": {
    "execution": {
     "iopub.execute_input": "2022-12-31T03:21:16.648906Z",
     "iopub.status.busy": "2022-12-31T03:21:16.648085Z",
     "iopub.status.idle": "2022-12-31T03:21:16.669229Z",
     "shell.execute_reply": "2022-12-31T03:21:16.668139Z"
    },
    "papermill": {
     "duration": 0.031765,
     "end_time": "2022-12-31T03:21:16.671658",
     "exception": false,
     "start_time": "2022-12-31T03:21:16.639893",
     "status": "completed"
    },
    "tags": []
   },
   "outputs": [
    {
     "data": {
      "application/javascript": [
       "parent.postMessage({\"jupyterEvent\": \"custom.exercise_interaction\", \"data\": {\"outcomeType\": 1, \"valueTowardsCompletion\": 0.16666666666666666, \"interactionType\": 1, \"questionType\": 1, \"questionId\": \"5_ReviewerMeanRatings\", \"learnToolsVersion\": \"0.3.4\", \"failureMessage\": \"\", \"exceptionClass\": \"\", \"trace\": \"\"}}, \"*\")"
      ],
      "text/plain": [
       "<IPython.core.display.Javascript object>"
      ]
     },
     "metadata": {},
     "output_type": "display_data"
    },
    {
     "data": {
      "text/markdown": [
       "<span style=\"color:#33cc33\">Correct</span>"
      ],
      "text/plain": [
       "Correct"
      ]
     },
     "metadata": {},
     "output_type": "display_data"
    }
   ],
   "source": [
    "reviewer_mean_ratings = reviews.groupby('taster_name').points.mean()\n",
    "\n",
    "# Check your answer\n",
    "q5.check()"
   ]
  },
  {
   "cell_type": "code",
   "execution_count": 11,
   "id": "3ed3ac7d",
   "metadata": {
    "execution": {
     "iopub.execute_input": "2022-12-31T03:21:16.687482Z",
     "iopub.status.busy": "2022-12-31T03:21:16.687116Z",
     "iopub.status.idle": "2022-12-31T03:21:16.691255Z",
     "shell.execute_reply": "2022-12-31T03:21:16.690381Z"
    },
    "papermill": {
     "duration": 0.014819,
     "end_time": "2022-12-31T03:21:16.693438",
     "exception": false,
     "start_time": "2022-12-31T03:21:16.678619",
     "status": "completed"
    },
    "tags": []
   },
   "outputs": [],
   "source": [
    "#q5.hint()\n",
    "#q5.solution()"
   ]
  },
  {
   "cell_type": "markdown",
   "id": "e696ec26",
   "metadata": {
    "papermill": {
     "duration": 0.007436,
     "end_time": "2022-12-31T03:21:16.707952",
     "exception": false,
     "start_time": "2022-12-31T03:21:16.700516",
     "status": "completed"
    },
    "tags": []
   },
   "source": [
    "Are there significant differences in the average scores assigned by the various reviewers? Run the cell below to use the `describe()` method to see a summary of the range of values."
   ]
  },
  {
   "cell_type": "code",
   "execution_count": 12,
   "id": "e3b47226",
   "metadata": {
    "execution": {
     "iopub.execute_input": "2022-12-31T03:21:16.723379Z",
     "iopub.status.busy": "2022-12-31T03:21:16.723008Z",
     "iopub.status.idle": "2022-12-31T03:21:16.734102Z",
     "shell.execute_reply": "2022-12-31T03:21:16.733209Z"
    },
    "papermill": {
     "duration": 0.02147,
     "end_time": "2022-12-31T03:21:16.736282",
     "exception": false,
     "start_time": "2022-12-31T03:21:16.714812",
     "status": "completed"
    },
    "tags": []
   },
   "outputs": [
    {
     "data": {
      "text/plain": [
       "count    19.000000\n",
       "mean     88.233026\n",
       "std       1.243610\n",
       "min      85.855422\n",
       "25%      87.323501\n",
       "50%      88.536235\n",
       "75%      88.975256\n",
       "max      90.562551\n",
       "Name: points, dtype: float64"
      ]
     },
     "execution_count": 12,
     "metadata": {},
     "output_type": "execute_result"
    }
   ],
   "source": [
    "reviewer_mean_ratings.describe()"
   ]
  },
  {
   "cell_type": "markdown",
   "id": "b198d9c7",
   "metadata": {
    "papermill": {
     "duration": 0.006776,
     "end_time": "2022-12-31T03:21:16.750421",
     "exception": false,
     "start_time": "2022-12-31T03:21:16.743645",
     "status": "completed"
    },
    "tags": []
   },
   "source": [
    "## 6.\n",
    "What combination of countries and varieties are most common? Create a `Series` whose index is a `MultiIndex`of `{country, variety}` pairs. For example, a pinot noir produced in the US should map to `{\"US\", \"Pinot Noir\"}`. Sort the values in the `Series` in descending order based on wine count."
   ]
  },
  {
   "cell_type": "code",
   "execution_count": 13,
   "id": "600f25aa",
   "metadata": {
    "execution": {
     "iopub.execute_input": "2022-12-31T03:21:16.767039Z",
     "iopub.status.busy": "2022-12-31T03:21:16.766615Z",
     "iopub.status.idle": "2022-12-31T03:21:16.802585Z",
     "shell.execute_reply": "2022-12-31T03:21:16.801452Z"
    },
    "papermill": {
     "duration": 0.046955,
     "end_time": "2022-12-31T03:21:16.805113",
     "exception": false,
     "start_time": "2022-12-31T03:21:16.758158",
     "status": "completed"
    },
    "tags": []
   },
   "outputs": [
    {
     "data": {
      "application/javascript": [
       "parent.postMessage({\"jupyterEvent\": \"custom.exercise_interaction\", \"data\": {\"outcomeType\": 1, \"valueTowardsCompletion\": 0.16666666666666666, \"interactionType\": 1, \"questionType\": 1, \"questionId\": \"6_GroupbyCountryVariety\", \"learnToolsVersion\": \"0.3.4\", \"failureMessage\": \"\", \"exceptionClass\": \"\", \"trace\": \"\"}}, \"*\")"
      ],
      "text/plain": [
       "<IPython.core.display.Javascript object>"
      ]
     },
     "metadata": {},
     "output_type": "display_data"
    },
    {
     "data": {
      "text/markdown": [
       "<span style=\"color:#33cc33\">Correct</span>"
      ],
      "text/plain": [
       "Correct"
      ]
     },
     "metadata": {},
     "output_type": "display_data"
    }
   ],
   "source": [
    "country_variety_counts = reviews.groupby(['country', 'variety']).size().sort_values(ascending=False)\n",
    "\n",
    "# Check your answer\n",
    "q6.check()"
   ]
  },
  {
   "cell_type": "code",
   "execution_count": 14,
   "id": "7317dcd9",
   "metadata": {
    "execution": {
     "iopub.execute_input": "2022-12-31T03:21:16.822453Z",
     "iopub.status.busy": "2022-12-31T03:21:16.821753Z",
     "iopub.status.idle": "2022-12-31T03:21:16.826579Z",
     "shell.execute_reply": "2022-12-31T03:21:16.825448Z"
    },
    "papermill": {
     "duration": 0.016192,
     "end_time": "2022-12-31T03:21:16.828785",
     "exception": false,
     "start_time": "2022-12-31T03:21:16.812593",
     "status": "completed"
    },
    "tags": []
   },
   "outputs": [],
   "source": [
    "#q6.hint()\n",
    "#q6.solution()"
   ]
  },
  {
   "cell_type": "markdown",
   "id": "04495799",
   "metadata": {
    "papermill": {
     "duration": 0.00837,
     "end_time": "2022-12-31T03:21:16.844495",
     "exception": false,
     "start_time": "2022-12-31T03:21:16.836125",
     "status": "completed"
    },
    "tags": []
   },
   "source": [
    "# Keep going\n",
    "\n",
    "Move on to the [**data types and missing data**](https://www.kaggle.com/residentmario/data-types-and-missing-values)."
   ]
  },
  {
   "cell_type": "markdown",
   "id": "c0f40d3f",
   "metadata": {
    "papermill": {
     "duration": 0.010271,
     "end_time": "2022-12-31T03:21:16.865123",
     "exception": false,
     "start_time": "2022-12-31T03:21:16.854852",
     "status": "completed"
    },
    "tags": []
   },
   "source": [
    "---\n",
    "\n",
    "\n",
    "\n",
    "\n",
    "*Have questions or comments? Visit the [course discussion forum](https://www.kaggle.com/learn/pandas/discussion) to chat with other learners.*"
   ]
  }
 ],
 "metadata": {
  "kernelspec": {
   "display_name": "Python 3",
   "language": "python",
   "name": "python3"
  },
  "language_info": {
   "codemirror_mode": {
    "name": "ipython",
    "version": 3
   },
   "file_extension": ".py",
   "mimetype": "text/x-python",
   "name": "python",
   "nbconvert_exporter": "python",
   "pygments_lexer": "ipython3",
   "version": "3.7.12"
  },
  "papermill": {
   "default_parameters": {},
   "duration": 12.903459,
   "end_time": "2022-12-31T03:21:17.594910",
   "environment_variables": {},
   "exception": null,
   "input_path": "__notebook__.ipynb",
   "output_path": "__notebook__.ipynb",
   "parameters": {},
   "start_time": "2022-12-31T03:21:04.691451",
   "version": "2.3.4"
  }
 },
 "nbformat": 4,
 "nbformat_minor": 5
}
