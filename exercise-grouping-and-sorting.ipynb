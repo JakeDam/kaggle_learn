{
 "cells": [
  {
   "cell_type": "markdown",
   "id": "ea7fb21c",
   "metadata": {
    "papermill": {
     "duration": 0.006685,
     "end_time": "2022-12-31T20:11:01.441783",
     "exception": false,
     "start_time": "2022-12-31T20:11:01.435098",
     "status": "completed"
    },
    "tags": []
   },
   "source": [
    "**This notebook is an exercise in the [Pandas](https://www.kaggle.com/learn/pandas) course.  You can reference the tutorial at [this link](https://www.kaggle.com/residentmario/grouping-and-sorting).**\n",
    "\n",
    "---\n"
   ]
  },
  {
   "cell_type": "markdown",
   "id": "fc1d9524",
   "metadata": {
    "papermill": {
     "duration": 0.005156,
     "end_time": "2022-12-31T20:11:01.452614",
     "exception": false,
     "start_time": "2022-12-31T20:11:01.447458",
     "status": "completed"
    },
    "tags": []
   },
   "source": [
    "# Introduction\n",
    "\n",
    "In these exercises we'll apply groupwise analysis to our dataset.\n",
    "\n",
    "Run the code cell below to load the data before running the exercises."
   ]
  },
  {
   "cell_type": "code",
   "execution_count": 1,
   "id": "4ae5d1e9",
   "metadata": {
    "execution": {
     "iopub.execute_input": "2022-12-31T20:11:01.465680Z",
     "iopub.status.busy": "2022-12-31T20:11:01.465196Z",
     "iopub.status.idle": "2022-12-31T20:11:04.468621Z",
     "shell.execute_reply": "2022-12-31T20:11:04.467766Z"
    },
    "papermill": {
     "duration": 3.013306,
     "end_time": "2022-12-31T20:11:04.471416",
     "exception": false,
     "start_time": "2022-12-31T20:11:01.458110",
     "status": "completed"
    },
    "tags": []
   },
   "outputs": [
    {
     "name": "stdout",
     "output_type": "stream",
     "text": [
      "Setup complete.\n"
     ]
    }
   ],
   "source": [
    "import pandas as pd\n",
    "\n",
    "reviews = pd.read_csv(\"../input/wine-reviews/winemag-data-130k-v2.csv\", index_col=0)\n",
    "#pd.set_option(\"display.max_rows\", 5)\n",
    "\n",
    "from learntools.core import binder; binder.bind(globals())\n",
    "from learntools.pandas.grouping_and_sorting import *\n",
    "print(\"Setup complete.\")"
   ]
  },
  {
   "cell_type": "markdown",
   "id": "c0c12d8c",
   "metadata": {
    "papermill": {
     "duration": 0.005438,
     "end_time": "2022-12-31T20:11:04.483278",
     "exception": false,
     "start_time": "2022-12-31T20:11:04.477840",
     "status": "completed"
    },
    "tags": []
   },
   "source": [
    "# Exercises"
   ]
  },
  {
   "cell_type": "markdown",
   "id": "8bf595b7",
   "metadata": {
    "papermill": {
     "duration": 0.005372,
     "end_time": "2022-12-31T20:11:04.494347",
     "exception": false,
     "start_time": "2022-12-31T20:11:04.488975",
     "status": "completed"
    },
    "tags": []
   },
   "source": [
    "## 1.\n",
    "Who are the most common wine reviewers in the dataset? Create a `Series` whose index is the `taster_twitter_handle` category from the dataset, and whose values count how many reviews each person wrote."
   ]
  },
  {
   "cell_type": "code",
   "execution_count": 2,
   "id": "9b470b93",
   "metadata": {
    "execution": {
     "iopub.execute_input": "2022-12-31T20:11:04.508346Z",
     "iopub.status.busy": "2022-12-31T20:11:04.507125Z",
     "iopub.status.idle": "2022-12-31T20:11:04.538749Z",
     "shell.execute_reply": "2022-12-31T20:11:04.537568Z"
    },
    "papermill": {
     "duration": 0.041371,
     "end_time": "2022-12-31T20:11:04.541264",
     "exception": false,
     "start_time": "2022-12-31T20:11:04.499893",
     "status": "completed"
    },
    "tags": []
   },
   "outputs": [
    {
     "data": {
      "application/javascript": [
       "parent.postMessage({\"jupyterEvent\": \"custom.exercise_interaction\", \"data\": {\"outcomeType\": 1, \"valueTowardsCompletion\": 0.16666666666666666, \"interactionType\": 1, \"questionType\": 1, \"questionId\": \"1_ReviewsWritten\", \"learnToolsVersion\": \"0.3.4\", \"failureMessage\": \"\", \"exceptionClass\": \"\", \"trace\": \"\"}}, \"*\")"
      ],
      "text/plain": [
       "<IPython.core.display.Javascript object>"
      ]
     },
     "metadata": {},
     "output_type": "display_data"
    },
    {
     "data": {
      "text/markdown": [
       "<span style=\"color:#33cc33\">Correct:</span> \n",
       "\n",
       "\n",
       "```python\n",
       "reviews_written = reviews.groupby('taster_twitter_handle').size()\n",
       "```\n",
       "or\n",
       "```python\n",
       "reviews_written = reviews.groupby('taster_twitter_handle').taster_twitter_handle.count()\n",
       "```\n"
      ],
      "text/plain": [
       "Correct: \n",
       "\n",
       "\n",
       "```python\n",
       "reviews_written = reviews.groupby('taster_twitter_handle').size()\n",
       "```\n",
       "or\n",
       "```python\n",
       "reviews_written = reviews.groupby('taster_twitter_handle').taster_twitter_handle.count()\n",
       "```"
      ]
     },
     "metadata": {},
     "output_type": "display_data"
    }
   ],
   "source": [
    "# Your code here\n",
    "reviews_written = reviews.groupby('taster_twitter_handle').taster_twitter_handle.count()\n",
    "\n",
    "# Check your answer\n",
    "q1.check()"
   ]
  },
  {
   "cell_type": "code",
   "execution_count": 3,
   "id": "4ac9675a",
   "metadata": {
    "execution": {
     "iopub.execute_input": "2022-12-31T20:11:04.555457Z",
     "iopub.status.busy": "2022-12-31T20:11:04.555014Z",
     "iopub.status.idle": "2022-12-31T20:11:04.559676Z",
     "shell.execute_reply": "2022-12-31T20:11:04.558552Z"
    },
    "papermill": {
     "duration": 0.014434,
     "end_time": "2022-12-31T20:11:04.561995",
     "exception": false,
     "start_time": "2022-12-31T20:11:04.547561",
     "status": "completed"
    },
    "tags": []
   },
   "outputs": [],
   "source": [
    "#q1.hint()\n",
    "#q1.solution()"
   ]
  },
  {
   "cell_type": "markdown",
   "id": "be8607bc",
   "metadata": {
    "papermill": {
     "duration": 0.007093,
     "end_time": "2022-12-31T20:11:04.575013",
     "exception": false,
     "start_time": "2022-12-31T20:11:04.567920",
     "status": "completed"
    },
    "tags": []
   },
   "source": [
    "## 2.\n",
    "What is the best wine I can buy for a given amount of money? Create a `Series` whose index is wine prices and whose values is the maximum number of points a wine costing that much was given in a review. Sort the values by price, ascending (so that `4.0` dollars is at the top and `3300.0` dollars is at the bottom)."
   ]
  },
  {
   "cell_type": "code",
   "execution_count": 4,
   "id": "6898f76d",
   "metadata": {
    "execution": {
     "iopub.execute_input": "2022-12-31T20:11:04.588290Z",
     "iopub.status.busy": "2022-12-31T20:11:04.587889Z",
     "iopub.status.idle": "2022-12-31T20:11:04.605714Z",
     "shell.execute_reply": "2022-12-31T20:11:04.604596Z"
    },
    "papermill": {
     "duration": 0.027202,
     "end_time": "2022-12-31T20:11:04.608036",
     "exception": false,
     "start_time": "2022-12-31T20:11:04.580834",
     "status": "completed"
    },
    "tags": []
   },
   "outputs": [
    {
     "name": "stdout",
     "output_type": "stream",
     "text": [
      "price\n",
      "4.0       86\n",
      "5.0       87\n",
      "6.0       88\n",
      "7.0       91\n",
      "8.0       91\n",
      "          ..\n",
      "1900.0    98\n",
      "2000.0    97\n",
      "2013.0    91\n",
      "2500.0    96\n",
      "3300.0    88\n",
      "Name: points, Length: 390, dtype: int64\n"
     ]
    },
    {
     "data": {
      "application/javascript": [
       "parent.postMessage({\"jupyterEvent\": \"custom.exercise_interaction\", \"data\": {\"outcomeType\": 1, \"valueTowardsCompletion\": 0.16666666666666666, \"interactionType\": 1, \"questionType\": 1, \"questionId\": \"2_BestRatingPerPrice\", \"learnToolsVersion\": \"0.3.4\", \"failureMessage\": \"\", \"exceptionClass\": \"\", \"trace\": \"\"}}, \"*\")"
      ],
      "text/plain": [
       "<IPython.core.display.Javascript object>"
      ]
     },
     "metadata": {},
     "output_type": "display_data"
    },
    {
     "data": {
      "text/markdown": [
       "<span style=\"color:#33cc33\">Correct</span>"
      ],
      "text/plain": [
       "Correct"
      ]
     },
     "metadata": {},
     "output_type": "display_data"
    }
   ],
   "source": [
    "best_rating_per_price = reviews.groupby('price').points.max().sort_index()\n",
    "print(best_rating_per_price)\n",
    "\n",
    "# Check your answer\n",
    "q2.check()"
   ]
  },
  {
   "cell_type": "code",
   "execution_count": 5,
   "id": "cc295379",
   "metadata": {
    "execution": {
     "iopub.execute_input": "2022-12-31T20:11:04.622974Z",
     "iopub.status.busy": "2022-12-31T20:11:04.621934Z",
     "iopub.status.idle": "2022-12-31T20:11:04.626589Z",
     "shell.execute_reply": "2022-12-31T20:11:04.625517Z"
    },
    "papermill": {
     "duration": 0.014431,
     "end_time": "2022-12-31T20:11:04.628813",
     "exception": false,
     "start_time": "2022-12-31T20:11:04.614382",
     "status": "completed"
    },
    "tags": []
   },
   "outputs": [],
   "source": [
    "#q2.hint()\n",
    "#q2.solution()"
   ]
  },
  {
   "cell_type": "markdown",
   "id": "18ded20f",
   "metadata": {
    "papermill": {
     "duration": 0.006144,
     "end_time": "2022-12-31T20:11:04.641304",
     "exception": false,
     "start_time": "2022-12-31T20:11:04.635160",
     "status": "completed"
    },
    "tags": []
   },
   "source": [
    "## 3.\n",
    "What are the minimum and maximum prices for each `variety` of wine? Create a `DataFrame` whose index is the `variety` category from the dataset and whose values are the `min` and `max` values thereof."
   ]
  },
  {
   "cell_type": "code",
   "execution_count": 6,
   "id": "fcf496aa",
   "metadata": {
    "execution": {
     "iopub.execute_input": "2022-12-31T20:11:04.655474Z",
     "iopub.status.busy": "2022-12-31T20:11:04.655086Z",
     "iopub.status.idle": "2022-12-31T20:11:04.686154Z",
     "shell.execute_reply": "2022-12-31T20:11:04.684563Z"
    },
    "papermill": {
     "duration": 0.041039,
     "end_time": "2022-12-31T20:11:04.688616",
     "exception": false,
     "start_time": "2022-12-31T20:11:04.647577",
     "status": "completed"
    },
    "tags": []
   },
   "outputs": [
    {
     "name": "stdout",
     "output_type": "stream",
     "text": [
      "              min    max\n",
      "variety                 \n",
      "Abouriou     15.0   75.0\n",
      "Agiorgitiko  10.0   66.0\n",
      "Aglianico     6.0  180.0\n",
      "Aidani       27.0   27.0\n",
      "Airen         8.0   10.0\n",
      "...           ...    ...\n",
      "Zinfandel     5.0  100.0\n",
      "Zlahtina     13.0   16.0\n",
      "Zweigelt      9.0   70.0\n",
      "Çalkarası    19.0   19.0\n",
      "Žilavka      15.0   15.0\n",
      "\n",
      "[707 rows x 2 columns]\n"
     ]
    },
    {
     "data": {
      "application/javascript": [
       "parent.postMessage({\"jupyterEvent\": \"custom.exercise_interaction\", \"data\": {\"outcomeType\": 1, \"valueTowardsCompletion\": 0.16666666666666666, \"interactionType\": 1, \"questionType\": 1, \"questionId\": \"3_PriceExtremes\", \"learnToolsVersion\": \"0.3.4\", \"failureMessage\": \"\", \"exceptionClass\": \"\", \"trace\": \"\"}}, \"*\")"
      ],
      "text/plain": [
       "<IPython.core.display.Javascript object>"
      ]
     },
     "metadata": {},
     "output_type": "display_data"
    },
    {
     "data": {
      "text/markdown": [
       "<span style=\"color:#33cc33\">Correct</span>"
      ],
      "text/plain": [
       "Correct"
      ]
     },
     "metadata": {},
     "output_type": "display_data"
    }
   ],
   "source": [
    "price_extremes = reviews.groupby('variety').price.agg([min, max])\n",
    "print(price_extremes)\n",
    "\n",
    "# Check your answer\n",
    "q3.check()"
   ]
  },
  {
   "cell_type": "code",
   "execution_count": 7,
   "id": "048d7b74",
   "metadata": {
    "execution": {
     "iopub.execute_input": "2022-12-31T20:11:04.703775Z",
     "iopub.status.busy": "2022-12-31T20:11:04.703118Z",
     "iopub.status.idle": "2022-12-31T20:11:04.707994Z",
     "shell.execute_reply": "2022-12-31T20:11:04.706886Z"
    },
    "papermill": {
     "duration": 0.015033,
     "end_time": "2022-12-31T20:11:04.710288",
     "exception": false,
     "start_time": "2022-12-31T20:11:04.695255",
     "status": "completed"
    },
    "tags": []
   },
   "outputs": [],
   "source": [
    "#q3.hint()\n",
    "#q3.solution()"
   ]
  },
  {
   "cell_type": "markdown",
   "id": "8e08efdd",
   "metadata": {
    "papermill": {
     "duration": 0.006244,
     "end_time": "2022-12-31T20:11:04.723237",
     "exception": false,
     "start_time": "2022-12-31T20:11:04.716993",
     "status": "completed"
    },
    "tags": []
   },
   "source": [
    "## 4.\n",
    "What are the most expensive wine varieties? Create a variable `sorted_varieties` containing a copy of the dataframe from the previous question where varieties are sorted in descending order based on minimum price, then on maximum price (to break ties)."
   ]
  },
  {
   "cell_type": "code",
   "execution_count": 8,
   "id": "29801d12",
   "metadata": {
    "execution": {
     "iopub.execute_input": "2022-12-31T20:11:04.738072Z",
     "iopub.status.busy": "2022-12-31T20:11:04.737691Z",
     "iopub.status.idle": "2022-12-31T20:11:04.754278Z",
     "shell.execute_reply": "2022-12-31T20:11:04.752986Z"
    },
    "papermill": {
     "duration": 0.026897,
     "end_time": "2022-12-31T20:11:04.756667",
     "exception": false,
     "start_time": "2022-12-31T20:11:04.729770",
     "status": "completed"
    },
    "tags": []
   },
   "outputs": [
    {
     "name": "stdout",
     "output_type": "stream",
     "text": [
      "                                  min    max\n",
      "variety                                     \n",
      "Ramisco                         495.0  495.0\n",
      "Terrantez                       236.0  236.0\n",
      "Francisa                        160.0  160.0\n",
      "Rosenmuskateller                150.0  150.0\n",
      "Tinta Negra Mole                112.0  112.0\n",
      "...                               ...    ...\n",
      "Roscetto                          NaN    NaN\n",
      "Sauvignon Blanc-Sauvignon Gris    NaN    NaN\n",
      "Tempranillo-Malbec                NaN    NaN\n",
      "Vital                             NaN    NaN\n",
      "Zelen                             NaN    NaN\n",
      "\n",
      "[707 rows x 2 columns]\n"
     ]
    },
    {
     "data": {
      "application/javascript": [
       "parent.postMessage({\"jupyterEvent\": \"custom.exercise_interaction\", \"data\": {\"outcomeType\": 1, \"valueTowardsCompletion\": 0.16666666666666666, \"interactionType\": 1, \"questionType\": 1, \"questionId\": \"4_SortedVarieties\", \"learnToolsVersion\": \"0.3.4\", \"failureMessage\": \"\", \"exceptionClass\": \"\", \"trace\": \"\"}}, \"*\")"
      ],
      "text/plain": [
       "<IPython.core.display.Javascript object>"
      ]
     },
     "metadata": {},
     "output_type": "display_data"
    },
    {
     "data": {
      "text/markdown": [
       "<span style=\"color:#33cc33\">Correct</span>"
      ],
      "text/plain": [
       "Correct"
      ]
     },
     "metadata": {},
     "output_type": "display_data"
    }
   ],
   "source": [
    "sorted_varieties = price_extremes.sort_values(by=['min', 'max'], ascending=False)\n",
    "print(sorted_varieties)\n",
    "\n",
    "# Check your answer\n",
    "q4.check()"
   ]
  },
  {
   "cell_type": "code",
   "execution_count": 9,
   "id": "e99bd66f",
   "metadata": {
    "execution": {
     "iopub.execute_input": "2022-12-31T20:11:04.772864Z",
     "iopub.status.busy": "2022-12-31T20:11:04.771887Z",
     "iopub.status.idle": "2022-12-31T20:11:04.776738Z",
     "shell.execute_reply": "2022-12-31T20:11:04.775563Z"
    },
    "papermill": {
     "duration": 0.015176,
     "end_time": "2022-12-31T20:11:04.778909",
     "exception": false,
     "start_time": "2022-12-31T20:11:04.763733",
     "status": "completed"
    },
    "tags": []
   },
   "outputs": [],
   "source": [
    "#q4.hint()\n",
    "#q4.solution()"
   ]
  },
  {
   "cell_type": "markdown",
   "id": "1556cb4e",
   "metadata": {
    "papermill": {
     "duration": 0.006791,
     "end_time": "2022-12-31T20:11:04.792807",
     "exception": false,
     "start_time": "2022-12-31T20:11:04.786016",
     "status": "completed"
    },
    "tags": []
   },
   "source": [
    "## 5.\n",
    "Create a `Series` whose index is reviewers and whose values is the average review score given out by that reviewer. Hint: you will need the `taster_name` and `points` columns."
   ]
  },
  {
   "cell_type": "code",
   "execution_count": 10,
   "id": "9bb482b3",
   "metadata": {
    "execution": {
     "iopub.execute_input": "2022-12-31T20:11:04.808663Z",
     "iopub.status.busy": "2022-12-31T20:11:04.808224Z",
     "iopub.status.idle": "2022-12-31T20:11:04.832976Z",
     "shell.execute_reply": "2022-12-31T20:11:04.831324Z"
    },
    "papermill": {
     "duration": 0.035831,
     "end_time": "2022-12-31T20:11:04.835587",
     "exception": false,
     "start_time": "2022-12-31T20:11:04.799756",
     "status": "completed"
    },
    "tags": []
   },
   "outputs": [
    {
     "name": "stdout",
     "output_type": "stream",
     "text": [
      "taster_name\n",
      "Alexander Peartree    85.855422\n",
      "Anna Lee C. Iijima    88.415629\n",
      "Anne Krebiehl MW      90.562551\n",
      "Carrie Dykes          86.395683\n",
      "Christina Pickard     87.833333\n",
      "Fiona Adams           86.888889\n",
      "Jeff Jenssen          88.319756\n",
      "Jim Gordon            88.626287\n",
      "Joe Czerwinski        88.536235\n",
      "Kerin O’Keefe         88.867947\n",
      "Lauren Buzzeo         87.739510\n",
      "Matt Kettmann         90.008686\n",
      "Michael Schachner     86.907493\n",
      "Mike DeSimone         89.101167\n",
      "Paul Gregutt          89.082564\n",
      "Roger Voss            88.708003\n",
      "Sean P. Sullivan      88.755739\n",
      "Susan Kostrzewa       86.609217\n",
      "Virginie Boone        89.213379\n",
      "Name: points, dtype: float64\n"
     ]
    },
    {
     "data": {
      "application/javascript": [
       "parent.postMessage({\"jupyterEvent\": \"custom.exercise_interaction\", \"data\": {\"outcomeType\": 1, \"valueTowardsCompletion\": 0.16666666666666666, \"interactionType\": 1, \"questionType\": 1, \"questionId\": \"5_ReviewerMeanRatings\", \"learnToolsVersion\": \"0.3.4\", \"failureMessage\": \"\", \"exceptionClass\": \"\", \"trace\": \"\"}}, \"*\")"
      ],
      "text/plain": [
       "<IPython.core.display.Javascript object>"
      ]
     },
     "metadata": {},
     "output_type": "display_data"
    },
    {
     "data": {
      "text/markdown": [
       "<span style=\"color:#33cc33\">Correct</span>"
      ],
      "text/plain": [
       "Correct"
      ]
     },
     "metadata": {},
     "output_type": "display_data"
    }
   ],
   "source": [
    "reviewer_mean_ratings = reviews.groupby('taster_name').points.mean()\n",
    "print(reviewer_mean_ratings)\n",
    "\n",
    "# Check your answer\n",
    "q5.check()"
   ]
  },
  {
   "cell_type": "code",
   "execution_count": 11,
   "id": "536d9ad6",
   "metadata": {
    "execution": {
     "iopub.execute_input": "2022-12-31T20:11:04.852132Z",
     "iopub.status.busy": "2022-12-31T20:11:04.851722Z",
     "iopub.status.idle": "2022-12-31T20:11:04.856203Z",
     "shell.execute_reply": "2022-12-31T20:11:04.855158Z"
    },
    "papermill": {
     "duration": 0.015387,
     "end_time": "2022-12-31T20:11:04.858331",
     "exception": false,
     "start_time": "2022-12-31T20:11:04.842944",
     "status": "completed"
    },
    "tags": []
   },
   "outputs": [],
   "source": [
    "#q5.hint()\n",
    "#q5.solution()"
   ]
  },
  {
   "cell_type": "markdown",
   "id": "a7d67c3d",
   "metadata": {
    "papermill": {
     "duration": 0.006983,
     "end_time": "2022-12-31T20:11:04.872607",
     "exception": false,
     "start_time": "2022-12-31T20:11:04.865624",
     "status": "completed"
    },
    "tags": []
   },
   "source": [
    "Are there significant differences in the average scores assigned by the various reviewers? Run the cell below to use the `describe()` method to see a summary of the range of values."
   ]
  },
  {
   "cell_type": "code",
   "execution_count": 12,
   "id": "4ffe8c00",
   "metadata": {
    "execution": {
     "iopub.execute_input": "2022-12-31T20:11:04.889220Z",
     "iopub.status.busy": "2022-12-31T20:11:04.888515Z",
     "iopub.status.idle": "2022-12-31T20:11:04.900033Z",
     "shell.execute_reply": "2022-12-31T20:11:04.899234Z"
    },
    "papermill": {
     "duration": 0.02217,
     "end_time": "2022-12-31T20:11:04.902146",
     "exception": false,
     "start_time": "2022-12-31T20:11:04.879976",
     "status": "completed"
    },
    "tags": []
   },
   "outputs": [
    {
     "data": {
      "text/plain": [
       "count    19.000000\n",
       "mean     88.233026\n",
       "std       1.243610\n",
       "min      85.855422\n",
       "25%      87.323501\n",
       "50%      88.536235\n",
       "75%      88.975256\n",
       "max      90.562551\n",
       "Name: points, dtype: float64"
      ]
     },
     "execution_count": 12,
     "metadata": {},
     "output_type": "execute_result"
    }
   ],
   "source": [
    "reviewer_mean_ratings.describe()"
   ]
  },
  {
   "cell_type": "markdown",
   "id": "7d0bc97f",
   "metadata": {
    "papermill": {
     "duration": 0.007123,
     "end_time": "2022-12-31T20:11:04.917143",
     "exception": false,
     "start_time": "2022-12-31T20:11:04.910020",
     "status": "completed"
    },
    "tags": []
   },
   "source": [
    "## 6.\n",
    "What combination of countries and varieties are most common? Create a `Series` whose index is a `MultiIndex`of `{country, variety}` pairs. For example, a pinot noir produced in the US should map to `{\"US\", \"Pinot Noir\"}`. Sort the values in the `Series` in descending order based on wine count."
   ]
  },
  {
   "cell_type": "code",
   "execution_count": 13,
   "id": "040027e1",
   "metadata": {
    "execution": {
     "iopub.execute_input": "2022-12-31T20:11:04.933869Z",
     "iopub.status.busy": "2022-12-31T20:11:04.933216Z",
     "iopub.status.idle": "2022-12-31T20:11:04.971555Z",
     "shell.execute_reply": "2022-12-31T20:11:04.969940Z"
    },
    "papermill": {
     "duration": 0.049411,
     "end_time": "2022-12-31T20:11:04.973873",
     "exception": false,
     "start_time": "2022-12-31T20:11:04.924462",
     "status": "completed"
    },
    "tags": []
   },
   "outputs": [
    {
     "name": "stdout",
     "output_type": "stream",
     "text": [
      "country  variety                 \n",
      "US       Pinot Noir                  9885\n",
      "         Cabernet Sauvignon          7315\n",
      "         Chardonnay                  6801\n",
      "France   Bordeaux-style Red Blend    4725\n",
      "Italy    Red Blend                   3624\n",
      "                                     ... \n",
      "Mexico   Cinsault                       1\n",
      "         Grenache                       1\n",
      "         Merlot                         1\n",
      "         Rosado                         1\n",
      "Uruguay  White Blend                    1\n",
      "Length: 1612, dtype: int64\n"
     ]
    },
    {
     "data": {
      "application/javascript": [
       "parent.postMessage({\"jupyterEvent\": \"custom.exercise_interaction\", \"data\": {\"outcomeType\": 1, \"valueTowardsCompletion\": 0.16666666666666666, \"interactionType\": 1, \"questionType\": 1, \"questionId\": \"6_GroupbyCountryVariety\", \"learnToolsVersion\": \"0.3.4\", \"failureMessage\": \"\", \"exceptionClass\": \"\", \"trace\": \"\"}}, \"*\")"
      ],
      "text/plain": [
       "<IPython.core.display.Javascript object>"
      ]
     },
     "metadata": {},
     "output_type": "display_data"
    },
    {
     "data": {
      "text/markdown": [
       "<span style=\"color:#33cc33\">Correct</span>"
      ],
      "text/plain": [
       "Correct"
      ]
     },
     "metadata": {},
     "output_type": "display_data"
    }
   ],
   "source": [
    "country_variety_counts = reviews.groupby(['country', 'variety']).size().sort_values(ascending=False)\n",
    "print(country_variety_counts)\n",
    "\n",
    "# Check your answer\n",
    "q6.check()"
   ]
  },
  {
   "cell_type": "code",
   "execution_count": 14,
   "id": "44be00e7",
   "metadata": {
    "execution": {
     "iopub.execute_input": "2022-12-31T20:11:04.991017Z",
     "iopub.status.busy": "2022-12-31T20:11:04.990615Z",
     "iopub.status.idle": "2022-12-31T20:11:04.999114Z",
     "shell.execute_reply": "2022-12-31T20:11:04.998044Z"
    },
    "papermill": {
     "duration": 0.019586,
     "end_time": "2022-12-31T20:11:05.001214",
     "exception": false,
     "start_time": "2022-12-31T20:11:04.981628",
     "status": "completed"
    },
    "tags": []
   },
   "outputs": [
    {
     "data": {
      "application/javascript": [
       "parent.postMessage({\"jupyterEvent\": \"custom.exercise_interaction\", \"data\": {\"interactionType\": 2, \"questionType\": 1, \"questionId\": \"6_GroupbyCountryVariety\", \"learnToolsVersion\": \"0.3.4\", \"valueTowardsCompletion\": 0.0, \"failureMessage\": \"\", \"exceptionClass\": \"\", \"trace\": \"\", \"outcomeType\": 4}}, \"*\")"
      ],
      "text/plain": [
       "<IPython.core.display.Javascript object>"
      ]
     },
     "metadata": {},
     "output_type": "display_data"
    },
    {
     "data": {
      "text/markdown": [
       "<span style=\"color:#3366cc\">Hint:</span> Use `groupby()`, and provide a list of columns to group by.  You may also find `size()` and `sort_values()` to be useful!"
      ],
      "text/plain": [
       "Hint: Use `groupby()`, and provide a list of columns to group by.  You may also find `size()` and `sort_values()` to be useful!"
      ]
     },
     "metadata": {},
     "output_type": "display_data"
    }
   ],
   "source": [
    "q6.hint()\n",
    "#q6.solution()"
   ]
  },
  {
   "cell_type": "markdown",
   "id": "fcd618c3",
   "metadata": {
    "papermill": {
     "duration": 0.007729,
     "end_time": "2022-12-31T20:11:05.017626",
     "exception": false,
     "start_time": "2022-12-31T20:11:05.009897",
     "status": "completed"
    },
    "tags": []
   },
   "source": [
    "# Keep going\n",
    "\n",
    "Move on to the [**data types and missing data**](https://www.kaggle.com/residentmario/data-types-and-missing-values)."
   ]
  },
  {
   "cell_type": "markdown",
   "id": "3992d7b1",
   "metadata": {
    "papermill": {
     "duration": 0.007642,
     "end_time": "2022-12-31T20:11:05.033150",
     "exception": false,
     "start_time": "2022-12-31T20:11:05.025508",
     "status": "completed"
    },
    "tags": []
   },
   "source": [
    "---\n",
    "\n",
    "\n",
    "\n",
    "\n",
    "*Have questions or comments? Visit the [course discussion forum](https://www.kaggle.com/learn/pandas/discussion) to chat with other learners.*"
   ]
  }
 ],
 "metadata": {
  "kernelspec": {
   "display_name": "Python 3",
   "language": "python",
   "name": "python3"
  },
  "language_info": {
   "codemirror_mode": {
    "name": "ipython",
    "version": 3
   },
   "file_extension": ".py",
   "mimetype": "text/x-python",
   "name": "python",
   "nbconvert_exporter": "python",
   "pygments_lexer": "ipython3",
   "version": "3.7.12"
  },
  "papermill": {
   "default_parameters": {},
   "duration": 12.820108,
   "end_time": "2022-12-31T20:11:05.762840",
   "environment_variables": {},
   "exception": null,
   "input_path": "__notebook__.ipynb",
   "output_path": "__notebook__.ipynb",
   "parameters": {},
   "start_time": "2022-12-31T20:10:52.942732",
   "version": "2.3.4"
  }
 },
 "nbformat": 4,
 "nbformat_minor": 5
}
