{
 "cells": [
  {
   "cell_type": "markdown",
   "id": "9dea647c",
   "metadata": {
    "papermill": {
     "duration": 0.007687,
     "end_time": "2023-02-17T15:51:19.762954",
     "exception": false,
     "start_time": "2023-02-17T15:51:19.755267",
     "status": "completed"
    },
    "tags": []
   },
   "source": [
    "**This notebook is an exercise in the [Feature Engineering](https://www.kaggle.com/learn/feature-engineering) course.  You can reference the tutorial at [this link](https://www.kaggle.com/ryanholbrook/target-encoding).**\n",
    "\n",
    "---\n"
   ]
  },
  {
   "cell_type": "markdown",
   "id": "ff8ea8a1",
   "metadata": {
    "papermill": {
     "duration": 0.005491,
     "end_time": "2023-02-17T15:51:19.774803",
     "exception": false,
     "start_time": "2023-02-17T15:51:19.769312",
     "status": "completed"
    },
    "tags": []
   },
   "source": [
    "# Introduction #\n",
    "\n",
    "In this exercise, you'll apply target encoding to features in the [*Ames*](https://www.kaggle.com/c/house-prices-advanced-regression-techniques/data) dataset.\n",
    "\n",
    "Run this cell to set everything up!"
   ]
  },
  {
   "cell_type": "code",
   "execution_count": 1,
   "id": "4cb9b67f",
   "metadata": {
    "execution": {
     "iopub.execute_input": "2023-02-17T15:51:19.789461Z",
     "iopub.status.busy": "2023-02-17T15:51:19.788391Z",
     "iopub.status.idle": "2023-02-17T15:51:21.500332Z",
     "shell.execute_reply": "2023-02-17T15:51:21.498951Z"
    },
    "papermill": {
     "duration": 1.722453,
     "end_time": "2023-02-17T15:51:21.502952",
     "exception": false,
     "start_time": "2023-02-17T15:51:19.780499",
     "status": "completed"
    },
    "tags": []
   },
   "outputs": [],
   "source": [
    "# Setup feedback system\n",
    "from learntools.core import binder\n",
    "binder.bind(globals())\n",
    "from learntools.feature_engineering_new.ex6 import *\n",
    "\n",
    "import matplotlib.pyplot as plt\n",
    "import numpy as np\n",
    "import pandas as pd\n",
    "import seaborn as sns\n",
    "import warnings\n",
    "from category_encoders import MEstimateEncoder\n",
    "from sklearn.model_selection import cross_val_score\n",
    "from xgboost import XGBRegressor\n",
    "\n",
    "# Set Matplotlib defaults\n",
    "plt.style.use(\"seaborn-whitegrid\")\n",
    "plt.rc(\"figure\", autolayout=True)\n",
    "plt.rc(\n",
    "    \"axes\",\n",
    "    labelweight=\"bold\",\n",
    "    labelsize=\"large\",\n",
    "    titleweight=\"bold\",\n",
    "    titlesize=14,\n",
    "    titlepad=10,\n",
    ")\n",
    "warnings.filterwarnings('ignore')\n",
    "\n",
    "\n",
    "def score_dataset(X, y, model=XGBRegressor()):\n",
    "    # Label encoding for categoricals\n",
    "    for colname in X.select_dtypes([\"category\", \"object\"]):\n",
    "        X[colname], _ = X[colname].factorize()\n",
    "    # Metric for Housing competition is RMSLE (Root Mean Squared Log Error)\n",
    "    score = cross_val_score(\n",
    "        model, X, y, cv=5, scoring=\"neg_mean_squared_log_error\",\n",
    "    )\n",
    "    score = -1 * score.mean()\n",
    "    score = np.sqrt(score)\n",
    "    return score\n",
    "\n",
    "\n",
    "df = pd.read_csv(\"../input/fe-course-data/ames.csv\")"
   ]
  },
  {
   "cell_type": "markdown",
   "id": "41df3fb9",
   "metadata": {
    "papermill": {
     "duration": 0.005165,
     "end_time": "2023-02-17T15:51:21.513880",
     "exception": false,
     "start_time": "2023-02-17T15:51:21.508715",
     "status": "completed"
    },
    "tags": []
   },
   "source": [
    "-------------------------------------------------------------------------------\n",
    "\n",
    "First you'll need to choose which features you want to apply a target encoding to. Categorical features with a large number of categories are often good candidates. Run this cell to see how many categories each categorical feature in the *Ames* dataset has."
   ]
  },
  {
   "cell_type": "code",
   "execution_count": 2,
   "id": "22a3b6e1",
   "metadata": {
    "execution": {
     "iopub.execute_input": "2023-02-17T15:51:21.526819Z",
     "iopub.status.busy": "2023-02-17T15:51:21.526290Z",
     "iopub.status.idle": "2023-02-17T15:51:21.562836Z",
     "shell.execute_reply": "2023-02-17T15:51:21.561535Z"
    },
    "papermill": {
     "duration": 0.045793,
     "end_time": "2023-02-17T15:51:21.565166",
     "exception": false,
     "start_time": "2023-02-17T15:51:21.519373",
     "status": "completed"
    },
    "tags": []
   },
   "outputs": [
    {
     "data": {
      "text/plain": [
       "MSSubClass       16\n",
       "MSZoning          7\n",
       "Street            2\n",
       "Alley             3\n",
       "LotShape          4\n",
       "LandContour       4\n",
       "Utilities         3\n",
       "LotConfig         5\n",
       "LandSlope         3\n",
       "Neighborhood     28\n",
       "Condition1        9\n",
       "Condition2        8\n",
       "BldgType          5\n",
       "HouseStyle        8\n",
       "OverallQual      10\n",
       "OverallCond       9\n",
       "RoofStyle         6\n",
       "RoofMatl          8\n",
       "Exterior1st      16\n",
       "Exterior2nd      17\n",
       "MasVnrType        5\n",
       "ExterQual         4\n",
       "ExterCond         5\n",
       "Foundation        6\n",
       "BsmtQual          6\n",
       "BsmtCond          6\n",
       "BsmtExposure      5\n",
       "BsmtFinType1      7\n",
       "BsmtFinType2      7\n",
       "Heating           6\n",
       "HeatingQC         5\n",
       "CentralAir        2\n",
       "Electrical        6\n",
       "KitchenQual       5\n",
       "Functional        8\n",
       "FireplaceQu       6\n",
       "GarageType        7\n",
       "GarageFinish      4\n",
       "GarageQual        6\n",
       "GarageCond        6\n",
       "PavedDrive        3\n",
       "PoolQC            5\n",
       "Fence             5\n",
       "MiscFeature       6\n",
       "SaleType         10\n",
       "SaleCondition     6\n",
       "dtype: int64"
      ]
     },
     "execution_count": 2,
     "metadata": {},
     "output_type": "execute_result"
    }
   ],
   "source": [
    "df.select_dtypes([\"object\"]).nunique()"
   ]
  },
  {
   "cell_type": "markdown",
   "id": "470d5b00",
   "metadata": {
    "papermill": {
     "duration": 0.005755,
     "end_time": "2023-02-17T15:51:21.577119",
     "exception": false,
     "start_time": "2023-02-17T15:51:21.571364",
     "status": "completed"
    },
    "tags": []
   },
   "source": [
    "We talked about how the M-estimate encoding uses smoothing to improve estimates for rare categories. To see how many times a category occurs in the dataset, you can use the `value_counts` method. This cell shows the counts for `SaleType`, but you might want to consider others as well."
   ]
  },
  {
   "cell_type": "code",
   "execution_count": 3,
   "id": "5e075e6e",
   "metadata": {
    "execution": {
     "iopub.execute_input": "2023-02-17T15:51:21.590709Z",
     "iopub.status.busy": "2023-02-17T15:51:21.590047Z",
     "iopub.status.idle": "2023-02-17T15:51:21.604760Z",
     "shell.execute_reply": "2023-02-17T15:51:21.603738Z"
    },
    "papermill": {
     "duration": 0.023983,
     "end_time": "2023-02-17T15:51:21.606870",
     "exception": false,
     "start_time": "2023-02-17T15:51:21.582887",
     "status": "completed"
    },
    "tags": []
   },
   "outputs": [
    {
     "data": {
      "text/plain": [
       "WD       2536\n",
       "New       239\n",
       "COD        87\n",
       "ConLD      26\n",
       "CWD        12\n",
       "ConLI       9\n",
       "ConLw       8\n",
       "Oth         7\n",
       "Con         5\n",
       "VWD         1\n",
       "Name: SaleType, dtype: int64"
      ]
     },
     "execution_count": 3,
     "metadata": {},
     "output_type": "execute_result"
    }
   ],
   "source": [
    "df[\"SaleType\"].value_counts()"
   ]
  },
  {
   "cell_type": "markdown",
   "id": "ca8f9c94",
   "metadata": {
    "papermill": {
     "duration": 0.005533,
     "end_time": "2023-02-17T15:51:21.618670",
     "exception": false,
     "start_time": "2023-02-17T15:51:21.613137",
     "status": "completed"
    },
    "tags": []
   },
   "source": [
    "# 1) Choose Features for Encoding\n",
    "\n",
    "Which features did you identify for target encoding? After you've thought about your answer, run the next cell for some discussion."
   ]
  },
  {
   "cell_type": "code",
   "execution_count": 4,
   "id": "3ec86cb3",
   "metadata": {
    "execution": {
     "iopub.execute_input": "2023-02-17T15:51:21.632605Z",
     "iopub.status.busy": "2023-02-17T15:51:21.632167Z",
     "iopub.status.idle": "2023-02-17T15:51:21.641510Z",
     "shell.execute_reply": "2023-02-17T15:51:21.640252Z"
    },
    "papermill": {
     "duration": 0.019636,
     "end_time": "2023-02-17T15:51:21.644260",
     "exception": false,
     "start_time": "2023-02-17T15:51:21.624624",
     "status": "completed"
    },
    "tags": []
   },
   "outputs": [
    {
     "data": {
      "application/javascript": [
       "parent.postMessage({\"jupyterEvent\": \"custom.exercise_interaction\", \"data\": {\"outcomeType\": 1, \"valueTowardsCompletion\": 0.3333333333333333, \"interactionType\": 1, \"questionType\": 4, \"questionId\": \"1_Q1\", \"learnToolsVersion\": \"0.3.4\", \"failureMessage\": \"\", \"exceptionClass\": \"\", \"trace\": \"\"}}, \"*\")"
      ],
      "text/plain": [
       "<IPython.core.display.Javascript object>"
      ]
     },
     "metadata": {},
     "output_type": "display_data"
    },
    {
     "data": {
      "text/markdown": [
       "<span style=\"color:#33cc33\">Correct:</span> \n",
       "\n",
       " The `Neighborhood` feature looks promising. It has the most categories of any feature, and several categories are rare. Others that could be worth considering are `SaleType`, `MSSubClass`, `Exterior1st`, `Exterior2nd`. In fact, almost any of the nominal features would be worth trying because of the prevalence of rare categories."
      ],
      "text/plain": [
       "Correct: \n",
       "\n",
       " The `Neighborhood` feature looks promising. It has the most categories of any feature, and several categories are rare. Others that could be worth considering are `SaleType`, `MSSubClass`, `Exterior1st`, `Exterior2nd`. In fact, almost any of the nominal features would be worth trying because of the prevalence of rare categories."
      ]
     },
     "metadata": {},
     "output_type": "display_data"
    }
   ],
   "source": [
    "# View the solution (Run this cell to receive credit!)\n",
    "q_1.check()"
   ]
  },
  {
   "cell_type": "markdown",
   "id": "e3184bb8",
   "metadata": {
    "papermill": {
     "duration": 0.005701,
     "end_time": "2023-02-17T15:51:21.656393",
     "exception": false,
     "start_time": "2023-02-17T15:51:21.650692",
     "status": "completed"
    },
    "tags": []
   },
   "source": [
    "-------------------------------------------------------------------------------\n",
    "\n",
    "Now you'll apply a target encoding to your choice of feature. As we discussed in the tutorial, to avoid overfitting, we need to fit the encoder on data heldout from the training set. Run this cell to create the encoding and training splits:"
   ]
  },
  {
   "cell_type": "code",
   "execution_count": 5,
   "id": "465a6397",
   "metadata": {
    "execution": {
     "iopub.execute_input": "2023-02-17T15:51:21.671241Z",
     "iopub.status.busy": "2023-02-17T15:51:21.669738Z",
     "iopub.status.idle": "2023-02-17T15:51:21.686535Z",
     "shell.execute_reply": "2023-02-17T15:51:21.685517Z"
    },
    "lines_to_next_cell": 2,
    "papermill": {
     "duration": 0.027003,
     "end_time": "2023-02-17T15:51:21.689346",
     "exception": false,
     "start_time": "2023-02-17T15:51:21.662343",
     "status": "completed"
    },
    "tags": []
   },
   "outputs": [],
   "source": [
    "# Encoding split\n",
    "X_encode = df.sample(frac=0.20, random_state=0)\n",
    "y_encode = X_encode.pop(\"SalePrice\")\n",
    "\n",
    "# Training split\n",
    "X_pretrain = df.drop(X_encode.index)\n",
    "y_train = X_pretrain.pop(\"SalePrice\")"
   ]
  },
  {
   "cell_type": "markdown",
   "id": "fdb706f0",
   "metadata": {
    "papermill": {
     "duration": 0.006001,
     "end_time": "2023-02-17T15:51:21.701790",
     "exception": false,
     "start_time": "2023-02-17T15:51:21.695789",
     "status": "completed"
    },
    "tags": []
   },
   "source": [
    "# 2) Apply M-Estimate Encoding\n",
    "\n",
    "Apply a target encoding to your choice of categorical features. Also choose a value for the smoothing parameter `m` (any value is okay for a correct answer)."
   ]
  },
  {
   "cell_type": "code",
   "execution_count": 6,
   "id": "953716fe",
   "metadata": {
    "execution": {
     "iopub.execute_input": "2023-02-17T15:51:21.716085Z",
     "iopub.status.busy": "2023-02-17T15:51:21.715637Z",
     "iopub.status.idle": "2023-02-17T15:51:21.792742Z",
     "shell.execute_reply": "2023-02-17T15:51:21.791364Z"
    },
    "lines_to_next_cell": 0,
    "papermill": {
     "duration": 0.086808,
     "end_time": "2023-02-17T15:51:21.794952",
     "exception": false,
     "start_time": "2023-02-17T15:51:21.708144",
     "status": "completed"
    },
    "tags": []
   },
   "outputs": [
    {
     "data": {
      "application/javascript": [
       "parent.postMessage({\"jupyterEvent\": \"custom.exercise_interaction\", \"data\": {\"outcomeType\": 1, \"valueTowardsCompletion\": 0.3333333333333333, \"interactionType\": 1, \"questionType\": 2, \"questionId\": \"2_Q2\", \"learnToolsVersion\": \"0.3.4\", \"failureMessage\": \"\", \"exceptionClass\": \"\", \"trace\": \"\"}}, \"*\")"
      ],
      "text/plain": [
       "<IPython.core.display.Javascript object>"
      ]
     },
     "metadata": {},
     "output_type": "display_data"
    },
    {
     "data": {
      "text/markdown": [
       "<span style=\"color:#33cc33\">Correct</span>"
      ],
      "text/plain": [
       "Correct"
      ]
     },
     "metadata": {},
     "output_type": "display_data"
    }
   ],
   "source": [
    "# YOUR CODE HERE: Create the MEstimateEncoder\n",
    "# Choose a set of features to encode and a value for m\n",
    "encoder = MEstimateEncoder(cols=[\"Neighborhood\"], m=5.0)\n",
    "\n",
    "\n",
    "# Fit the encoder on the encoding split\n",
    "encoder.fit(X_encode, y_encode)\n",
    "\n",
    "# Encode the training split\n",
    "X_train = encoder.transform(X_pretrain, y_train)\n",
    "\n",
    "\n",
    "# Check your answer\n",
    "q_2.check()"
   ]
  },
  {
   "cell_type": "code",
   "execution_count": 7,
   "id": "68f7dd9e",
   "metadata": {
    "execution": {
     "iopub.execute_input": "2023-02-17T15:51:21.809412Z",
     "iopub.status.busy": "2023-02-17T15:51:21.809068Z",
     "iopub.status.idle": "2023-02-17T15:51:21.813849Z",
     "shell.execute_reply": "2023-02-17T15:51:21.812566Z"
    },
    "lines_to_next_cell": 0,
    "papermill": {
     "duration": 0.015508,
     "end_time": "2023-02-17T15:51:21.816877",
     "exception": false,
     "start_time": "2023-02-17T15:51:21.801369",
     "status": "completed"
    },
    "tags": []
   },
   "outputs": [],
   "source": [
    "# Lines below will give you a hint or solution code\n",
    "#q_2.hint()\n",
    "#q_2.solution()"
   ]
  },
  {
   "cell_type": "markdown",
   "id": "f0cc8f3f",
   "metadata": {
    "papermill": {
     "duration": 0.006197,
     "end_time": "2023-02-17T15:51:21.829842",
     "exception": false,
     "start_time": "2023-02-17T15:51:21.823645",
     "status": "completed"
    },
    "tags": []
   },
   "source": [
    "If you'd like to see how the encoded feature compares to the target, you can run this cell:"
   ]
  },
  {
   "cell_type": "code",
   "execution_count": 8,
   "id": "43ed1bd2",
   "metadata": {
    "execution": {
     "iopub.execute_input": "2023-02-17T15:51:21.845138Z",
     "iopub.status.busy": "2023-02-17T15:51:21.844094Z",
     "iopub.status.idle": "2023-02-17T15:51:22.159778Z",
     "shell.execute_reply": "2023-02-17T15:51:22.158855Z"
    },
    "papermill": {
     "duration": 0.325314,
     "end_time": "2023-02-17T15:51:22.161796",
     "exception": false,
     "start_time": "2023-02-17T15:51:21.836482",
     "status": "completed"
    },
    "tags": []
   },
   "outputs": [
    {
     "data": {
      "image/png": "[encoded data removed]",
      "text/plain": [
       "<Figure size 576x432 with 1 Axes>"
      ]
     },
     "metadata": {},
     "output_type": "display_data"
    }
   ],
   "source": [
    "feature = encoder.cols\n",
    "\n",
    "plt.figure(dpi=90)\n",
    "ax = sns.distplot(y_train, kde=True, hist=False)\n",
    "ax = sns.distplot(X_train[feature], color='r', ax=ax, hist=True, kde=False, norm_hist=True)\n",
    "ax.set_xlabel(\"SalePrice\");"
   ]
  },
  {
   "cell_type": "markdown",
   "id": "0949b4e0",
   "metadata": {
    "papermill": {
     "duration": 0.006409,
     "end_time": "2023-02-17T15:51:22.175233",
     "exception": false,
     "start_time": "2023-02-17T15:51:22.168824",
     "status": "completed"
    },
    "tags": []
   },
   "source": [
    "From the distribution plots, does it seem like the encoding is informative?\n",
    "\n",
    "And this cell will show you the score of the encoded set compared to the original set:"
   ]
  },
  {
   "cell_type": "code",
   "execution_count": 9,
   "id": "1bc25268",
   "metadata": {
    "execution": {
     "iopub.execute_input": "2023-02-17T15:51:22.190600Z",
     "iopub.status.busy": "2023-02-17T15:51:22.190200Z",
     "iopub.status.idle": "2023-02-17T15:51:28.348616Z",
     "shell.execute_reply": "2023-02-17T15:51:28.347887Z"
    },
    "papermill": {
     "duration": 6.168706,
     "end_time": "2023-02-17T15:51:28.350632",
     "exception": false,
     "start_time": "2023-02-17T15:51:22.181926",
     "status": "completed"
    },
    "tags": []
   },
   "outputs": [
    {
     "name": "stdout",
     "output_type": "stream",
     "text": [
      "Baseline Score: 0.1428 RMSLE\n",
      "Score with Encoding: 0.1383 RMSLE\n"
     ]
    }
   ],
   "source": [
    "X = df.copy()\n",
    "y = X.pop(\"SalePrice\")\n",
    "score_base = score_dataset(X, y)\n",
    "score_new = score_dataset(X_train, y_train)\n",
    "\n",
    "print(f\"Baseline Score: {score_base:.4f} RMSLE\")\n",
    "print(f\"Score with Encoding: {score_new:.4f} RMSLE\")"
   ]
  },
  {
   "cell_type": "markdown",
   "id": "722aa168",
   "metadata": {
    "papermill": {
     "duration": 0.006519,
     "end_time": "2023-02-17T15:51:28.364384",
     "exception": false,
     "start_time": "2023-02-17T15:51:28.357865",
     "status": "completed"
    },
    "tags": []
   },
   "source": [
    "Do you think that target encoding was worthwhile in this case? Depending on which feature or features you chose, you may have ended up with a score significantly worse than the baseline. In that case, it's likely the extra information gained by the encoding couldn't make up for the loss of data used for the encoding."
   ]
  },
  {
   "cell_type": "markdown",
   "id": "4fccf182",
   "metadata": {
    "papermill": {
     "duration": 0.006548,
     "end_time": "2023-02-17T15:51:28.377659",
     "exception": false,
     "start_time": "2023-02-17T15:51:28.371111",
     "status": "completed"
    },
    "tags": []
   },
   "source": [
    "-------------------------------------------------------------------------------\n",
    "\n",
    "In this question, you'll explore the problem of overfitting with target encodings. This will illustrate this importance of training fitting target encoders on data held-out from the training set.\n",
    "\n",
    "So let's see what happens when we fit the encoder and the model on the *same* dataset. To emphasize how dramatic the overfitting can be, we'll mean-encode a feature that should have no relationship with `SalePrice`, a count: `0, 1, 2, 3, 4, 5, ...`."
   ]
  },
  {
   "cell_type": "code",
   "execution_count": 10,
   "id": "265cd5e6",
   "metadata": {
    "execution": {
     "iopub.execute_input": "2023-02-17T15:51:28.394178Z",
     "iopub.status.busy": "2023-02-17T15:51:28.393133Z",
     "iopub.status.idle": "2023-02-17T15:51:32.586401Z",
     "shell.execute_reply": "2023-02-17T15:51:32.585300Z"
    },
    "papermill": {
     "duration": 4.203662,
     "end_time": "2023-02-17T15:51:32.588561",
     "exception": false,
     "start_time": "2023-02-17T15:51:28.384899",
     "status": "completed"
    },
    "tags": []
   },
   "outputs": [
    {
     "name": "stdout",
     "output_type": "stream",
     "text": [
      "Score: 0.0303 RMSLE\n"
     ]
    }
   ],
   "source": [
    "# Try experimenting with the smoothing parameter m\n",
    "# Try 0, 1, 5, 50\n",
    "m = 50\n",
    "\n",
    "X = df.copy()\n",
    "y = X.pop('SalePrice')\n",
    "\n",
    "# Create an uninformative feature\n",
    "X[\"Count\"] = range(len(X))\n",
    "X[\"Count\"][1] = 0  # actually need one duplicate value to circumvent error-checking in MEstimateEncoder\n",
    "\n",
    "# fit and transform on the same dataset\n",
    "encoder = MEstimateEncoder(cols=\"Count\", m=m)\n",
    "X = encoder.fit_transform(X, y)\n",
    "\n",
    "# Results\n",
    "score =  score_dataset(X, y)\n",
    "print(f\"Score: {score:.4f} RMSLE\")"
   ]
  },
  {
   "cell_type": "markdown",
   "id": "c78895a5",
   "metadata": {
    "papermill": {
     "duration": 0.00673,
     "end_time": "2023-02-17T15:51:32.602307",
     "exception": false,
     "start_time": "2023-02-17T15:51:32.595577",
     "status": "completed"
    },
    "tags": []
   },
   "source": [
    "Almost a perfect score!"
   ]
  },
  {
   "cell_type": "code",
   "execution_count": 11,
   "id": "efb2f924",
   "metadata": {
    "execution": {
     "iopub.execute_input": "2023-02-17T15:51:32.618258Z",
     "iopub.status.busy": "2023-02-17T15:51:32.617838Z",
     "iopub.status.idle": "2023-02-17T15:51:32.921249Z",
     "shell.execute_reply": "2023-02-17T15:51:32.920342Z"
    },
    "papermill": {
     "duration": 0.314377,
     "end_time": "2023-02-17T15:51:32.923909",
     "exception": false,
     "start_time": "2023-02-17T15:51:32.609532",
     "status": "completed"
    },
    "tags": []
   },
   "outputs": [
    {
     "data": {
      "image/png": "[encoded data removed]",
      "text/plain": [
       "<Figure size 576x432 with 1 Axes>"
      ]
     },
     "metadata": {},
     "output_type": "display_data"
    }
   ],
   "source": [
    "plt.figure(dpi=90)\n",
    "ax = sns.distplot(y, kde=True, hist=False)\n",
    "ax = sns.distplot(X[\"Count\"], color='r', ax=ax, hist=True, kde=False, norm_hist=True)\n",
    "ax.set_xlabel(\"SalePrice\");"
   ]
  },
  {
   "cell_type": "markdown",
   "id": "3e8fbc30",
   "metadata": {
    "papermill": {
     "duration": 0.007015,
     "end_time": "2023-02-17T15:51:32.938590",
     "exception": false,
     "start_time": "2023-02-17T15:51:32.931575",
     "status": "completed"
    },
    "tags": []
   },
   "source": [
    "And the distributions are almost exactly the same, too.\n",
    "\n",
    "# 3) Overfitting with Target Encoders\n",
    "\n",
    "Based on your understanding of how mean-encoding works, can you explain how XGBoost was able to get an almost a perfect fit after mean-encoding the count feature?"
   ]
  },
  {
   "cell_type": "code",
   "execution_count": 12,
   "id": "7a96c8dd",
   "metadata": {
    "execution": {
     "iopub.execute_input": "2023-02-17T15:51:32.955276Z",
     "iopub.status.busy": "2023-02-17T15:51:32.954809Z",
     "iopub.status.idle": "2023-02-17T15:51:32.964862Z",
     "shell.execute_reply": "2023-02-17T15:51:32.962923Z"
    },
    "lines_to_next_cell": 0,
    "papermill": {
     "duration": 0.021667,
     "end_time": "2023-02-17T15:51:32.967790",
     "exception": false,
     "start_time": "2023-02-17T15:51:32.946123",
     "status": "completed"
    },
    "tags": []
   },
   "outputs": [
    {
     "data": {
      "application/javascript": [
       "parent.postMessage({\"jupyterEvent\": \"custom.exercise_interaction\", \"data\": {\"outcomeType\": 1, \"valueTowardsCompletion\": 0.3333333333333333, \"interactionType\": 1, \"questionType\": 4, \"questionId\": \"3_Q3\", \"learnToolsVersion\": \"0.3.4\", \"failureMessage\": \"\", \"exceptionClass\": \"\", \"trace\": \"\"}}, \"*\")"
      ],
      "text/plain": [
       "<IPython.core.display.Javascript object>"
      ]
     },
     "metadata": {},
     "output_type": "display_data"
    },
    {
     "data": {
      "text/markdown": [
       "<span style=\"color:#33cc33\">Correct:</span> \n",
       "\n",
       "\n",
       "Since `Count` never has any duplicate values, the mean-encoded `Count` is essentially an exact copy of the target. In other words, mean-encoding turned a completely meaningless feature into a perfect feature.\n",
       "\n",
       "Now, the only reason this worked is because we trained XGBoost on the same set we used to train the encoder. If we had used a hold-out set instead, none of this \"fake\" encoding would have transferred to the training data.\n",
       "\n",
       "The lesson is that when using a target encoder it's very important to use separate data sets for training the encoder and training the model. Otherwise the results can be very disappointing!\n"
      ],
      "text/plain": [
       "Correct: \n",
       "\n",
       "\n",
       "Since `Count` never has any duplicate values, the mean-encoded `Count` is essentially an exact copy of the target. In other words, mean-encoding turned a completely meaningless feature into a perfect feature.\n",
       "\n",
       "Now, the only reason this worked is because we trained XGBoost on the same set we used to train the encoder. If we had used a hold-out set instead, none of this \"fake\" encoding would have transferred to the training data.\n",
       "\n",
       "The lesson is that when using a target encoder it's very important to use separate data sets for training the encoder and training the model. Otherwise the results can be very disappointing!"
      ]
     },
     "metadata": {},
     "output_type": "display_data"
    }
   ],
   "source": [
    "# View the solution (Run this cell to receive credit!)\n",
    "q_3.check()"
   ]
  },
  {
   "cell_type": "code",
   "execution_count": 13,
   "id": "60bcf049",
   "metadata": {
    "execution": {
     "iopub.execute_input": "2023-02-17T15:51:32.984907Z",
     "iopub.status.busy": "2023-02-17T15:51:32.984493Z",
     "iopub.status.idle": "2023-02-17T15:51:32.992449Z",
     "shell.execute_reply": "2023-02-17T15:51:32.990582Z"
    },
    "papermill": {
     "duration": 0.02039,
     "end_time": "2023-02-17T15:51:32.995788",
     "exception": false,
     "start_time": "2023-02-17T15:51:32.975398",
     "status": "completed"
    },
    "tags": []
   },
   "outputs": [],
   "source": [
    "# Uncomment this if you'd like a hint before seeing the answer\n",
    "#q_3.hint()"
   ]
  },
  {
   "cell_type": "markdown",
   "id": "2491b3b5",
   "metadata": {
    "papermill": {
     "duration": 0.007954,
     "end_time": "2023-02-17T15:51:33.012238",
     "exception": false,
     "start_time": "2023-02-17T15:51:33.004284",
     "status": "completed"
    },
    "tags": []
   },
   "source": [
    "# The End #\n",
    "\n",
    "That's it for *Feature Engineering*! We hope you enjoyed your time with us.\n",
    "\n",
    "Now, are you ready to try out your new skills? Now would be a great time to join our [Housing Prices](https://www.kaggle.com/c/house-prices-advanced-regression-techniques) Getting Started competition. We've even prepared a [Bonus Lesson](https://www.kaggle.com/ryanholbrook/feature-engineering-for-house-prices) that collects all the work we've done together into a starter notebook.\n",
    "\n",
    "# References #\n",
    "Here are some great resources you might like to consult for more information. They all played a part in shaping this course:\n",
    "- *The Art of Feature Engineering*, a book by Pablo Duboue.\n",
    "- *An Empirical Analysis of Feature Engineering for Predictive Modeling*, an article by Jeff Heaton.\n",
    "- *Feature Engineering for Machine Learning*, a book by Alice Zheng and Amanda Casari. The tutorial on clustering was inspired by this excellent book.\n",
    "- *Feature Engineering and Selection*, a book by Max Kuhn and Kjell Johnson."
   ]
  },
  {
   "cell_type": "markdown",
   "id": "8d4f0645",
   "metadata": {
    "papermill": {
     "duration": 0.007568,
     "end_time": "2023-02-17T15:51:33.027825",
     "exception": false,
     "start_time": "2023-02-17T15:51:33.020257",
     "status": "completed"
    },
    "tags": []
   },
   "source": [
    "---\n",
    "\n",
    "\n",
    "\n",
    "\n",
    "*Have questions or comments? Visit the [course discussion forum](https://www.kaggle.com/learn/feature-engineering/discussion) to chat with other learners.*"
   ]
  }
 ],
 "metadata": {
  "kernelspec": {
   "display_name": "Python 3",
   "language": "python",
   "name": "python3"
  },
  "language_info": {
   "codemirror_mode": {
    "name": "ipython",
    "version": 3
   },
   "file_extension": ".py",
   "mimetype": "text/x-python",
   "name": "python",
   "nbconvert_exporter": "python",
   "pygments_lexer": "ipython3",
   "version": "3.7.12"
  },
  "papermill": {
   "default_parameters": {},
   "duration": 22.312266,
   "end_time": "2023-02-17T15:51:33.958909",
   "environment_variables": {},
   "exception": null,
   "input_path": "__notebook__.ipynb",
   "output_path": "__notebook__.ipynb",
   "parameters": {},
   "start_time": "2023-02-17T15:51:11.646643",
   "version": "2.3.4"
  }
 },
 "nbformat": 4,
 "nbformat_minor": 5
}
