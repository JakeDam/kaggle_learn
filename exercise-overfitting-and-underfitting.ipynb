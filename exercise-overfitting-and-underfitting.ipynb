{
 "cells": [
  {
   "cell_type": "markdown",
   "id": "a2f25d75",
   "metadata": {
    "papermill": {
     "duration": 0.008143,
     "end_time": "2023-03-23T20:07:29.691937",
     "exception": false,
     "start_time": "2023-03-23T20:07:29.683794",
     "status": "completed"
    },
    "tags": []
   },
   "source": [
    "**This notebook is an exercise in the [Intro to Deep Learning](https://www.kaggle.com/learn/intro-to-deep-learning) course.  You can reference the tutorial at [this link](https://www.kaggle.com/ryanholbrook/overfitting-and-underfitting).**\n",
    "\n",
    "---\n"
   ]
  },
  {
   "cell_type": "markdown",
   "id": "af879343",
   "metadata": {
    "papermill": {
     "duration": 0.005459,
     "end_time": "2023-03-23T20:07:29.703570",
     "exception": false,
     "start_time": "2023-03-23T20:07:29.698111",
     "status": "completed"
    },
    "tags": []
   },
   "source": [
    "# Introduction #\n",
    "\n",
    "In this exercise, you’ll learn how to improve training outcomes by including an early stopping callback to prevent overfitting.\n",
    "\n",
    "When you're ready, run this next cell to set everything up!"
   ]
  },
  {
   "cell_type": "code",
   "execution_count": 1,
   "id": "252601aa",
   "metadata": {
    "execution": {
     "iopub.execute_input": "2023-03-23T20:07:29.718291Z",
     "iopub.status.busy": "2023-03-23T20:07:29.717746Z",
     "iopub.status.idle": "2023-03-23T20:07:29.778154Z",
     "shell.execute_reply": "2023-03-23T20:07:29.776585Z"
    },
    "papermill": {
     "duration": 0.071966,
     "end_time": "2023-03-23T20:07:29.781902",
     "exception": false,
     "start_time": "2023-03-23T20:07:29.709936",
     "status": "completed"
    },
    "tags": []
   },
   "outputs": [],
   "source": [
    "# Setup plotting\n",
    "import matplotlib.pyplot as plt\n",
    "plt.style.use('seaborn-whitegrid')\n",
    "# Set Matplotlib defaults\n",
    "plt.rc('figure', autolayout=True)\n",
    "plt.rc('axes', labelweight='bold', labelsize='large',\n",
    "       titleweight='bold', titlesize=18, titlepad=10)\n",
    "plt.rc('animation', html='html5')\n",
    "\n",
    "# Setup feedback system\n",
    "from learntools.core import binder\n",
    "binder.bind(globals())\n",
    "from learntools.deep_learning_intro.ex4 import *"
   ]
  },
  {
   "cell_type": "markdown",
   "id": "a060d727",
   "metadata": {
    "papermill": {
     "duration": 0.005601,
     "end_time": "2023-03-23T20:07:29.793632",
     "exception": false,
     "start_time": "2023-03-23T20:07:29.788031",
     "status": "completed"
    },
    "tags": []
   },
   "source": [
    "First load the *Spotify* dataset. Your task will be to predict the popularity of a song based on various audio features, like `'tempo'`, `'danceability'`, and `'mode'`."
   ]
  },
  {
   "cell_type": "code",
   "execution_count": 2,
   "id": "099f1dd8",
   "metadata": {
    "execution": {
     "iopub.execute_input": "2023-03-23T20:07:29.807622Z",
     "iopub.status.busy": "2023-03-23T20:07:29.807156Z",
     "iopub.status.idle": "2023-03-23T20:07:41.174736Z",
     "shell.execute_reply": "2023-03-23T20:07:41.172851Z"
    },
    "papermill": {
     "duration": 11.378696,
     "end_time": "2023-03-23T20:07:41.178178",
     "exception": false,
     "start_time": "2023-03-23T20:07:29.799482",
     "status": "completed"
    },
    "tags": []
   },
   "outputs": [
    {
     "name": "stdout",
     "output_type": "stream",
     "text": [
      "Input shape: [18]\n"
     ]
    }
   ],
   "source": [
    "import pandas as pd\n",
    "from sklearn.preprocessing import StandardScaler, OneHotEncoder\n",
    "from sklearn.compose import make_column_transformer\n",
    "from sklearn.model_selection import GroupShuffleSplit\n",
    "\n",
    "from tensorflow import keras\n",
    "from tensorflow.keras import layers\n",
    "from tensorflow.keras import callbacks\n",
    "\n",
    "spotify = pd.read_csv('../input/dl-course-data/spotify.csv')\n",
    "\n",
    "X = spotify.copy().dropna()\n",
    "y = X.pop('track_popularity')\n",
    "artists = X['track_artist']\n",
    "\n",
    "features_num = ['danceability', 'energy', 'key', 'loudness', 'mode',\n",
    "                'speechiness', 'acousticness', 'instrumentalness',\n",
    "                'liveness', 'valence', 'tempo', 'duration_ms']\n",
    "features_cat = ['playlist_genre']\n",
    "\n",
    "preprocessor = make_column_transformer(\n",
    "    (StandardScaler(), features_num),\n",
    "    (OneHotEncoder(), features_cat),\n",
    ")\n",
    "\n",
    "# We'll do a \"grouped\" split to keep all of an artist's songs in one\n",
    "# split or the other. This is to help prevent signal leakage.\n",
    "def group_split(X, y, group, train_size=0.75):\n",
    "    splitter = GroupShuffleSplit(train_size=train_size)\n",
    "    train, test = next(splitter.split(X, y, groups=group))\n",
    "    return (X.iloc[train], X.iloc[test], y.iloc[train], y.iloc[test])\n",
    "\n",
    "X_train, X_valid, y_train, y_valid = group_split(X, y, artists)\n",
    "\n",
    "X_train = preprocessor.fit_transform(X_train)\n",
    "X_valid = preprocessor.transform(X_valid)\n",
    "y_train = y_train / 100 # popularity is on a scale 0-100, so this rescales to 0-1.\n",
    "y_valid = y_valid / 100\n",
    "\n",
    "input_shape = [X_train.shape[1]]\n",
    "print(\"Input shape: {}\".format(input_shape))"
   ]
  },
  {
   "cell_type": "markdown",
   "id": "653d8488",
   "metadata": {
    "papermill": {
     "duration": 0.00589,
     "end_time": "2023-03-23T20:07:41.190449",
     "exception": false,
     "start_time": "2023-03-23T20:07:41.184559",
     "status": "completed"
    },
    "tags": []
   },
   "source": [
    "Let's start with the simplest network, a linear model. This model has low capacity.\n",
    "\n",
    "Run this next cell without any changes to train a linear model on the *Spotify* dataset."
   ]
  },
  {
   "cell_type": "code",
   "execution_count": 3,
   "id": "6e4f1ae5",
   "metadata": {
    "execution": {
     "iopub.execute_input": "2023-03-23T20:07:41.205247Z",
     "iopub.status.busy": "2023-03-23T20:07:41.204760Z",
     "iopub.status.idle": "2023-03-23T20:07:52.999466Z",
     "shell.execute_reply": "2023-03-23T20:07:52.998042Z"
    },
    "lines_to_next_cell": 0,
    "papermill": {
     "duration": 11.805973,
     "end_time": "2023-03-23T20:07:53.002546",
     "exception": false,
     "start_time": "2023-03-23T20:07:41.196573",
     "status": "completed"
    },
    "tags": []
   },
   "outputs": [
    {
     "name": "stdout",
     "output_type": "stream",
     "text": [
      "Minimum Validation Loss: 0.2002\n"
     ]
    },
    {
     "data": {
      "image/png": "[encoded data removed]",
      "text/plain": [
       "<Figure size 640x480 with 1 Axes>"
      ]
     },
     "metadata": {},
     "output_type": "display_data"
    }
   ],
   "source": [
    "model = keras.Sequential([\n",
    "    layers.Dense(1, input_shape=input_shape),\n",
    "])\n",
    "model.compile(\n",
    "    optimizer='adam',\n",
    "    loss='mae',\n",
    ")\n",
    "history = model.fit(\n",
    "    X_train, y_train,\n",
    "    validation_data=(X_valid, y_valid),\n",
    "    batch_size=512,\n",
    "    epochs=50,\n",
    "    verbose=0, # suppress output since we'll plot the curves\n",
    ")\n",
    "history_df = pd.DataFrame(history.history)\n",
    "history_df.loc[0:, ['loss', 'val_loss']].plot()\n",
    "print(\"Minimum Validation Loss: {:0.4f}\".format(history_df['val_loss'].min()));"
   ]
  },
  {
   "cell_type": "markdown",
   "id": "041cdc70",
   "metadata": {
    "papermill": {
     "duration": 0.006244,
     "end_time": "2023-03-23T20:07:53.015613",
     "exception": false,
     "start_time": "2023-03-23T20:07:53.009369",
     "status": "completed"
    },
    "tags": []
   },
   "source": [
    "It's not uncommon for the curves to follow a \"hockey stick\" pattern like you see here. This makes the final part of training hard to see, so let's start at epoch 10 instead:"
   ]
  },
  {
   "cell_type": "code",
   "execution_count": 4,
   "id": "a1f16ac4",
   "metadata": {
    "execution": {
     "iopub.execute_input": "2023-03-23T20:07:53.032023Z",
     "iopub.status.busy": "2023-03-23T20:07:53.031535Z",
     "iopub.status.idle": "2023-03-23T20:07:53.409737Z",
     "shell.execute_reply": "2023-03-23T20:07:53.408059Z"
    },
    "papermill": {
     "duration": 0.390939,
     "end_time": "2023-03-23T20:07:53.413378",
     "exception": false,
     "start_time": "2023-03-23T20:07:53.022439",
     "status": "completed"
    },
    "tags": []
   },
   "outputs": [
    {
     "name": "stdout",
     "output_type": "stream",
     "text": [
      "Minimum Validation Loss: 0.2002\n"
     ]
    },
    {
     "data": {
      "image/png": "[encoded data removed]",
      "text/plain": [
       "<Figure size 640x480 with 1 Axes>"
      ]
     },
     "metadata": {},
     "output_type": "display_data"
    }
   ],
   "source": [
    "# Start the plot at epoch 10\n",
    "history_df.loc[10:, ['loss', 'val_loss']].plot()\n",
    "print(\"Minimum Validation Loss: {:0.4f}\".format(history_df['val_loss'].min()));"
   ]
  },
  {
   "cell_type": "markdown",
   "id": "414c40c8",
   "metadata": {
    "papermill": {
     "duration": 0.00769,
     "end_time": "2023-03-23T20:07:53.430662",
     "exception": false,
     "start_time": "2023-03-23T20:07:53.422972",
     "status": "completed"
    },
    "tags": []
   },
   "source": [
    "# 1) Evaluate Baseline\n",
    "\n",
    "What do you think? Would you say this model is underfitting, overfitting, just right?"
   ]
  },
  {
   "cell_type": "code",
   "execution_count": 5,
   "id": "81344cdb",
   "metadata": {
    "execution": {
     "iopub.execute_input": "2023-03-23T20:07:53.448848Z",
     "iopub.status.busy": "2023-03-23T20:07:53.448365Z",
     "iopub.status.idle": "2023-03-23T20:07:53.459294Z",
     "shell.execute_reply": "2023-03-23T20:07:53.457757Z"
    },
    "papermill": {
     "duration": 0.024365,
     "end_time": "2023-03-23T20:07:53.462659",
     "exception": false,
     "start_time": "2023-03-23T20:07:53.438294",
     "status": "completed"
    },
    "tags": []
   },
   "outputs": [
    {
     "data": {
      "application/javascript": [
       "parent.postMessage({\"jupyterEvent\": \"custom.exercise_interaction\", \"data\": {\"outcomeType\": 1, \"valueTowardsCompletion\": 0.25, \"interactionType\": 1, \"questionType\": 4, \"questionId\": \"1_Q1\", \"learnToolsVersion\": \"0.3.4\", \"failureMessage\": \"\", \"exceptionClass\": \"\", \"trace\": \"\"}}, \"*\")"
      ],
      "text/plain": [
       "<IPython.core.display.Javascript object>"
      ]
     },
     "metadata": {},
     "output_type": "display_data"
    },
    {
     "data": {
      "text/markdown": [
       "<span style=\"color:#33cc33\">Correct:</span> \n",
       "\n",
       "The gap between these curves is quite small and the validation loss never increases, so it's more likely that the network is underfitting than overfitting. It would be worth experimenting with more capacity to see if that's the case."
      ],
      "text/plain": [
       "Correct: \n",
       "\n",
       "The gap between these curves is quite small and the validation loss never increases, so it's more likely that the network is underfitting than overfitting. It would be worth experimenting with more capacity to see if that's the case."
      ]
     },
     "metadata": {},
     "output_type": "display_data"
    }
   ],
   "source": [
    "# View the solution (Run this cell to receive credit!)\n",
    "q_1.check()"
   ]
  },
  {
   "cell_type": "markdown",
   "id": "96f7c86d",
   "metadata": {
    "papermill": {
     "duration": 0.00805,
     "end_time": "2023-03-23T20:07:53.481376",
     "exception": false,
     "start_time": "2023-03-23T20:07:53.473326",
     "status": "completed"
    },
    "tags": []
   },
   "source": [
    "Now let's add some capacity to our network. We'll add three hidden layers with 128 units each. Run the next cell to train the network and see the learning curves."
   ]
  },
  {
   "cell_type": "code",
   "execution_count": 6,
   "id": "f8c3acd9",
   "metadata": {
    "execution": {
     "iopub.execute_input": "2023-03-23T20:07:53.500360Z",
     "iopub.status.busy": "2023-03-23T20:07:53.499469Z",
     "iopub.status.idle": "2023-03-23T20:08:15.172682Z",
     "shell.execute_reply": "2023-03-23T20:08:15.171324Z"
    },
    "papermill": {
     "duration": 21.68605,
     "end_time": "2023-03-23T20:08:15.175617",
     "exception": false,
     "start_time": "2023-03-23T20:07:53.489567",
     "status": "completed"
    },
    "tags": []
   },
   "outputs": [
    {
     "name": "stdout",
     "output_type": "stream",
     "text": [
      "Epoch 1/50\n",
      "48/48 [==============================] - 1s 8ms/step - loss: 0.2753 - val_loss: 0.2163\n",
      "Epoch 2/50\n",
      "48/48 [==============================] - 0s 5ms/step - loss: 0.2034 - val_loss: 0.2104\n",
      "Epoch 3/50\n",
      "48/48 [==============================] - 0s 5ms/step - loss: 0.1971 - val_loss: 0.2074\n",
      "Epoch 4/50\n",
      "48/48 [==============================] - 0s 5ms/step - loss: 0.1940 - val_loss: 0.2052\n",
      "Epoch 5/50\n",
      "48/48 [==============================] - 0s 6ms/step - loss: 0.1913 - val_loss: 0.2044\n",
      "Epoch 6/50\n",
      "48/48 [==============================] - 0s 5ms/step - loss: 0.1891 - val_loss: 0.2047\n",
      "Epoch 7/50\n",
      "48/48 [==============================] - 0s 5ms/step - loss: 0.1875 - val_loss: 0.2024\n",
      "Epoch 8/50\n",
      "48/48 [==============================] - 0s 5ms/step - loss: 0.1871 - val_loss: 0.2026\n",
      "Epoch 9/50\n",
      "48/48 [==============================] - 0s 5ms/step - loss: 0.1858 - val_loss: 0.2046\n",
      "Epoch 10/50\n",
      "48/48 [==============================] - 0s 5ms/step - loss: 0.1846 - val_loss: 0.2015\n",
      "Epoch 11/50\n",
      "48/48 [==============================] - 0s 5ms/step - loss: 0.1833 - val_loss: 0.2015\n",
      "Epoch 12/50\n",
      "48/48 [==============================] - 0s 5ms/step - loss: 0.1828 - val_loss: 0.2024\n",
      "Epoch 13/50\n",
      "48/48 [==============================] - 0s 5ms/step - loss: 0.1817 - val_loss: 0.2018\n",
      "Epoch 14/50\n",
      "48/48 [==============================] - 0s 5ms/step - loss: 0.1811 - val_loss: 0.2019\n",
      "Epoch 15/50\n",
      "48/48 [==============================] - 0s 5ms/step - loss: 0.1802 - val_loss: 0.2021\n",
      "Epoch 16/50\n",
      "48/48 [==============================] - 0s 5ms/step - loss: 0.1794 - val_loss: 0.2023\n",
      "Epoch 17/50\n",
      "48/48 [==============================] - 0s 5ms/step - loss: 0.1788 - val_loss: 0.2024\n",
      "Epoch 18/50\n",
      "48/48 [==============================] - 0s 4ms/step - loss: 0.1784 - val_loss: 0.2023\n",
      "Epoch 19/50\n",
      "48/48 [==============================] - 0s 5ms/step - loss: 0.1785 - val_loss: 0.2035\n",
      "Epoch 20/50\n",
      "48/48 [==============================] - 0s 5ms/step - loss: 0.1777 - val_loss: 0.2017\n",
      "Epoch 21/50\n",
      "48/48 [==============================] - 0s 6ms/step - loss: 0.1768 - val_loss: 0.2032\n",
      "Epoch 22/50\n",
      "48/48 [==============================] - 0s 5ms/step - loss: 0.1758 - val_loss: 0.2044\n",
      "Epoch 23/50\n",
      "48/48 [==============================] - 0s 5ms/step - loss: 0.1756 - val_loss: 0.2036\n",
      "Epoch 24/50\n",
      "48/48 [==============================] - 0s 5ms/step - loss: 0.1756 - val_loss: 0.2038\n",
      "Epoch 25/50\n",
      "48/48 [==============================] - 0s 5ms/step - loss: 0.1747 - val_loss: 0.2027\n",
      "Epoch 26/50\n",
      "48/48 [==============================] - 0s 5ms/step - loss: 0.1741 - val_loss: 0.2049\n",
      "Epoch 27/50\n",
      "48/48 [==============================] - 0s 5ms/step - loss: 0.1734 - val_loss: 0.2030\n",
      "Epoch 28/50\n",
      "48/48 [==============================] - 0s 5ms/step - loss: 0.1738 - val_loss: 0.2043\n",
      "Epoch 29/50\n",
      "48/48 [==============================] - 0s 5ms/step - loss: 0.1731 - val_loss: 0.2046\n",
      "Epoch 30/50\n",
      "48/48 [==============================] - 0s 6ms/step - loss: 0.1721 - val_loss: 0.2036\n",
      "Epoch 31/50\n",
      "48/48 [==============================] - 0s 5ms/step - loss: 0.1718 - val_loss: 0.2048\n",
      "Epoch 32/50\n",
      "48/48 [==============================] - 0s 5ms/step - loss: 0.1714 - val_loss: 0.2043\n",
      "Epoch 33/50\n",
      "48/48 [==============================] - 0s 5ms/step - loss: 0.1711 - val_loss: 0.2071\n",
      "Epoch 34/50\n",
      "48/48 [==============================] - 0s 5ms/step - loss: 0.1711 - val_loss: 0.2047\n",
      "Epoch 35/50\n",
      "48/48 [==============================] - 0s 6ms/step - loss: 0.1717 - val_loss: 0.2055\n",
      "Epoch 36/50\n",
      "48/48 [==============================] - 0s 5ms/step - loss: 0.1707 - val_loss: 0.2043\n",
      "Epoch 37/50\n",
      "48/48 [==============================] - 0s 5ms/step - loss: 0.1694 - val_loss: 0.2058\n",
      "Epoch 38/50\n",
      "48/48 [==============================] - 0s 5ms/step - loss: 0.1698 - val_loss: 0.2052\n",
      "Epoch 39/50\n",
      "48/48 [==============================] - 0s 5ms/step - loss: 0.1681 - val_loss: 0.2059\n",
      "Epoch 40/50\n",
      "48/48 [==============================] - 0s 5ms/step - loss: 0.1688 - val_loss: 0.2060\n",
      "Epoch 41/50\n",
      "48/48 [==============================] - 0s 5ms/step - loss: 0.1682 - val_loss: 0.2051\n",
      "Epoch 42/50\n",
      "48/48 [==============================] - 0s 5ms/step - loss: 0.1674 - val_loss: 0.2058\n",
      "Epoch 43/50\n",
      "48/48 [==============================] - 0s 5ms/step - loss: 0.1671 - val_loss: 0.2055\n",
      "Epoch 44/50\n",
      "48/48 [==============================] - 0s 5ms/step - loss: 0.1667 - val_loss: 0.2070\n",
      "Epoch 45/50\n",
      "48/48 [==============================] - 0s 6ms/step - loss: 0.1671 - val_loss: 0.2061\n",
      "Epoch 46/50\n",
      "48/48 [==============================] - 0s 5ms/step - loss: 0.1683 - val_loss: 0.2068\n",
      "Epoch 47/50\n",
      "48/48 [==============================] - 0s 5ms/step - loss: 0.1656 - val_loss: 0.2058\n",
      "Epoch 48/50\n",
      "48/48 [==============================] - 0s 5ms/step - loss: 0.1651 - val_loss: 0.2062\n",
      "Epoch 49/50\n",
      "48/48 [==============================] - 0s 5ms/step - loss: 0.1656 - val_loss: 0.2064\n",
      "Epoch 50/50\n",
      "48/48 [==============================] - 0s 6ms/step - loss: 0.1645 - val_loss: 0.2061\n",
      "Minimum Validation Loss: 0.2015\n"
     ]
    },
    {
     "data": {
      "image/png": "[encoded data removed]",
      "text/plain": [
       "<Figure size 640x480 with 1 Axes>"
      ]
     },
     "metadata": {},
     "output_type": "display_data"
    }
   ],
   "source": [
    "model = keras.Sequential([\n",
    "    layers.Dense(128, activation='relu', input_shape=input_shape),\n",
    "    layers.Dense(64, activation='relu'),\n",
    "    layers.Dense(1)\n",
    "])\n",
    "model.compile(\n",
    "    optimizer='adam',\n",
    "    loss='mae',\n",
    ")\n",
    "history = model.fit(\n",
    "    X_train, y_train,\n",
    "    validation_data=(X_valid, y_valid),\n",
    "    batch_size=512,\n",
    "    epochs=50,\n",
    ")\n",
    "history_df = pd.DataFrame(history.history)\n",
    "history_df.loc[:, ['loss', 'val_loss']].plot()\n",
    "print(\"Minimum Validation Loss: {:0.4f}\".format(history_df['val_loss'].min()));"
   ]
  },
  {
   "cell_type": "markdown",
   "id": "73fe51ac",
   "metadata": {
    "papermill": {
     "duration": 0.027469,
     "end_time": "2023-03-23T20:08:15.231052",
     "exception": false,
     "start_time": "2023-03-23T20:08:15.203583",
     "status": "completed"
    },
    "tags": []
   },
   "source": [
    "# 2) Add Capacity\n",
    "\n",
    "What is your evaluation of these curves? Underfitting, overfitting, just right?"
   ]
  },
  {
   "cell_type": "code",
   "execution_count": 7,
   "id": "769d8f9e",
   "metadata": {
    "execution": {
     "iopub.execute_input": "2023-03-23T20:08:15.299940Z",
     "iopub.status.busy": "2023-03-23T20:08:15.299439Z",
     "iopub.status.idle": "2023-03-23T20:08:15.311129Z",
     "shell.execute_reply": "2023-03-23T20:08:15.309510Z"
    },
    "papermill": {
     "duration": 0.046181,
     "end_time": "2023-03-23T20:08:15.314377",
     "exception": false,
     "start_time": "2023-03-23T20:08:15.268196",
     "status": "completed"
    },
    "tags": []
   },
   "outputs": [
    {
     "data": {
      "application/javascript": [
       "parent.postMessage({\"jupyterEvent\": \"custom.exercise_interaction\", \"data\": {\"outcomeType\": 1, \"valueTowardsCompletion\": 0.25, \"interactionType\": 1, \"questionType\": 4, \"questionId\": \"2_Q2\", \"learnToolsVersion\": \"0.3.4\", \"failureMessage\": \"\", \"exceptionClass\": \"\", \"trace\": \"\"}}, \"*\")"
      ],
      "text/plain": [
       "<IPython.core.display.Javascript object>"
      ]
     },
     "metadata": {},
     "output_type": "display_data"
    },
    {
     "data": {
      "text/markdown": [
       "<span style=\"color:#33cc33\">Correct:</span> \n",
       "\n",
       "Now the validation loss begins to rise very early, while the training loss continues to decrease. This indicates that the network has begun to overfit. At this point, we would need to try something to prevent it, either by reducing the number of units or through a method like early stopping. (We'll see another in the next lesson!)"
      ],
      "text/plain": [
       "Correct: \n",
       "\n",
       "Now the validation loss begins to rise very early, while the training loss continues to decrease. This indicates that the network has begun to overfit. At this point, we would need to try something to prevent it, either by reducing the number of units or through a method like early stopping. (We'll see another in the next lesson!)"
      ]
     },
     "metadata": {},
     "output_type": "display_data"
    }
   ],
   "source": [
    "# View the solution (Run this cell to receive credit!)\n",
    "q_2.check()"
   ]
  },
  {
   "cell_type": "markdown",
   "id": "a5fcb9d3",
   "metadata": {
    "papermill": {
     "duration": 0.02868,
     "end_time": "2023-03-23T20:08:15.374973",
     "exception": false,
     "start_time": "2023-03-23T20:08:15.346293",
     "status": "completed"
    },
    "tags": []
   },
   "source": [
    "# 3) Define Early Stopping Callback\n",
    "\n",
    "Now define an early stopping callback that waits 5 epochs (`patience'`) for a change in validation loss of at least `0.001` (`min_delta`) and keeps the weights with the best loss (`restore_best_weights`)."
   ]
  },
  {
   "cell_type": "code",
   "execution_count": 8,
   "id": "9ac985d9",
   "metadata": {
    "execution": {
     "iopub.execute_input": "2023-03-23T20:08:15.461135Z",
     "iopub.status.busy": "2023-03-23T20:08:15.460257Z",
     "iopub.status.idle": "2023-03-23T20:08:15.469627Z",
     "shell.execute_reply": "2023-03-23T20:08:15.468587Z"
    },
    "lines_to_next_cell": 0,
    "papermill": {
     "duration": 0.056673,
     "end_time": "2023-03-23T20:08:15.472686",
     "exception": false,
     "start_time": "2023-03-23T20:08:15.416013",
     "status": "completed"
    },
    "tags": []
   },
   "outputs": [
    {
     "data": {
      "application/javascript": [
       "parent.postMessage({\"jupyterEvent\": \"custom.exercise_interaction\", \"data\": {\"outcomeType\": 1, \"valueTowardsCompletion\": 0.25, \"interactionType\": 1, \"questionType\": 2, \"questionId\": \"3_Q3\", \"learnToolsVersion\": \"0.3.4\", \"failureMessage\": \"\", \"exceptionClass\": \"\", \"trace\": \"\"}}, \"*\")"
      ],
      "text/plain": [
       "<IPython.core.display.Javascript object>"
      ]
     },
     "metadata": {},
     "output_type": "display_data"
    },
    {
     "data": {
      "text/markdown": [
       "<span style=\"color:#33cc33\">Correct</span>"
      ],
      "text/plain": [
       "Correct"
      ]
     },
     "metadata": {},
     "output_type": "display_data"
    }
   ],
   "source": [
    "from tensorflow.keras import callbacks\n",
    "\n",
    "# YOUR CODE HERE: define an early stopping callback\n",
    "early_stopping = callbacks.EarlyStopping(\n",
    "                    min_delta=0.001, \n",
    "                    patience=5,\n",
    "                    restore_best_weights=True)\n",
    "\n",
    "# Check your answer\n",
    "q_3.check()"
   ]
  },
  {
   "cell_type": "code",
   "execution_count": 9,
   "id": "8d771d3b",
   "metadata": {
    "execution": {
     "iopub.execute_input": "2023-03-23T20:08:15.535500Z",
     "iopub.status.busy": "2023-03-23T20:08:15.534442Z",
     "iopub.status.idle": "2023-03-23T20:08:15.539756Z",
     "shell.execute_reply": "2023-03-23T20:08:15.538597Z"
    },
    "papermill": {
     "duration": 0.037981,
     "end_time": "2023-03-23T20:08:15.542399",
     "exception": false,
     "start_time": "2023-03-23T20:08:15.504418",
     "status": "completed"
    },
    "tags": []
   },
   "outputs": [],
   "source": [
    "# Lines below will give you a hint or solution code\n",
    "#q_3.hint()\n",
    "#q_3.solution()"
   ]
  },
  {
   "cell_type": "markdown",
   "id": "cc4d61fb",
   "metadata": {
    "papermill": {
     "duration": 0.026596,
     "end_time": "2023-03-23T20:08:15.596701",
     "exception": false,
     "start_time": "2023-03-23T20:08:15.570105",
     "status": "completed"
    },
    "tags": []
   },
   "source": [
    "Now run this cell to train the model and get the learning curves. Notice the `callbacks` argument in `model.fit`."
   ]
  },
  {
   "cell_type": "code",
   "execution_count": 10,
   "id": "f285b9ac",
   "metadata": {
    "execution": {
     "iopub.execute_input": "2023-03-23T20:08:15.656110Z",
     "iopub.status.busy": "2023-03-23T20:08:15.654851Z",
     "iopub.status.idle": "2023-03-23T20:08:21.913459Z",
     "shell.execute_reply": "2023-03-23T20:08:21.911978Z"
    },
    "papermill": {
     "duration": 6.291494,
     "end_time": "2023-03-23T20:08:21.916371",
     "exception": false,
     "start_time": "2023-03-23T20:08:15.624877",
     "status": "completed"
    },
    "tags": []
   },
   "outputs": [
    {
     "name": "stdout",
     "output_type": "stream",
     "text": [
      "Epoch 1/50\n",
      "48/48 [==============================] - 1s 9ms/step - loss: 0.2274 - val_loss: 0.2118\n",
      "Epoch 2/50\n",
      "48/48 [==============================] - 0s 5ms/step - loss: 0.2003 - val_loss: 0.2050\n",
      "Epoch 3/50\n",
      "48/48 [==============================] - 0s 6ms/step - loss: 0.1943 - val_loss: 0.2040\n",
      "Epoch 4/50\n",
      "48/48 [==============================] - 0s 5ms/step - loss: 0.1912 - val_loss: 0.2021\n",
      "Epoch 5/50\n",
      "48/48 [==============================] - 0s 5ms/step - loss: 0.1884 - val_loss: 0.2007\n",
      "Epoch 6/50\n",
      "48/48 [==============================] - 0s 4ms/step - loss: 0.1879 - val_loss: 0.2018\n",
      "Epoch 7/50\n",
      "48/48 [==============================] - 0s 5ms/step - loss: 0.1865 - val_loss: 0.2019\n",
      "Epoch 8/50\n",
      "48/48 [==============================] - 0s 5ms/step - loss: 0.1852 - val_loss: 0.2033\n",
      "Epoch 9/50\n",
      "48/48 [==============================] - 0s 5ms/step - loss: 0.1837 - val_loss: 0.2011\n",
      "Epoch 10/50\n",
      "48/48 [==============================] - 0s 5ms/step - loss: 0.1827 - val_loss: 0.2006\n",
      "Minimum Validation Loss: 0.2006\n"
     ]
    },
    {
     "data": {
      "image/png": "[encoded data removed]",
      "text/plain": [
       "<Figure size 640x480 with 1 Axes>"
      ]
     },
     "metadata": {},
     "output_type": "display_data"
    }
   ],
   "source": [
    "model = keras.Sequential([\n",
    "    layers.Dense(128, activation='relu', input_shape=input_shape),\n",
    "    layers.Dense(64, activation='relu'),    \n",
    "    layers.Dense(1)\n",
    "])\n",
    "model.compile(\n",
    "    optimizer='adam',\n",
    "    loss='mae',\n",
    ")\n",
    "history = model.fit(\n",
    "    X_train, y_train,\n",
    "    validation_data=(X_valid, y_valid),\n",
    "    batch_size=512,\n",
    "    epochs=50,\n",
    "    callbacks=[early_stopping]\n",
    ")\n",
    "history_df = pd.DataFrame(history.history)\n",
    "history_df.loc[:, ['loss', 'val_loss']].plot()\n",
    "print(\"Minimum Validation Loss: {:0.4f}\".format(history_df['val_loss'].min()));"
   ]
  },
  {
   "cell_type": "markdown",
   "id": "1336ab17",
   "metadata": {
    "papermill": {
     "duration": 0.031084,
     "end_time": "2023-03-23T20:08:21.978833",
     "exception": false,
     "start_time": "2023-03-23T20:08:21.947749",
     "status": "completed"
    },
    "tags": []
   },
   "source": [
    "# 4) Train and Interpret\n",
    "\n",
    "Was this an improvement compared to training without early stopping?"
   ]
  },
  {
   "cell_type": "code",
   "execution_count": 11,
   "id": "64eb5dcb",
   "metadata": {
    "execution": {
     "iopub.execute_input": "2023-03-23T20:08:22.045392Z",
     "iopub.status.busy": "2023-03-23T20:08:22.043822Z",
     "iopub.status.idle": "2023-03-23T20:08:22.055606Z",
     "shell.execute_reply": "2023-03-23T20:08:22.054232Z"
    },
    "papermill": {
     "duration": 0.04853,
     "end_time": "2023-03-23T20:08:22.058627",
     "exception": false,
     "start_time": "2023-03-23T20:08:22.010097",
     "status": "completed"
    },
    "tags": []
   },
   "outputs": [
    {
     "data": {
      "application/javascript": [
       "parent.postMessage({\"jupyterEvent\": \"custom.exercise_interaction\", \"data\": {\"outcomeType\": 1, \"valueTowardsCompletion\": 0.25, \"interactionType\": 1, \"questionType\": 4, \"questionId\": \"4_Q4\", \"learnToolsVersion\": \"0.3.4\", \"failureMessage\": \"\", \"exceptionClass\": \"\", \"trace\": \"\"}}, \"*\")"
      ],
      "text/plain": [
       "<IPython.core.display.Javascript object>"
      ]
     },
     "metadata": {},
     "output_type": "display_data"
    },
    {
     "data": {
      "text/markdown": [
       "<span style=\"color:#33cc33\">Correct:</span> \n",
       "\n",
       "The early stopping callback did stop the training once the network began overfitting. Moreover, by including `restore_best_weights` we still get to keep the model where validation loss was lowest."
      ],
      "text/plain": [
       "Correct: \n",
       "\n",
       "The early stopping callback did stop the training once the network began overfitting. Moreover, by including `restore_best_weights` we still get to keep the model where validation loss was lowest."
      ]
     },
     "metadata": {},
     "output_type": "display_data"
    }
   ],
   "source": [
    "# View the solution (Run this cell to receive credit!)\n",
    "q_4.check()"
   ]
  },
  {
   "cell_type": "markdown",
   "id": "51503fd7",
   "metadata": {
    "papermill": {
     "duration": 0.032272,
     "end_time": "2023-03-23T20:08:22.123025",
     "exception": false,
     "start_time": "2023-03-23T20:08:22.090753",
     "status": "completed"
    },
    "tags": []
   },
   "source": [
    "If you like, try experimenting with `patience` and `min_delta` to see what difference it might make.\n",
    "\n",
    "# Keep Going #\n",
    "\n",
    "Move on to [**learn about a couple of special layers**](https://www.kaggle.com/ryanholbrook/dropout-and-batch-normalization): batch normalization and dropout."
   ]
  },
  {
   "cell_type": "markdown",
   "id": "3feff5de",
   "metadata": {
    "papermill": {
     "duration": 0.031643,
     "end_time": "2023-03-23T20:08:22.188058",
     "exception": false,
     "start_time": "2023-03-23T20:08:22.156415",
     "status": "completed"
    },
    "tags": []
   },
   "source": [
    "---\n",
    "\n",
    "\n",
    "\n",
    "\n",
    "*Have questions or comments? Visit the [course discussion forum](https://www.kaggle.com/learn/intro-to-deep-learning/discussion) to chat with other learners.*"
   ]
  }
 ],
 "metadata": {
  "kernelspec": {
   "display_name": "Python 3",
   "language": "python",
   "name": "python3"
  },
  "language_info": {
   "codemirror_mode": {
    "name": "ipython",
    "version": 3
   },
   "file_extension": ".py",
   "mimetype": "text/x-python",
   "name": "python",
   "nbconvert_exporter": "python",
   "pygments_lexer": "ipython3",
   "version": "3.7.12"
  },
  "papermill": {
   "default_parameters": {},
   "duration": 67.015055,
   "end_time": "2023-03-23T20:08:25.157771",
   "environment_variables": {},
   "exception": null,
   "input_path": "__notebook__.ipynb",
   "output_path": "__notebook__.ipynb",
   "parameters": {},
   "start_time": "2023-03-23T20:07:18.142716",
   "version": "2.4.0"
  }
 },
 "nbformat": 4,
 "nbformat_minor": 5
}
