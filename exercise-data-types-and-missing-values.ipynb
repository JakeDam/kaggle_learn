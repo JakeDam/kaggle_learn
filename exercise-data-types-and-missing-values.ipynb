{
 "cells": [
  {
   "cell_type": "markdown",
   "id": "5a3a9f3b",
   "metadata": {
    "papermill": {
     "duration": 0.005427,
     "end_time": "2022-12-31T20:22:04.119747",
     "exception": false,
     "start_time": "2022-12-31T20:22:04.114320",
     "status": "completed"
    },
    "tags": []
   },
   "source": [
    "**This notebook is an exercise in the [Pandas](https://www.kaggle.com/learn/pandas) course.  You can reference the tutorial at [this link](https://www.kaggle.com/residentmario/data-types-and-missing-values).**\n",
    "\n",
    "---\n"
   ]
  },
  {
   "cell_type": "markdown",
   "id": "1b173f09",
   "metadata": {
    "papermill": {
     "duration": 0.003912,
     "end_time": "2022-12-31T20:22:04.128056",
     "exception": false,
     "start_time": "2022-12-31T20:22:04.124144",
     "status": "completed"
    },
    "tags": []
   },
   "source": [
    "# Introduction\n",
    "\n",
    "Run the following cell to load your data and some utility functions."
   ]
  },
  {
   "cell_type": "code",
   "execution_count": 1,
   "id": "63ff7a3e",
   "metadata": {
    "execution": {
     "iopub.execute_input": "2022-12-31T20:22:04.139118Z",
     "iopub.status.busy": "2022-12-31T20:22:04.138020Z",
     "iopub.status.idle": "2022-12-31T20:22:07.211586Z",
     "shell.execute_reply": "2022-12-31T20:22:07.210265Z"
    },
    "papermill": {
     "duration": 3.082288,
     "end_time": "2022-12-31T20:22:07.214620",
     "exception": false,
     "start_time": "2022-12-31T20:22:04.132332",
     "status": "completed"
    },
    "tags": []
   },
   "outputs": [
    {
     "name": "stdout",
     "output_type": "stream",
     "text": [
      "Setup complete.\n"
     ]
    }
   ],
   "source": [
    "import pandas as pd\n",
    "\n",
    "reviews = pd.read_csv(\"../input/wine-reviews/winemag-data-130k-v2.csv\", index_col=0)\n",
    "\n",
    "from learntools.core import binder; binder.bind(globals())\n",
    "from learntools.pandas.data_types_and_missing_data import *\n",
    "print(\"Setup complete.\")"
   ]
  },
  {
   "cell_type": "markdown",
   "id": "6264dda8",
   "metadata": {
    "papermill": {
     "duration": 0.004203,
     "end_time": "2022-12-31T20:22:07.223758",
     "exception": false,
     "start_time": "2022-12-31T20:22:07.219555",
     "status": "completed"
    },
    "tags": []
   },
   "source": [
    "# Exercises"
   ]
  },
  {
   "cell_type": "markdown",
   "id": "5f08d175",
   "metadata": {
    "papermill": {
     "duration": 0.004147,
     "end_time": "2022-12-31T20:22:07.232511",
     "exception": false,
     "start_time": "2022-12-31T20:22:07.228364",
     "status": "completed"
    },
    "tags": []
   },
   "source": [
    "## 1. \n",
    "What is the data type of the `points` column in the dataset?"
   ]
  },
  {
   "cell_type": "code",
   "execution_count": 2,
   "id": "7b87518c",
   "metadata": {
    "execution": {
     "iopub.execute_input": "2022-12-31T20:22:07.243233Z",
     "iopub.status.busy": "2022-12-31T20:22:07.242782Z",
     "iopub.status.idle": "2022-12-31T20:22:07.260769Z",
     "shell.execute_reply": "2022-12-31T20:22:07.258633Z"
    },
    "papermill": {
     "duration": 0.027158,
     "end_time": "2022-12-31T20:22:07.264093",
     "exception": false,
     "start_time": "2022-12-31T20:22:07.236935",
     "status": "completed"
    },
    "tags": []
   },
   "outputs": [
    {
     "name": "stdout",
     "output_type": "stream",
     "text": [
      "int64\n"
     ]
    },
    {
     "data": {
      "application/javascript": [
       "parent.postMessage({\"jupyterEvent\": \"custom.exercise_interaction\", \"data\": {\"outcomeType\": 1, \"valueTowardsCompletion\": 0.25, \"interactionType\": 1, \"questionType\": 1, \"questionId\": \"1_PointsDtype\", \"learnToolsVersion\": \"0.3.4\", \"failureMessage\": \"\", \"exceptionClass\": \"\", \"trace\": \"\"}}, \"*\")"
      ],
      "text/plain": [
       "<IPython.core.display.Javascript object>"
      ]
     },
     "metadata": {},
     "output_type": "display_data"
    },
    {
     "data": {
      "text/markdown": [
       "<span style=\"color:#33cc33\">Correct</span>"
      ],
      "text/plain": [
       "Correct"
      ]
     },
     "metadata": {},
     "output_type": "display_data"
    }
   ],
   "source": [
    "# Your code here\n",
    "dtype = reviews.points.dtype\n",
    "print(dtype)\n",
    "\n",
    "# Check your answer\n",
    "q1.check()"
   ]
  },
  {
   "cell_type": "code",
   "execution_count": 3,
   "id": "3011bcb4",
   "metadata": {
    "execution": {
     "iopub.execute_input": "2022-12-31T20:22:07.276490Z",
     "iopub.status.busy": "2022-12-31T20:22:07.275755Z",
     "iopub.status.idle": "2022-12-31T20:22:07.282998Z",
     "shell.execute_reply": "2022-12-31T20:22:07.281611Z"
    },
    "papermill": {
     "duration": 0.016794,
     "end_time": "2022-12-31T20:22:07.286005",
     "exception": false,
     "start_time": "2022-12-31T20:22:07.269211",
     "status": "completed"
    },
    "tags": []
   },
   "outputs": [],
   "source": [
    "#q1.hint()\n",
    "#q1.solution()"
   ]
  },
  {
   "cell_type": "markdown",
   "id": "d58fa044",
   "metadata": {
    "papermill": {
     "duration": 0.004626,
     "end_time": "2022-12-31T20:22:07.296024",
     "exception": false,
     "start_time": "2022-12-31T20:22:07.291398",
     "status": "completed"
    },
    "tags": []
   },
   "source": [
    "## 2. \n",
    "Create a Series from entries in the `points` column, but convert the entries to strings. Hint: strings are `str` in native Python."
   ]
  },
  {
   "cell_type": "code",
   "execution_count": 4,
   "id": "24611152",
   "metadata": {
    "execution": {
     "iopub.execute_input": "2022-12-31T20:22:07.308462Z",
     "iopub.status.busy": "2022-12-31T20:22:07.307592Z",
     "iopub.status.idle": "2022-12-31T20:22:07.399396Z",
     "shell.execute_reply": "2022-12-31T20:22:07.396975Z"
    },
    "papermill": {
     "duration": 0.100701,
     "end_time": "2022-12-31T20:22:07.402067",
     "exception": false,
     "start_time": "2022-12-31T20:22:07.301366",
     "status": "completed"
    },
    "tags": []
   },
   "outputs": [
    {
     "name": "stdout",
     "output_type": "stream",
     "text": [
      "0         87\n",
      "1         87\n",
      "2         87\n",
      "3         87\n",
      "4         87\n",
      "          ..\n",
      "129966    90\n",
      "129967    90\n",
      "129968    90\n",
      "129969    90\n",
      "129970    90\n",
      "Name: points, Length: 129971, dtype: object\n"
     ]
    },
    {
     "data": {
      "application/javascript": [
       "parent.postMessage({\"jupyterEvent\": \"custom.exercise_interaction\", \"data\": {\"outcomeType\": 1, \"valueTowardsCompletion\": 0.25, \"interactionType\": 1, \"questionType\": 1, \"questionId\": \"2_StrPoints\", \"learnToolsVersion\": \"0.3.4\", \"failureMessage\": \"\", \"exceptionClass\": \"\", \"trace\": \"\"}}, \"*\")"
      ],
      "text/plain": [
       "<IPython.core.display.Javascript object>"
      ]
     },
     "metadata": {},
     "output_type": "display_data"
    },
    {
     "data": {
      "text/markdown": [
       "<span style=\"color:#33cc33\">Correct</span>"
      ],
      "text/plain": [
       "Correct"
      ]
     },
     "metadata": {},
     "output_type": "display_data"
    }
   ],
   "source": [
    "point_strings = reviews.points.astype('str')\n",
    "print(point_strings)\n",
    "\n",
    "# Check your answer\n",
    "q2.check()"
   ]
  },
  {
   "cell_type": "code",
   "execution_count": 5,
   "id": "8f490e9c",
   "metadata": {
    "execution": {
     "iopub.execute_input": "2022-12-31T20:22:07.415815Z",
     "iopub.status.busy": "2022-12-31T20:22:07.415326Z",
     "iopub.status.idle": "2022-12-31T20:22:07.420890Z",
     "shell.execute_reply": "2022-12-31T20:22:07.419590Z"
    },
    "papermill": {
     "duration": 0.016027,
     "end_time": "2022-12-31T20:22:07.423582",
     "exception": false,
     "start_time": "2022-12-31T20:22:07.407555",
     "status": "completed"
    },
    "tags": []
   },
   "outputs": [],
   "source": [
    "#q2.hint()\n",
    "#q2.solution()"
   ]
  },
  {
   "cell_type": "markdown",
   "id": "3eede941",
   "metadata": {
    "papermill": {
     "duration": 0.005186,
     "end_time": "2022-12-31T20:22:07.434539",
     "exception": false,
     "start_time": "2022-12-31T20:22:07.429353",
     "status": "completed"
    },
    "tags": []
   },
   "source": [
    "## 3.\n",
    "Sometimes the price column is null. How many reviews in the dataset are missing a price?"
   ]
  },
  {
   "cell_type": "code",
   "execution_count": 6,
   "id": "23d16720",
   "metadata": {
    "execution": {
     "iopub.execute_input": "2022-12-31T20:22:07.447208Z",
     "iopub.status.busy": "2022-12-31T20:22:07.446318Z",
     "iopub.status.idle": "2022-12-31T20:22:07.459303Z",
     "shell.execute_reply": "2022-12-31T20:22:07.457873Z"
    },
    "papermill": {
     "duration": 0.021927,
     "end_time": "2022-12-31T20:22:07.461821",
     "exception": false,
     "start_time": "2022-12-31T20:22:07.439894",
     "status": "completed"
    },
    "tags": []
   },
   "outputs": [
    {
     "name": "stdout",
     "output_type": "stream",
     "text": [
      "8996\n"
     ]
    },
    {
     "data": {
      "application/javascript": [
       "parent.postMessage({\"jupyterEvent\": \"custom.exercise_interaction\", \"data\": {\"outcomeType\": 1, \"valueTowardsCompletion\": 0.25, \"interactionType\": 1, \"questionType\": 1, \"questionId\": \"3_CountMissingPrices\", \"learnToolsVersion\": \"0.3.4\", \"failureMessage\": \"\", \"exceptionClass\": \"\", \"trace\": \"\"}}, \"*\")"
      ],
      "text/plain": [
       "<IPython.core.display.Javascript object>"
      ]
     },
     "metadata": {},
     "output_type": "display_data"
    },
    {
     "data": {
      "text/markdown": [
       "<span style=\"color:#33cc33\">Correct</span>"
      ],
      "text/plain": [
       "Correct"
      ]
     },
     "metadata": {},
     "output_type": "display_data"
    }
   ],
   "source": [
    "n_missing_prices = reviews.price.isna().sum()\n",
    "print(n_missing_prices)\n",
    "\n",
    "# Check your answer\n",
    "q3.check()"
   ]
  },
  {
   "cell_type": "code",
   "execution_count": 7,
   "id": "a59b8cbb",
   "metadata": {
    "execution": {
     "iopub.execute_input": "2022-12-31T20:22:07.476040Z",
     "iopub.status.busy": "2022-12-31T20:22:07.474970Z",
     "iopub.status.idle": "2022-12-31T20:22:07.479628Z",
     "shell.execute_reply": "2022-12-31T20:22:07.478496Z"
    },
    "papermill": {
     "duration": 0.013999,
     "end_time": "2022-12-31T20:22:07.481905",
     "exception": false,
     "start_time": "2022-12-31T20:22:07.467906",
     "status": "completed"
    },
    "tags": []
   },
   "outputs": [],
   "source": [
    "#q3.hint()\n",
    "#q3.solution()"
   ]
  },
  {
   "cell_type": "markdown",
   "id": "36c79213",
   "metadata": {
    "papermill": {
     "duration": 0.005139,
     "end_time": "2022-12-31T20:22:07.492665",
     "exception": false,
     "start_time": "2022-12-31T20:22:07.487526",
     "status": "completed"
    },
    "tags": []
   },
   "source": [
    "## 4.\n",
    "What are the most common wine-producing regions? Create a Series counting the number of times each value occurs in the `region_1` field. This field is often missing data, so replace missing values with `Unknown`. Sort in descending order.  Your output should look something like this:\n",
    "\n",
    "```\n",
    "Unknown                    21247\n",
    "Napa Valley                 4480\n",
    "                           ...  \n",
    "Bardolino Superiore            1\n",
    "Primitivo del Tarantino        1\n",
    "Name: region_1, Length: 1230, dtype: int64\n",
    "```"
   ]
  },
  {
   "cell_type": "code",
   "execution_count": 8,
   "id": "ebe63e8f",
   "metadata": {
    "execution": {
     "iopub.execute_input": "2022-12-31T20:22:07.507442Z",
     "iopub.status.busy": "2022-12-31T20:22:07.506551Z",
     "iopub.status.idle": "2022-12-31T20:22:07.556347Z",
     "shell.execute_reply": "2022-12-31T20:22:07.554686Z"
    },
    "papermill": {
     "duration": 0.060935,
     "end_time": "2022-12-31T20:22:07.559037",
     "exception": false,
     "start_time": "2022-12-31T20:22:07.498102",
     "status": "completed"
    },
    "tags": []
   },
   "outputs": [
    {
     "name": "stdout",
     "output_type": "stream",
     "text": [
      "Unknown                 21247\n",
      "Napa Valley              4480\n",
      "Columbia Valley (WA)     4124\n",
      "Russian River Valley     3091\n",
      "California               2629\n",
      "                        ...  \n",
      "Offida Rosso                1\n",
      "Corton Perrières            1\n",
      "Isle St. George             1\n",
      "Geelong                     1\n",
      "Paestum                     1\n",
      "Name: region_1, Length: 1230, dtype: int64\n"
     ]
    },
    {
     "data": {
      "application/javascript": [
       "parent.postMessage({\"jupyterEvent\": \"custom.exercise_interaction\", \"data\": {\"outcomeType\": 1, \"valueTowardsCompletion\": 0.25, \"interactionType\": 1, \"questionType\": 2, \"questionId\": \"4_ReviewsPerRegion\", \"learnToolsVersion\": \"0.3.4\", \"failureMessage\": \"\", \"exceptionClass\": \"\", \"trace\": \"\"}}, \"*\")"
      ],
      "text/plain": [
       "<IPython.core.display.Javascript object>"
      ]
     },
     "metadata": {},
     "output_type": "display_data"
    },
    {
     "data": {
      "text/markdown": [
       "<span style=\"color:#33cc33\">Correct</span>"
      ],
      "text/plain": [
       "Correct"
      ]
     },
     "metadata": {},
     "output_type": "display_data"
    }
   ],
   "source": [
    "reviews_per_region = reviews.region_1.fillna('Unknown').value_counts().sort_values(ascending=False)\n",
    "print(reviews_per_region)\n",
    "\n",
    "# Check your answer\n",
    "q4.check()"
   ]
  },
  {
   "cell_type": "code",
   "execution_count": 9,
   "id": "63e32292",
   "metadata": {
    "execution": {
     "iopub.execute_input": "2022-12-31T20:22:07.574559Z",
     "iopub.status.busy": "2022-12-31T20:22:07.573151Z",
     "iopub.status.idle": "2022-12-31T20:22:07.578474Z",
     "shell.execute_reply": "2022-12-31T20:22:07.577382Z"
    },
    "papermill": {
     "duration": 0.015548,
     "end_time": "2022-12-31T20:22:07.581085",
     "exception": false,
     "start_time": "2022-12-31T20:22:07.565537",
     "status": "completed"
    },
    "tags": []
   },
   "outputs": [],
   "source": [
    "#q4.hint()\n",
    "#q4.solution()"
   ]
  },
  {
   "cell_type": "markdown",
   "id": "7c58163b",
   "metadata": {
    "papermill": {
     "duration": 0.006127,
     "end_time": "2022-12-31T20:22:07.593865",
     "exception": false,
     "start_time": "2022-12-31T20:22:07.587738",
     "status": "completed"
    },
    "tags": []
   },
   "source": [
    "# Keep going\n",
    "\n",
    "Move on to **[renaming and combining](https://www.kaggle.com/residentmario/renaming-and-combining)**."
   ]
  },
  {
   "cell_type": "markdown",
   "id": "3f8e8ab5",
   "metadata": {
    "papermill": {
     "duration": 0.005589,
     "end_time": "2022-12-31T20:22:07.605376",
     "exception": false,
     "start_time": "2022-12-31T20:22:07.599787",
     "status": "completed"
    },
    "tags": []
   },
   "source": [
    "---\n",
    "\n",
    "\n",
    "\n",
    "\n",
    "*Have questions or comments? Visit the [course discussion forum](https://www.kaggle.com/learn/pandas/discussion) to chat with other learners.*"
   ]
  }
 ],
 "metadata": {
  "kernelspec": {
   "display_name": "Python 3",
   "language": "python",
   "name": "python3"
  },
  "language_info": {
   "codemirror_mode": {
    "name": "ipython",
    "version": 3
   },
   "file_extension": ".py",
   "mimetype": "text/x-python",
   "name": "python",
   "nbconvert_exporter": "python",
   "pygments_lexer": "ipython3",
   "version": "3.7.12"
  },
  "papermill": {
   "default_parameters": {},
   "duration": 12.879484,
   "end_time": "2022-12-31T20:22:08.334105",
   "environment_variables": {},
   "exception": null,
   "input_path": "__notebook__.ipynb",
   "output_path": "__notebook__.ipynb",
   "parameters": {},
   "start_time": "2022-12-31T20:21:55.454621",
   "version": "2.3.4"
  }
 },
 "nbformat": 4,
 "nbformat_minor": 5
}
