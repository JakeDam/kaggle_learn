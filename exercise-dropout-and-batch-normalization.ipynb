{
 "cells": [
  {
   "cell_type": "markdown",
   "id": "fe41c03a",
   "metadata": {
    "papermill": {
     "duration": 0.007019,
     "end_time": "2023-03-24T12:52:48.803153",
     "exception": false,
     "start_time": "2023-03-24T12:52:48.796134",
     "status": "completed"
    },
    "tags": []
   },
   "source": [
    "**This notebook is an exercise in the [Intro to Deep Learning](https://www.kaggle.com/learn/intro-to-deep-learning) course.  You can reference the tutorial at [this link](https://www.kaggle.com/ryanholbrook/dropout-and-batch-normalization).**\n",
    "\n",
    "---\n"
   ]
  },
  {
   "cell_type": "markdown",
   "id": "94d0422f",
   "metadata": {
    "papermill": {
     "duration": 0.005435,
     "end_time": "2023-03-24T12:52:48.814564",
     "exception": false,
     "start_time": "2023-03-24T12:52:48.809129",
     "status": "completed"
    },
    "tags": []
   },
   "source": [
    "# Introduction #\n",
    "\n",
    "In this exercise, you'll add dropout to the *Spotify* model from Exercise 4 and see how batch normalization can let you successfully train models on difficult datasets.\n",
    "\n",
    "Run the next cell to get started!"
   ]
  },
  {
   "cell_type": "code",
   "execution_count": 1,
   "id": "eec92de2",
   "metadata": {
    "execution": {
     "iopub.execute_input": "2023-03-24T12:52:48.828675Z",
     "iopub.status.busy": "2023-03-24T12:52:48.827896Z",
     "iopub.status.idle": "2023-03-24T12:52:48.876257Z",
     "shell.execute_reply": "2023-03-24T12:52:48.875274Z"
    },
    "papermill": {
     "duration": 0.058895,
     "end_time": "2023-03-24T12:52:48.879257",
     "exception": false,
     "start_time": "2023-03-24T12:52:48.820362",
     "status": "completed"
    },
    "tags": []
   },
   "outputs": [],
   "source": [
    "# Setup plotting\n",
    "import matplotlib.pyplot as plt\n",
    "plt.style.use('seaborn-whitegrid')\n",
    "# Set Matplotlib defaults\n",
    "plt.rc('figure', autolayout=True)\n",
    "plt.rc('axes', labelweight='bold', labelsize='large',\n",
    "       titleweight='bold', titlesize=18, titlepad=10)\n",
    "plt.rc('animation', html='html5')\n",
    "\n",
    "# Setup feedback system\n",
    "from learntools.core import binder\n",
    "binder.bind(globals())\n",
    "from learntools.deep_learning_intro.ex5 import *"
   ]
  },
  {
   "cell_type": "markdown",
   "id": "ac933300",
   "metadata": {
    "papermill": {
     "duration": 0.005407,
     "end_time": "2023-03-24T12:52:48.890486",
     "exception": false,
     "start_time": "2023-03-24T12:52:48.885079",
     "status": "completed"
    },
    "tags": []
   },
   "source": [
    "First load the *Spotify* dataset."
   ]
  },
  {
   "cell_type": "code",
   "execution_count": 2,
   "id": "f97ab971",
   "metadata": {
    "execution": {
     "iopub.execute_input": "2023-03-24T12:52:48.904234Z",
     "iopub.status.busy": "2023-03-24T12:52:48.903732Z",
     "iopub.status.idle": "2023-03-24T12:53:00.179629Z",
     "shell.execute_reply": "2023-03-24T12:53:00.178172Z"
    },
    "papermill": {
     "duration": 11.286968,
     "end_time": "2023-03-24T12:53:00.183098",
     "exception": false,
     "start_time": "2023-03-24T12:52:48.896130",
     "status": "completed"
    },
    "tags": []
   },
   "outputs": [
    {
     "name": "stdout",
     "output_type": "stream",
     "text": [
      "Input shape: [18]\n"
     ]
    }
   ],
   "source": [
    "import pandas as pd\n",
    "from sklearn.preprocessing import StandardScaler, OneHotEncoder\n",
    "from sklearn.compose import make_column_transformer\n",
    "from sklearn.model_selection import GroupShuffleSplit\n",
    "\n",
    "from tensorflow import keras\n",
    "from tensorflow.keras import layers\n",
    "from tensorflow.keras import callbacks\n",
    "\n",
    "spotify = pd.read_csv('../input/dl-course-data/spotify.csv')\n",
    "\n",
    "X = spotify.copy().dropna()\n",
    "y = X.pop('track_popularity')\n",
    "artists = X['track_artist']\n",
    "\n",
    "features_num = ['danceability', 'energy', 'key', 'loudness', 'mode',\n",
    "                'speechiness', 'acousticness', 'instrumentalness',\n",
    "                'liveness', 'valence', 'tempo', 'duration_ms']\n",
    "features_cat = ['playlist_genre']\n",
    "\n",
    "preprocessor = make_column_transformer(\n",
    "    (StandardScaler(), features_num),\n",
    "    (OneHotEncoder(), features_cat),\n",
    ")\n",
    "\n",
    "def group_split(X, y, group, train_size=0.75):\n",
    "    splitter = GroupShuffleSplit(train_size=train_size)\n",
    "    train, test = next(splitter.split(X, y, groups=group))\n",
    "    return (X.iloc[train], X.iloc[test], y.iloc[train], y.iloc[test])\n",
    "\n",
    "X_train, X_valid, y_train, y_valid = group_split(X, y, artists)\n",
    "\n",
    "X_train = preprocessor.fit_transform(X_train)\n",
    "X_valid = preprocessor.transform(X_valid)\n",
    "y_train = y_train / 100\n",
    "y_valid = y_valid / 100\n",
    "\n",
    "input_shape = [X_train.shape[1]]\n",
    "print(\"Input shape: {}\".format(input_shape))"
   ]
  },
  {
   "cell_type": "markdown",
   "id": "f7fe8e51",
   "metadata": {
    "papermill": {
     "duration": 0.005453,
     "end_time": "2023-03-24T12:53:00.194687",
     "exception": false,
     "start_time": "2023-03-24T12:53:00.189234",
     "status": "completed"
    },
    "tags": []
   },
   "source": [
    "# 1) Add Dropout to Spotify Model\n",
    "\n",
    "Here is the last model from Exercise 4. Add two dropout layers, one after the `Dense` layer with 128 units, and one after the `Dense` layer with 64 units. Set the dropout rate on both to `0.3`."
   ]
  },
  {
   "cell_type": "code",
   "execution_count": 3,
   "id": "fcf0d4eb",
   "metadata": {
    "execution": {
     "iopub.execute_input": "2023-03-24T12:53:00.208374Z",
     "iopub.status.busy": "2023-03-24T12:53:00.207930Z",
     "iopub.status.idle": "2023-03-24T12:53:00.454294Z",
     "shell.execute_reply": "2023-03-24T12:53:00.452801Z"
    },
    "lines_to_next_cell": 2,
    "papermill": {
     "duration": 0.256772,
     "end_time": "2023-03-24T12:53:00.457237",
     "exception": false,
     "start_time": "2023-03-24T12:53:00.200465",
     "status": "completed"
    },
    "tags": []
   },
   "outputs": [
    {
     "data": {
      "application/javascript": [
       "parent.postMessage({\"jupyterEvent\": \"custom.exercise_interaction\", \"data\": {\"outcomeType\": 1, \"valueTowardsCompletion\": 0.25, \"interactionType\": 1, \"questionType\": 2, \"questionId\": \"1_Q1\", \"learnToolsVersion\": \"0.3.4\", \"failureMessage\": \"\", \"exceptionClass\": \"\", \"trace\": \"\"}}, \"*\")"
      ],
      "text/plain": [
       "<IPython.core.display.Javascript object>"
      ]
     },
     "metadata": {},
     "output_type": "display_data"
    },
    {
     "data": {
      "text/markdown": [
       "<span style=\"color:#33cc33\">Correct</span>"
      ],
      "text/plain": [
       "Correct"
      ]
     },
     "metadata": {},
     "output_type": "display_data"
    }
   ],
   "source": [
    "# YOUR CODE HERE: Add two 30% dropout layers, one after 128 and one after 64\n",
    "model = keras.Sequential([\n",
    "    layers.Dense(128, activation='relu', input_shape=input_shape),\n",
    "    layers.Dropout(rate=0.3),\n",
    "    layers.Dense(64, activation='relu'),\n",
    "    layers.Dropout(rate=0.3),\n",
    "    layers.Dense(1)\n",
    "])\n",
    "\n",
    "# Check your answer\n",
    "q_1.check()"
   ]
  },
  {
   "cell_type": "code",
   "execution_count": 4,
   "id": "47fb1c50",
   "metadata": {
    "execution": {
     "iopub.execute_input": "2023-03-24T12:53:00.472098Z",
     "iopub.status.busy": "2023-03-24T12:53:00.471151Z",
     "iopub.status.idle": "2023-03-24T12:53:00.475849Z",
     "shell.execute_reply": "2023-03-24T12:53:00.474838Z"
    },
    "papermill": {
     "duration": 0.015081,
     "end_time": "2023-03-24T12:53:00.478489",
     "exception": false,
     "start_time": "2023-03-24T12:53:00.463408",
     "status": "completed"
    },
    "tags": []
   },
   "outputs": [],
   "source": [
    "# Lines below will give you a hint or solution code\n",
    "#q_1.hint()\n",
    "#q_1.solution()"
   ]
  },
  {
   "cell_type": "markdown",
   "id": "82f51e50",
   "metadata": {
    "papermill": {
     "duration": 0.006051,
     "end_time": "2023-03-24T12:53:00.491644",
     "exception": false,
     "start_time": "2023-03-24T12:53:00.485593",
     "status": "completed"
    },
    "tags": []
   },
   "source": [
    "Now run this next cell to train the model see the effect of adding dropout."
   ]
  },
  {
   "cell_type": "code",
   "execution_count": 5,
   "id": "8ad38480",
   "metadata": {
    "execution": {
     "iopub.execute_input": "2023-03-24T12:53:00.507014Z",
     "iopub.status.busy": "2023-03-24T12:53:00.505906Z",
     "iopub.status.idle": "2023-03-24T12:53:19.146581Z",
     "shell.execute_reply": "2023-03-24T12:53:19.145285Z"
    },
    "papermill": {
     "duration": 18.65182,
     "end_time": "2023-03-24T12:53:19.149789",
     "exception": false,
     "start_time": "2023-03-24T12:53:00.497969",
     "status": "completed"
    },
    "tags": []
   },
   "outputs": [
    {
     "name": "stdout",
     "output_type": "stream",
     "text": [
      "Minimum Validation Loss: 0.1865\n"
     ]
    },
    {
     "data": {
      "image/png": "[encoded data removed]",
      "text/plain": [
       "<Figure size 640x480 with 1 Axes>"
      ]
     },
     "metadata": {},
     "output_type": "display_data"
    }
   ],
   "source": [
    "model.compile(\n",
    "    optimizer='adam',\n",
    "    loss='mae',\n",
    ")\n",
    "history = model.fit(\n",
    "    X_train, y_train,\n",
    "    validation_data=(X_valid, y_valid),\n",
    "    batch_size=512,\n",
    "    epochs=50,\n",
    "    verbose=0,\n",
    ")\n",
    "history_df = pd.DataFrame(history.history)\n",
    "history_df.loc[:, ['loss', 'val_loss']].plot()\n",
    "print(\"Minimum Validation Loss: {:0.4f}\".format(history_df['val_loss'].min()))"
   ]
  },
  {
   "cell_type": "markdown",
   "id": "113942ad",
   "metadata": {
    "papermill": {
     "duration": 0.008028,
     "end_time": "2023-03-24T12:53:19.164828",
     "exception": false,
     "start_time": "2023-03-24T12:53:19.156800",
     "status": "completed"
    },
    "tags": []
   },
   "source": [
    "# 2) Evaluate Dropout\n",
    "\n",
    "Recall from Exercise 4 that this model tended to overfit the data around epoch 5. Did adding dropout seem to help prevent overfitting this time?"
   ]
  },
  {
   "cell_type": "code",
   "execution_count": 6,
   "id": "2e56d7b2",
   "metadata": {
    "execution": {
     "iopub.execute_input": "2023-03-24T12:53:19.180437Z",
     "iopub.status.busy": "2023-03-24T12:53:19.179983Z",
     "iopub.status.idle": "2023-03-24T12:53:19.189788Z",
     "shell.execute_reply": "2023-03-24T12:53:19.188476Z"
    },
    "papermill": {
     "duration": 0.020752,
     "end_time": "2023-03-24T12:53:19.192407",
     "exception": false,
     "start_time": "2023-03-24T12:53:19.171655",
     "status": "completed"
    },
    "tags": []
   },
   "outputs": [
    {
     "data": {
      "application/javascript": [
       "parent.postMessage({\"jupyterEvent\": \"custom.exercise_interaction\", \"data\": {\"outcomeType\": 1, \"valueTowardsCompletion\": 0.25, \"interactionType\": 1, \"questionType\": 4, \"questionId\": \"2_Q2\", \"learnToolsVersion\": \"0.3.4\", \"failureMessage\": \"\", \"exceptionClass\": \"\", \"trace\": \"\"}}, \"*\")"
      ],
      "text/plain": [
       "<IPython.core.display.Javascript object>"
      ]
     },
     "metadata": {},
     "output_type": "display_data"
    },
    {
     "data": {
      "text/markdown": [
       "<span style=\"color:#33cc33\">Correct:</span> \n",
       "\n",
       "\n",
       "From the learning curves, you can see that the validation loss remains near a constant minimum even though the training loss continues to decrease. So we can see that adding dropout did prevent overfitting this time. Moreover, by making it harder for the network to fit spurious patterns, dropout may have encouraged the network to seek out more of the true patterns, possibly improving the validation loss some as well).\n"
      ],
      "text/plain": [
       "Correct: \n",
       "\n",
       "\n",
       "From the learning curves, you can see that the validation loss remains near a constant minimum even though the training loss continues to decrease. So we can see that adding dropout did prevent overfitting this time. Moreover, by making it harder for the network to fit spurious patterns, dropout may have encouraged the network to seek out more of the true patterns, possibly improving the validation loss some as well)."
      ]
     },
     "metadata": {},
     "output_type": "display_data"
    }
   ],
   "source": [
    "# View the solution (Run this cell to receive credit!)\n",
    "q_2.check()"
   ]
  },
  {
   "cell_type": "markdown",
   "id": "ea3ef4a3",
   "metadata": {
    "papermill": {
     "duration": 0.006585,
     "end_time": "2023-03-24T12:53:19.205906",
     "exception": false,
     "start_time": "2023-03-24T12:53:19.199321",
     "status": "completed"
    },
    "tags": []
   },
   "source": [
    "Now, we'll switch topics to explore how batch normalization can fix problems in training.\n",
    "\n",
    "Load the *Concrete* dataset. We won't do any standardization this time. This will make the effect of batch normalization much more apparent."
   ]
  },
  {
   "cell_type": "code",
   "execution_count": 7,
   "id": "2f762d8e",
   "metadata": {
    "execution": {
     "iopub.execute_input": "2023-03-24T12:53:19.221595Z",
     "iopub.status.busy": "2023-03-24T12:53:19.221183Z",
     "iopub.status.idle": "2023-03-24T12:53:19.241013Z",
     "shell.execute_reply": "2023-03-24T12:53:19.239794Z"
    },
    "papermill": {
     "duration": 0.030822,
     "end_time": "2023-03-24T12:53:19.243688",
     "exception": false,
     "start_time": "2023-03-24T12:53:19.212866",
     "status": "completed"
    },
    "tags": []
   },
   "outputs": [],
   "source": [
    "import pandas as pd\n",
    "\n",
    "concrete = pd.read_csv('../input/dl-course-data/concrete.csv')\n",
    "df = concrete.copy()\n",
    "\n",
    "df_train = df.sample(frac=0.7, random_state=0)\n",
    "df_valid = df.drop(df_train.index)\n",
    "\n",
    "X_train = df_train.drop('CompressiveStrength', axis=1)\n",
    "X_valid = df_valid.drop('CompressiveStrength', axis=1)\n",
    "y_train = df_train['CompressiveStrength']\n",
    "y_valid = df_valid['CompressiveStrength']\n",
    "\n",
    "input_shape = [X_train.shape[1]]"
   ]
  },
  {
   "cell_type": "markdown",
   "id": "6f3f7c55",
   "metadata": {
    "papermill": {
     "duration": 0.00672,
     "end_time": "2023-03-24T12:53:19.257511",
     "exception": false,
     "start_time": "2023-03-24T12:53:19.250791",
     "status": "completed"
    },
    "tags": []
   },
   "source": [
    "Run the following cell to train the network on the unstandardized *Concrete* data."
   ]
  },
  {
   "cell_type": "code",
   "execution_count": 8,
   "id": "289be8da",
   "metadata": {
    "execution": {
     "iopub.execute_input": "2023-03-24T12:53:19.275098Z",
     "iopub.status.busy": "2023-03-24T12:53:19.273958Z",
     "iopub.status.idle": "2023-03-24T12:53:32.862953Z",
     "shell.execute_reply": "2023-03-24T12:53:32.861417Z"
    },
    "papermill": {
     "duration": 13.601447,
     "end_time": "2023-03-24T12:53:32.866025",
     "exception": false,
     "start_time": "2023-03-24T12:53:19.264578",
     "status": "completed"
    },
    "tags": []
   },
   "outputs": [
    {
     "name": "stdout",
     "output_type": "stream",
     "text": [
      "Minimum Validation Loss: nan\n"
     ]
    },
    {
     "data": {
      "image/png": "[encoded data removed]",
      "text/plain": [
       "<Figure size 640x480 with 1 Axes>"
      ]
     },
     "metadata": {},
     "output_type": "display_data"
    }
   ],
   "source": [
    "model = keras.Sequential([\n",
    "    layers.Dense(512, activation='relu', input_shape=input_shape),\n",
    "    layers.Dense(512, activation='relu'),    \n",
    "    layers.Dense(512, activation='relu'),\n",
    "    layers.Dense(1),\n",
    "])\n",
    "model.compile(\n",
    "    optimizer='sgd', # SGD is more sensitive to differences of scale\n",
    "    loss='mae',\n",
    "    metrics=['mae'],\n",
    ")\n",
    "history = model.fit(\n",
    "    X_train, y_train,\n",
    "    validation_data=(X_valid, y_valid),\n",
    "    batch_size=64,\n",
    "    epochs=100,\n",
    "    verbose=0,\n",
    ")\n",
    "\n",
    "history_df = pd.DataFrame(history.history)\n",
    "history_df.loc[0:, ['loss', 'val_loss']].plot()\n",
    "print((\"Minimum Validation Loss: {:0.4f}\").format(history_df['val_loss'].min()))"
   ]
  },
  {
   "cell_type": "markdown",
   "id": "3fa2efc1",
   "metadata": {
    "papermill": {
     "duration": 0.007405,
     "end_time": "2023-03-24T12:53:32.880943",
     "exception": false,
     "start_time": "2023-03-24T12:53:32.873538",
     "status": "completed"
    },
    "tags": []
   },
   "source": [
    "Did you end up with a blank graph? Trying to train this network on this dataset will usually fail. Even when it does converge (due to a lucky weight initialization), it tends to converge to a very large number.\n",
    "\n",
    "# 3) Add Batch Normalization Layers\n",
    "\n",
    "Batch normalization can help correct problems like this.\n",
    "\n",
    "Add four `BatchNormalization` layers, one before each of the dense layers. (Remember to move the `input_shape` argument to the new first layer.)"
   ]
  },
  {
   "cell_type": "code",
   "execution_count": 9,
   "id": "aab17c68",
   "metadata": {
    "execution": {
     "iopub.execute_input": "2023-03-24T12:53:32.897808Z",
     "iopub.status.busy": "2023-03-24T12:53:32.897319Z",
     "iopub.status.idle": "2023-03-24T12:53:33.049093Z",
     "shell.execute_reply": "2023-03-24T12:53:33.047942Z"
    },
    "lines_to_next_cell": 0,
    "papermill": {
     "duration": 0.163312,
     "end_time": "2023-03-24T12:53:33.051639",
     "exception": false,
     "start_time": "2023-03-24T12:53:32.888327",
     "status": "completed"
    },
    "tags": []
   },
   "outputs": [
    {
     "data": {
      "application/javascript": [
       "parent.postMessage({\"jupyterEvent\": \"custom.exercise_interaction\", \"data\": {\"outcomeType\": 1, \"valueTowardsCompletion\": 0.25, \"interactionType\": 1, \"questionType\": 2, \"questionId\": \"3_Q3\", \"learnToolsVersion\": \"0.3.4\", \"failureMessage\": \"\", \"exceptionClass\": \"\", \"trace\": \"\"}}, \"*\")"
      ],
      "text/plain": [
       "<IPython.core.display.Javascript object>"
      ]
     },
     "metadata": {},
     "output_type": "display_data"
    },
    {
     "data": {
      "text/markdown": [
       "<span style=\"color:#33cc33\">Correct</span>"
      ],
      "text/plain": [
       "Correct"
      ]
     },
     "metadata": {},
     "output_type": "display_data"
    }
   ],
   "source": [
    "# YOUR CODE HERE: Add a BatchNormalization layer before each Dense layer\n",
    "model = keras.Sequential([\n",
    "    layers.BatchNormalization(input_shape=input_shape),\n",
    "    layers.Dense(512, activation='relu'),\n",
    "    layers.BatchNormalization(),\n",
    "    layers.Dense(512, activation='relu'),\n",
    "    layers.BatchNormalization(),\n",
    "    layers.Dense(512, activation='relu'),\n",
    "    layers.BatchNormalization(),\n",
    "    layers.Dense(1),\n",
    "])\n",
    "\n",
    "# Check your answer\n",
    "q_3.check()"
   ]
  },
  {
   "cell_type": "code",
   "execution_count": 10,
   "id": "7be2d762",
   "metadata": {
    "execution": {
     "iopub.execute_input": "2023-03-24T12:53:33.069295Z",
     "iopub.status.busy": "2023-03-24T12:53:33.068862Z",
     "iopub.status.idle": "2023-03-24T12:53:33.074227Z",
     "shell.execute_reply": "2023-03-24T12:53:33.072794Z"
    },
    "papermill": {
     "duration": 0.017475,
     "end_time": "2023-03-24T12:53:33.076924",
     "exception": false,
     "start_time": "2023-03-24T12:53:33.059449",
     "status": "completed"
    },
    "tags": []
   },
   "outputs": [],
   "source": [
    "# Lines below will give you a hint or solution code\n",
    "#q_3.hint()\n",
    "#q_3.solution()"
   ]
  },
  {
   "cell_type": "markdown",
   "id": "1d6fefa6",
   "metadata": {
    "papermill": {
     "duration": 0.007475,
     "end_time": "2023-03-24T12:53:33.092360",
     "exception": false,
     "start_time": "2023-03-24T12:53:33.084885",
     "status": "completed"
    },
    "tags": []
   },
   "source": [
    "Run the next cell to see if batch normalization will let us train the model."
   ]
  },
  {
   "cell_type": "code",
   "execution_count": 11,
   "id": "9ab24cfc",
   "metadata": {
    "execution": {
     "iopub.execute_input": "2023-03-24T12:53:33.109695Z",
     "iopub.status.busy": "2023-03-24T12:53:33.109222Z",
     "iopub.status.idle": "2023-03-24T12:53:55.416383Z",
     "shell.execute_reply": "2023-03-24T12:53:55.415015Z"
    },
    "papermill": {
     "duration": 22.31922,
     "end_time": "2023-03-24T12:53:55.419259",
     "exception": false,
     "start_time": "2023-03-24T12:53:33.100039",
     "status": "completed"
    },
    "tags": []
   },
   "outputs": [
    {
     "name": "stdout",
     "output_type": "stream",
     "text": [
      "Minimum Validation Loss: 4.0405\n"
     ]
    },
    {
     "data": {
      "image/png": "[encoded data removed]",
      "text/plain": [
       "<Figure size 640x480 with 1 Axes>"
      ]
     },
     "metadata": {},
     "output_type": "display_data"
    }
   ],
   "source": [
    "model.compile(\n",
    "    optimizer='sgd',\n",
    "    loss='mae',\n",
    "    metrics=['mae'],\n",
    ")\n",
    "EPOCHS = 100\n",
    "history = model.fit(\n",
    "    X_train, y_train,\n",
    "    validation_data=(X_valid, y_valid),\n",
    "    batch_size=64,\n",
    "    epochs=EPOCHS,\n",
    "    verbose=0,\n",
    ")\n",
    "\n",
    "history_df = pd.DataFrame(history.history)\n",
    "history_df.loc[0:, ['loss', 'val_loss']].plot()\n",
    "print((\"Minimum Validation Loss: {:0.4f}\").format(history_df['val_loss'].min()))"
   ]
  },
  {
   "cell_type": "markdown",
   "id": "55570746",
   "metadata": {
    "papermill": {
     "duration": 0.007998,
     "end_time": "2023-03-24T12:53:55.436187",
     "exception": false,
     "start_time": "2023-03-24T12:53:55.428189",
     "status": "completed"
    },
    "tags": []
   },
   "source": [
    "# 4) Evaluate Batch Normalization\n",
    "\n",
    "Did adding batch normalization help?"
   ]
  },
  {
   "cell_type": "code",
   "execution_count": 12,
   "id": "3bc4471c",
   "metadata": {
    "execution": {
     "iopub.execute_input": "2023-03-24T12:53:55.455115Z",
     "iopub.status.busy": "2023-03-24T12:53:55.454300Z",
     "iopub.status.idle": "2023-03-24T12:53:55.465534Z",
     "shell.execute_reply": "2023-03-24T12:53:55.464203Z"
    },
    "lines_to_next_cell": 0,
    "papermill": {
     "duration": 0.023497,
     "end_time": "2023-03-24T12:53:55.467939",
     "exception": false,
     "start_time": "2023-03-24T12:53:55.444442",
     "status": "completed"
    },
    "tags": []
   },
   "outputs": [
    {
     "data": {
      "application/javascript": [
       "parent.postMessage({\"jupyterEvent\": \"custom.exercise_interaction\", \"data\": {\"outcomeType\": 1, \"valueTowardsCompletion\": 0.25, \"interactionType\": 1, \"questionType\": 4, \"questionId\": \"4_Q4\", \"learnToolsVersion\": \"0.3.4\", \"failureMessage\": \"\", \"exceptionClass\": \"\", \"trace\": \"\"}}, \"*\")"
      ],
      "text/plain": [
       "<IPython.core.display.Javascript object>"
      ]
     },
     "metadata": {},
     "output_type": "display_data"
    },
    {
     "data": {
      "text/markdown": [
       "<span style=\"color:#33cc33\">Correct:</span> \n",
       "\n",
       "\n",
       "You can see that adding batch normalization was a big improvement on the first attempt! By adaptively scaling the data as it passes through the network, batch normalization can let you train models on difficult datasets.\n"
      ],
      "text/plain": [
       "Correct: \n",
       "\n",
       "\n",
       "You can see that adding batch normalization was a big improvement on the first attempt! By adaptively scaling the data as it passes through the network, batch normalization can let you train models on difficult datasets."
      ]
     },
     "metadata": {},
     "output_type": "display_data"
    }
   ],
   "source": [
    "# View the solution (Run this cell to receive credit!)\n",
    "q_4.check()"
   ]
  },
  {
   "cell_type": "markdown",
   "id": "70194076",
   "metadata": {
    "papermill": {
     "duration": 0.008284,
     "end_time": "2023-03-24T12:53:55.484759",
     "exception": false,
     "start_time": "2023-03-24T12:53:55.476475",
     "status": "completed"
    },
    "tags": []
   },
   "source": [
    "# Keep Going #\n",
    "\n",
    "[**Create neural networks**](https://www.kaggle.com/ryanholbrook/binary-classification) for binary classification."
   ]
  },
  {
   "cell_type": "markdown",
   "id": "79331b41",
   "metadata": {
    "papermill": {
     "duration": 0.008108,
     "end_time": "2023-03-24T12:53:55.501273",
     "exception": false,
     "start_time": "2023-03-24T12:53:55.493165",
     "status": "completed"
    },
    "tags": []
   },
   "source": [
    "---\n",
    "\n",
    "\n",
    "\n",
    "\n",
    "*Have questions or comments? Visit the [course discussion forum](https://www.kaggle.com/learn/intro-to-deep-learning/discussion) to chat with other learners.*"
   ]
  }
 ],
 "metadata": {
  "kernelspec": {
   "display_name": "Python 3",
   "language": "python",
   "name": "python3"
  },
  "language_info": {
   "codemirror_mode": {
    "name": "ipython",
    "version": 3
   },
   "file_extension": ".py",
   "mimetype": "text/x-python",
   "name": "python",
   "nbconvert_exporter": "python",
   "pygments_lexer": "ipython3",
   "version": "3.7.12"
  },
  "papermill": {
   "default_parameters": {},
   "duration": 82.5495,
   "end_time": "2023-03-24T12:53:58.430814",
   "environment_variables": {},
   "exception": null,
   "input_path": "__notebook__.ipynb",
   "output_path": "__notebook__.ipynb",
   "parameters": {},
   "start_time": "2023-03-24T12:52:35.881314",
   "version": "2.4.0"
  }
 },
 "nbformat": 4,
 "nbformat_minor": 5
}
