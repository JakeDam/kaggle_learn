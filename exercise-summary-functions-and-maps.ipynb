{
 "cells": [
  {
   "cell_type": "markdown",
   "id": "c7bd8dff",
   "metadata": {
    "papermill": {
     "duration": 0.007035,
     "end_time": "2022-12-30T04:18:55.757681",
     "exception": false,
     "start_time": "2022-12-30T04:18:55.750646",
     "status": "completed"
    },
    "tags": []
   },
   "source": [
    "**This notebook is an exercise in the [Pandas](https://www.kaggle.com/learn/pandas) course.  You can reference the tutorial at [this link](https://www.kaggle.com/residentmario/summary-functions-and-maps).**\n",
    "\n",
    "---\n"
   ]
  },
  {
   "cell_type": "markdown",
   "id": "856aa536",
   "metadata": {
    "papermill": {
     "duration": 0.005364,
     "end_time": "2022-12-30T04:18:55.768811",
     "exception": false,
     "start_time": "2022-12-30T04:18:55.763447",
     "status": "completed"
    },
    "tags": []
   },
   "source": [
    "# Introduction\n",
    "\n",
    "Now you are ready to get a deeper understanding of your data.\n",
    "\n",
    "Run the following cell to load your data and some utility functions (including code to check your answers)."
   ]
  },
  {
   "cell_type": "code",
   "execution_count": 1,
   "id": "2560aece",
   "metadata": {
    "execution": {
     "iopub.execute_input": "2022-12-30T04:18:55.782440Z",
     "iopub.status.busy": "2022-12-30T04:18:55.781702Z",
     "iopub.status.idle": "2022-12-30T04:19:02.858083Z",
     "shell.execute_reply": "2022-12-30T04:19:02.856765Z"
    },
    "papermill": {
     "duration": 7.088236,
     "end_time": "2022-12-30T04:19:02.862654",
     "exception": false,
     "start_time": "2022-12-30T04:18:55.774418",
     "status": "completed"
    },
    "tags": []
   },
   "outputs": [
    {
     "name": "stdout",
     "output_type": "stream",
     "text": [
      "Setup complete.\n"
     ]
    },
    {
     "data": {
      "text/html": [
       "<div>\n",
       "<style scoped>\n",
       "    .dataframe tbody tr th:only-of-type {\n",
       "        vertical-align: middle;\n",
       "    }\n",
       "\n",
       "    .dataframe tbody tr th {\n",
       "        vertical-align: top;\n",
       "    }\n",
       "\n",
       "    .dataframe thead th {\n",
       "        text-align: right;\n",
       "    }\n",
       "</style>\n",
       "<table border=\"1\" class=\"dataframe\">\n",
       "  <thead>\n",
       "    <tr style=\"text-align: right;\">\n",
       "      <th></th>\n",
       "      <th>country</th>\n",
       "      <th>description</th>\n",
       "      <th>designation</th>\n",
       "      <th>points</th>\n",
       "      <th>price</th>\n",
       "      <th>province</th>\n",
       "      <th>region_1</th>\n",
       "      <th>region_2</th>\n",
       "      <th>taster_name</th>\n",
       "      <th>taster_twitter_handle</th>\n",
       "      <th>title</th>\n",
       "      <th>variety</th>\n",
       "      <th>winery</th>\n",
       "    </tr>\n",
       "  </thead>\n",
       "  <tbody>\n",
       "    <tr>\n",
       "      <th>0</th>\n",
       "      <td>Italy</td>\n",
       "      <td>Aromas include tropical fruit, broom, brimston...</td>\n",
       "      <td>Vulkà Bianco</td>\n",
       "      <td>87</td>\n",
       "      <td>NaN</td>\n",
       "      <td>Sicily &amp; Sardinia</td>\n",
       "      <td>Etna</td>\n",
       "      <td>NaN</td>\n",
       "      <td>Kerin O’Keefe</td>\n",
       "      <td>@kerinokeefe</td>\n",
       "      <td>Nicosia 2013 Vulkà Bianco  (Etna)</td>\n",
       "      <td>White Blend</td>\n",
       "      <td>Nicosia</td>\n",
       "    </tr>\n",
       "    <tr>\n",
       "      <th>1</th>\n",
       "      <td>Portugal</td>\n",
       "      <td>This is ripe and fruity, a wine that is smooth...</td>\n",
       "      <td>Avidagos</td>\n",
       "      <td>87</td>\n",
       "      <td>15.0</td>\n",
       "      <td>Douro</td>\n",
       "      <td>NaN</td>\n",
       "      <td>NaN</td>\n",
       "      <td>Roger Voss</td>\n",
       "      <td>@vossroger</td>\n",
       "      <td>Quinta dos Avidagos 2011 Avidagos Red (Douro)</td>\n",
       "      <td>Portuguese Red</td>\n",
       "      <td>Quinta dos Avidagos</td>\n",
       "    </tr>\n",
       "    <tr>\n",
       "      <th>2</th>\n",
       "      <td>US</td>\n",
       "      <td>Tart and snappy, the flavors of lime flesh and...</td>\n",
       "      <td>NaN</td>\n",
       "      <td>87</td>\n",
       "      <td>14.0</td>\n",
       "      <td>Oregon</td>\n",
       "      <td>Willamette Valley</td>\n",
       "      <td>Willamette Valley</td>\n",
       "      <td>Paul Gregutt</td>\n",
       "      <td>@paulgwine</td>\n",
       "      <td>Rainstorm 2013 Pinot Gris (Willamette Valley)</td>\n",
       "      <td>Pinot Gris</td>\n",
       "      <td>Rainstorm</td>\n",
       "    </tr>\n",
       "    <tr>\n",
       "      <th>3</th>\n",
       "      <td>US</td>\n",
       "      <td>Pineapple rind, lemon pith and orange blossom ...</td>\n",
       "      <td>Reserve Late Harvest</td>\n",
       "      <td>87</td>\n",
       "      <td>13.0</td>\n",
       "      <td>Michigan</td>\n",
       "      <td>Lake Michigan Shore</td>\n",
       "      <td>NaN</td>\n",
       "      <td>Alexander Peartree</td>\n",
       "      <td>NaN</td>\n",
       "      <td>St. Julian 2013 Reserve Late Harvest Riesling ...</td>\n",
       "      <td>Riesling</td>\n",
       "      <td>St. Julian</td>\n",
       "    </tr>\n",
       "    <tr>\n",
       "      <th>4</th>\n",
       "      <td>US</td>\n",
       "      <td>Much like the regular bottling from 2012, this...</td>\n",
       "      <td>Vintner's Reserve Wild Child Block</td>\n",
       "      <td>87</td>\n",
       "      <td>65.0</td>\n",
       "      <td>Oregon</td>\n",
       "      <td>Willamette Valley</td>\n",
       "      <td>Willamette Valley</td>\n",
       "      <td>Paul Gregutt</td>\n",
       "      <td>@paulgwine</td>\n",
       "      <td>Sweet Cheeks 2012 Vintner's Reserve Wild Child...</td>\n",
       "      <td>Pinot Noir</td>\n",
       "      <td>Sweet Cheeks</td>\n",
       "    </tr>\n",
       "  </tbody>\n",
       "</table>\n",
       "</div>"
      ],
      "text/plain": [
       "    country                                        description  \\\n",
       "0     Italy  Aromas include tropical fruit, broom, brimston...   \n",
       "1  Portugal  This is ripe and fruity, a wine that is smooth...   \n",
       "2        US  Tart and snappy, the flavors of lime flesh and...   \n",
       "3        US  Pineapple rind, lemon pith and orange blossom ...   \n",
       "4        US  Much like the regular bottling from 2012, this...   \n",
       "\n",
       "                          designation  points  price           province  \\\n",
       "0                        Vulkà Bianco      87    NaN  Sicily & Sardinia   \n",
       "1                            Avidagos      87   15.0              Douro   \n",
       "2                                 NaN      87   14.0             Oregon   \n",
       "3                Reserve Late Harvest      87   13.0           Michigan   \n",
       "4  Vintner's Reserve Wild Child Block      87   65.0             Oregon   \n",
       "\n",
       "              region_1           region_2         taster_name  \\\n",
       "0                 Etna                NaN       Kerin O’Keefe   \n",
       "1                  NaN                NaN          Roger Voss   \n",
       "2    Willamette Valley  Willamette Valley        Paul Gregutt   \n",
       "3  Lake Michigan Shore                NaN  Alexander Peartree   \n",
       "4    Willamette Valley  Willamette Valley        Paul Gregutt   \n",
       "\n",
       "  taster_twitter_handle                                              title  \\\n",
       "0          @kerinokeefe                  Nicosia 2013 Vulkà Bianco  (Etna)   \n",
       "1            @vossroger      Quinta dos Avidagos 2011 Avidagos Red (Douro)   \n",
       "2           @paulgwine       Rainstorm 2013 Pinot Gris (Willamette Valley)   \n",
       "3                   NaN  St. Julian 2013 Reserve Late Harvest Riesling ...   \n",
       "4           @paulgwine   Sweet Cheeks 2012 Vintner's Reserve Wild Child...   \n",
       "\n",
       "          variety               winery  \n",
       "0     White Blend              Nicosia  \n",
       "1  Portuguese Red  Quinta dos Avidagos  \n",
       "2      Pinot Gris            Rainstorm  \n",
       "3        Riesling           St. Julian  \n",
       "4      Pinot Noir         Sweet Cheeks  "
      ]
     },
     "execution_count": 1,
     "metadata": {},
     "output_type": "execute_result"
    }
   ],
   "source": [
    "import pandas as pd\n",
    "pd.set_option(\"display.max_rows\", 5)\n",
    "reviews = pd.read_csv(\"../input/wine-reviews/winemag-data-130k-v2.csv\", index_col=0)\n",
    "\n",
    "from learntools.core import binder; binder.bind(globals())\n",
    "from learntools.pandas.summary_functions_and_maps import *\n",
    "print(\"Setup complete.\")\n",
    "\n",
    "reviews.head()"
   ]
  },
  {
   "cell_type": "markdown",
   "id": "17d52ff2",
   "metadata": {
    "papermill": {
     "duration": 0.006109,
     "end_time": "2022-12-30T04:19:02.875379",
     "exception": false,
     "start_time": "2022-12-30T04:19:02.869270",
     "status": "completed"
    },
    "tags": []
   },
   "source": [
    "# Exercises"
   ]
  },
  {
   "cell_type": "markdown",
   "id": "ffe3b401",
   "metadata": {
    "papermill": {
     "duration": 0.005891,
     "end_time": "2022-12-30T04:19:02.887424",
     "exception": false,
     "start_time": "2022-12-30T04:19:02.881533",
     "status": "completed"
    },
    "tags": []
   },
   "source": [
    "## 1.\n",
    "\n",
    "What is the median of the `points` column in the `reviews` DataFrame?"
   ]
  },
  {
   "cell_type": "code",
   "execution_count": 2,
   "id": "a7f3c0cd",
   "metadata": {
    "execution": {
     "iopub.execute_input": "2022-12-30T04:19:02.901696Z",
     "iopub.status.busy": "2022-12-30T04:19:02.900929Z",
     "iopub.status.idle": "2022-12-30T04:19:02.912799Z",
     "shell.execute_reply": "2022-12-30T04:19:02.911877Z"
    },
    "papermill": {
     "duration": 0.021462,
     "end_time": "2022-12-30T04:19:02.914936",
     "exception": false,
     "start_time": "2022-12-30T04:19:02.893474",
     "status": "completed"
    },
    "tags": []
   },
   "outputs": [
    {
     "data": {
      "application/javascript": [
       "parent.postMessage({\"jupyterEvent\": \"custom.exercise_interaction\", \"data\": {\"outcomeType\": 1, \"valueTowardsCompletion\": 0.14285714285714285, \"interactionType\": 1, \"questionType\": 1, \"questionId\": \"1_MedianPoints\", \"learnToolsVersion\": \"0.3.4\", \"failureMessage\": \"\", \"exceptionClass\": \"\", \"trace\": \"\"}}, \"*\")"
      ],
      "text/plain": [
       "<IPython.core.display.Javascript object>"
      ]
     },
     "metadata": {},
     "output_type": "display_data"
    },
    {
     "data": {
      "text/markdown": [
       "<span style=\"color:#33cc33\">Correct</span>"
      ],
      "text/plain": [
       "Correct"
      ]
     },
     "metadata": {},
     "output_type": "display_data"
    }
   ],
   "source": [
    "median_points = reviews.points.median()\n",
    "\n",
    "# Check your answer\n",
    "q1.check()"
   ]
  },
  {
   "cell_type": "code",
   "execution_count": 3,
   "id": "34a9074d",
   "metadata": {
    "execution": {
     "iopub.execute_input": "2022-12-30T04:19:02.929860Z",
     "iopub.status.busy": "2022-12-30T04:19:02.929118Z",
     "iopub.status.idle": "2022-12-30T04:19:02.933633Z",
     "shell.execute_reply": "2022-12-30T04:19:02.932815Z"
    },
    "papermill": {
     "duration": 0.014258,
     "end_time": "2022-12-30T04:19:02.935741",
     "exception": false,
     "start_time": "2022-12-30T04:19:02.921483",
     "status": "completed"
    },
    "tags": []
   },
   "outputs": [],
   "source": [
    "#q1.hint()\n",
    "#q1.solution()"
   ]
  },
  {
   "cell_type": "markdown",
   "id": "cf1ec1f6",
   "metadata": {
    "papermill": {
     "duration": 0.007784,
     "end_time": "2022-12-30T04:19:02.949950",
     "exception": false,
     "start_time": "2022-12-30T04:19:02.942166",
     "status": "completed"
    },
    "tags": []
   },
   "source": [
    "## 2. \n",
    "What countries are represented in the dataset? (Your answer should not include any duplicates.)"
   ]
  },
  {
   "cell_type": "code",
   "execution_count": 4,
   "id": "bf33f257",
   "metadata": {
    "execution": {
     "iopub.execute_input": "2022-12-30T04:19:02.964679Z",
     "iopub.status.busy": "2022-12-30T04:19:02.964268Z",
     "iopub.status.idle": "2022-12-30T04:19:02.979710Z",
     "shell.execute_reply": "2022-12-30T04:19:02.978895Z"
    },
    "papermill": {
     "duration": 0.025305,
     "end_time": "2022-12-30T04:19:02.981844",
     "exception": false,
     "start_time": "2022-12-30T04:19:02.956539",
     "status": "completed"
    },
    "tags": []
   },
   "outputs": [
    {
     "data": {
      "application/javascript": [
       "parent.postMessage({\"jupyterEvent\": \"custom.exercise_interaction\", \"data\": {\"outcomeType\": 1, \"valueTowardsCompletion\": 0.14285714285714285, \"interactionType\": 1, \"questionType\": 2, \"questionId\": \"2_UniqueCountries\", \"learnToolsVersion\": \"0.3.4\", \"failureMessage\": \"\", \"exceptionClass\": \"\", \"trace\": \"\"}}, \"*\")"
      ],
      "text/plain": [
       "<IPython.core.display.Javascript object>"
      ]
     },
     "metadata": {},
     "output_type": "display_data"
    },
    {
     "data": {
      "text/markdown": [
       "<span style=\"color:#33cc33\">Correct</span>"
      ],
      "text/plain": [
       "Correct"
      ]
     },
     "metadata": {},
     "output_type": "display_data"
    }
   ],
   "source": [
    "countries = reviews.country.unique()\n",
    "\n",
    "# Check your answer\n",
    "q2.check()"
   ]
  },
  {
   "cell_type": "code",
   "execution_count": 5,
   "id": "16b3a2b2",
   "metadata": {
    "execution": {
     "iopub.execute_input": "2022-12-30T04:19:02.997548Z",
     "iopub.status.busy": "2022-12-30T04:19:02.996624Z",
     "iopub.status.idle": "2022-12-30T04:19:03.001508Z",
     "shell.execute_reply": "2022-12-30T04:19:03.000442Z"
    },
    "papermill": {
     "duration": 0.014958,
     "end_time": "2022-12-30T04:19:03.003671",
     "exception": false,
     "start_time": "2022-12-30T04:19:02.988713",
     "status": "completed"
    },
    "tags": []
   },
   "outputs": [],
   "source": [
    "#q2.hint()\n",
    "#q2.solution()"
   ]
  },
  {
   "cell_type": "markdown",
   "id": "ef43d0bd",
   "metadata": {
    "papermill": {
     "duration": 0.006403,
     "end_time": "2022-12-30T04:19:03.016736",
     "exception": false,
     "start_time": "2022-12-30T04:19:03.010333",
     "status": "completed"
    },
    "tags": []
   },
   "source": [
    "## 3.\n",
    "How often does each country appear in the dataset? Create a Series `reviews_per_country` mapping countries to the count of reviews of wines from that country."
   ]
  },
  {
   "cell_type": "code",
   "execution_count": 6,
   "id": "54300e4c",
   "metadata": {
    "execution": {
     "iopub.execute_input": "2022-12-30T04:19:03.031693Z",
     "iopub.status.busy": "2022-12-30T04:19:03.031283Z",
     "iopub.status.idle": "2022-12-30T04:19:03.049440Z",
     "shell.execute_reply": "2022-12-30T04:19:03.048296Z"
    },
    "papermill": {
     "duration": 0.028161,
     "end_time": "2022-12-30T04:19:03.051567",
     "exception": false,
     "start_time": "2022-12-30T04:19:03.023406",
     "status": "completed"
    },
    "tags": []
   },
   "outputs": [
    {
     "data": {
      "application/javascript": [
       "parent.postMessage({\"jupyterEvent\": \"custom.exercise_interaction\", \"data\": {\"outcomeType\": 1, \"valueTowardsCompletion\": 0.14285714285714285, \"interactionType\": 1, \"questionType\": 1, \"questionId\": \"3_ReviewsPerCountry\", \"learnToolsVersion\": \"0.3.4\", \"failureMessage\": \"\", \"exceptionClass\": \"\", \"trace\": \"\"}}, \"*\")"
      ],
      "text/plain": [
       "<IPython.core.display.Javascript object>"
      ]
     },
     "metadata": {},
     "output_type": "display_data"
    },
    {
     "data": {
      "text/markdown": [
       "<span style=\"color:#33cc33\">Correct</span>"
      ],
      "text/plain": [
       "Correct"
      ]
     },
     "metadata": {},
     "output_type": "display_data"
    }
   ],
   "source": [
    "reviews_per_country = reviews.country.value_counts()\n",
    "\n",
    "# Check your answer\n",
    "q3.check()"
   ]
  },
  {
   "cell_type": "code",
   "execution_count": 7,
   "id": "49e99e1a",
   "metadata": {
    "execution": {
     "iopub.execute_input": "2022-12-30T04:19:03.067338Z",
     "iopub.status.busy": "2022-12-30T04:19:03.066611Z",
     "iopub.status.idle": "2022-12-30T04:19:03.071899Z",
     "shell.execute_reply": "2022-12-30T04:19:03.070814Z"
    },
    "papermill": {
     "duration": 0.015688,
     "end_time": "2022-12-30T04:19:03.074173",
     "exception": false,
     "start_time": "2022-12-30T04:19:03.058485",
     "status": "completed"
    },
    "tags": []
   },
   "outputs": [],
   "source": [
    "#q3.hint()\n",
    "#q3.solution()"
   ]
  },
  {
   "cell_type": "markdown",
   "id": "35c91ba2",
   "metadata": {
    "papermill": {
     "duration": 0.00681,
     "end_time": "2022-12-30T04:19:03.088181",
     "exception": false,
     "start_time": "2022-12-30T04:19:03.081371",
     "status": "completed"
    },
    "tags": []
   },
   "source": [
    "## 4.\n",
    "Create variable `centered_price` containing a version of the `price` column with the mean price subtracted.\n",
    "\n",
    "(Note: this 'centering' transformation is a common preprocessing step before applying various machine learning algorithms.) "
   ]
  },
  {
   "cell_type": "code",
   "execution_count": 8,
   "id": "79b3f2e6",
   "metadata": {
    "execution": {
     "iopub.execute_input": "2022-12-30T04:19:03.103999Z",
     "iopub.status.busy": "2022-12-30T04:19:03.103589Z",
     "iopub.status.idle": "2022-12-30T04:19:03.115645Z",
     "shell.execute_reply": "2022-12-30T04:19:03.114582Z"
    },
    "papermill": {
     "duration": 0.022948,
     "end_time": "2022-12-30T04:19:03.118142",
     "exception": false,
     "start_time": "2022-12-30T04:19:03.095194",
     "status": "completed"
    },
    "tags": []
   },
   "outputs": [
    {
     "data": {
      "application/javascript": [
       "parent.postMessage({\"jupyterEvent\": \"custom.exercise_interaction\", \"data\": {\"outcomeType\": 1, \"valueTowardsCompletion\": 0.14285714285714285, \"interactionType\": 1, \"questionType\": 1, \"questionId\": \"4_CenteredPrice\", \"learnToolsVersion\": \"0.3.4\", \"failureMessage\": \"\", \"exceptionClass\": \"\", \"trace\": \"\"}}, \"*\")"
      ],
      "text/plain": [
       "<IPython.core.display.Javascript object>"
      ]
     },
     "metadata": {},
     "output_type": "display_data"
    },
    {
     "data": {
      "text/markdown": [
       "<span style=\"color:#33cc33\">Correct</span>"
      ],
      "text/plain": [
       "Correct"
      ]
     },
     "metadata": {},
     "output_type": "display_data"
    }
   ],
   "source": [
    "centered_price = reviews.price - reviews.price.mean()\n",
    "\n",
    "# Check your answer\n",
    "q4.check()"
   ]
  },
  {
   "cell_type": "code",
   "execution_count": 9,
   "id": "82eafa06",
   "metadata": {
    "execution": {
     "iopub.execute_input": "2022-12-30T04:19:03.135100Z",
     "iopub.status.busy": "2022-12-30T04:19:03.134418Z",
     "iopub.status.idle": "2022-12-30T04:19:03.138743Z",
     "shell.execute_reply": "2022-12-30T04:19:03.137599Z"
    },
    "papermill": {
     "duration": 0.015457,
     "end_time": "2022-12-30T04:19:03.141082",
     "exception": false,
     "start_time": "2022-12-30T04:19:03.125625",
     "status": "completed"
    },
    "tags": []
   },
   "outputs": [],
   "source": [
    "#q4.hint()\n",
    "#q4.solution()"
   ]
  },
  {
   "cell_type": "markdown",
   "id": "570109ad",
   "metadata": {
    "papermill": {
     "duration": 0.007153,
     "end_time": "2022-12-30T04:19:03.155813",
     "exception": false,
     "start_time": "2022-12-30T04:19:03.148660",
     "status": "completed"
    },
    "tags": []
   },
   "source": [
    "## 5.\n",
    "I'm an economical wine buyer. Which wine is the \"best bargain\"? Create a variable `bargain_wine` with the title of the wine with the highest points-to-price ratio in the dataset."
   ]
  },
  {
   "cell_type": "code",
   "execution_count": 10,
   "id": "5e94e6ae",
   "metadata": {
    "execution": {
     "iopub.execute_input": "2022-12-30T04:19:03.172450Z",
     "iopub.status.busy": "2022-12-30T04:19:03.172009Z",
     "iopub.status.idle": "2022-12-30T04:19:03.186092Z",
     "shell.execute_reply": "2022-12-30T04:19:03.184864Z"
    },
    "papermill": {
     "duration": 0.025402,
     "end_time": "2022-12-30T04:19:03.188736",
     "exception": false,
     "start_time": "2022-12-30T04:19:03.163334",
     "status": "completed"
    },
    "tags": []
   },
   "outputs": [
    {
     "data": {
      "application/javascript": [
       "parent.postMessage({\"jupyterEvent\": \"custom.exercise_interaction\", \"data\": {\"outcomeType\": 1, \"valueTowardsCompletion\": 0.14285714285714285, \"interactionType\": 1, \"questionType\": 2, \"questionId\": \"5_BargainWine\", \"learnToolsVersion\": \"0.3.4\", \"failureMessage\": \"\", \"exceptionClass\": \"\", \"trace\": \"\"}}, \"*\")"
      ],
      "text/plain": [
       "<IPython.core.display.Javascript object>"
      ]
     },
     "metadata": {},
     "output_type": "display_data"
    },
    {
     "data": {
      "text/markdown": [
       "<span style=\"color:#33cc33\">Correct</span>"
      ],
      "text/plain": [
       "Correct"
      ]
     },
     "metadata": {},
     "output_type": "display_data"
    }
   ],
   "source": [
    "bargain_idx = (reviews.points / reviews.price).idxmax()\n",
    "bargain_wine = reviews.loc[bargain_idx, 'title']\n",
    "\n",
    "# Check your answer\n",
    "q5.check()"
   ]
  },
  {
   "cell_type": "code",
   "execution_count": 11,
   "id": "c883ec7a",
   "metadata": {
    "execution": {
     "iopub.execute_input": "2022-12-30T04:19:03.206024Z",
     "iopub.status.busy": "2022-12-30T04:19:03.205616Z",
     "iopub.status.idle": "2022-12-30T04:19:03.210468Z",
     "shell.execute_reply": "2022-12-30T04:19:03.209326Z"
    },
    "papermill": {
     "duration": 0.016452,
     "end_time": "2022-12-30T04:19:03.212936",
     "exception": false,
     "start_time": "2022-12-30T04:19:03.196484",
     "status": "completed"
    },
    "tags": []
   },
   "outputs": [],
   "source": [
    "#q5.hint()\n",
    "#q5.solution()"
   ]
  },
  {
   "cell_type": "markdown",
   "id": "9b38d289",
   "metadata": {
    "papermill": {
     "duration": 0.007639,
     "end_time": "2022-12-30T04:19:03.228384",
     "exception": false,
     "start_time": "2022-12-30T04:19:03.220745",
     "status": "completed"
    },
    "tags": []
   },
   "source": [
    "## 6.\n",
    "There are only so many words you can use when describing a bottle of wine. Is a wine more likely to be \"tropical\" or \"fruity\"? Create a Series `descriptor_counts` counting how many times each of these two words appears in the `description` column in the dataset. (For simplicity, let's ignore the capitalized versions of these words.)"
   ]
  },
  {
   "cell_type": "code",
   "execution_count": 12,
   "id": "734536c8",
   "metadata": {
    "execution": {
     "iopub.execute_input": "2022-12-30T04:19:03.245415Z",
     "iopub.status.busy": "2022-12-30T04:19:03.244971Z",
     "iopub.status.idle": "2022-12-30T04:19:03.389876Z",
     "shell.execute_reply": "2022-12-30T04:19:03.388745Z"
    },
    "papermill": {
     "duration": 0.156044,
     "end_time": "2022-12-30T04:19:03.392108",
     "exception": false,
     "start_time": "2022-12-30T04:19:03.236064",
     "status": "completed"
    },
    "tags": []
   },
   "outputs": [
    {
     "data": {
      "application/javascript": [
       "parent.postMessage({\"jupyterEvent\": \"custom.exercise_interaction\", \"data\": {\"outcomeType\": 1, \"valueTowardsCompletion\": 0.14285714285714285, \"interactionType\": 1, \"questionType\": 1, \"questionId\": \"6_DescriptorCounts\", \"learnToolsVersion\": \"0.3.4\", \"failureMessage\": \"\", \"exceptionClass\": \"\", \"trace\": \"\"}}, \"*\")"
      ],
      "text/plain": [
       "<IPython.core.display.Javascript object>"
      ]
     },
     "metadata": {},
     "output_type": "display_data"
    },
    {
     "data": {
      "text/markdown": [
       "<span style=\"color:#33cc33\">Correct</span>"
      ],
      "text/plain": [
       "Correct"
      ]
     },
     "metadata": {},
     "output_type": "display_data"
    }
   ],
   "source": [
    "n_trop = reviews.description.map(lambda desc: \"tropical\" in desc).sum()\n",
    "n_fruity = reviews.description.map(lambda desc: \"fruity\" in desc).sum()\n",
    "descriptor_counts = pd.Series([n_trop, n_fruity], index=['tropical', 'fruity'])\n",
    "\n",
    "# Check your answer\n",
    "q6.check()"
   ]
  },
  {
   "cell_type": "code",
   "execution_count": 13,
   "id": "b1b86984",
   "metadata": {
    "execution": {
     "iopub.execute_input": "2022-12-30T04:19:03.410289Z",
     "iopub.status.busy": "2022-12-30T04:19:03.409877Z",
     "iopub.status.idle": "2022-12-30T04:19:03.414747Z",
     "shell.execute_reply": "2022-12-30T04:19:03.413595Z"
    },
    "papermill": {
     "duration": 0.017012,
     "end_time": "2022-12-30T04:19:03.417128",
     "exception": false,
     "start_time": "2022-12-30T04:19:03.400116",
     "status": "completed"
    },
    "tags": []
   },
   "outputs": [],
   "source": [
    "#q6.hint()\n",
    "#q6.solution()"
   ]
  },
  {
   "cell_type": "markdown",
   "id": "7a7fdc37",
   "metadata": {
    "papermill": {
     "duration": 0.007642,
     "end_time": "2022-12-30T04:19:03.432647",
     "exception": false,
     "start_time": "2022-12-30T04:19:03.425005",
     "status": "completed"
    },
    "tags": []
   },
   "source": [
    "## 7.\n",
    "We'd like to host these wine reviews on our website, but a rating system ranging from 80 to 100 points is too hard to understand - we'd like to translate them into simple star ratings. A score of 95 or higher counts as 3 stars, a score of at least 85 but less than 95 is 2 stars. Any other score is 1 star.\n",
    "\n",
    "Also, the Canadian Vintners Association bought a lot of ads on the site, so any wines from Canada should automatically get 3 stars, regardless of points.\n",
    "\n",
    "Create a series `star_ratings` with the number of stars corresponding to each review in the dataset."
   ]
  },
  {
   "cell_type": "code",
   "execution_count": 14,
   "id": "ad310e1e",
   "metadata": {
    "execution": {
     "iopub.execute_input": "2022-12-30T04:19:03.450136Z",
     "iopub.status.busy": "2022-12-30T04:19:03.449753Z",
     "iopub.status.idle": "2022-12-30T04:19:07.537605Z",
     "shell.execute_reply": "2022-12-30T04:19:07.536324Z"
    },
    "papermill": {
     "duration": 4.099343,
     "end_time": "2022-12-30T04:19:07.539937",
     "exception": false,
     "start_time": "2022-12-30T04:19:03.440594",
     "status": "completed"
    },
    "tags": []
   },
   "outputs": [
    {
     "data": {
      "application/javascript": [
       "parent.postMessage({\"jupyterEvent\": \"custom.exercise_interaction\", \"data\": {\"outcomeType\": 1, \"valueTowardsCompletion\": 0.14285714285714285, \"interactionType\": 1, \"questionType\": 1, \"questionId\": \"7_StarRatings\", \"learnToolsVersion\": \"0.3.4\", \"failureMessage\": \"\", \"exceptionClass\": \"\", \"trace\": \"\"}}, \"*\")"
      ],
      "text/plain": [
       "<IPython.core.display.Javascript object>"
      ]
     },
     "metadata": {},
     "output_type": "display_data"
    },
    {
     "data": {
      "text/markdown": [
       "<span style=\"color:#33cc33\">Correct</span>"
      ],
      "text/plain": [
       "Correct"
      ]
     },
     "metadata": {},
     "output_type": "display_data"
    }
   ],
   "source": [
    "def stars(row):\n",
    "    if row.country == 'Canada':\n",
    "        return 3\n",
    "    elif row.points >= 95:\n",
    "        return 3\n",
    "    elif row.points >= 85:\n",
    "        return 2\n",
    "    else:\n",
    "        return 1\n",
    "\n",
    "star_ratings = reviews.apply(stars, axis='columns')\n",
    "\n",
    "# Check your answer\n",
    "q7.check()"
   ]
  },
  {
   "cell_type": "code",
   "execution_count": 15,
   "id": "b4240fe3",
   "metadata": {
    "execution": {
     "iopub.execute_input": "2022-12-30T04:19:07.558216Z",
     "iopub.status.busy": "2022-12-30T04:19:07.557819Z",
     "iopub.status.idle": "2022-12-30T04:19:07.562636Z",
     "shell.execute_reply": "2022-12-30T04:19:07.561418Z"
    },
    "papermill": {
     "duration": 0.016668,
     "end_time": "2022-12-30T04:19:07.564982",
     "exception": false,
     "start_time": "2022-12-30T04:19:07.548314",
     "status": "completed"
    },
    "tags": []
   },
   "outputs": [],
   "source": [
    "#q7.hint()\n",
    "#q7.solution()"
   ]
  },
  {
   "cell_type": "markdown",
   "id": "99d5696e",
   "metadata": {
    "papermill": {
     "duration": 0.007887,
     "end_time": "2022-12-30T04:19:07.580989",
     "exception": false,
     "start_time": "2022-12-30T04:19:07.573102",
     "status": "completed"
    },
    "tags": []
   },
   "source": [
    "# Keep going\n",
    "Continue to **[grouping and sorting](https://www.kaggle.com/residentmario/grouping-and-sorting)**."
   ]
  },
  {
   "cell_type": "markdown",
   "id": "273e06d7",
   "metadata": {
    "papermill": {
     "duration": 0.007689,
     "end_time": "2022-12-30T04:19:07.596828",
     "exception": false,
     "start_time": "2022-12-30T04:19:07.589139",
     "status": "completed"
    },
    "tags": []
   },
   "source": [
    "---\n",
    "\n",
    "\n",
    "\n",
    "\n",
    "*Have questions or comments? Visit the [course discussion forum](https://www.kaggle.com/learn/pandas/discussion) to chat with other learners.*"
   ]
  }
 ],
 "metadata": {
  "kernelspec": {
   "display_name": "Python 3",
   "language": "python",
   "name": "python3"
  },
  "language_info": {
   "codemirror_mode": {
    "name": "ipython",
    "version": 3
   },
   "file_extension": ".py",
   "mimetype": "text/x-python",
   "name": "python",
   "nbconvert_exporter": "python",
   "pygments_lexer": "ipython3",
   "version": "3.7.12"
  },
  "papermill": {
   "default_parameters": {},
   "duration": 20.826011,
   "end_time": "2022-12-30T04:19:08.226082",
   "environment_variables": {},
   "exception": null,
   "input_path": "__notebook__.ipynb",
   "output_path": "__notebook__.ipynb",
   "parameters": {},
   "start_time": "2022-12-30T04:18:47.400071",
   "version": "2.3.4"
  }
 },
 "nbformat": 4,
 "nbformat_minor": 5
}
