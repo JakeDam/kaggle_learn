{
 "cells": [
  {
   "cell_type": "markdown",
   "id": "158a338c",
   "metadata": {
    "papermill": {
     "duration": 0.006762,
     "end_time": "2022-12-31T19:41:42.868128",
     "exception": false,
     "start_time": "2022-12-31T19:41:42.861366",
     "status": "completed"
    },
    "tags": []
   },
   "source": [
    "**This notebook is an exercise in the [Pandas](https://www.kaggle.com/learn/pandas) course.  You can reference the tutorial at [this link](https://www.kaggle.com/residentmario/summary-functions-and-maps).**\n",
    "\n",
    "---\n"
   ]
  },
  {
   "cell_type": "markdown",
   "id": "1f4a2bf7",
   "metadata": {
    "papermill": {
     "duration": 0.005326,
     "end_time": "2022-12-31T19:41:42.879263",
     "exception": false,
     "start_time": "2022-12-31T19:41:42.873937",
     "status": "completed"
    },
    "tags": []
   },
   "source": [
    "# Introduction\n",
    "\n",
    "Now you are ready to get a deeper understanding of your data.\n",
    "\n",
    "Run the following cell to load your data and some utility functions (including code to check your answers)."
   ]
  },
  {
   "cell_type": "code",
   "execution_count": 1,
   "id": "167c111c",
   "metadata": {
    "execution": {
     "iopub.execute_input": "2022-12-31T19:41:42.892763Z",
     "iopub.status.busy": "2022-12-31T19:41:42.891985Z",
     "iopub.status.idle": "2022-12-31T19:41:49.831582Z",
     "shell.execute_reply": "2022-12-31T19:41:49.830428Z"
    },
    "papermill": {
     "duration": 6.95024,
     "end_time": "2022-12-31T19:41:49.835140",
     "exception": false,
     "start_time": "2022-12-31T19:41:42.884900",
     "status": "completed"
    },
    "tags": []
   },
   "outputs": [
    {
     "name": "stdout",
     "output_type": "stream",
     "text": [
      "Setup complete.\n"
     ]
    },
    {
     "data": {
      "text/html": [
       "<div>\n",
       "<style scoped>\n",
       "    .dataframe tbody tr th:only-of-type {\n",
       "        vertical-align: middle;\n",
       "    }\n",
       "\n",
       "    .dataframe tbody tr th {\n",
       "        vertical-align: top;\n",
       "    }\n",
       "\n",
       "    .dataframe thead th {\n",
       "        text-align: right;\n",
       "    }\n",
       "</style>\n",
       "<table border=\"1\" class=\"dataframe\">\n",
       "  <thead>\n",
       "    <tr style=\"text-align: right;\">\n",
       "      <th></th>\n",
       "      <th>country</th>\n",
       "      <th>description</th>\n",
       "      <th>designation</th>\n",
       "      <th>points</th>\n",
       "      <th>price</th>\n",
       "      <th>province</th>\n",
       "      <th>region_1</th>\n",
       "      <th>region_2</th>\n",
       "      <th>taster_name</th>\n",
       "      <th>taster_twitter_handle</th>\n",
       "      <th>title</th>\n",
       "      <th>variety</th>\n",
       "      <th>winery</th>\n",
       "    </tr>\n",
       "  </thead>\n",
       "  <tbody>\n",
       "    <tr>\n",
       "      <th>0</th>\n",
       "      <td>Italy</td>\n",
       "      <td>Aromas include tropical fruit, broom, brimston...</td>\n",
       "      <td>Vulkà Bianco</td>\n",
       "      <td>87</td>\n",
       "      <td>NaN</td>\n",
       "      <td>Sicily &amp; Sardinia</td>\n",
       "      <td>Etna</td>\n",
       "      <td>NaN</td>\n",
       "      <td>Kerin O’Keefe</td>\n",
       "      <td>@kerinokeefe</td>\n",
       "      <td>Nicosia 2013 Vulkà Bianco  (Etna)</td>\n",
       "      <td>White Blend</td>\n",
       "      <td>Nicosia</td>\n",
       "    </tr>\n",
       "    <tr>\n",
       "      <th>1</th>\n",
       "      <td>Portugal</td>\n",
       "      <td>This is ripe and fruity, a wine that is smooth...</td>\n",
       "      <td>Avidagos</td>\n",
       "      <td>87</td>\n",
       "      <td>15.0</td>\n",
       "      <td>Douro</td>\n",
       "      <td>NaN</td>\n",
       "      <td>NaN</td>\n",
       "      <td>Roger Voss</td>\n",
       "      <td>@vossroger</td>\n",
       "      <td>Quinta dos Avidagos 2011 Avidagos Red (Douro)</td>\n",
       "      <td>Portuguese Red</td>\n",
       "      <td>Quinta dos Avidagos</td>\n",
       "    </tr>\n",
       "    <tr>\n",
       "      <th>2</th>\n",
       "      <td>US</td>\n",
       "      <td>Tart and snappy, the flavors of lime flesh and...</td>\n",
       "      <td>NaN</td>\n",
       "      <td>87</td>\n",
       "      <td>14.0</td>\n",
       "      <td>Oregon</td>\n",
       "      <td>Willamette Valley</td>\n",
       "      <td>Willamette Valley</td>\n",
       "      <td>Paul Gregutt</td>\n",
       "      <td>@paulgwine</td>\n",
       "      <td>Rainstorm 2013 Pinot Gris (Willamette Valley)</td>\n",
       "      <td>Pinot Gris</td>\n",
       "      <td>Rainstorm</td>\n",
       "    </tr>\n",
       "    <tr>\n",
       "      <th>3</th>\n",
       "      <td>US</td>\n",
       "      <td>Pineapple rind, lemon pith and orange blossom ...</td>\n",
       "      <td>Reserve Late Harvest</td>\n",
       "      <td>87</td>\n",
       "      <td>13.0</td>\n",
       "      <td>Michigan</td>\n",
       "      <td>Lake Michigan Shore</td>\n",
       "      <td>NaN</td>\n",
       "      <td>Alexander Peartree</td>\n",
       "      <td>NaN</td>\n",
       "      <td>St. Julian 2013 Reserve Late Harvest Riesling ...</td>\n",
       "      <td>Riesling</td>\n",
       "      <td>St. Julian</td>\n",
       "    </tr>\n",
       "    <tr>\n",
       "      <th>4</th>\n",
       "      <td>US</td>\n",
       "      <td>Much like the regular bottling from 2012, this...</td>\n",
       "      <td>Vintner's Reserve Wild Child Block</td>\n",
       "      <td>87</td>\n",
       "      <td>65.0</td>\n",
       "      <td>Oregon</td>\n",
       "      <td>Willamette Valley</td>\n",
       "      <td>Willamette Valley</td>\n",
       "      <td>Paul Gregutt</td>\n",
       "      <td>@paulgwine</td>\n",
       "      <td>Sweet Cheeks 2012 Vintner's Reserve Wild Child...</td>\n",
       "      <td>Pinot Noir</td>\n",
       "      <td>Sweet Cheeks</td>\n",
       "    </tr>\n",
       "  </tbody>\n",
       "</table>\n",
       "</div>"
      ],
      "text/plain": [
       "    country                                        description  \\\n",
       "0     Italy  Aromas include tropical fruit, broom, brimston...   \n",
       "1  Portugal  This is ripe and fruity, a wine that is smooth...   \n",
       "2        US  Tart and snappy, the flavors of lime flesh and...   \n",
       "3        US  Pineapple rind, lemon pith and orange blossom ...   \n",
       "4        US  Much like the regular bottling from 2012, this...   \n",
       "\n",
       "                          designation  points  price           province  \\\n",
       "0                        Vulkà Bianco      87    NaN  Sicily & Sardinia   \n",
       "1                            Avidagos      87   15.0              Douro   \n",
       "2                                 NaN      87   14.0             Oregon   \n",
       "3                Reserve Late Harvest      87   13.0           Michigan   \n",
       "4  Vintner's Reserve Wild Child Block      87   65.0             Oregon   \n",
       "\n",
       "              region_1           region_2         taster_name  \\\n",
       "0                 Etna                NaN       Kerin O’Keefe   \n",
       "1                  NaN                NaN          Roger Voss   \n",
       "2    Willamette Valley  Willamette Valley        Paul Gregutt   \n",
       "3  Lake Michigan Shore                NaN  Alexander Peartree   \n",
       "4    Willamette Valley  Willamette Valley        Paul Gregutt   \n",
       "\n",
       "  taster_twitter_handle                                              title  \\\n",
       "0          @kerinokeefe                  Nicosia 2013 Vulkà Bianco  (Etna)   \n",
       "1            @vossroger      Quinta dos Avidagos 2011 Avidagos Red (Douro)   \n",
       "2           @paulgwine       Rainstorm 2013 Pinot Gris (Willamette Valley)   \n",
       "3                   NaN  St. Julian 2013 Reserve Late Harvest Riesling ...   \n",
       "4           @paulgwine   Sweet Cheeks 2012 Vintner's Reserve Wild Child...   \n",
       "\n",
       "          variety               winery  \n",
       "0     White Blend              Nicosia  \n",
       "1  Portuguese Red  Quinta dos Avidagos  \n",
       "2      Pinot Gris            Rainstorm  \n",
       "3        Riesling           St. Julian  \n",
       "4      Pinot Noir         Sweet Cheeks  "
      ]
     },
     "execution_count": 1,
     "metadata": {},
     "output_type": "execute_result"
    }
   ],
   "source": [
    "import pandas as pd\n",
    "pd.set_option(\"display.max_rows\", 5)\n",
    "reviews = pd.read_csv(\"../input/wine-reviews/winemag-data-130k-v2.csv\", index_col=0)\n",
    "\n",
    "from learntools.core import binder; binder.bind(globals())\n",
    "from learntools.pandas.summary_functions_and_maps import *\n",
    "print(\"Setup complete.\")\n",
    "\n",
    "reviews.head()"
   ]
  },
  {
   "cell_type": "markdown",
   "id": "e3c698f0",
   "metadata": {
    "papermill": {
     "duration": 0.005768,
     "end_time": "2022-12-31T19:41:49.847161",
     "exception": false,
     "start_time": "2022-12-31T19:41:49.841393",
     "status": "completed"
    },
    "tags": []
   },
   "source": [
    "# Exercises"
   ]
  },
  {
   "cell_type": "markdown",
   "id": "3df675d5",
   "metadata": {
    "papermill": {
     "duration": 0.005739,
     "end_time": "2022-12-31T19:41:49.858859",
     "exception": false,
     "start_time": "2022-12-31T19:41:49.853120",
     "status": "completed"
    },
    "tags": []
   },
   "source": [
    "## 1.\n",
    "\n",
    "What is the median of the `points` column in the `reviews` DataFrame?"
   ]
  },
  {
   "cell_type": "code",
   "execution_count": 2,
   "id": "73236cf0",
   "metadata": {
    "execution": {
     "iopub.execute_input": "2022-12-31T19:41:49.872920Z",
     "iopub.status.busy": "2022-12-31T19:41:49.872260Z",
     "iopub.status.idle": "2022-12-31T19:41:49.883590Z",
     "shell.execute_reply": "2022-12-31T19:41:49.882826Z"
    },
    "papermill": {
     "duration": 0.020679,
     "end_time": "2022-12-31T19:41:49.885495",
     "exception": false,
     "start_time": "2022-12-31T19:41:49.864816",
     "status": "completed"
    },
    "tags": []
   },
   "outputs": [
    {
     "name": "stdout",
     "output_type": "stream",
     "text": [
      "88.0\n"
     ]
    },
    {
     "data": {
      "application/javascript": [
       "parent.postMessage({\"jupyterEvent\": \"custom.exercise_interaction\", \"data\": {\"outcomeType\": 1, \"valueTowardsCompletion\": 0.14285714285714285, \"interactionType\": 1, \"questionType\": 1, \"questionId\": \"1_MedianPoints\", \"learnToolsVersion\": \"0.3.4\", \"failureMessage\": \"\", \"exceptionClass\": \"\", \"trace\": \"\"}}, \"*\")"
      ],
      "text/plain": [
       "<IPython.core.display.Javascript object>"
      ]
     },
     "metadata": {},
     "output_type": "display_data"
    },
    {
     "data": {
      "text/markdown": [
       "<span style=\"color:#33cc33\">Correct</span>"
      ],
      "text/plain": [
       "Correct"
      ]
     },
     "metadata": {},
     "output_type": "display_data"
    }
   ],
   "source": [
    "median_points = reviews.points.median()\n",
    "print(median_points)\n",
    "\n",
    "# Check your answer\n",
    "q1.check()"
   ]
  },
  {
   "cell_type": "code",
   "execution_count": 3,
   "id": "9366dbe3",
   "metadata": {
    "execution": {
     "iopub.execute_input": "2022-12-31T19:41:49.900529Z",
     "iopub.status.busy": "2022-12-31T19:41:49.899528Z",
     "iopub.status.idle": "2022-12-31T19:41:49.903513Z",
     "shell.execute_reply": "2022-12-31T19:41:49.902768Z"
    },
    "papermill": {
     "duration": 0.013609,
     "end_time": "2022-12-31T19:41:49.905614",
     "exception": false,
     "start_time": "2022-12-31T19:41:49.892005",
     "status": "completed"
    },
    "tags": []
   },
   "outputs": [],
   "source": [
    "#q1.hint()\n",
    "#q1.solution()"
   ]
  },
  {
   "cell_type": "markdown",
   "id": "e34a4bfc",
   "metadata": {
    "papermill": {
     "duration": 0.00775,
     "end_time": "2022-12-31T19:41:49.920102",
     "exception": false,
     "start_time": "2022-12-31T19:41:49.912352",
     "status": "completed"
    },
    "tags": []
   },
   "source": [
    "## 2. \n",
    "What countries are represented in the dataset? (Your answer should not include any duplicates.)"
   ]
  },
  {
   "cell_type": "code",
   "execution_count": 4,
   "id": "ef7b83b3",
   "metadata": {
    "execution": {
     "iopub.execute_input": "2022-12-31T19:41:49.934550Z",
     "iopub.status.busy": "2022-12-31T19:41:49.934156Z",
     "iopub.status.idle": "2022-12-31T19:41:49.951915Z",
     "shell.execute_reply": "2022-12-31T19:41:49.950445Z"
    },
    "papermill": {
     "duration": 0.028099,
     "end_time": "2022-12-31T19:41:49.954535",
     "exception": false,
     "start_time": "2022-12-31T19:41:49.926436",
     "status": "completed"
    },
    "tags": []
   },
   "outputs": [
    {
     "name": "stdout",
     "output_type": "stream",
     "text": [
      "['Italy' 'Portugal' 'US' 'Spain' 'France' 'Germany' 'Argentina' 'Chile'\n",
      " 'Australia' 'Austria' 'South Africa' 'New Zealand' 'Israel' 'Hungary'\n",
      " 'Greece' 'Romania' 'Mexico' 'Canada' nan 'Turkey' 'Czech Republic'\n",
      " 'Slovenia' 'Luxembourg' 'Croatia' 'Georgia' 'Uruguay' 'England' 'Lebanon'\n",
      " 'Serbia' 'Brazil' 'Moldova' 'Morocco' 'Peru' 'India' 'Bulgaria' 'Cyprus'\n",
      " 'Armenia' 'Switzerland' 'Bosnia and Herzegovina' 'Ukraine' 'Slovakia'\n",
      " 'Macedonia' 'China' 'Egypt']\n"
     ]
    },
    {
     "data": {
      "application/javascript": [
       "parent.postMessage({\"jupyterEvent\": \"custom.exercise_interaction\", \"data\": {\"outcomeType\": 1, \"valueTowardsCompletion\": 0.14285714285714285, \"interactionType\": 1, \"questionType\": 2, \"questionId\": \"2_UniqueCountries\", \"learnToolsVersion\": \"0.3.4\", \"failureMessage\": \"\", \"exceptionClass\": \"\", \"trace\": \"\"}}, \"*\")"
      ],
      "text/plain": [
       "<IPython.core.display.Javascript object>"
      ]
     },
     "metadata": {},
     "output_type": "display_data"
    },
    {
     "data": {
      "text/markdown": [
       "<span style=\"color:#33cc33\">Correct</span>"
      ],
      "text/plain": [
       "Correct"
      ]
     },
     "metadata": {},
     "output_type": "display_data"
    }
   ],
   "source": [
    "countries = reviews.country.unique()\n",
    "print(countries)\n",
    "\n",
    "# Check your answer\n",
    "q2.check()"
   ]
  },
  {
   "cell_type": "code",
   "execution_count": 5,
   "id": "e7da7795",
   "metadata": {
    "execution": {
     "iopub.execute_input": "2022-12-31T19:41:49.969997Z",
     "iopub.status.busy": "2022-12-31T19:41:49.969566Z",
     "iopub.status.idle": "2022-12-31T19:41:49.973872Z",
     "shell.execute_reply": "2022-12-31T19:41:49.972762Z"
    },
    "papermill": {
     "duration": 0.014702,
     "end_time": "2022-12-31T19:41:49.976224",
     "exception": false,
     "start_time": "2022-12-31T19:41:49.961522",
     "status": "completed"
    },
    "tags": []
   },
   "outputs": [],
   "source": [
    "#q2.hint()\n",
    "#q2.solution()"
   ]
  },
  {
   "cell_type": "markdown",
   "id": "f35d91d4",
   "metadata": {
    "papermill": {
     "duration": 0.006447,
     "end_time": "2022-12-31T19:41:49.989575",
     "exception": false,
     "start_time": "2022-12-31T19:41:49.983128",
     "status": "completed"
    },
    "tags": []
   },
   "source": [
    "## 3.\n",
    "How often does each country appear in the dataset? Create a Series `reviews_per_country` mapping countries to the count of reviews of wines from that country."
   ]
  },
  {
   "cell_type": "code",
   "execution_count": 6,
   "id": "dfee6891",
   "metadata": {
    "execution": {
     "iopub.execute_input": "2022-12-31T19:41:50.005001Z",
     "iopub.status.busy": "2022-12-31T19:41:50.004584Z",
     "iopub.status.idle": "2022-12-31T19:41:50.024617Z",
     "shell.execute_reply": "2022-12-31T19:41:50.023520Z"
    },
    "papermill": {
     "duration": 0.030554,
     "end_time": "2022-12-31T19:41:50.026876",
     "exception": false,
     "start_time": "2022-12-31T19:41:49.996322",
     "status": "completed"
    },
    "tags": []
   },
   "outputs": [
    {
     "name": "stdout",
     "output_type": "stream",
     "text": [
      "US        54504\n",
      "France    22093\n",
      "          ...  \n",
      "China         1\n",
      "Egypt         1\n",
      "Name: country, Length: 43, dtype: int64\n"
     ]
    },
    {
     "data": {
      "application/javascript": [
       "parent.postMessage({\"jupyterEvent\": \"custom.exercise_interaction\", \"data\": {\"outcomeType\": 1, \"valueTowardsCompletion\": 0.14285714285714285, \"interactionType\": 1, \"questionType\": 1, \"questionId\": \"3_ReviewsPerCountry\", \"learnToolsVersion\": \"0.3.4\", \"failureMessage\": \"\", \"exceptionClass\": \"\", \"trace\": \"\"}}, \"*\")"
      ],
      "text/plain": [
       "<IPython.core.display.Javascript object>"
      ]
     },
     "metadata": {},
     "output_type": "display_data"
    },
    {
     "data": {
      "text/markdown": [
       "<span style=\"color:#33cc33\">Correct</span>"
      ],
      "text/plain": [
       "Correct"
      ]
     },
     "metadata": {},
     "output_type": "display_data"
    }
   ],
   "source": [
    "reviews_per_country = reviews.country.value_counts()\n",
    "print(reviews_per_country)\n",
    "\n",
    "# Check your answer\n",
    "q3.check()"
   ]
  },
  {
   "cell_type": "code",
   "execution_count": 7,
   "id": "2da85530",
   "metadata": {
    "execution": {
     "iopub.execute_input": "2022-12-31T19:41:50.042444Z",
     "iopub.status.busy": "2022-12-31T19:41:50.042054Z",
     "iopub.status.idle": "2022-12-31T19:41:50.046742Z",
     "shell.execute_reply": "2022-12-31T19:41:50.045682Z"
    },
    "papermill": {
     "duration": 0.01506,
     "end_time": "2022-12-31T19:41:50.048942",
     "exception": false,
     "start_time": "2022-12-31T19:41:50.033882",
     "status": "completed"
    },
    "tags": []
   },
   "outputs": [],
   "source": [
    "#q3.hint()\n",
    "#q3.solution()"
   ]
  },
  {
   "cell_type": "markdown",
   "id": "0f8f1c11",
   "metadata": {
    "papermill": {
     "duration": 0.006855,
     "end_time": "2022-12-31T19:41:50.062998",
     "exception": false,
     "start_time": "2022-12-31T19:41:50.056143",
     "status": "completed"
    },
    "tags": []
   },
   "source": [
    "## 4.\n",
    "Create variable `centered_price` containing a version of the `price` column with the mean price subtracted.\n",
    "\n",
    "(Note: this 'centering' transformation is a common preprocessing step before applying various machine learning algorithms.) "
   ]
  },
  {
   "cell_type": "code",
   "execution_count": 8,
   "id": "fa1868f0",
   "metadata": {
    "execution": {
     "iopub.execute_input": "2022-12-31T19:41:50.078712Z",
     "iopub.status.busy": "2022-12-31T19:41:50.078312Z",
     "iopub.status.idle": "2022-12-31T19:41:50.145456Z",
     "shell.execute_reply": "2022-12-31T19:41:50.144144Z"
    },
    "papermill": {
     "duration": 0.07787,
     "end_time": "2022-12-31T19:41:50.147874",
     "exception": false,
     "start_time": "2022-12-31T19:41:50.070004",
     "status": "completed"
    },
    "tags": []
   },
   "outputs": [
    {
     "name": "stdout",
     "output_type": "stream",
     "text": [
      "0               NaN\n",
      "1        -20.363389\n",
      "            ...    \n",
      "129969    -3.363389\n",
      "129970   -14.363389\n",
      "Name: price, Length: 129971, dtype: float64\n"
     ]
    },
    {
     "data": {
      "application/javascript": [
       "parent.postMessage({\"jupyterEvent\": \"custom.exercise_interaction\", \"data\": {\"outcomeType\": 1, \"valueTowardsCompletion\": 0.14285714285714285, \"interactionType\": 1, \"questionType\": 1, \"questionId\": \"4_CenteredPrice\", \"learnToolsVersion\": \"0.3.4\", \"failureMessage\": \"\", \"exceptionClass\": \"\", \"trace\": \"\"}}, \"*\")"
      ],
      "text/plain": [
       "<IPython.core.display.Javascript object>"
      ]
     },
     "metadata": {},
     "output_type": "display_data"
    },
    {
     "data": {
      "text/markdown": [
       "<span style=\"color:#33cc33\">Correct</span>"
      ],
      "text/plain": [
       "Correct"
      ]
     },
     "metadata": {},
     "output_type": "display_data"
    }
   ],
   "source": [
    "price_mean = reviews.price.mean()\n",
    "centered_price = reviews.price.map(lambda price: price - price_mean)\n",
    "print(centered_price)\n",
    "# Check your answer\n",
    "q4.check()"
   ]
  },
  {
   "cell_type": "code",
   "execution_count": 9,
   "id": "e0dabe09",
   "metadata": {
    "execution": {
     "iopub.execute_input": "2022-12-31T19:41:50.164295Z",
     "iopub.status.busy": "2022-12-31T19:41:50.163913Z",
     "iopub.status.idle": "2022-12-31T19:41:50.168324Z",
     "shell.execute_reply": "2022-12-31T19:41:50.167284Z"
    },
    "papermill": {
     "duration": 0.015007,
     "end_time": "2022-12-31T19:41:50.170469",
     "exception": false,
     "start_time": "2022-12-31T19:41:50.155462",
     "status": "completed"
    },
    "tags": []
   },
   "outputs": [],
   "source": [
    "#q4.hint()\n",
    "#q4.solution()"
   ]
  },
  {
   "cell_type": "markdown",
   "id": "f67a6d79",
   "metadata": {
    "papermill": {
     "duration": 0.007088,
     "end_time": "2022-12-31T19:41:50.184949",
     "exception": false,
     "start_time": "2022-12-31T19:41:50.177861",
     "status": "completed"
    },
    "tags": []
   },
   "source": [
    "## 5.\n",
    "I'm an economical wine buyer. Which wine is the \"best bargain\"? Create a variable `bargain_wine` with the title of the wine with the highest points-to-price ratio in the dataset."
   ]
  },
  {
   "cell_type": "code",
   "execution_count": 10,
   "id": "f3fd21ac",
   "metadata": {
    "execution": {
     "iopub.execute_input": "2022-12-31T19:41:50.201809Z",
     "iopub.status.busy": "2022-12-31T19:41:50.201371Z",
     "iopub.status.idle": "2022-12-31T19:41:50.216372Z",
     "shell.execute_reply": "2022-12-31T19:41:50.214930Z"
    },
    "papermill": {
     "duration": 0.025993,
     "end_time": "2022-12-31T19:41:50.218657",
     "exception": false,
     "start_time": "2022-12-31T19:41:50.192664",
     "status": "completed"
    },
    "tags": []
   },
   "outputs": [
    {
     "name": "stdout",
     "output_type": "stream",
     "text": [
      "Bandit NV Merlot (California)\n"
     ]
    },
    {
     "data": {
      "application/javascript": [
       "parent.postMessage({\"jupyterEvent\": \"custom.exercise_interaction\", \"data\": {\"outcomeType\": 1, \"valueTowardsCompletion\": 0.14285714285714285, \"interactionType\": 1, \"questionType\": 2, \"questionId\": \"5_BargainWine\", \"learnToolsVersion\": \"0.3.4\", \"failureMessage\": \"\", \"exceptionClass\": \"\", \"trace\": \"\"}}, \"*\")"
      ],
      "text/plain": [
       "<IPython.core.display.Javascript object>"
      ]
     },
     "metadata": {},
     "output_type": "display_data"
    },
    {
     "data": {
      "text/markdown": [
       "<span style=\"color:#33cc33\">Correct</span>"
      ],
      "text/plain": [
       "Correct"
      ]
     },
     "metadata": {},
     "output_type": "display_data"
    }
   ],
   "source": [
    "max_bargain = (reviews.points / reviews.price).idxmax()\n",
    "bargain_wine = reviews.loc[max_bargain, 'title']\n",
    "print(bargain_wine)\n",
    "\n",
    "# Check your answer\n",
    "q5.check()"
   ]
  },
  {
   "cell_type": "code",
   "execution_count": 11,
   "id": "54c56cb6",
   "metadata": {
    "execution": {
     "iopub.execute_input": "2022-12-31T19:41:50.235732Z",
     "iopub.status.busy": "2022-12-31T19:41:50.235311Z",
     "iopub.status.idle": "2022-12-31T19:41:50.239855Z",
     "shell.execute_reply": "2022-12-31T19:41:50.238615Z"
    },
    "papermill": {
     "duration": 0.015513,
     "end_time": "2022-12-31T19:41:50.241992",
     "exception": false,
     "start_time": "2022-12-31T19:41:50.226479",
     "status": "completed"
    },
    "tags": []
   },
   "outputs": [],
   "source": [
    "#q5.hint()\n",
    "#q5.solution()"
   ]
  },
  {
   "cell_type": "markdown",
   "id": "1b613c3a",
   "metadata": {
    "papermill": {
     "duration": 0.00771,
     "end_time": "2022-12-31T19:41:50.257443",
     "exception": false,
     "start_time": "2022-12-31T19:41:50.249733",
     "status": "completed"
    },
    "tags": []
   },
   "source": [
    "## 6.\n",
    "There are only so many words you can use when describing a bottle of wine. Is a wine more likely to be \"tropical\" or \"fruity\"? Create a Series `descriptor_counts` counting how many times each of these two words appears in the `description` column in the dataset. (For simplicity, let's ignore the capitalized versions of these words.)"
   ]
  },
  {
   "cell_type": "code",
   "execution_count": 12,
   "id": "2385d42d",
   "metadata": {
    "execution": {
     "iopub.execute_input": "2022-12-31T19:41:50.274756Z",
     "iopub.status.busy": "2022-12-31T19:41:50.274301Z",
     "iopub.status.idle": "2022-12-31T19:41:50.421028Z",
     "shell.execute_reply": "2022-12-31T19:41:50.419489Z"
    },
    "papermill": {
     "duration": 0.15846,
     "end_time": "2022-12-31T19:41:50.423662",
     "exception": false,
     "start_time": "2022-12-31T19:41:50.265202",
     "status": "completed"
    },
    "tags": []
   },
   "outputs": [
    {
     "name": "stdout",
     "output_type": "stream",
     "text": [
      "tropical    3607\n",
      "fruity      9090\n",
      "dtype: int64\n"
     ]
    },
    {
     "data": {
      "application/javascript": [
       "parent.postMessage({\"jupyterEvent\": \"custom.exercise_interaction\", \"data\": {\"outcomeType\": 1, \"valueTowardsCompletion\": 0.14285714285714285, \"interactionType\": 1, \"questionType\": 1, \"questionId\": \"6_DescriptorCounts\", \"learnToolsVersion\": \"0.3.4\", \"failureMessage\": \"\", \"exceptionClass\": \"\", \"trace\": \"\"}}, \"*\")"
      ],
      "text/plain": [
       "<IPython.core.display.Javascript object>"
      ]
     },
     "metadata": {},
     "output_type": "display_data"
    },
    {
     "data": {
      "text/markdown": [
       "<span style=\"color:#33cc33\">Correct</span>"
      ],
      "text/plain": [
       "Correct"
      ]
     },
     "metadata": {},
     "output_type": "display_data"
    }
   ],
   "source": [
    "tropical = reviews.description.map(lambda desc: 'tropical' in desc).sum()\n",
    "fruity = reviews.description.map(lambda desc: 'fruity' in desc).sum()\n",
    "descriptor_counts = pd.Series([tropical, fruity], index=['tropical', 'fruity'])\n",
    "print(descriptor_counts)\n",
    "\n",
    "\n",
    "\n",
    "# Check your answer\n",
    "q6.check()"
   ]
  },
  {
   "cell_type": "code",
   "execution_count": 13,
   "id": "b3ee05a9",
   "metadata": {
    "execution": {
     "iopub.execute_input": "2022-12-31T19:41:50.442444Z",
     "iopub.status.busy": "2022-12-31T19:41:50.442056Z",
     "iopub.status.idle": "2022-12-31T19:41:50.446144Z",
     "shell.execute_reply": "2022-12-31T19:41:50.444888Z"
    },
    "papermill": {
     "duration": 0.016591,
     "end_time": "2022-12-31T19:41:50.448682",
     "exception": false,
     "start_time": "2022-12-31T19:41:50.432091",
     "status": "completed"
    },
    "tags": []
   },
   "outputs": [],
   "source": [
    "#q6.hint()\n",
    "#q6.solution()"
   ]
  },
  {
   "cell_type": "markdown",
   "id": "c066af1a",
   "metadata": {
    "papermill": {
     "duration": 0.007944,
     "end_time": "2022-12-31T19:41:50.465165",
     "exception": false,
     "start_time": "2022-12-31T19:41:50.457221",
     "status": "completed"
    },
    "tags": []
   },
   "source": [
    "## 7.\n",
    "We'd like to host these wine reviews on our website, but a rating system ranging from 80 to 100 points is too hard to understand - we'd like to translate them into simple star ratings. A score of 95 or higher counts as 3 stars, a score of at least 85 but less than 95 is 2 stars. Any other score is 1 star.\n",
    "\n",
    "Also, the Canadian Vintners Association bought a lot of ads on the site, so any wines from Canada should automatically get 3 stars, regardless of points.\n",
    "\n",
    "Create a series `star_ratings` with the number of stars corresponding to each review in the dataset."
   ]
  },
  {
   "cell_type": "code",
   "execution_count": 14,
   "id": "f6d4f8ad",
   "metadata": {
    "execution": {
     "iopub.execute_input": "2022-12-31T19:41:50.483114Z",
     "iopub.status.busy": "2022-12-31T19:41:50.482731Z",
     "iopub.status.idle": "2022-12-31T19:41:54.397968Z",
     "shell.execute_reply": "2022-12-31T19:41:54.396606Z"
    },
    "papermill": {
     "duration": 3.926985,
     "end_time": "2022-12-31T19:41:54.400232",
     "exception": false,
     "start_time": "2022-12-31T19:41:50.473247",
     "status": "completed"
    },
    "tags": []
   },
   "outputs": [
    {
     "name": "stdout",
     "output_type": "stream",
     "text": [
      "0         2\n",
      "1         2\n",
      "         ..\n",
      "129969    2\n",
      "129970    2\n",
      "Length: 129971, dtype: int64\n"
     ]
    },
    {
     "data": {
      "application/javascript": [
       "parent.postMessage({\"jupyterEvent\": \"custom.exercise_interaction\", \"data\": {\"outcomeType\": 1, \"valueTowardsCompletion\": 0.14285714285714285, \"interactionType\": 1, \"questionType\": 1, \"questionId\": \"7_StarRatings\", \"learnToolsVersion\": \"0.3.4\", \"failureMessage\": \"\", \"exceptionClass\": \"\", \"trace\": \"\"}}, \"*\")"
      ],
      "text/plain": [
       "<IPython.core.display.Javascript object>"
      ]
     },
     "metadata": {},
     "output_type": "display_data"
    },
    {
     "data": {
      "text/markdown": [
       "<span style=\"color:#33cc33\">Correct</span>"
      ],
      "text/plain": [
       "Correct"
      ]
     },
     "metadata": {},
     "output_type": "display_data"
    }
   ],
   "source": [
    "def get_stars(row):\n",
    "    if row.country == 'Canada':\n",
    "        return 3\n",
    "    if row.points >= 95:\n",
    "        return 3\n",
    "    elif row.points >= 85:\n",
    "        return 2\n",
    "    else:\n",
    "        return 1\n",
    "    \n",
    "star_ratings = reviews.apply(get_stars, axis='columns')\n",
    "print(star_ratings)\n",
    "\n",
    "# Check your answer\n",
    "q7.check()"
   ]
  },
  {
   "cell_type": "code",
   "execution_count": 15,
   "id": "3e237d85",
   "metadata": {
    "execution": {
     "iopub.execute_input": "2022-12-31T19:41:54.419022Z",
     "iopub.status.busy": "2022-12-31T19:41:54.418578Z",
     "iopub.status.idle": "2022-12-31T19:41:54.423713Z",
     "shell.execute_reply": "2022-12-31T19:41:54.422529Z"
    },
    "papermill": {
     "duration": 0.01717,
     "end_time": "2022-12-31T19:41:54.425989",
     "exception": false,
     "start_time": "2022-12-31T19:41:54.408819",
     "status": "completed"
    },
    "tags": []
   },
   "outputs": [],
   "source": [
    "#q7.hint()\n",
    "#q7.solution()"
   ]
  },
  {
   "cell_type": "markdown",
   "id": "69faceae",
   "metadata": {
    "papermill": {
     "duration": 0.008103,
     "end_time": "2022-12-31T19:41:54.442852",
     "exception": false,
     "start_time": "2022-12-31T19:41:54.434749",
     "status": "completed"
    },
    "tags": []
   },
   "source": [
    "# Keep going\n",
    "Continue to **[grouping and sorting](https://www.kaggle.com/residentmario/grouping-and-sorting)**."
   ]
  },
  {
   "cell_type": "markdown",
   "id": "5ba7c539",
   "metadata": {
    "papermill": {
     "duration": 0.008018,
     "end_time": "2022-12-31T19:41:54.459192",
     "exception": false,
     "start_time": "2022-12-31T19:41:54.451174",
     "status": "completed"
    },
    "tags": []
   },
   "source": [
    "---\n",
    "\n",
    "\n",
    "\n",
    "\n",
    "*Have questions or comments? Visit the [course discussion forum](https://www.kaggle.com/learn/pandas/discussion) to chat with other learners.*"
   ]
  }
 ],
 "metadata": {
  "kernelspec": {
   "display_name": "Python 3",
   "language": "python",
   "name": "python3"
  },
  "language_info": {
   "codemirror_mode": {
    "name": "ipython",
    "version": 3
   },
   "file_extension": ".py",
   "mimetype": "text/x-python",
   "name": "python",
   "nbconvert_exporter": "python",
   "pygments_lexer": "ipython3",
   "version": "3.7.12"
  },
  "papermill": {
   "default_parameters": {},
   "duration": 20.72405,
   "end_time": "2022-12-31T19:41:55.189239",
   "environment_variables": {},
   "exception": null,
   "input_path": "__notebook__.ipynb",
   "output_path": "__notebook__.ipynb",
   "parameters": {},
   "start_time": "2022-12-31T19:41:34.465189",
   "version": "2.3.4"
  }
 },
 "nbformat": 4,
 "nbformat_minor": 5
}
