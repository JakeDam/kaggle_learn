{
 "cells": [
  {
   "cell_type": "markdown",
   "id": "a90d8eae",
   "metadata": {
    "papermill": {
     "duration": 0.008001,
     "end_time": "2022-12-07T20:40:55.048764",
     "exception": false,
     "start_time": "2022-12-07T20:40:55.040763",
     "status": "completed"
    },
    "tags": []
   },
   "source": [
    "**This notebook is an exercise in the [Python](https://www.kaggle.com/learn/python) course.  You can reference the tutorial at [this link](https://www.kaggle.com/colinmorris/hello-python).**\n",
    "\n",
    "---\n"
   ]
  },
  {
   "cell_type": "markdown",
   "id": "606d2b83",
   "metadata": {
    "papermill": {
     "duration": 0.006255,
     "end_time": "2022-12-07T20:40:55.061614",
     "exception": false,
     "start_time": "2022-12-07T20:40:55.055359",
     "status": "completed"
    },
    "tags": []
   },
   "source": [
    "Welcome to your first set of Python coding problems.  If this is your first time using Kaggle Notebooks, welcome! \n",
    "\n",
    "Notebooks are composed of blocks (called \"cells\") of text and code. Each of these is editable, though you'll mainly be editing the code cells to answer some questions.\n",
    "\n",
    "To get started, try running the code cell below (by pressing the ► button, or clicking on the cell and pressing ctrl+enter on your keyboard)."
   ]
  },
  {
   "cell_type": "code",
   "execution_count": 1,
   "id": "5f154b06",
   "metadata": {
    "execution": {
     "iopub.execute_input": "2022-12-07T20:40:55.077414Z",
     "iopub.status.busy": "2022-12-07T20:40:55.076555Z",
     "iopub.status.idle": "2022-12-07T20:40:55.088245Z",
     "shell.execute_reply": "2022-12-07T20:40:55.087115Z"
    },
    "papermill": {
     "duration": 0.022914,
     "end_time": "2022-12-07T20:40:55.090932",
     "exception": false,
     "start_time": "2022-12-07T20:40:55.068018",
     "status": "completed"
    },
    "tags": []
   },
   "outputs": [
    {
     "name": "stdout",
     "output_type": "stream",
     "text": [
      "You've successfully run some Python code\n",
      "Congratulations!\n",
      "yo, dawg\n"
     ]
    }
   ],
   "source": [
    "print(\"You've successfully run some Python code\")\n",
    "print(\"Congratulations!\")\n",
    "print(\"yo, dawg\")"
   ]
  },
  {
   "cell_type": "code",
   "execution_count": 2,
   "id": "3dda9489",
   "metadata": {
    "execution": {
     "iopub.execute_input": "2022-12-07T20:40:55.106770Z",
     "iopub.status.busy": "2022-12-07T20:40:55.105906Z",
     "iopub.status.idle": "2022-12-07T20:40:55.112093Z",
     "shell.execute_reply": "2022-12-07T20:40:55.110651Z"
    },
    "papermill": {
     "duration": 0.017305,
     "end_time": "2022-12-07T20:40:55.114930",
     "exception": false,
     "start_time": "2022-12-07T20:40:55.097625",
     "status": "completed"
    },
    "tags": []
   },
   "outputs": [
    {
     "name": "stdout",
     "output_type": "stream",
     "text": [
      "sup, yo\n"
     ]
    }
   ],
   "source": [
    "print(\"sup, yo\")"
   ]
  },
  {
   "cell_type": "markdown",
   "id": "55e259bd",
   "metadata": {
    "papermill": {
     "duration": 0.006284,
     "end_time": "2022-12-07T20:40:55.128081",
     "exception": false,
     "start_time": "2022-12-07T20:40:55.121797",
     "status": "completed"
    },
    "tags": []
   },
   "source": [
    "Try adding another line of code in the cell above and re-running it. \n",
    "\n",
    "Now let's get a little fancier:  Add a new code cell by clicking on an existing code cell, hitting the escape key, and then hitting the `a` or `b` key.  The `a` key will add a cell above the current cell, and `b` adds a cell below.\n",
    "\n",
    "Great! Now you know how to use Notebooks.\n",
    "\n",
    "Each hands-on exercise starts by setting up our feedback and code checking mechanism. Run the code cell below to do that. Then you'll be ready to move on to question 0."
   ]
  },
  {
   "cell_type": "code",
   "execution_count": 3,
   "id": "e45bba45",
   "metadata": {
    "_kg_hide-input": true,
    "_kg_hide-output": true,
    "execution": {
     "iopub.execute_input": "2022-12-07T20:40:55.143268Z",
     "iopub.status.busy": "2022-12-07T20:40:55.142861Z",
     "iopub.status.idle": "2022-12-07T20:40:55.197634Z",
     "shell.execute_reply": "2022-12-07T20:40:55.195697Z"
    },
    "papermill": {
     "duration": 0.066103,
     "end_time": "2022-12-07T20:40:55.200897",
     "exception": false,
     "start_time": "2022-12-07T20:40:55.134794",
     "status": "completed"
    },
    "tags": []
   },
   "outputs": [
    {
     "name": "stdout",
     "output_type": "stream",
     "text": [
      "Setup complete! You're ready to start question 0.\n"
     ]
    }
   ],
   "source": [
    "from learntools.core import binder; binder.bind(globals())\n",
    "from learntools.python.ex1 import *\n",
    "print(\"Setup complete! You're ready to start question 0.\")"
   ]
  },
  {
   "cell_type": "markdown",
   "id": "a0cef715",
   "metadata": {
    "papermill": {
     "duration": 0.006389,
     "end_time": "2022-12-07T20:40:55.214514",
     "exception": false,
     "start_time": "2022-12-07T20:40:55.208125",
     "status": "completed"
    },
    "tags": []
   },
   "source": [
    "# 0.\n",
    "\n",
    "*This is a silly question intended as an introduction to the format we use for hands-on exercises throughout all Kaggle courses.*\n",
    "\n",
    "**What is your favorite color? **\n",
    "\n",
    "To complete this question, create a variable called `color` in the cell below with an appropriate value. The function call `q0.check()` (which we've already provided in the cell below) will check your answer."
   ]
  },
  {
   "cell_type": "code",
   "execution_count": 4,
   "id": "9e6e3efe",
   "metadata": {
    "execution": {
     "iopub.execute_input": "2022-12-07T20:40:55.231178Z",
     "iopub.status.busy": "2022-12-07T20:40:55.230788Z",
     "iopub.status.idle": "2022-12-07T20:40:55.243859Z",
     "shell.execute_reply": "2022-12-07T20:40:55.242518Z"
    },
    "papermill": {
     "duration": 0.02334,
     "end_time": "2022-12-07T20:40:55.246183",
     "exception": false,
     "start_time": "2022-12-07T20:40:55.222843",
     "status": "completed"
    },
    "tags": []
   },
   "outputs": [
    {
     "data": {
      "application/javascript": [
       "parent.postMessage({\"jupyterEvent\": \"custom.exercise_interaction\", \"data\": {\"outcomeType\": 1, \"valueTowardsCompletion\": 0.25, \"interactionType\": 1, \"questionType\": 2, \"questionId\": \"0_ExerciseFormatTutorial\", \"learnToolsVersion\": \"0.3.4\", \"failureMessage\": \"\", \"exceptionClass\": \"\", \"trace\": \"\"}}, \"*\")"
      ],
      "text/plain": [
       "<IPython.core.display.Javascript object>"
      ]
     },
     "metadata": {},
     "output_type": "display_data"
    },
    {
     "data": {
      "text/markdown": [
       "<span style=\"color:#33cc33\">Correct:</span> What?! You got it right without needing a hint or anything? Drats. Well hey, you should still continue to the next step to get some practice asking for a hint and checking solutions. (Even though you obviously don't need any help here.)"
      ],
      "text/plain": [
       "Correct: What?! You got it right without needing a hint or anything? Drats. Well hey, you should still continue to the next step to get some practice asking for a hint and checking solutions. (Even though you obviously don't need any help here.)"
      ]
     },
     "metadata": {},
     "output_type": "display_data"
    }
   ],
   "source": [
    "# create a variable called color with an appropriate value on the line below\n",
    "# (Remember, strings in Python must be enclosed in 'single' or \"double\" quotes)\n",
    "color = \"blue\"\n",
    "\n",
    "# Check your answer\n",
    "q0.check()"
   ]
  },
  {
   "cell_type": "markdown",
   "id": "2d9ec39e",
   "metadata": {
    "papermill": {
     "duration": 0.006606,
     "end_time": "2022-12-07T20:40:55.259881",
     "exception": false,
     "start_time": "2022-12-07T20:40:55.253275",
     "status": "completed"
    },
    "tags": []
   },
   "source": [
    "Didn't get the right answer? How do you not even know your own favorite color?!\n",
    "\n",
    "Delete the `#` in the line below to make one of the lines run. You can choose between getting a hint or the full answer by choosing which line to remove the `#` from. \n",
    "\n",
    "Removing the `#` is called uncommenting, because it changes that line from a \"comment\" which Python doesn't run to code, which Python does run."
   ]
  },
  {
   "cell_type": "code",
   "execution_count": 5,
   "id": "1aec091e",
   "metadata": {
    "execution": {
     "iopub.execute_input": "2022-12-07T20:40:55.275969Z",
     "iopub.status.busy": "2022-12-07T20:40:55.275441Z",
     "iopub.status.idle": "2022-12-07T20:40:55.287904Z",
     "shell.execute_reply": "2022-12-07T20:40:55.286756Z"
    },
    "papermill": {
     "duration": 0.023514,
     "end_time": "2022-12-07T20:40:55.290216",
     "exception": false,
     "start_time": "2022-12-07T20:40:55.266702",
     "status": "completed"
    },
    "tags": []
   },
   "outputs": [
    {
     "data": {
      "application/javascript": [
       "parent.postMessage({\"jupyterEvent\": \"custom.exercise_interaction\", \"data\": {\"interactionType\": 2, \"questionType\": 2, \"questionId\": \"0_ExerciseFormatTutorial\", \"learnToolsVersion\": \"0.3.4\", \"valueTowardsCompletion\": 0.0, \"failureMessage\": \"\", \"exceptionClass\": \"\", \"trace\": \"\", \"outcomeType\": 4}}, \"*\")"
      ],
      "text/plain": [
       "<IPython.core.display.Javascript object>"
      ]
     },
     "metadata": {},
     "output_type": "display_data"
    },
    {
     "data": {
      "text/markdown": [
       "<span style=\"color:#3366cc\">Hint:</span> Your favorite color rhymes with *glue*."
      ],
      "text/plain": [
       "Hint: Your favorite color rhymes with *glue*."
      ]
     },
     "metadata": {},
     "output_type": "display_data"
    },
    {
     "data": {
      "application/javascript": [
       "parent.postMessage({\"jupyterEvent\": \"custom.exercise_interaction\", \"data\": {\"interactionType\": 3, \"questionType\": 2, \"questionId\": \"0_ExerciseFormatTutorial\", \"learnToolsVersion\": \"0.3.4\", \"valueTowardsCompletion\": 0.0, \"failureMessage\": \"\", \"exceptionClass\": \"\", \"trace\": \"\", \"outcomeType\": 4}}, \"*\")"
      ],
      "text/plain": [
       "<IPython.core.display.Javascript object>"
      ]
     },
     "metadata": {},
     "output_type": "display_data"
    },
    {
     "data": {
      "text/markdown": [
       "<span style=\"color:#33cc99\">Solution:</span> \n",
       "```python\n",
       "color = \"blue\"\n",
       "```"
      ],
      "text/plain": [
       "Solution: \n",
       "```python\n",
       "color = \"blue\"\n",
       "```"
      ]
     },
     "metadata": {},
     "output_type": "display_data"
    }
   ],
   "source": [
    "q0.hint()\n",
    "q0.solution()"
   ]
  },
  {
   "cell_type": "markdown",
   "id": "87c004b2",
   "metadata": {
    "papermill": {
     "duration": 0.007163,
     "end_time": "2022-12-07T20:40:55.304770",
     "exception": false,
     "start_time": "2022-12-07T20:40:55.297607",
     "status": "completed"
    },
    "tags": []
   },
   "source": [
    "The upcoming questions work the same way. The only thing that will change are the question numbers. For the next question, you'll call `q1.check()`, `q1.hint()`, `q1.solution()`, for question 2, you'll call `q2.check()`, and so on."
   ]
  },
  {
   "cell_type": "markdown",
   "id": "c92cc8c7",
   "metadata": {
    "papermill": {
     "duration": 0.007045,
     "end_time": "2022-12-07T20:40:55.319344",
     "exception": false,
     "start_time": "2022-12-07T20:40:55.312299",
     "status": "completed"
    },
    "tags": []
   },
   "source": [
    "<hr/>\n",
    "\n",
    "# 1.\n",
    "\n",
    "Complete the code below. In case it's helpful, here is the table of available arithmetic operations:\n",
    "\n",
    "\n",
    "\n",
    "| Operator     | Name           | Description                                            |\n",
    "|--------------|----------------|--------------------------------------------------------|\n",
    "| ``a + b``    | Addition       | Sum of ``a`` and ``b``                                 |\n",
    "| ``a - b``    | Subtraction    | Difference of ``a`` and ``b``                          |\n",
    "| ``a * b``    | Multiplication | Product of ``a`` and ``b``                             |\n",
    "| ``a / b``    | True division  | Quotient of ``a`` and ``b``                            |\n",
    "| ``a // b``   | Floor division | Quotient of ``a`` and ``b``, removing fractional parts |\n",
    "| ``a % b``    | Modulus        | Integer remainder after division of ``a`` by ``b``     |\n",
    "| ``a ** b``   | Exponentiation | ``a`` raised to the power of ``b``                     |\n",
    "| ``-a``       | Negation       | The negative of ``a``                                  |\n",
    "\n",
    "<span style=\"display:none\"></span>\n"
   ]
  },
  {
   "cell_type": "code",
   "execution_count": 6,
   "id": "920ca34b",
   "metadata": {
    "execution": {
     "iopub.execute_input": "2022-12-07T20:40:55.336678Z",
     "iopub.status.busy": "2022-12-07T20:40:55.336143Z",
     "iopub.status.idle": "2022-12-07T20:40:55.346397Z",
     "shell.execute_reply": "2022-12-07T20:40:55.345253Z"
    },
    "papermill": {
     "duration": 0.021861,
     "end_time": "2022-12-07T20:40:55.348706",
     "exception": false,
     "start_time": "2022-12-07T20:40:55.326845",
     "status": "completed"
    },
    "tags": []
   },
   "outputs": [
    {
     "data": {
      "application/javascript": [
       "parent.postMessage({\"jupyterEvent\": \"custom.exercise_interaction\", \"data\": {\"outcomeType\": 1, \"valueTowardsCompletion\": 0.25, \"interactionType\": 1, \"questionType\": 1, \"questionId\": \"1_CircleArea\", \"learnToolsVersion\": \"0.3.4\", \"failureMessage\": \"\", \"exceptionClass\": \"\", \"trace\": \"\"}}, \"*\")"
      ],
      "text/plain": [
       "<IPython.core.display.Javascript object>"
      ]
     },
     "metadata": {},
     "output_type": "display_data"
    },
    {
     "data": {
      "text/markdown": [
       "<span style=\"color:#33cc33\">Correct</span>"
      ],
      "text/plain": [
       "Correct"
      ]
     },
     "metadata": {},
     "output_type": "display_data"
    }
   ],
   "source": [
    "pi = 3.14159 # approximate\n",
    "diameter = 3\n",
    "\n",
    "# Create a variable called 'radius' equal to half the diameter\n",
    "radius = diameter / 2\n",
    "\n",
    "# Create a variable called 'area', using the formula for the area of a circle: pi times the radius squared\n",
    "area = pi * radius ** 2\n",
    "\n",
    "# Check your answer\n",
    "q1.check()"
   ]
  },
  {
   "cell_type": "code",
   "execution_count": 7,
   "id": "f9b0a181",
   "metadata": {
    "execution": {
     "iopub.execute_input": "2022-12-07T20:40:55.366358Z",
     "iopub.status.busy": "2022-12-07T20:40:55.365878Z",
     "iopub.status.idle": "2022-12-07T20:40:55.370995Z",
     "shell.execute_reply": "2022-12-07T20:40:55.369578Z"
    },
    "papermill": {
     "duration": 0.016821,
     "end_time": "2022-12-07T20:40:55.373310",
     "exception": false,
     "start_time": "2022-12-07T20:40:55.356489",
     "status": "completed"
    },
    "tags": []
   },
   "outputs": [],
   "source": [
    "# Uncomment and run the lines below if you need help.\n",
    "#q1.hint()\n",
    "#q1.solution()"
   ]
  },
  {
   "cell_type": "markdown",
   "id": "7c9cd9cc",
   "metadata": {
    "papermill": {
     "duration": 0.007412,
     "end_time": "2022-12-07T20:40:55.388506",
     "exception": false,
     "start_time": "2022-12-07T20:40:55.381094",
     "status": "completed"
    },
    "tags": []
   },
   "source": [
    "<hr/>\n",
    "\n",
    "# 2.\n",
    "\n",
    "Add code to the following cell to swap variables `a` and `b` (so that `a` refers to the object previously referred to by `b` and vice versa)."
   ]
  },
  {
   "cell_type": "code",
   "execution_count": 8,
   "id": "0618368e",
   "metadata": {
    "execution": {
     "iopub.execute_input": "2022-12-07T20:40:55.406084Z",
     "iopub.status.busy": "2022-12-07T20:40:55.405548Z",
     "iopub.status.idle": "2022-12-07T20:40:55.415248Z",
     "shell.execute_reply": "2022-12-07T20:40:55.414438Z"
    },
    "papermill": {
     "duration": 0.021188,
     "end_time": "2022-12-07T20:40:55.417375",
     "exception": false,
     "start_time": "2022-12-07T20:40:55.396187",
     "status": "completed"
    },
    "tags": []
   },
   "outputs": [
    {
     "data": {
      "application/javascript": [
       "parent.postMessage({\"jupyterEvent\": \"custom.exercise_interaction\", \"data\": {\"outcomeType\": 1, \"valueTowardsCompletion\": 0.25, \"interactionType\": 1, \"questionType\": 2, \"questionId\": \"2_VariableSwap\", \"learnToolsVersion\": \"0.3.4\", \"failureMessage\": \"\", \"exceptionClass\": \"\", \"trace\": \"\"}}, \"*\")"
      ],
      "text/plain": [
       "<IPython.core.display.Javascript object>"
      ]
     },
     "metadata": {},
     "output_type": "display_data"
    },
    {
     "data": {
      "text/markdown": [
       "<span style=\"color:#33cc33\">Correct:</span> \n",
       "\n",
       "The most straightforward solution is to use a third variable to temporarily store one of the old values. e.g.:\n",
       "\n",
       "    tmp = a\n",
       "    a = b\n",
       "    b = tmp\n",
       "\n",
       "If you've read lots of Python code, you might have seen the following trick to swap two variables in one line:\n",
       "\n",
       "    a, b = b, a\n",
       "\n",
       "We'll demystify this bit of Python magic later when we talk about *tuples*."
      ],
      "text/plain": [
       "Correct: \n",
       "\n",
       "The most straightforward solution is to use a third variable to temporarily store one of the old values. e.g.:\n",
       "\n",
       "    tmp = a\n",
       "    a = b\n",
       "    b = tmp\n",
       "\n",
       "If you've read lots of Python code, you might have seen the following trick to swap two variables in one line:\n",
       "\n",
       "    a, b = b, a\n",
       "\n",
       "We'll demystify this bit of Python magic later when we talk about *tuples*."
      ]
     },
     "metadata": {},
     "output_type": "display_data"
    }
   ],
   "source": [
    "########### Setup code - don't touch this part ######################\n",
    "# If you're curious, these are examples of lists. We'll talk about \n",
    "# them in depth a few lessons from now. For now, just know that they're\n",
    "# yet another type of Python object, like int or float.\n",
    "a = [1, 2, 3]\n",
    "b = [3, 2, 1]\n",
    "q2.store_original_ids()\n",
    "######################################################################\n",
    "\n",
    "# Your code goes here. Swap the values to which a and b refer.\n",
    "# If you get stuck, you can always uncomment one or both of the lines in\n",
    "# the next cell for a hint, or to peek at the solution.\n",
    "temp = a\n",
    "a = b\n",
    "b = temp\n",
    "\n",
    "######################################################################\n",
    "\n",
    "# Check your answer\n",
    "q2.check()"
   ]
  },
  {
   "cell_type": "code",
   "execution_count": 9,
   "id": "c439cb2c",
   "metadata": {
    "execution": {
     "iopub.execute_input": "2022-12-07T20:40:55.435524Z",
     "iopub.status.busy": "2022-12-07T20:40:55.434814Z",
     "iopub.status.idle": "2022-12-07T20:40:55.440112Z",
     "shell.execute_reply": "2022-12-07T20:40:55.438982Z"
    },
    "papermill": {
     "duration": 0.017237,
     "end_time": "2022-12-07T20:40:55.442530",
     "exception": false,
     "start_time": "2022-12-07T20:40:55.425293",
     "status": "completed"
    },
    "tags": []
   },
   "outputs": [],
   "source": [
    "#q2.hint()"
   ]
  },
  {
   "cell_type": "code",
   "execution_count": 10,
   "id": "b5cf85af",
   "metadata": {
    "execution": {
     "iopub.execute_input": "2022-12-07T20:40:55.461473Z",
     "iopub.status.busy": "2022-12-07T20:40:55.460969Z",
     "iopub.status.idle": "2022-12-07T20:40:55.466390Z",
     "shell.execute_reply": "2022-12-07T20:40:55.465243Z"
    },
    "papermill": {
     "duration": 0.018038,
     "end_time": "2022-12-07T20:40:55.468824",
     "exception": false,
     "start_time": "2022-12-07T20:40:55.450786",
     "status": "completed"
    },
    "tags": []
   },
   "outputs": [],
   "source": [
    "#q2.solution()"
   ]
  },
  {
   "cell_type": "markdown",
   "id": "249826b3",
   "metadata": {
    "papermill": {
     "duration": 0.007933,
     "end_time": "2022-12-07T20:40:55.485290",
     "exception": false,
     "start_time": "2022-12-07T20:40:55.477357",
     "status": "completed"
    },
    "tags": []
   },
   "source": [
    "<hr/>\n",
    "\n",
    "# 3a.\n",
    "\n",
    "Add parentheses to the following expression so that it evaluates to 1."
   ]
  },
  {
   "cell_type": "code",
   "execution_count": 11,
   "id": "0a7c8b27",
   "metadata": {
    "execution": {
     "iopub.execute_input": "2022-12-07T20:40:55.503941Z",
     "iopub.status.busy": "2022-12-07T20:40:55.503423Z",
     "iopub.status.idle": "2022-12-07T20:40:55.510956Z",
     "shell.execute_reply": "2022-12-07T20:40:55.509699Z"
    },
    "papermill": {
     "duration": 0.020034,
     "end_time": "2022-12-07T20:40:55.513432",
     "exception": false,
     "start_time": "2022-12-07T20:40:55.493398",
     "status": "completed"
    },
    "tags": []
   },
   "outputs": [
    {
     "data": {
      "text/plain": [
       "1"
      ]
     },
     "execution_count": 11,
     "metadata": {},
     "output_type": "execute_result"
    }
   ],
   "source": [
    "(5 - 3) // 2"
   ]
  },
  {
   "cell_type": "code",
   "execution_count": 12,
   "id": "650cbe2b",
   "metadata": {
    "execution": {
     "iopub.execute_input": "2022-12-07T20:40:55.532575Z",
     "iopub.status.busy": "2022-12-07T20:40:55.532028Z",
     "iopub.status.idle": "2022-12-07T20:40:55.537238Z",
     "shell.execute_reply": "2022-12-07T20:40:55.536048Z"
    },
    "papermill": {
     "duration": 0.017683,
     "end_time": "2022-12-07T20:40:55.539487",
     "exception": false,
     "start_time": "2022-12-07T20:40:55.521804",
     "status": "completed"
    },
    "tags": []
   },
   "outputs": [],
   "source": [
    "#q3.a.hint()"
   ]
  },
  {
   "cell_type": "code",
   "execution_count": 13,
   "id": "619ad060",
   "metadata": {
    "execution": {
     "iopub.execute_input": "2022-12-07T20:40:55.558605Z",
     "iopub.status.busy": "2022-12-07T20:40:55.558118Z",
     "iopub.status.idle": "2022-12-07T20:40:55.567614Z",
     "shell.execute_reply": "2022-12-07T20:40:55.566453Z"
    },
    "papermill": {
     "duration": 0.022165,
     "end_time": "2022-12-07T20:40:55.570106",
     "exception": false,
     "start_time": "2022-12-07T20:40:55.547941",
     "status": "completed"
    },
    "tags": []
   },
   "outputs": [
    {
     "data": {
      "application/javascript": [
       "parent.postMessage({\"jupyterEvent\": \"custom.exercise_interaction\", \"data\": {\"interactionType\": 3, \"questionType\": 4, \"questionId\": \"3.1_ArithmeticParensEasy\", \"learnToolsVersion\": \"0.3.4\", \"valueTowardsCompletion\": 0.0, \"failureMessage\": \"\", \"exceptionClass\": \"\", \"trace\": \"\", \"outcomeType\": 4}}, \"*\")"
      ],
      "text/plain": [
       "<IPython.core.display.Javascript object>"
      ]
     },
     "metadata": {},
     "output_type": "display_data"
    },
    {
     "data": {
      "text/markdown": [
       "<span style=\"color:#33cc99\">Solution:</span> \n",
       "```python\n",
       "(5 - 3) // 2\n",
       "```"
      ],
      "text/plain": [
       "Solution: \n",
       "```python\n",
       "(5 - 3) // 2\n",
       "```"
      ]
     },
     "metadata": {},
     "output_type": "display_data"
    }
   ],
   "source": [
    "# Check your answer (Run this code cell to receive credit!)\n",
    "q3.a.solution()"
   ]
  },
  {
   "cell_type": "markdown",
   "id": "0288e079",
   "metadata": {
    "papermill": {
     "duration": 0.00834,
     "end_time": "2022-12-07T20:40:55.587487",
     "exception": false,
     "start_time": "2022-12-07T20:40:55.579147",
     "status": "completed"
    },
    "tags": []
   },
   "source": [
    "# 3b.  <span title=\"A bit spicy\" style=\"color: darkgreen \">🌶️</span>\n",
    "\n",
    "<small>Questions, like this one, marked a spicy pepper are a bit harder.</small>\n",
    "\n",
    "Add parentheses to the following expression so that it evaluates to 0."
   ]
  },
  {
   "cell_type": "code",
   "execution_count": 14,
   "id": "42870f0c",
   "metadata": {
    "execution": {
     "iopub.execute_input": "2022-12-07T20:40:55.607624Z",
     "iopub.status.busy": "2022-12-07T20:40:55.606501Z",
     "iopub.status.idle": "2022-12-07T20:40:55.613938Z",
     "shell.execute_reply": "2022-12-07T20:40:55.612777Z"
    },
    "papermill": {
     "duration": 0.020356,
     "end_time": "2022-12-07T20:40:55.616425",
     "exception": false,
     "start_time": "2022-12-07T20:40:55.596069",
     "status": "completed"
    },
    "tags": []
   },
   "outputs": [
    {
     "data": {
      "text/plain": [
       "0"
      ]
     },
     "execution_count": 14,
     "metadata": {},
     "output_type": "execute_result"
    }
   ],
   "source": [
    "8 - (3 * 2) - (1 + 1)"
   ]
  },
  {
   "cell_type": "code",
   "execution_count": 15,
   "id": "dd0a8425",
   "metadata": {
    "execution": {
     "iopub.execute_input": "2022-12-07T20:40:55.636279Z",
     "iopub.status.busy": "2022-12-07T20:40:55.635479Z",
     "iopub.status.idle": "2022-12-07T20:40:55.640886Z",
     "shell.execute_reply": "2022-12-07T20:40:55.639640Z"
    },
    "papermill": {
     "duration": 0.018241,
     "end_time": "2022-12-07T20:40:55.643452",
     "exception": false,
     "start_time": "2022-12-07T20:40:55.625211",
     "status": "completed"
    },
    "tags": []
   },
   "outputs": [],
   "source": [
    "#q3.b.hint()"
   ]
  },
  {
   "cell_type": "code",
   "execution_count": 16,
   "id": "7924f016",
   "metadata": {
    "execution": {
     "iopub.execute_input": "2022-12-07T20:40:55.663896Z",
     "iopub.status.busy": "2022-12-07T20:40:55.663384Z",
     "iopub.status.idle": "2022-12-07T20:40:55.673034Z",
     "shell.execute_reply": "2022-12-07T20:40:55.671915Z"
    },
    "papermill": {
     "duration": 0.02239,
     "end_time": "2022-12-07T20:40:55.675235",
     "exception": false,
     "start_time": "2022-12-07T20:40:55.652845",
     "status": "completed"
    },
    "tags": []
   },
   "outputs": [
    {
     "data": {
      "application/javascript": [
       "parent.postMessage({\"jupyterEvent\": \"custom.exercise_interaction\", \"data\": {\"interactionType\": 3, \"questionType\": 4, \"questionId\": \"3.2_ArithmeticParensHard\", \"learnToolsVersion\": \"0.3.4\", \"valueTowardsCompletion\": 0.0, \"failureMessage\": \"\", \"exceptionClass\": \"\", \"trace\": \"\", \"outcomeType\": 4}}, \"*\")"
      ],
      "text/plain": [
       "<IPython.core.display.Javascript object>"
      ]
     },
     "metadata": {},
     "output_type": "display_data"
    },
    {
     "data": {
      "text/markdown": [
       "<span style=\"color:#33cc99\">Solution:</span> `(8 - 3) * (2 - (1 + 1))` is one solution. There may be others."
      ],
      "text/plain": [
       "Solution: `(8 - 3) * (2 - (1 + 1))` is one solution. There may be others."
      ]
     },
     "metadata": {},
     "output_type": "display_data"
    }
   ],
   "source": [
    "# Check your answer (Run this code cell to receive credit!)\n",
    "q3.b.solution()"
   ]
  },
  {
   "cell_type": "markdown",
   "id": "cca10d20",
   "metadata": {
    "papermill": {
     "duration": 0.00871,
     "end_time": "2022-12-07T20:40:55.692865",
     "exception": false,
     "start_time": "2022-12-07T20:40:55.684155",
     "status": "completed"
    },
    "tags": []
   },
   "source": [
    "<hr/>\n",
    "\n",
    "# 4. \n",
    "Alice, Bob and Carol have agreed to pool their Halloween candy and split it evenly among themselves.\n",
    "For the sake of their friendship, any candies left over will be smashed. For example, if they collectively\n",
    "bring home 91 candies, they'll take 30 each and smash 1.\n",
    "\n",
    "Write an arithmetic expression below to calculate how many candies they must smash for a given haul."
   ]
  },
  {
   "cell_type": "code",
   "execution_count": 17,
   "id": "3ffc23ee",
   "metadata": {
    "execution": {
     "iopub.execute_input": "2022-12-07T20:40:55.712963Z",
     "iopub.status.busy": "2022-12-07T20:40:55.712464Z",
     "iopub.status.idle": "2022-12-07T20:40:55.722922Z",
     "shell.execute_reply": "2022-12-07T20:40:55.721758Z"
    },
    "papermill": {
     "duration": 0.023422,
     "end_time": "2022-12-07T20:40:55.725279",
     "exception": false,
     "start_time": "2022-12-07T20:40:55.701857",
     "status": "completed"
    },
    "tags": []
   },
   "outputs": [
    {
     "data": {
      "application/javascript": [
       "parent.postMessage({\"jupyterEvent\": \"custom.exercise_interaction\", \"data\": {\"outcomeType\": 1, \"valueTowardsCompletion\": 0.25, \"interactionType\": 1, \"questionType\": 1, \"questionId\": \"4_CandySplitting\", \"learnToolsVersion\": \"0.3.4\", \"failureMessage\": \"\", \"exceptionClass\": \"\", \"trace\": \"\"}}, \"*\")"
      ],
      "text/plain": [
       "<IPython.core.display.Javascript object>"
      ]
     },
     "metadata": {},
     "output_type": "display_data"
    },
    {
     "data": {
      "text/markdown": [
       "<span style=\"color:#33cc33\">Correct</span>"
      ],
      "text/plain": [
       "Correct"
      ]
     },
     "metadata": {},
     "output_type": "display_data"
    }
   ],
   "source": [
    "# Variables representing the number of candies collected by alice, bob, and carol\n",
    "alice_candies = 121\n",
    "bob_candies = 77\n",
    "carol_candies = 109\n",
    "\n",
    "# Your code goes here! Replace the right-hand side of this assignment with an expression\n",
    "# involving alice_candies, bob_candies, and carol_candies\n",
    "to_smash = (alice_candies + bob_candies + carol_candies) % 3\n",
    "\n",
    "# Check your answer\n",
    "q4.check()"
   ]
  },
  {
   "cell_type": "code",
   "execution_count": 18,
   "id": "076c029b",
   "metadata": {
    "execution": {
     "iopub.execute_input": "2022-12-07T20:40:55.746694Z",
     "iopub.status.busy": "2022-12-07T20:40:55.746250Z",
     "iopub.status.idle": "2022-12-07T20:40:55.751687Z",
     "shell.execute_reply": "2022-12-07T20:40:55.750118Z"
    },
    "papermill": {
     "duration": 0.019068,
     "end_time": "2022-12-07T20:40:55.753909",
     "exception": false,
     "start_time": "2022-12-07T20:40:55.734841",
     "status": "completed"
    },
    "tags": []
   },
   "outputs": [],
   "source": [
    "#q4.hint()\n",
    "#q4.solution()"
   ]
  },
  {
   "cell_type": "markdown",
   "id": "f62f423b",
   "metadata": {
    "papermill": {
     "duration": 0.009305,
     "end_time": "2022-12-07T20:40:55.772905",
     "exception": false,
     "start_time": "2022-12-07T20:40:55.763600",
     "status": "completed"
    },
    "tags": []
   },
   "source": [
    "# Keep Going\n",
    "\n",
    "Next up, you'll **[learn to write new functions and understand functions others write](https://www.kaggle.com/colinmorris/functions-and-getting-help)**. This will make you at least 10 times more productive as a Python programmer. "
   ]
  },
  {
   "cell_type": "markdown",
   "id": "5650303c",
   "metadata": {
    "papermill": {
     "duration": 0.009566,
     "end_time": "2022-12-07T20:40:55.792233",
     "exception": false,
     "start_time": "2022-12-07T20:40:55.782667",
     "status": "completed"
    },
    "tags": []
   },
   "source": [
    "---\n",
    "\n",
    "\n",
    "\n",
    "\n",
    "*Have questions or comments? Visit the [course discussion forum](https://www.kaggle.com/learn/python/discussion) to chat with other learners.*"
   ]
  }
 ],
 "metadata": {
  "kernelspec": {
   "display_name": "Python 3",
   "language": "python",
   "name": "python3"
  },
  "language_info": {
   "codemirror_mode": {
    "name": "ipython",
    "version": 3
   },
   "file_extension": ".py",
   "mimetype": "text/x-python",
   "name": "python",
   "nbconvert_exporter": "python",
   "pygments_lexer": "ipython3",
   "version": "3.7.12"
  },
  "papermill": {
   "default_parameters": {},
   "duration": 12.779474,
   "end_time": "2022-12-07T20:40:56.626777",
   "environment_variables": {},
   "exception": null,
   "input_path": "__notebook__.ipynb",
   "output_path": "__notebook__.ipynb",
   "parameters": {},
   "start_time": "2022-12-07T20:40:43.847303",
   "version": "2.3.4"
  }
 },
 "nbformat": 4,
 "nbformat_minor": 5
}
