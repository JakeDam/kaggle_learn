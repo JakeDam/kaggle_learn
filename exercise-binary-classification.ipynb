{
 "cells": [
  {
   "cell_type": "markdown",
   "id": "6c056f7f",
   "metadata": {
    "papermill": {
     "duration": 0.005185,
     "end_time": "2023-03-25T21:38:24.698747",
     "exception": false,
     "start_time": "2023-03-25T21:38:24.693562",
     "status": "completed"
    },
    "tags": []
   },
   "source": [
    "**This notebook is an exercise in the [Intro to Deep Learning](https://www.kaggle.com/learn/intro-to-deep-learning) course.  You can reference the tutorial at [this link](https://www.kaggle.com/ryanholbrook/binary-classification).**\n",
    "\n",
    "---\n"
   ]
  },
  {
   "cell_type": "markdown",
   "id": "c844b4ee",
   "metadata": {
    "papermill": {
     "duration": 0.003761,
     "end_time": "2023-03-25T21:38:24.706912",
     "exception": false,
     "start_time": "2023-03-25T21:38:24.703151",
     "status": "completed"
    },
    "tags": []
   },
   "source": [
    "# Introduction #\n",
    "\n",
    "In this exercise, you'll build a model to predict hotel cancellations with a binary classifier."
   ]
  },
  {
   "cell_type": "code",
   "execution_count": 1,
   "id": "4b3a9bf5",
   "metadata": {
    "execution": {
     "iopub.execute_input": "2023-03-25T21:38:24.717677Z",
     "iopub.status.busy": "2023-03-25T21:38:24.716955Z",
     "iopub.status.idle": "2023-03-25T21:38:24.769443Z",
     "shell.execute_reply": "2023-03-25T21:38:24.767890Z"
    },
    "lines_to_next_cell": 0,
    "papermill": {
     "duration": 0.06157,
     "end_time": "2023-03-25T21:38:24.772565",
     "exception": false,
     "start_time": "2023-03-25T21:38:24.710995",
     "status": "completed"
    },
    "tags": []
   },
   "outputs": [],
   "source": [
    "# Setup plotting\n",
    "import matplotlib.pyplot as plt\n",
    "plt.style.use('seaborn-whitegrid')\n",
    "# Set Matplotlib defaults\n",
    "plt.rc('figure', autolayout=True)\n",
    "plt.rc('axes', labelweight='bold', labelsize='large',\n",
    "       titleweight='bold', titlesize=18, titlepad=10)\n",
    "plt.rc('animation', html='html5')\n",
    "\n",
    "# Setup feedback system\n",
    "from learntools.core import binder\n",
    "binder.bind(globals())\n",
    "from learntools.deep_learning_intro.ex6 import *"
   ]
  },
  {
   "cell_type": "markdown",
   "id": "9961ed88",
   "metadata": {
    "papermill": {
     "duration": 0.00398,
     "end_time": "2023-03-25T21:38:24.780778",
     "exception": false,
     "start_time": "2023-03-25T21:38:24.776798",
     "status": "completed"
    },
    "tags": []
   },
   "source": [
    "First, load the *Hotel Cancellations* dataset."
   ]
  },
  {
   "cell_type": "code",
   "execution_count": 2,
   "id": "18b26ed2",
   "metadata": {
    "execution": {
     "iopub.execute_input": "2023-03-25T21:38:24.791082Z",
     "iopub.status.busy": "2023-03-25T21:38:24.790667Z",
     "iopub.status.idle": "2023-03-25T21:38:27.430416Z",
     "shell.execute_reply": "2023-03-25T21:38:27.429215Z"
    },
    "lines_to_next_cell": 2,
    "papermill": {
     "duration": 2.648735,
     "end_time": "2023-03-25T21:38:27.433617",
     "exception": false,
     "start_time": "2023-03-25T21:38:24.784882",
     "status": "completed"
    },
    "tags": []
   },
   "outputs": [],
   "source": [
    "import pandas as pd\n",
    "\n",
    "from sklearn.model_selection import train_test_split\n",
    "from sklearn.preprocessing import StandardScaler, OneHotEncoder\n",
    "from sklearn.impute import SimpleImputer\n",
    "from sklearn.pipeline import make_pipeline\n",
    "from sklearn.compose import make_column_transformer\n",
    "\n",
    "hotel = pd.read_csv('../input/dl-course-data/hotel.csv')\n",
    "\n",
    "X = hotel.copy()\n",
    "y = X.pop('is_canceled')\n",
    "\n",
    "X['arrival_date_month'] = \\\n",
    "    X['arrival_date_month'].map(\n",
    "        {'January':1, 'February': 2, 'March':3,\n",
    "         'April':4, 'May':5, 'June':6, 'July':7,\n",
    "         'August':8, 'September':9, 'October':10,\n",
    "         'November':11, 'December':12}\n",
    "    )\n",
    "\n",
    "features_num = [\n",
    "    \"lead_time\", \"arrival_date_week_number\",\n",
    "    \"arrival_date_day_of_month\", \"stays_in_weekend_nights\",\n",
    "    \"stays_in_week_nights\", \"adults\", \"children\", \"babies\",\n",
    "    \"is_repeated_guest\", \"previous_cancellations\",\n",
    "    \"previous_bookings_not_canceled\", \"required_car_parking_spaces\",\n",
    "    \"total_of_special_requests\", \"adr\",\n",
    "]\n",
    "features_cat = [\n",
    "    \"hotel\", \"arrival_date_month\", \"meal\",\n",
    "    \"market_segment\", \"distribution_channel\",\n",
    "    \"reserved_room_type\", \"deposit_type\", \"customer_type\",\n",
    "]\n",
    "\n",
    "transformer_num = make_pipeline(\n",
    "    SimpleImputer(strategy=\"constant\"), # there are a few missing values\n",
    "    StandardScaler(),\n",
    ")\n",
    "transformer_cat = make_pipeline(\n",
    "    SimpleImputer(strategy=\"constant\", fill_value=\"NA\"),\n",
    "    OneHotEncoder(handle_unknown='ignore'),\n",
    ")\n",
    "\n",
    "preprocessor = make_column_transformer(\n",
    "    (transformer_num, features_num),\n",
    "    (transformer_cat, features_cat),\n",
    ")\n",
    "\n",
    "# stratify - make sure classes are evenlly represented across splits\n",
    "X_train, X_valid, y_train, y_valid = \\\n",
    "    train_test_split(X, y, stratify=y, train_size=0.75)\n",
    "\n",
    "X_train = preprocessor.fit_transform(X_train)\n",
    "X_valid = preprocessor.transform(X_valid)\n",
    "\n",
    "input_shape = [X_train.shape[1]]"
   ]
  },
  {
   "cell_type": "markdown",
   "id": "feddcf7d",
   "metadata": {
    "papermill": {
     "duration": 0.003809,
     "end_time": "2023-03-25T21:38:27.441715",
     "exception": false,
     "start_time": "2023-03-25T21:38:27.437906",
     "status": "completed"
    },
    "tags": []
   },
   "source": [
    "# 1) Define Model #\n",
    "\n",
    "The model we'll use this time will have both batch normalization and dropout layers. To ease reading we've broken the diagram into blocks, but you can define it layer by layer as usual.\n",
    "\n",
    "Define a model with an architecture given by this diagram:\n",
    "\n",
    "<figure style=\"padding: 1em;\">\n",
    "<img src=\"https://i.imgur.com/V04o59Z.png\" width=\"400\" alt=\"Diagram of network architecture: BatchNorm, Dense, BatchNorm, Dropout, Dense, BatchNorm, Dropout, Dense.\">\n",
    "<figcaption style=\"textalign: center; font-style: italic\"><center>Diagram of a binary classifier.</center></figcaption>\n",
    "</figure>\n"
   ]
  },
  {
   "cell_type": "code",
   "execution_count": 3,
   "id": "0afd844e",
   "metadata": {
    "execution": {
     "iopub.execute_input": "2023-03-25T21:38:27.452082Z",
     "iopub.status.busy": "2023-03-25T21:38:27.451250Z",
     "iopub.status.idle": "2023-03-25T21:38:35.956961Z",
     "shell.execute_reply": "2023-03-25T21:38:35.955597Z"
    },
    "lines_to_next_cell": 2,
    "papermill": {
     "duration": 8.5139,
     "end_time": "2023-03-25T21:38:35.959629",
     "exception": false,
     "start_time": "2023-03-25T21:38:27.445729",
     "status": "completed"
    },
    "tags": []
   },
   "outputs": [
    {
     "data": {
      "application/javascript": [
       "parent.postMessage({\"jupyterEvent\": \"custom.exercise_interaction\", \"data\": {\"outcomeType\": 1, \"valueTowardsCompletion\": 0.3333333333333333, \"interactionType\": 1, \"questionType\": 2, \"questionId\": \"1_Q1\", \"learnToolsVersion\": \"0.3.4\", \"failureMessage\": \"\", \"exceptionClass\": \"\", \"trace\": \"\"}}, \"*\")"
      ],
      "text/plain": [
       "<IPython.core.display.Javascript object>"
      ]
     },
     "metadata": {},
     "output_type": "display_data"
    },
    {
     "data": {
      "text/markdown": [
       "<span style=\"color:#33cc33\">Correct</span>"
      ],
      "text/plain": [
       "Correct"
      ]
     },
     "metadata": {},
     "output_type": "display_data"
    }
   ],
   "source": [
    "from tensorflow import keras\n",
    "from tensorflow.keras import layers\n",
    "\n",
    "# YOUR CODE HERE: define the model given in the diagram\n",
    "model = keras.Sequential([\n",
    "    layers.BatchNormalization(input_shape=input_shape),\n",
    "    layers.Dense(256, activation='relu'),\n",
    "    layers.BatchNormalization(),\n",
    "    layers.Dropout(0.3),\n",
    "    layers.Dense(256, activation='relu'),\n",
    "    layers.BatchNormalization(),\n",
    "    layers.Dropout(0.3),\n",
    "    layers.Dense(1, activation='sigmoid')\n",
    "])\n",
    "\n",
    "# Check your answer\n",
    "q_1.check()"
   ]
  },
  {
   "cell_type": "markdown",
   "id": "faed1b0c",
   "metadata": {
    "papermill": {
     "duration": 0.004045,
     "end_time": "2023-03-25T21:38:35.968252",
     "exception": false,
     "start_time": "2023-03-25T21:38:35.964207",
     "status": "completed"
    },
    "tags": []
   },
   "source": [
    "# 2) Add Optimizer, Loss, and Metric #\n",
    "\n",
    "Now compile the model with the Adam optimizer and binary versions of the cross-entropy loss and accuracy metric."
   ]
  },
  {
   "cell_type": "code",
   "execution_count": 4,
   "id": "fd751db9",
   "metadata": {
    "execution": {
     "iopub.execute_input": "2023-03-25T21:38:35.978846Z",
     "iopub.status.busy": "2023-03-25T21:38:35.978403Z",
     "iopub.status.idle": "2023-03-25T21:38:36.003966Z",
     "shell.execute_reply": "2023-03-25T21:38:36.002733Z"
    },
    "lines_to_next_cell": 0,
    "papermill": {
     "duration": 0.033872,
     "end_time": "2023-03-25T21:38:36.006561",
     "exception": false,
     "start_time": "2023-03-25T21:38:35.972689",
     "status": "completed"
    },
    "tags": []
   },
   "outputs": [
    {
     "data": {
      "application/javascript": [
       "parent.postMessage({\"jupyterEvent\": \"custom.exercise_interaction\", \"data\": {\"outcomeType\": 1, \"valueTowardsCompletion\": 0.3333333333333333, \"interactionType\": 1, \"questionType\": 2, \"questionId\": \"2_Q2\", \"learnToolsVersion\": \"0.3.4\", \"failureMessage\": \"\", \"exceptionClass\": \"\", \"trace\": \"\"}}, \"*\")"
      ],
      "text/plain": [
       "<IPython.core.display.Javascript object>"
      ]
     },
     "metadata": {},
     "output_type": "display_data"
    },
    {
     "data": {
      "text/markdown": [
       "<span style=\"color:#33cc33\">Correct</span>"
      ],
      "text/plain": [
       "Correct"
      ]
     },
     "metadata": {},
     "output_type": "display_data"
    }
   ],
   "source": [
    "# YOUR CODE HERE\n",
    "model.compile(\n",
    "    optimizer='adam',\n",
    "    loss='binary_crossentropy',\n",
    "    metrics=['binary_accuracy'])\n",
    "\n",
    "# Check your answer\n",
    "q_2.check()"
   ]
  },
  {
   "cell_type": "code",
   "execution_count": 5,
   "id": "bc4bd51d",
   "metadata": {
    "execution": {
     "iopub.execute_input": "2023-03-25T21:38:36.017663Z",
     "iopub.status.busy": "2023-03-25T21:38:36.017263Z",
     "iopub.status.idle": "2023-03-25T21:38:36.021834Z",
     "shell.execute_reply": "2023-03-25T21:38:36.020577Z"
    },
    "lines_to_next_cell": 0,
    "papermill": {
     "duration": 0.013253,
     "end_time": "2023-03-25T21:38:36.024381",
     "exception": false,
     "start_time": "2023-03-25T21:38:36.011128",
     "status": "completed"
    },
    "tags": []
   },
   "outputs": [],
   "source": [
    "# Lines below will give you a hint or solution code\n",
    "#q_2.hint()\n",
    "#q_2.solution()"
   ]
  },
  {
   "cell_type": "markdown",
   "id": "7711febf",
   "metadata": {
    "papermill": {
     "duration": 0.004264,
     "end_time": "2023-03-25T21:38:36.033326",
     "exception": false,
     "start_time": "2023-03-25T21:38:36.029062",
     "status": "completed"
    },
    "tags": []
   },
   "source": [
    "Finally, run this cell to train the model and view the learning curves. It may run for around 60 to 70 epochs, which could take a minute or two."
   ]
  },
  {
   "cell_type": "code",
   "execution_count": 6,
   "id": "dbee20f4",
   "metadata": {
    "execution": {
     "iopub.execute_input": "2023-03-25T21:38:36.044192Z",
     "iopub.status.busy": "2023-03-25T21:38:36.043779Z",
     "iopub.status.idle": "2023-03-25T21:40:18.073977Z",
     "shell.execute_reply": "2023-03-25T21:40:18.072786Z"
    },
    "papermill": {
     "duration": 102.039054,
     "end_time": "2023-03-25T21:40:18.076853",
     "exception": false,
     "start_time": "2023-03-25T21:38:36.037799",
     "status": "completed"
    },
    "tags": []
   },
   "outputs": [
    {
     "name": "stdout",
     "output_type": "stream",
     "text": [
      "Epoch 1/200\n",
      "175/175 [==============================] - 5s 16ms/step - loss: 0.4867 - binary_accuracy: 0.7678 - val_loss: 0.4320 - val_binary_accuracy: 0.7902\n",
      "Epoch 2/200\n",
      "175/175 [==============================] - 3s 15ms/step - loss: 0.4235 - binary_accuracy: 0.8010 - val_loss: 0.4025 - val_binary_accuracy: 0.8129\n",
      "Epoch 3/200\n",
      "175/175 [==============================] - 3s 15ms/step - loss: 0.4113 - binary_accuracy: 0.8075 - val_loss: 0.3948 - val_binary_accuracy: 0.8175\n",
      "Epoch 4/200\n",
      "175/175 [==============================] - 3s 16ms/step - loss: 0.4040 - binary_accuracy: 0.8105 - val_loss: 0.3911 - val_binary_accuracy: 0.8181\n",
      "Epoch 5/200\n",
      "175/175 [==============================] - 3s 15ms/step - loss: 0.3981 - binary_accuracy: 0.8135 - val_loss: 0.3870 - val_binary_accuracy: 0.8236\n",
      "Epoch 6/200\n",
      "175/175 [==============================] - 3s 15ms/step - loss: 0.3935 - binary_accuracy: 0.8159 - val_loss: 0.3836 - val_binary_accuracy: 0.8245\n",
      "Epoch 7/200\n",
      "175/175 [==============================] - 3s 15ms/step - loss: 0.3897 - binary_accuracy: 0.8178 - val_loss: 0.3794 - val_binary_accuracy: 0.8264\n",
      "Epoch 8/200\n",
      "175/175 [==============================] - 3s 15ms/step - loss: 0.3854 - binary_accuracy: 0.8200 - val_loss: 0.3783 - val_binary_accuracy: 0.8256\n",
      "Epoch 9/200\n",
      "175/175 [==============================] - 3s 15ms/step - loss: 0.3826 - binary_accuracy: 0.8216 - val_loss: 0.3753 - val_binary_accuracy: 0.8291\n",
      "Epoch 10/200\n",
      "175/175 [==============================] - 3s 15ms/step - loss: 0.3796 - binary_accuracy: 0.8240 - val_loss: 0.3777 - val_binary_accuracy: 0.8269\n",
      "Epoch 11/200\n",
      "175/175 [==============================] - 3s 16ms/step - loss: 0.3766 - binary_accuracy: 0.8253 - val_loss: 0.3708 - val_binary_accuracy: 0.8299\n",
      "Epoch 12/200\n",
      "175/175 [==============================] - 3s 16ms/step - loss: 0.3747 - binary_accuracy: 0.8279 - val_loss: 0.3694 - val_binary_accuracy: 0.8310\n",
      "Epoch 13/200\n",
      "175/175 [==============================] - 3s 15ms/step - loss: 0.3718 - binary_accuracy: 0.8267 - val_loss: 0.3688 - val_binary_accuracy: 0.8324\n",
      "Epoch 14/200\n",
      "175/175 [==============================] - 3s 16ms/step - loss: 0.3708 - binary_accuracy: 0.8282 - val_loss: 0.3678 - val_binary_accuracy: 0.8330\n",
      "Epoch 15/200\n",
      "175/175 [==============================] - 3s 15ms/step - loss: 0.3677 - binary_accuracy: 0.8301 - val_loss: 0.3680 - val_binary_accuracy: 0.8320\n",
      "Epoch 16/200\n",
      "175/175 [==============================] - 3s 15ms/step - loss: 0.3663 - binary_accuracy: 0.8314 - val_loss: 0.3674 - val_binary_accuracy: 0.8313\n",
      "Epoch 17/200\n",
      "175/175 [==============================] - 3s 15ms/step - loss: 0.3642 - binary_accuracy: 0.8315 - val_loss: 0.3627 - val_binary_accuracy: 0.8346\n",
      "Epoch 18/200\n",
      "175/175 [==============================] - 3s 16ms/step - loss: 0.3644 - binary_accuracy: 0.8318 - val_loss: 0.3648 - val_binary_accuracy: 0.8364\n",
      "Epoch 19/200\n",
      "175/175 [==============================] - 3s 16ms/step - loss: 0.3616 - binary_accuracy: 0.8326 - val_loss: 0.3615 - val_binary_accuracy: 0.8366\n",
      "Epoch 20/200\n",
      "175/175 [==============================] - 3s 15ms/step - loss: 0.3596 - binary_accuracy: 0.8328 - val_loss: 0.3595 - val_binary_accuracy: 0.8364\n",
      "Epoch 21/200\n",
      "175/175 [==============================] - 3s 16ms/step - loss: 0.3579 - binary_accuracy: 0.8342 - val_loss: 0.3598 - val_binary_accuracy: 0.8370\n",
      "Epoch 22/200\n",
      "175/175 [==============================] - 3s 15ms/step - loss: 0.3569 - binary_accuracy: 0.8352 - val_loss: 0.3579 - val_binary_accuracy: 0.8390\n",
      "Epoch 23/200\n",
      "175/175 [==============================] - 3s 16ms/step - loss: 0.3550 - binary_accuracy: 0.8359 - val_loss: 0.3589 - val_binary_accuracy: 0.8365\n",
      "Epoch 24/200\n",
      "175/175 [==============================] - 3s 15ms/step - loss: 0.3540 - binary_accuracy: 0.8363 - val_loss: 0.3584 - val_binary_accuracy: 0.8361\n",
      "Epoch 25/200\n",
      "175/175 [==============================] - 3s 16ms/step - loss: 0.3536 - binary_accuracy: 0.8360 - val_loss: 0.3585 - val_binary_accuracy: 0.8377\n",
      "Epoch 26/200\n",
      "175/175 [==============================] - 3s 15ms/step - loss: 0.3521 - binary_accuracy: 0.8367 - val_loss: 0.3597 - val_binary_accuracy: 0.8373\n",
      "Epoch 27/200\n",
      "175/175 [==============================] - 3s 15ms/step - loss: 0.3513 - binary_accuracy: 0.8371 - val_loss: 0.3563 - val_binary_accuracy: 0.8379\n",
      "Epoch 28/200\n",
      "175/175 [==============================] - 3s 15ms/step - loss: 0.3502 - binary_accuracy: 0.8372 - val_loss: 0.3567 - val_binary_accuracy: 0.8382\n",
      "Epoch 29/200\n",
      "175/175 [==============================] - 3s 15ms/step - loss: 0.3489 - binary_accuracy: 0.8381 - val_loss: 0.3563 - val_binary_accuracy: 0.8401\n",
      "Epoch 30/200\n",
      "175/175 [==============================] - 3s 15ms/step - loss: 0.3491 - binary_accuracy: 0.8388 - val_loss: 0.3554 - val_binary_accuracy: 0.8397\n",
      "Epoch 31/200\n",
      "175/175 [==============================] - 3s 15ms/step - loss: 0.3476 - binary_accuracy: 0.8389 - val_loss: 0.3544 - val_binary_accuracy: 0.8390\n",
      "Epoch 32/200\n",
      "175/175 [==============================] - 3s 15ms/step - loss: 0.3454 - binary_accuracy: 0.8404 - val_loss: 0.3522 - val_binary_accuracy: 0.8407\n",
      "Epoch 33/200\n",
      "175/175 [==============================] - 3s 16ms/step - loss: 0.3449 - binary_accuracy: 0.8404 - val_loss: 0.3554 - val_binary_accuracy: 0.8395\n",
      "Epoch 34/200\n",
      "175/175 [==============================] - 3s 15ms/step - loss: 0.3435 - binary_accuracy: 0.8419 - val_loss: 0.3537 - val_binary_accuracy: 0.8385\n",
      "Epoch 35/200\n",
      "175/175 [==============================] - 3s 17ms/step - loss: 0.3428 - binary_accuracy: 0.8413 - val_loss: 0.3519 - val_binary_accuracy: 0.8407\n",
      "Epoch 36/200\n",
      "175/175 [==============================] - 3s 15ms/step - loss: 0.3409 - binary_accuracy: 0.8427 - val_loss: 0.3524 - val_binary_accuracy: 0.8394\n",
      "Epoch 37/200\n",
      "175/175 [==============================] - 3s 16ms/step - loss: 0.3397 - binary_accuracy: 0.8435 - val_loss: 0.3520 - val_binary_accuracy: 0.8385\n"
     ]
    },
    {
     "data": {
      "text/plain": [
       "<AxesSubplot:title={'center':'Accuracy'}>"
      ]
     },
     "execution_count": 6,
     "metadata": {},
     "output_type": "execute_result"
    },
    {
     "data": {
      "image/png": "[encoded data removed]",
      "text/plain": [
       "<Figure size 640x480 with 1 Axes>"
      ]
     },
     "metadata": {},
     "output_type": "display_data"
    },
    {
     "data": {
      "image/png": "[encoded data removed]",
      "text/plain": [
       "<Figure size 640x480 with 1 Axes>"
      ]
     },
     "metadata": {},
     "output_type": "display_data"
    }
   ],
   "source": [
    "early_stopping = keras.callbacks.EarlyStopping(\n",
    "    patience=5,\n",
    "    min_delta=0.001,\n",
    "    restore_best_weights=True,\n",
    ")\n",
    "history = model.fit(\n",
    "    X_train, y_train,\n",
    "    validation_data=(X_valid, y_valid),\n",
    "    batch_size=512,\n",
    "    epochs=200,\n",
    "    callbacks=[early_stopping],\n",
    ")\n",
    "\n",
    "history_df = pd.DataFrame(history.history)\n",
    "history_df.loc[:, ['loss', 'val_loss']].plot(title=\"Cross-entropy\")\n",
    "history_df.loc[:, ['binary_accuracy', 'val_binary_accuracy']].plot(title=\"Accuracy\")"
   ]
  },
  {
   "cell_type": "markdown",
   "id": "2bda68e0",
   "metadata": {
    "papermill": {
     "duration": 0.110936,
     "end_time": "2023-03-25T21:40:18.299683",
     "exception": false,
     "start_time": "2023-03-25T21:40:18.188747",
     "status": "completed"
    },
    "tags": []
   },
   "source": [
    "# 3) Train and Evaluate #\n",
    "\n",
    "\n",
    "What do you think about the learning curves? Does it look like the model underfit or overfit? Was the cross-entropy loss a good stand-in for accuracy?"
   ]
  },
  {
   "cell_type": "code",
   "execution_count": 7,
   "id": "24922d2a",
   "metadata": {
    "execution": {
     "iopub.execute_input": "2023-03-25T21:40:18.523711Z",
     "iopub.status.busy": "2023-03-25T21:40:18.523262Z",
     "iopub.status.idle": "2023-03-25T21:40:18.532669Z",
     "shell.execute_reply": "2023-03-25T21:40:18.531415Z"
    },
    "papermill": {
     "duration": 0.123793,
     "end_time": "2023-03-25T21:40:18.535363",
     "exception": false,
     "start_time": "2023-03-25T21:40:18.411570",
     "status": "completed"
    },
    "tags": []
   },
   "outputs": [
    {
     "data": {
      "application/javascript": [
       "parent.postMessage({\"jupyterEvent\": \"custom.exercise_interaction\", \"data\": {\"outcomeType\": 1, \"valueTowardsCompletion\": 0.3333333333333333, \"interactionType\": 1, \"questionType\": 4, \"questionId\": \"3_Q3\", \"learnToolsVersion\": \"0.3.4\", \"failureMessage\": \"\", \"exceptionClass\": \"\", \"trace\": \"\"}}, \"*\")"
      ],
      "text/plain": [
       "<IPython.core.display.Javascript object>"
      ]
     },
     "metadata": {},
     "output_type": "display_data"
    },
    {
     "data": {
      "text/markdown": [
       "<span style=\"color:#33cc33\">Correct:</span> \n",
       "\n",
       "Though we can see the training loss continuing to fall, the early stopping callback prevented any overfitting. Moreover, the accuracy rose at the same rate as the cross-entropy fell, so it appears that minimizing cross-entropy was a good stand-in. All in all, it looks like this training was a success!"
      ],
      "text/plain": [
       "Correct: \n",
       "\n",
       "Though we can see the training loss continuing to fall, the early stopping callback prevented any overfitting. Moreover, the accuracy rose at the same rate as the cross-entropy fell, so it appears that minimizing cross-entropy was a good stand-in. All in all, it looks like this training was a success!"
      ]
     },
     "metadata": {},
     "output_type": "display_data"
    }
   ],
   "source": [
    "# View the solution (Run this cell to receive credit!)\n",
    "q_3.check()"
   ]
  },
  {
   "cell_type": "markdown",
   "id": "e7ed3b61",
   "metadata": {
    "papermill": {
     "duration": 0.112081,
     "end_time": "2023-03-25T21:40:18.760696",
     "exception": false,
     "start_time": "2023-03-25T21:40:18.648615",
     "status": "completed"
    },
    "tags": []
   },
   "source": [
    "# Conclusion #\n",
    "\n",
    "Congratulations! You've completed Kaggle's *Introduction to Deep Learning* course!\n",
    "\n",
    "With your new skills you're ready to take on more advanced applications like computer vision and sentiment classification. What would you like to do next?\n",
    "\n",
    "Why not try one of our *Getting Started* competitions?\n",
    "\n",
    "- Classify images with TPUs in [**Petals to the Metal**](https://www.kaggle.com/c/tpu-getting-started)\n",
    "- Create art with GANs in [**I'm Something of a Painter Myself**](https://www.kaggle.com/c/gan-getting-started)\n",
    "- Classify Tweets in [**Real or Not? NLP with Disaster Tweets**](https://www.kaggle.com/c/nlp-getting-started)\n",
    "- Detect contradiction and entailment in [**Contradictory, My Dear Watson**](https://www.kaggle.com/c/contradictory-my-dear-watson)\n",
    "\n",
    "Until next time, Kagglers!"
   ]
  },
  {
   "cell_type": "markdown",
   "id": "d1df9160",
   "metadata": {
    "papermill": {
     "duration": 0.113676,
     "end_time": "2023-03-25T21:40:18.986477",
     "exception": false,
     "start_time": "2023-03-25T21:40:18.872801",
     "status": "completed"
    },
    "tags": []
   },
   "source": [
    "---\n",
    "\n",
    "\n",
    "\n",
    "\n",
    "*Have questions or comments? Visit the [course discussion forum](https://www.kaggle.com/learn/intro-to-deep-learning/discussion) to chat with other learners.*"
   ]
  }
 ],
 "metadata": {
  "kernelspec": {
   "display_name": "Python 3",
   "language": "python",
   "name": "python3"
  },
  "language_info": {
   "codemirror_mode": {
    "name": "ipython",
    "version": 3
   },
   "file_extension": ".py",
   "mimetype": "text/x-python",
   "name": "python",
   "nbconvert_exporter": "python",
   "pygments_lexer": "ipython3",
   "version": "3.7.12"
  },
  "papermill": {
   "default_parameters": {},
   "duration": 127.787868,
   "end_time": "2023-03-25T21:40:22.535114",
   "environment_variables": {},
   "exception": null,
   "input_path": "__notebook__.ipynb",
   "output_path": "__notebook__.ipynb",
   "parameters": {},
   "start_time": "2023-03-25T21:38:14.747246",
   "version": "2.4.0"
  }
 },
 "nbformat": 4,
 "nbformat_minor": 5
}
