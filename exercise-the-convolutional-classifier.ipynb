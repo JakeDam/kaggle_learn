{
 "cells": [
  {
   "cell_type": "markdown",
   "id": "c954336c",
   "metadata": {
    "papermill": {
     "duration": 0.005517,
     "end_time": "2023-03-27T14:27:37.769832",
     "exception": false,
     "start_time": "2023-03-27T14:27:37.764315",
     "status": "completed"
    },
    "tags": []
   },
   "source": [
    "**This notebook is an exercise in the [Computer Vision](https://www.kaggle.com/learn/computer-vision) course.  You can reference the tutorial at [this link](https://www.kaggle.com/ryanholbrook/the-convolutional-classifier).**\n",
    "\n",
    "---\n"
   ]
  },
  {
   "cell_type": "markdown",
   "id": "90158b46",
   "metadata": {
    "papermill": {
     "duration": 0.004017,
     "end_time": "2023-03-27T14:27:37.778297",
     "exception": false,
     "start_time": "2023-03-27T14:27:37.774280",
     "status": "completed"
    },
    "tags": []
   },
   "source": [
    "<blockquote style=\"margin-right:auto; margin-left:auto; background-color: #ebf9ff; padding: 1em; margin:24px;\">\n",
    "    <strong>Accelerate Training with a Kaggle GPU!</strong><br>\n",
    "Did you know Kaggle offers free time with a GPU accelerator? You can speed up training neural networks in this course by switching to <strong>GPU</strong> in the <em>Accelerator</em> option on the right. (It may already be turned on.) Two things to be aware of:\n",
    "<ul>\n",
    "<li>Changing the <em>Accelerator</em> option will cause the notebook session to restart. You'll need to rerun any setup code.\n",
    "<li>You can have only one GPU session at a time, so be sure to shut the notebook down after you've finished the exercise.\n",
    "</ul>\n",
    "</blockquote>"
   ]
  },
  {
   "cell_type": "markdown",
   "id": "41b0b33e",
   "metadata": {
    "papermill": {
     "duration": 0.004221,
     "end_time": "2023-03-27T14:27:37.786937",
     "exception": false,
     "start_time": "2023-03-27T14:27:37.782716",
     "status": "completed"
    },
    "tags": []
   },
   "source": [
    "# Introduction #\n",
    "\n",
    "In the tutorial, we saw how to build an image classifier by attaching a head of dense layers to a pretrained base. The base we used was from a model called **VGG16**. We saw that the VGG16 architecture was prone to overfitting this dataset. Over this course, you'll learn a number of ways you can improve upon this initial attempt.\n",
    "\n",
    "The first way you'll see is to use a base more appropriate to the dataset. The base this model comes from is called **InceptionV1** (also known as GoogLeNet). InceptionV1 was one of the early winners of the ImageNet competition. One of its successors, InceptionV4, is among the state of the art today.\n",
    "\n",
    "To get started, run the code cell below to set everything up."
   ]
  },
  {
   "cell_type": "code",
   "execution_count": 1,
   "id": "0df44aa6",
   "metadata": {
    "execution": {
     "iopub.execute_input": "2023-03-27T14:27:37.797120Z",
     "iopub.status.busy": "2023-03-27T14:27:37.796709Z",
     "iopub.status.idle": "2023-03-27T14:28:06.806167Z",
     "shell.execute_reply": "2023-03-27T14:28:06.804734Z"
    },
    "lines_to_next_cell": 2,
    "papermill": {
     "duration": 29.017647,
     "end_time": "2023-03-27T14:28:06.808786",
     "exception": false,
     "start_time": "2023-03-27T14:27:37.791139",
     "status": "completed"
    },
    "tags": []
   },
   "outputs": [
    {
     "name": "stdout",
     "output_type": "stream",
     "text": [
      "Found 5117 files belonging to 2 classes.\n",
      "Found 5051 files belonging to 2 classes.\n"
     ]
    }
   ],
   "source": [
    "# Setup feedback system\n",
    "from learntools.core import binder\n",
    "binder.bind(globals())\n",
    "from learntools.computer_vision.ex1 import *\n",
    "\n",
    "# Imports\n",
    "import os, warnings\n",
    "import matplotlib.pyplot as plt\n",
    "from matplotlib import gridspec\n",
    "\n",
    "import numpy as np\n",
    "import tensorflow as tf\n",
    "from tensorflow.keras.preprocessing import image_dataset_from_directory\n",
    "\n",
    "# Reproducability\n",
    "def set_seed(seed=31415):\n",
    "    np.random.seed(seed)\n",
    "    tf.random.set_seed(seed)\n",
    "    os.environ['PYTHONHASHSEED'] = str(seed)\n",
    "    os.environ['TF_DETERMINISTIC_OPS'] = '1'\n",
    "set_seed()\n",
    "\n",
    "# Set Matplotlib defaults\n",
    "plt.rc('figure', autolayout=True)\n",
    "plt.rc('axes', labelweight='bold', labelsize='large',\n",
    "       titleweight='bold', titlesize=18, titlepad=10)\n",
    "plt.rc('image', cmap='magma')\n",
    "warnings.filterwarnings(\"ignore\") # to clean up output cells\n",
    "\n",
    "\n",
    "# Load training and validation sets\n",
    "ds_train_ = image_dataset_from_directory(\n",
    "    '../input/car-or-truck/train',\n",
    "    labels='inferred',\n",
    "    label_mode='binary',\n",
    "    image_size=[128, 128],\n",
    "    interpolation='nearest',\n",
    "    batch_size=64,\n",
    "    shuffle=True,\n",
    ")\n",
    "ds_valid_ = image_dataset_from_directory(\n",
    "    '../input/car-or-truck/valid',\n",
    "    labels='inferred',\n",
    "    label_mode='binary',\n",
    "    image_size=[128, 128],\n",
    "    interpolation='nearest',\n",
    "    batch_size=64,\n",
    "    shuffle=False,\n",
    ")\n",
    "\n",
    "# Data Pipeline\n",
    "def convert_to_float(image, label):\n",
    "    image = tf.image.convert_image_dtype(image, dtype=tf.float32)\n",
    "    return image, label\n",
    "\n",
    "AUTOTUNE = tf.data.experimental.AUTOTUNE\n",
    "ds_train = (\n",
    "    ds_train_\n",
    "    .map(convert_to_float)\n",
    "    .cache()\n",
    "    .prefetch(buffer_size=AUTOTUNE)\n",
    ")\n",
    "ds_valid = (\n",
    "    ds_valid_\n",
    "    .map(convert_to_float)\n",
    "    .cache()\n",
    "    .prefetch(buffer_size=AUTOTUNE)\n",
    ")\n"
   ]
  },
  {
   "cell_type": "markdown",
   "id": "14165a23",
   "metadata": {
    "papermill": {
     "duration": 0.004612,
     "end_time": "2023-03-27T14:28:06.818211",
     "exception": false,
     "start_time": "2023-03-27T14:28:06.813599",
     "status": "completed"
    },
    "tags": []
   },
   "source": [
    "The **InceptionV1** model pretrained on ImageNet is available in the [TensorFlow Hub](https://www.tensorflow.org/hub/) repository, but we'll load it from a local copy. Run this cell to load InceptionV1 for your base."
   ]
  },
  {
   "cell_type": "code",
   "execution_count": 2,
   "id": "bde85a17",
   "metadata": {
    "execution": {
     "iopub.execute_input": "2023-03-27T14:28:06.829206Z",
     "iopub.status.busy": "2023-03-27T14:28:06.828216Z",
     "iopub.status.idle": "2023-03-27T14:28:10.117606Z",
     "shell.execute_reply": "2023-03-27T14:28:10.116553Z"
    },
    "lines_to_next_cell": 0,
    "papermill": {
     "duration": 3.298117,
     "end_time": "2023-03-27T14:28:10.120816",
     "exception": false,
     "start_time": "2023-03-27T14:28:06.822699",
     "status": "completed"
    },
    "tags": []
   },
   "outputs": [],
   "source": [
    "import tensorflow_hub as hub\n",
    "\n",
    "pretrained_base = tf.keras.models.load_model(\n",
    "    '../input/cv-course-models/cv-course-models/inceptionv1'\n",
    ")"
   ]
  },
  {
   "cell_type": "markdown",
   "id": "aad1db70",
   "metadata": {
    "papermill": {
     "duration": 0.0044,
     "end_time": "2023-03-27T14:28:10.132174",
     "exception": false,
     "start_time": "2023-03-27T14:28:10.127774",
     "status": "completed"
    },
    "tags": []
   },
   "source": [
    "# 1) Define Pretrained Base #\n",
    "\n",
    "Now that you have a pretrained base to do our feature extraction, decide whether this base should be trainable or not."
   ]
  },
  {
   "cell_type": "code",
   "execution_count": 3,
   "id": "bca57091",
   "metadata": {
    "execution": {
     "iopub.execute_input": "2023-03-27T14:28:10.142858Z",
     "iopub.status.busy": "2023-03-27T14:28:10.142510Z",
     "iopub.status.idle": "2023-03-27T14:28:10.152678Z",
     "shell.execute_reply": "2023-03-27T14:28:10.151601Z"
    },
    "lines_to_next_cell": 0,
    "papermill": {
     "duration": 0.019381,
     "end_time": "2023-03-27T14:28:10.156373",
     "exception": false,
     "start_time": "2023-03-27T14:28:10.136992",
     "status": "completed"
    },
    "tags": []
   },
   "outputs": [
    {
     "data": {
      "application/javascript": [
       "parent.postMessage({\"jupyterEvent\": \"custom.exercise_interaction\", \"data\": {\"outcomeType\": 1, \"valueTowardsCompletion\": 0.25, \"interactionType\": 1, \"questionType\": 2, \"questionId\": \"1_Q1\", \"learnToolsVersion\": \"0.3.4\", \"failureMessage\": \"\", \"exceptionClass\": \"\", \"trace\": \"\"}}, \"*\")"
      ],
      "text/plain": [
       "<IPython.core.display.Javascript object>"
      ]
     },
     "metadata": {},
     "output_type": "display_data"
    },
    {
     "data": {
      "text/markdown": [
       "<span style=\"color:#33cc33\">Correct:</span> When doing transfer learning, it's generally not a good idea to retrain the entire base -- at least not without some care. The reason is that the random weights in the head will initially create large gradient updates, which propogate back into the base layers and destroy much of the pretraining. Using techniques known as **fine tuning** it's possible to further train the base on new data, but this requires some care to do well."
      ],
      "text/plain": [
       "Correct: When doing transfer learning, it's generally not a good idea to retrain the entire base -- at least not without some care. The reason is that the random weights in the head will initially create large gradient updates, which propogate back into the base layers and destroy much of the pretraining. Using techniques known as **fine tuning** it's possible to further train the base on new data, but this requires some care to do well."
      ]
     },
     "metadata": {},
     "output_type": "display_data"
    }
   ],
   "source": [
    "# YOUR_CODE_HERE\n",
    "pretrained_base.trainable = False\n",
    "\n",
    "# Check your answer\n",
    "q_1.check()"
   ]
  },
  {
   "cell_type": "code",
   "execution_count": 4,
   "id": "64c03f0e",
   "metadata": {
    "execution": {
     "iopub.execute_input": "2023-03-27T14:28:10.166745Z",
     "iopub.status.busy": "2023-03-27T14:28:10.166453Z",
     "iopub.status.idle": "2023-03-27T14:28:10.171599Z",
     "shell.execute_reply": "2023-03-27T14:28:10.170714Z"
    },
    "papermill": {
     "duration": 0.012725,
     "end_time": "2023-03-27T14:28:10.173737",
     "exception": false,
     "start_time": "2023-03-27T14:28:10.161012",
     "status": "completed"
    },
    "tags": []
   },
   "outputs": [],
   "source": [
    "# Lines below will give you a hint or solution code\n",
    "#q_1.hint()\n",
    "#q_1.solution()"
   ]
  },
  {
   "cell_type": "markdown",
   "id": "c69df589",
   "metadata": {
    "papermill": {
     "duration": 0.004408,
     "end_time": "2023-03-27T14:28:10.182747",
     "exception": false,
     "start_time": "2023-03-27T14:28:10.178339",
     "status": "completed"
    },
    "tags": []
   },
   "source": [
    "# 2) Attach Head #\n",
    "\n",
    "Now that the base is defined to do the feature extraction, create a head of `Dense` layers to perform the classification, following this diagram:\n",
    "\n",
    "<figure>\n",
    "<img src=\"https://i.imgur.com/i5VU7Ry.png\" alt=\"Diagram of the dense head.\">\n",
    "</figure>\n"
   ]
  },
  {
   "cell_type": "code",
   "execution_count": 5,
   "id": "44c5adfb",
   "metadata": {
    "execution": {
     "iopub.execute_input": "2023-03-27T14:28:10.192806Z",
     "iopub.status.busy": "2023-03-27T14:28:10.192507Z",
     "iopub.status.idle": "2023-03-27T14:28:10.214250Z",
     "shell.execute_reply": "2023-03-27T14:28:10.213378Z"
    },
    "lines_to_next_cell": 0,
    "papermill": {
     "duration": 0.029271,
     "end_time": "2023-03-27T14:28:10.216509",
     "exception": false,
     "start_time": "2023-03-27T14:28:10.187238",
     "status": "completed"
    },
    "tags": []
   },
   "outputs": [
    {
     "data": {
      "application/javascript": [
       "parent.postMessage({\"jupyterEvent\": \"custom.exercise_interaction\", \"data\": {\"outcomeType\": 1, \"valueTowardsCompletion\": 0.25, \"interactionType\": 1, \"questionType\": 2, \"questionId\": \"2_Q2\", \"learnToolsVersion\": \"0.3.4\", \"failureMessage\": \"\", \"exceptionClass\": \"\", \"trace\": \"\"}}, \"*\")"
      ],
      "text/plain": [
       "<IPython.core.display.Javascript object>"
      ]
     },
     "metadata": {},
     "output_type": "display_data"
    },
    {
     "data": {
      "text/markdown": [
       "<span style=\"color:#33cc33\">Correct</span>"
      ],
      "text/plain": [
       "Correct"
      ]
     },
     "metadata": {},
     "output_type": "display_data"
    }
   ],
   "source": [
    "from tensorflow import keras\n",
    "from tensorflow.keras import layers\n",
    "\n",
    "model = keras.Sequential([\n",
    "    pretrained_base,\n",
    "    layers.Flatten(),\n",
    "    # YOUR CODE HERE. Attach a head of dense layers.\n",
    "    layers.Dense(6, activation='relu'),\n",
    "    layers.Dense(1, activation='sigmoid')\n",
    "])\n",
    "\n",
    "# Check your answer\n",
    "q_2.check()"
   ]
  },
  {
   "cell_type": "code",
   "execution_count": 6,
   "id": "c0372a6c",
   "metadata": {
    "execution": {
     "iopub.execute_input": "2023-03-27T14:28:10.227527Z",
     "iopub.status.busy": "2023-03-27T14:28:10.226717Z",
     "iopub.status.idle": "2023-03-27T14:28:10.230903Z",
     "shell.execute_reply": "2023-03-27T14:28:10.230022Z"
    },
    "papermill": {
     "duration": 0.011674,
     "end_time": "2023-03-27T14:28:10.232878",
     "exception": false,
     "start_time": "2023-03-27T14:28:10.221204",
     "status": "completed"
    },
    "tags": []
   },
   "outputs": [],
   "source": [
    "# Lines below will give you a hint or solution code\n",
    "#q_2.hint()\n",
    "#q_2.solution()"
   ]
  },
  {
   "cell_type": "markdown",
   "id": "97f67f8f",
   "metadata": {
    "papermill": {
     "duration": 0.004611,
     "end_time": "2023-03-27T14:28:10.242285",
     "exception": false,
     "start_time": "2023-03-27T14:28:10.237674",
     "status": "completed"
    },
    "tags": []
   },
   "source": [
    "# 3) Train #\n",
    "\n",
    "Before training a model in Keras, you need to specify an *optimizer* to perform the gradient descent, a *loss function* to be minimized, and (optionally) any *performance metrics*. The optimization algorithm we'll use for this course is called [\"Adam\"](https://keras.io/api/optimizers/adam/), which generally performs well regardless of what kind of problem you're trying to solve.\n",
    "\n",
    "The loss and the metrics, however, need to match the kind of problem you're trying to solve. Our problem is a **binary classification** problem: `Car` coded as 0, and `Truck` coded as 1. Choose an appropriate loss and an appropriate accuracy metric for binary classification."
   ]
  },
  {
   "cell_type": "code",
   "execution_count": 7,
   "id": "6519ed72",
   "metadata": {
    "execution": {
     "iopub.execute_input": "2023-03-27T14:28:10.253417Z",
     "iopub.status.busy": "2023-03-27T14:28:10.252626Z",
     "iopub.status.idle": "2023-03-27T14:28:10.274428Z",
     "shell.execute_reply": "2023-03-27T14:28:10.273350Z"
    },
    "lines_to_next_cell": 0,
    "papermill": {
     "duration": 0.029961,
     "end_time": "2023-03-27T14:28:10.277066",
     "exception": false,
     "start_time": "2023-03-27T14:28:10.247105",
     "status": "completed"
    },
    "tags": []
   },
   "outputs": [
    {
     "data": {
      "application/javascript": [
       "parent.postMessage({\"jupyterEvent\": \"custom.exercise_interaction\", \"data\": {\"outcomeType\": 1, \"valueTowardsCompletion\": 0.25, \"interactionType\": 1, \"questionType\": 2, \"questionId\": \"3_Q3\", \"learnToolsVersion\": \"0.3.4\", \"failureMessage\": \"\", \"exceptionClass\": \"\", \"trace\": \"\"}}, \"*\")"
      ],
      "text/plain": [
       "<IPython.core.display.Javascript object>"
      ]
     },
     "metadata": {},
     "output_type": "display_data"
    },
    {
     "data": {
      "text/markdown": [
       "<span style=\"color:#33cc33\">Correct</span>"
      ],
      "text/plain": [
       "Correct"
      ]
     },
     "metadata": {},
     "output_type": "display_data"
    }
   ],
   "source": [
    "# YOUR CODE HERE: what loss function should you use for a binary\n",
    "# classification problem? (Your answer for each should be a string.)\n",
    "optimizer = tf.keras.optimizers.Adam(epsilon=0.01)\n",
    "model.compile(\n",
    "    optimizer=optimizer,\n",
    "    loss = \"binary_crossentropy\",\n",
    "    metrics=[\"binary_accuracy\"],\n",
    ")\n",
    "\n",
    "# Check your answer\n",
    "q_3.check()"
   ]
  },
  {
   "cell_type": "code",
   "execution_count": 8,
   "id": "1a708572",
   "metadata": {
    "execution": {
     "iopub.execute_input": "2023-03-27T14:28:10.287969Z",
     "iopub.status.busy": "2023-03-27T14:28:10.287715Z",
     "iopub.status.idle": "2023-03-27T14:28:10.291656Z",
     "shell.execute_reply": "2023-03-27T14:28:10.290655Z"
    },
    "lines_to_next_cell": 0,
    "papermill": {
     "duration": 0.011742,
     "end_time": "2023-03-27T14:28:10.293716",
     "exception": false,
     "start_time": "2023-03-27T14:28:10.281974",
     "status": "completed"
    },
    "tags": []
   },
   "outputs": [],
   "source": [
    "# Lines below will give you a hint or solution code\n",
    "#q_3.hint()\n",
    "#q_3.solution()"
   ]
  },
  {
   "cell_type": "code",
   "execution_count": 9,
   "id": "fc00eda1",
   "metadata": {
    "execution": {
     "iopub.execute_input": "2023-03-27T14:28:10.304984Z",
     "iopub.status.busy": "2023-03-27T14:28:10.304724Z",
     "iopub.status.idle": "2023-03-27T14:31:54.089741Z",
     "shell.execute_reply": "2023-03-27T14:31:54.088736Z"
    },
    "papermill": {
     "duration": 223.793497,
     "end_time": "2023-03-27T14:31:54.092230",
     "exception": false,
     "start_time": "2023-03-27T14:28:10.298733",
     "status": "completed"
    },
    "tags": []
   },
   "outputs": [
    {
     "name": "stdout",
     "output_type": "stream",
     "text": [
      "Epoch 1/30\n",
      "80/80 [==============================] - 54s 442ms/step - loss: 0.5549 - binary_accuracy: 0.7286 - val_loss: 0.4459 - val_binary_accuracy: 0.8010\n",
      "Epoch 2/30\n",
      "80/80 [==============================] - 5s 59ms/step - loss: 0.4163 - binary_accuracy: 0.8122 - val_loss: 0.4083 - val_binary_accuracy: 0.8186\n",
      "Epoch 3/30\n",
      "80/80 [==============================] - 5s 57ms/step - loss: 0.3839 - binary_accuracy: 0.8298 - val_loss: 0.3944 - val_binary_accuracy: 0.8291\n",
      "Epoch 4/30\n",
      "80/80 [==============================] - 5s 57ms/step - loss: 0.3661 - binary_accuracy: 0.8397 - val_loss: 0.3844 - val_binary_accuracy: 0.8341\n",
      "Epoch 5/30\n",
      "80/80 [==============================] - 5s 58ms/step - loss: 0.3524 - binary_accuracy: 0.8480 - val_loss: 0.3758 - val_binary_accuracy: 0.8379\n",
      "Epoch 6/30\n",
      "80/80 [==============================] - 5s 58ms/step - loss: 0.3409 - binary_accuracy: 0.8566 - val_loss: 0.3701 - val_binary_accuracy: 0.8400\n",
      "Epoch 7/30\n",
      "80/80 [==============================] - 5s 58ms/step - loss: 0.3309 - binary_accuracy: 0.8616 - val_loss: 0.3643 - val_binary_accuracy: 0.8410\n",
      "Epoch 8/30\n",
      "80/80 [==============================] - 5s 59ms/step - loss: 0.3219 - binary_accuracy: 0.8681 - val_loss: 0.3528 - val_binary_accuracy: 0.8454\n",
      "Epoch 9/30\n",
      "80/80 [==============================] - 5s 59ms/step - loss: 0.3127 - binary_accuracy: 0.8728 - val_loss: 0.3566 - val_binary_accuracy: 0.8446\n",
      "Epoch 10/30\n",
      "80/80 [==============================] - 5s 59ms/step - loss: 0.3059 - binary_accuracy: 0.8751 - val_loss: 0.3445 - val_binary_accuracy: 0.8507\n",
      "Epoch 11/30\n",
      "80/80 [==============================] - 5s 58ms/step - loss: 0.2976 - binary_accuracy: 0.8781 - val_loss: 0.3416 - val_binary_accuracy: 0.8523\n",
      "Epoch 12/30\n",
      "80/80 [==============================] - 5s 59ms/step - loss: 0.2910 - binary_accuracy: 0.8804 - val_loss: 0.3411 - val_binary_accuracy: 0.8535\n",
      "Epoch 13/30\n",
      "80/80 [==============================] - 5s 59ms/step - loss: 0.2846 - binary_accuracy: 0.8822 - val_loss: 0.3415 - val_binary_accuracy: 0.8529\n",
      "Epoch 14/30\n",
      "80/80 [==============================] - 5s 60ms/step - loss: 0.2791 - binary_accuracy: 0.8845 - val_loss: 0.3400 - val_binary_accuracy: 0.8543\n",
      "Epoch 15/30\n",
      "80/80 [==============================] - 5s 60ms/step - loss: 0.2738 - binary_accuracy: 0.8880 - val_loss: 0.3389 - val_binary_accuracy: 0.8561\n",
      "Epoch 16/30\n",
      "80/80 [==============================] - 5s 60ms/step - loss: 0.2687 - binary_accuracy: 0.8917 - val_loss: 0.3387 - val_binary_accuracy: 0.8567\n",
      "Epoch 17/30\n",
      "80/80 [==============================] - 5s 59ms/step - loss: 0.2643 - binary_accuracy: 0.8929 - val_loss: 0.3391 - val_binary_accuracy: 0.8582\n",
      "Epoch 18/30\n",
      "80/80 [==============================] - 5s 59ms/step - loss: 0.2602 - binary_accuracy: 0.8953 - val_loss: 0.3404 - val_binary_accuracy: 0.8596\n",
      "Epoch 19/30\n",
      "80/80 [==============================] - 5s 59ms/step - loss: 0.2561 - binary_accuracy: 0.8974 - val_loss: 0.3405 - val_binary_accuracy: 0.8592\n",
      "Epoch 20/30\n",
      "80/80 [==============================] - 5s 59ms/step - loss: 0.2523 - binary_accuracy: 0.9003 - val_loss: 0.3420 - val_binary_accuracy: 0.8598\n",
      "Epoch 21/30\n",
      "80/80 [==============================] - 5s 60ms/step - loss: 0.2487 - binary_accuracy: 0.9027 - val_loss: 0.3406 - val_binary_accuracy: 0.8610\n",
      "Epoch 22/30\n",
      "80/80 [==============================] - 5s 59ms/step - loss: 0.2451 - binary_accuracy: 0.9046 - val_loss: 0.3432 - val_binary_accuracy: 0.8600\n",
      "Epoch 23/30\n",
      "80/80 [==============================] - 5s 59ms/step - loss: 0.2411 - binary_accuracy: 0.9056 - val_loss: 0.3437 - val_binary_accuracy: 0.8606\n",
      "Epoch 24/30\n",
      "80/80 [==============================] - 5s 58ms/step - loss: 0.2382 - binary_accuracy: 0.9066 - val_loss: 0.3473 - val_binary_accuracy: 0.8594\n",
      "Epoch 25/30\n",
      "80/80 [==============================] - 5s 59ms/step - loss: 0.2345 - binary_accuracy: 0.9074 - val_loss: 0.3472 - val_binary_accuracy: 0.8604\n",
      "Epoch 26/30\n",
      "80/80 [==============================] - 5s 59ms/step - loss: 0.2316 - binary_accuracy: 0.9081 - val_loss: 0.3488 - val_binary_accuracy: 0.8616\n",
      "Epoch 27/30\n",
      "80/80 [==============================] - 5s 59ms/step - loss: 0.2286 - binary_accuracy: 0.9099 - val_loss: 0.3528 - val_binary_accuracy: 0.8600\n",
      "Epoch 28/30\n",
      "80/80 [==============================] - 5s 61ms/step - loss: 0.2251 - binary_accuracy: 0.9121 - val_loss: 0.3553 - val_binary_accuracy: 0.8608\n",
      "Epoch 29/30\n",
      "80/80 [==============================] - 5s 59ms/step - loss: 0.2222 - binary_accuracy: 0.9130 - val_loss: 0.3539 - val_binary_accuracy: 0.8628\n",
      "Epoch 30/30\n",
      "80/80 [==============================] - 5s 59ms/step - loss: 0.2187 - binary_accuracy: 0.9140 - val_loss: 0.3580 - val_binary_accuracy: 0.8604\n"
     ]
    }
   ],
   "source": [
    "history = model.fit(\n",
    "    ds_train,\n",
    "    validation_data=ds_valid,\n",
    "    epochs=30,\n",
    ")"
   ]
  },
  {
   "cell_type": "markdown",
   "id": "e6f4780f",
   "metadata": {
    "papermill": {
     "duration": 0.071042,
     "end_time": "2023-03-27T14:31:54.235576",
     "exception": false,
     "start_time": "2023-03-27T14:31:54.164534",
     "status": "completed"
    },
    "tags": []
   },
   "source": [
    "Run the cell below to plot the loss and metric curves for this training run."
   ]
  },
  {
   "cell_type": "code",
   "execution_count": 10,
   "id": "87b089ab",
   "metadata": {
    "execution": {
     "iopub.execute_input": "2023-03-27T14:31:54.382416Z",
     "iopub.status.busy": "2023-03-27T14:31:54.381355Z",
     "iopub.status.idle": "2023-03-27T14:31:55.056977Z",
     "shell.execute_reply": "2023-03-27T14:31:55.055761Z"
    },
    "papermill": {
     "duration": 0.752889,
     "end_time": "2023-03-27T14:31:55.059111",
     "exception": false,
     "start_time": "2023-03-27T14:31:54.306222",
     "status": "completed"
    },
    "tags": []
   },
   "outputs": [
    {
     "data": {
      "image/png": "[encoded data removed]",
      "text/plain": [
       "<Figure size 640x480 with 1 Axes>"
      ]
     },
     "metadata": {},
     "output_type": "display_data"
    },
    {
     "data": {
      "image/png": "[encoded data removed]",
      "text/plain": [
       "<Figure size 640x480 with 1 Axes>"
      ]
     },
     "metadata": {},
     "output_type": "display_data"
    }
   ],
   "source": [
    "import pandas as pd\n",
    "history_frame = pd.DataFrame(history.history)\n",
    "history_frame.loc[:, ['loss', 'val_loss']].plot()\n",
    "history_frame.loc[:, ['binary_accuracy', 'val_binary_accuracy']].plot();"
   ]
  },
  {
   "cell_type": "markdown",
   "id": "29d3963f",
   "metadata": {
    "papermill": {
     "duration": 0.071193,
     "end_time": "2023-03-27T14:31:55.202383",
     "exception": false,
     "start_time": "2023-03-27T14:31:55.131190",
     "status": "completed"
    },
    "tags": []
   },
   "source": [
    "# 4) Examine Loss and Accuracy #\n",
    "\n",
    "Do you notice a difference between these learning curves and the curves for VGG16 from the tutorial? What does this difference tell you about what this model (InceptionV2) learned compared to VGG16? Are there ways in which one is better than the other? Worse?\n",
    "\n",
    "After you've thought about it, run the cell below to see the answer."
   ]
  },
  {
   "cell_type": "code",
   "execution_count": 11,
   "id": "7ec77da5",
   "metadata": {
    "execution": {
     "iopub.execute_input": "2023-03-27T14:31:55.346551Z",
     "iopub.status.busy": "2023-03-27T14:31:55.346196Z",
     "iopub.status.idle": "2023-03-27T14:31:55.354727Z",
     "shell.execute_reply": "2023-03-27T14:31:55.353608Z"
    },
    "papermill": {
     "duration": 0.083282,
     "end_time": "2023-03-27T14:31:55.356928",
     "exception": false,
     "start_time": "2023-03-27T14:31:55.273646",
     "status": "completed"
    },
    "tags": []
   },
   "outputs": [
    {
     "data": {
      "application/javascript": [
       "parent.postMessage({\"jupyterEvent\": \"custom.exercise_interaction\", \"data\": {\"outcomeType\": 1, \"valueTowardsCompletion\": 0.25, \"interactionType\": 1, \"questionType\": 4, \"questionId\": \"4_Q4\", \"learnToolsVersion\": \"0.3.4\", \"failureMessage\": \"\", \"exceptionClass\": \"\", \"trace\": \"\"}}, \"*\")"
      ],
      "text/plain": [
       "<IPython.core.display.Javascript object>"
      ]
     },
     "metadata": {},
     "output_type": "display_data"
    },
    {
     "data": {
      "text/markdown": [
       "<span style=\"color:#33cc33\">Correct:</span> \n",
       "\n",
       "That the training loss and validation loss stay fairly close is evidence that the model isn't just memorizing the training data, but rather learning general properties of the two classes. But, because this model converges at a loss greater than the VGG16 model, it's likely that it is underfitting some, and could benefit from some extra capacity.\n"
      ],
      "text/plain": [
       "Correct: \n",
       "\n",
       "That the training loss and validation loss stay fairly close is evidence that the model isn't just memorizing the training data, but rather learning general properties of the two classes. But, because this model converges at a loss greater than the VGG16 model, it's likely that it is underfitting some, and could benefit from some extra capacity."
      ]
     },
     "metadata": {},
     "output_type": "display_data"
    }
   ],
   "source": [
    "# View the solution (Run this code cell to receive credit!)\n",
    "q_4.check()"
   ]
  },
  {
   "cell_type": "markdown",
   "id": "a2ac4a94",
   "metadata": {
    "papermill": {
     "duration": 0.071842,
     "end_time": "2023-03-27T14:31:55.502269",
     "exception": false,
     "start_time": "2023-03-27T14:31:55.430427",
     "status": "completed"
    },
    "tags": []
   },
   "source": [
    "# Conclusion #\n",
    "\n",
    "In this first lesson, you learned the basics of **convolutional image classifiers**, that they consist of a **base** for extracting features from images, and a **head** which uses the features to decide the image's class. You also saw how to build a classifier with **transfer learning** on pretrained base. "
   ]
  },
  {
   "cell_type": "markdown",
   "id": "7511ac1c",
   "metadata": {
    "papermill": {
     "duration": 0.07194,
     "end_time": "2023-03-27T14:31:55.651079",
     "exception": false,
     "start_time": "2023-03-27T14:31:55.579139",
     "status": "completed"
    },
    "tags": []
   },
   "source": [
    "# Keep Going #\n",
    "\n",
    "Move on to [**Lesson 2**](https://www.kaggle.com/ryanholbrook/convolution-and-relu) for a detailed look at how the base does this feature extraction. (It's really cool!)"
   ]
  },
  {
   "cell_type": "markdown",
   "id": "961dffc9",
   "metadata": {
    "papermill": {
     "duration": 0.073652,
     "end_time": "2023-03-27T14:31:55.797563",
     "exception": false,
     "start_time": "2023-03-27T14:31:55.723911",
     "status": "completed"
    },
    "tags": []
   },
   "source": [
    "---\n",
    "\n",
    "\n",
    "\n",
    "\n",
    "*Have questions or comments? Visit the [course discussion forum](https://www.kaggle.com/learn/computer-vision/discussion) to chat with other learners.*"
   ]
  }
 ],
 "metadata": {
  "kernelspec": {
   "display_name": "Python 3",
   "language": "python",
   "name": "python3"
  },
  "language_info": {
   "codemirror_mode": {
    "name": "ipython",
    "version": 3
   },
   "file_extension": ".py",
   "mimetype": "text/x-python",
   "name": "python",
   "nbconvert_exporter": "python",
   "pygments_lexer": "ipython3",
   "version": "3.7.12"
  },
  "papermill": {
   "default_parameters": {},
   "duration": 273.894698,
   "end_time": "2023-03-27T14:31:58.966398",
   "environment_variables": {},
   "exception": null,
   "input_path": "__notebook__.ipynb",
   "output_path": "__notebook__.ipynb",
   "parameters": {},
   "start_time": "2023-03-27T14:27:25.071700",
   "version": "2.4.0"
  }
 },
 "nbformat": 4,
 "nbformat_minor": 5
}
