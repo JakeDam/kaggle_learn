{
 "cells": [
  {
   "cell_type": "markdown",
   "id": "efc1b7fa",
   "metadata": {
    "papermill": {
     "duration": 0.005485,
     "end_time": "2023-02-12T03:44:12.720333",
     "exception": false,
     "start_time": "2023-02-12T03:44:12.714848",
     "status": "completed"
    },
    "tags": []
   },
   "source": [
    "**This notebook is an exercise in the [Feature Engineering](https://www.kaggle.com/learn/feature-engineering) course.  You can reference the tutorial at [this link](https://www.kaggle.com/ryanholbrook/creating-features).**\n",
    "\n",
    "---\n"
   ]
  },
  {
   "cell_type": "markdown",
   "id": "3980d817",
   "metadata": {
    "papermill": {
     "duration": 0.004384,
     "end_time": "2023-02-12T03:44:12.729441",
     "exception": false,
     "start_time": "2023-02-12T03:44:12.725057",
     "status": "completed"
    },
    "tags": []
   },
   "source": [
    "# Introduction #\n",
    "\n",
    "In this exercise you'll start developing the features you identified in Exercise 2 as having the most potential. As you work through this exercise, you might take a moment to look at the data documentation again and consider whether the features we're creating make sense from a real-world perspective, and whether there are any useful combinations that stand out to you.\n",
    "\n",
    "Run this cell to set everything up!"
   ]
  },
  {
   "cell_type": "code",
   "execution_count": 1,
   "id": "e4a8f9e0",
   "metadata": {
    "execution": {
     "iopub.execute_input": "2023-02-12T03:44:12.741025Z",
     "iopub.status.busy": "2023-02-12T03:44:12.740240Z",
     "iopub.status.idle": "2023-02-12T03:44:13.807048Z",
     "shell.execute_reply": "2023-02-12T03:44:13.806001Z"
    },
    "papermill": {
     "duration": 1.075316,
     "end_time": "2023-02-12T03:44:13.809396",
     "exception": false,
     "start_time": "2023-02-12T03:44:12.734080",
     "status": "completed"
    },
    "tags": []
   },
   "outputs": [],
   "source": [
    "# Setup feedback system\n",
    "from learntools.core import binder\n",
    "binder.bind(globals())\n",
    "from learntools.feature_engineering_new.ex3 import *\n",
    "\n",
    "import numpy as np\n",
    "import pandas as pd\n",
    "from sklearn.model_selection import cross_val_score\n",
    "from xgboost import XGBRegressor\n",
    "\n",
    "\n",
    "def score_dataset(X, y, model=XGBRegressor()):\n",
    "    # Label encoding for categoricals\n",
    "    for colname in X.select_dtypes([\"category\", \"object\"]):\n",
    "        X[colname], _ = X[colname].factorize()\n",
    "    # Metric for Housing competition is RMSLE (Root Mean Squared Log Error)\n",
    "    score = cross_val_score(\n",
    "        model, X, y, cv=5, scoring=\"neg_mean_squared_log_error\",\n",
    "    )\n",
    "    score = -1 * score.mean()\n",
    "    score = np.sqrt(score)\n",
    "    return score\n",
    "\n",
    "\n",
    "# Prepare data\n",
    "df = pd.read_csv(\"../input/fe-course-data/ames.csv\")\n",
    "X = df.copy()\n",
    "y = X.pop(\"SalePrice\")"
   ]
  },
  {
   "cell_type": "markdown",
   "id": "d8ea0089",
   "metadata": {
    "papermill": {
     "duration": 0.004497,
     "end_time": "2023-02-12T03:44:13.818766",
     "exception": false,
     "start_time": "2023-02-12T03:44:13.814269",
     "status": "completed"
    },
    "tags": []
   },
   "source": [
    "-------------------------------------------------------------------------------\n",
    "\n",
    "Let's start with a few mathematical combinations. We'll focus on features describing areas -- having the same units (square-feet) makes it easy to combine them in sensible ways. Since we're using XGBoost (a tree-based model), we'll focus on ratios and sums.\n",
    "\n",
    "# 1) Create Mathematical Transforms\n",
    "\n",
    "Create the following features:\n",
    "\n",
    "- `LivLotRatio`: the ratio of `GrLivArea` to `LotArea`\n",
    "- `Spaciousness`: the sum of `FirstFlrSF` and `SecondFlrSF` divided by `TotRmsAbvGrd`\n",
    "- `TotalOutsideSF`: the sum of `WoodDeckSF`, `OpenPorchSF`, `EnclosedPorch`, `Threeseasonporch`, and `ScreenPorch`"
   ]
  },
  {
   "cell_type": "code",
   "execution_count": 2,
   "id": "2b392331",
   "metadata": {
    "execution": {
     "iopub.execute_input": "2023-02-12T03:44:13.830937Z",
     "iopub.status.busy": "2023-02-12T03:44:13.830559Z",
     "iopub.status.idle": "2023-02-12T03:44:13.854425Z",
     "shell.execute_reply": "2023-02-12T03:44:13.853145Z"
    },
    "lines_to_next_cell": 0,
    "papermill": {
     "duration": 0.032371,
     "end_time": "2023-02-12T03:44:13.856746",
     "exception": false,
     "start_time": "2023-02-12T03:44:13.824375",
     "status": "completed"
    },
    "tags": []
   },
   "outputs": [
    {
     "data": {
      "application/javascript": [
       "parent.postMessage({\"jupyterEvent\": \"custom.exercise_interaction\", \"data\": {\"outcomeType\": 1, \"valueTowardsCompletion\": 0.2, \"interactionType\": 1, \"questionType\": 2, \"questionId\": \"1_Q1\", \"learnToolsVersion\": \"0.3.4\", \"failureMessage\": \"\", \"exceptionClass\": \"\", \"trace\": \"\"}}, \"*\")"
      ],
      "text/plain": [
       "<IPython.core.display.Javascript object>"
      ]
     },
     "metadata": {},
     "output_type": "display_data"
    },
    {
     "data": {
      "text/markdown": [
       "<span style=\"color:#33cc33\">Correct</span>"
      ],
      "text/plain": [
       "Correct"
      ]
     },
     "metadata": {},
     "output_type": "display_data"
    }
   ],
   "source": [
    "# YOUR CODE HERE\n",
    "X_1 = pd.DataFrame()  # dataframe to hold new features\n",
    "\n",
    "X_1[\"LivLotRatio\"] = X[\"GrLivArea\"] / X[\"LotArea\"]\n",
    "X_1[\"Spaciousness\"] = (X[\"FirstFlrSF\"] + X[\"SecondFlrSF\"]) / X[\"TotRmsAbvGrd\"]\n",
    "X_1[\"TotalOutsideSF\"] = X[\"WoodDeckSF\"] + X[\"OpenPorchSF\"] + X[\"EnclosedPorch\"] + X[\"Threeseasonporch\"] + X[\"ScreenPorch\"]\n",
    "\n",
    "\n",
    "# Check your answer\n",
    "q_1.check()"
   ]
  },
  {
   "cell_type": "code",
   "execution_count": 3,
   "id": "f1550462",
   "metadata": {
    "execution": {
     "iopub.execute_input": "2023-02-12T03:44:13.868731Z",
     "iopub.status.busy": "2023-02-12T03:44:13.867901Z",
     "iopub.status.idle": "2023-02-12T03:44:13.871677Z",
     "shell.execute_reply": "2023-02-12T03:44:13.871098Z"
    },
    "lines_to_next_cell": 0,
    "papermill": {
     "duration": 0.011366,
     "end_time": "2023-02-12T03:44:13.873467",
     "exception": false,
     "start_time": "2023-02-12T03:44:13.862101",
     "status": "completed"
    },
    "tags": []
   },
   "outputs": [],
   "source": [
    "# Lines below will give you a hint or solution code\n",
    "#q_1.hint()\n",
    "#q_1.solution()"
   ]
  },
  {
   "cell_type": "markdown",
   "id": "75f54e31",
   "metadata": {
    "papermill": {
     "duration": 0.00463,
     "end_time": "2023-02-12T03:44:13.882877",
     "exception": false,
     "start_time": "2023-02-12T03:44:13.878247",
     "status": "completed"
    },
    "tags": []
   },
   "source": [
    "-------------------------------------------------------------------------------\n",
    "\n",
    "If you've discovered an interaction effect between a numeric feature and a categorical feature, you might want to model it explicitly using a one-hot encoding, like so:\n",
    "\n",
    "```\n",
    "# One-hot encode Categorical feature, adding a column prefix \"Cat\"\n",
    "X_new = pd.get_dummies(df.Categorical, prefix=\"Cat\")\n",
    "\n",
    "# Multiply row-by-row\n",
    "X_new = X_new.mul(df.Continuous, axis=0)\n",
    "\n",
    "# Join the new features to the feature set\n",
    "X = X.join(X_new)\n",
    "```\n",
    "\n",
    "# 2) Interaction with a Categorical\n",
    "\n",
    "We discovered an interaction between `BldgType` and `GrLivArea` in Exercise 2. Now create their interaction features."
   ]
  },
  {
   "cell_type": "code",
   "execution_count": 4,
   "id": "a425f987",
   "metadata": {
    "execution": {
     "iopub.execute_input": "2023-02-12T03:44:13.893843Z",
     "iopub.status.busy": "2023-02-12T03:44:13.893322Z",
     "iopub.status.idle": "2023-02-12T03:44:13.904413Z",
     "shell.execute_reply": "2023-02-12T03:44:13.903828Z"
    },
    "lines_to_next_cell": 0,
    "papermill": {
     "duration": 0.018446,
     "end_time": "2023-02-12T03:44:13.906070",
     "exception": false,
     "start_time": "2023-02-12T03:44:13.887624",
     "status": "completed"
    },
    "tags": []
   },
   "outputs": [
    {
     "data": {
      "application/javascript": [
       "parent.postMessage({\"jupyterEvent\": \"custom.exercise_interaction\", \"data\": {\"outcomeType\": 1, \"valueTowardsCompletion\": 0.2, \"interactionType\": 1, \"questionType\": 2, \"questionId\": \"2_Q2\", \"learnToolsVersion\": \"0.3.4\", \"failureMessage\": \"\", \"exceptionClass\": \"\", \"trace\": \"\"}}, \"*\")"
      ],
      "text/plain": [
       "<IPython.core.display.Javascript object>"
      ]
     },
     "metadata": {},
     "output_type": "display_data"
    },
    {
     "data": {
      "text/markdown": [
       "<span style=\"color:#33cc33\">Correct</span>"
      ],
      "text/plain": [
       "Correct"
      ]
     },
     "metadata": {},
     "output_type": "display_data"
    }
   ],
   "source": [
    "# YOUR CODE HERE\n",
    "# One-hot encode BldgType. Use `prefix=\"Bldg\"` in `get_dummies`\n",
    "X_2 = pd.get_dummies(df.BldgType, prefix=\"Bldg\") \n",
    "# Multiply\n",
    "X_2 = X_2.mul(df.GrLivArea, axis=0)\n",
    "\n",
    "\n",
    "# Check your answer\n",
    "q_2.check()"
   ]
  },
  {
   "cell_type": "code",
   "execution_count": 5,
   "id": "43fb46b0",
   "metadata": {
    "execution": {
     "iopub.execute_input": "2023-02-12T03:44:13.917685Z",
     "iopub.status.busy": "2023-02-12T03:44:13.917196Z",
     "iopub.status.idle": "2023-02-12T03:44:13.920612Z",
     "shell.execute_reply": "2023-02-12T03:44:13.920072Z"
    },
    "lines_to_next_cell": 0,
    "papermill": {
     "duration": 0.011022,
     "end_time": "2023-02-12T03:44:13.922242",
     "exception": false,
     "start_time": "2023-02-12T03:44:13.911220",
     "status": "completed"
    },
    "tags": []
   },
   "outputs": [],
   "source": [
    "# Lines below will give you a hint or solution code\n",
    "#q_2.hint()\n",
    "#q_2.solution()"
   ]
  },
  {
   "cell_type": "markdown",
   "id": "6c248ab6",
   "metadata": {
    "lines_to_next_cell": 0,
    "papermill": {
     "duration": 0.004856,
     "end_time": "2023-02-12T03:44:13.932092",
     "exception": false,
     "start_time": "2023-02-12T03:44:13.927236",
     "status": "completed"
    },
    "tags": []
   },
   "source": [
    "# 3) Count Feature\n",
    "\n",
    "Let's try creating a feature that describes how many kinds of outdoor areas a dwelling has. Create a feature `PorchTypes` that counts how many of the following are greater than 0.0:\n",
    "\n",
    "```\n",
    "WoodDeckSF\n",
    "OpenPorchSF\n",
    "EnclosedPorch\n",
    "Threeseasonporch\n",
    "ScreenPorch\n",
    "```"
   ]
  },
  {
   "cell_type": "code",
   "execution_count": 6,
   "id": "46b63960",
   "metadata": {
    "execution": {
     "iopub.execute_input": "2023-02-12T03:44:13.943423Z",
     "iopub.status.busy": "2023-02-12T03:44:13.942907Z",
     "iopub.status.idle": "2023-02-12T03:44:13.956287Z",
     "shell.execute_reply": "2023-02-12T03:44:13.955673Z"
    },
    "lines_to_next_cell": 0,
    "papermill": {
     "duration": 0.020949,
     "end_time": "2023-02-12T03:44:13.957958",
     "exception": false,
     "start_time": "2023-02-12T03:44:13.937009",
     "status": "completed"
    },
    "tags": []
   },
   "outputs": [
    {
     "data": {
      "application/javascript": [
       "parent.postMessage({\"jupyterEvent\": \"custom.exercise_interaction\", \"data\": {\"outcomeType\": 1, \"valueTowardsCompletion\": 0.2, \"interactionType\": 1, \"questionType\": 2, \"questionId\": \"3_Q3\", \"learnToolsVersion\": \"0.3.4\", \"failureMessage\": \"\", \"exceptionClass\": \"\", \"trace\": \"\"}}, \"*\")"
      ],
      "text/plain": [
       "<IPython.core.display.Javascript object>"
      ]
     },
     "metadata": {},
     "output_type": "display_data"
    },
    {
     "data": {
      "text/markdown": [
       "<span style=\"color:#33cc33\">Correct</span>"
      ],
      "text/plain": [
       "Correct"
      ]
     },
     "metadata": {},
     "output_type": "display_data"
    }
   ],
   "source": [
    "X_3 = pd.DataFrame()\n",
    "\n",
    "# YOUR CODE HERE\n",
    "X_3[\"PorchTypes\"] = df[[\n",
    "    \"WoodDeckSF\",\n",
    "    \"OpenPorchSF\",\n",
    "    \"EnclosedPorch\",\n",
    "    \"Threeseasonporch\",\n",
    "    \"ScreenPorch\"\n",
    "]].gt(0.0).sum(axis=1)\n",
    "\n",
    "\n",
    "# Check your answer\n",
    "q_3.check()"
   ]
  },
  {
   "cell_type": "code",
   "execution_count": 7,
   "id": "f85f9569",
   "metadata": {
    "execution": {
     "iopub.execute_input": "2023-02-12T03:44:13.970015Z",
     "iopub.status.busy": "2023-02-12T03:44:13.969525Z",
     "iopub.status.idle": "2023-02-12T03:44:13.972903Z",
     "shell.execute_reply": "2023-02-12T03:44:13.972330Z"
    },
    "lines_to_next_cell": 0,
    "papermill": {
     "duration": 0.01126,
     "end_time": "2023-02-12T03:44:13.974499",
     "exception": false,
     "start_time": "2023-02-12T03:44:13.963239",
     "status": "completed"
    },
    "tags": []
   },
   "outputs": [],
   "source": [
    "# Lines below will give you a hint or solution code\n",
    "#q_3.hint()\n",
    "#q_3.solution()"
   ]
  },
  {
   "cell_type": "markdown",
   "id": "8cf05d36",
   "metadata": {
    "papermill": {
     "duration": 0.004877,
     "end_time": "2023-02-12T03:44:13.984526",
     "exception": false,
     "start_time": "2023-02-12T03:44:13.979649",
     "status": "completed"
    },
    "tags": []
   },
   "source": [
    "# 4) Break Down a Categorical Feature\n",
    "\n",
    "`MSSubClass` describes the type of a dwelling:"
   ]
  },
  {
   "cell_type": "code",
   "execution_count": 8,
   "id": "e74a7fa1",
   "metadata": {
    "execution": {
     "iopub.execute_input": "2023-02-12T03:44:13.996548Z",
     "iopub.status.busy": "2023-02-12T03:44:13.996038Z",
     "iopub.status.idle": "2023-02-12T03:44:14.002154Z",
     "shell.execute_reply": "2023-02-12T03:44:14.001488Z"
    },
    "papermill": {
     "duration": 0.014233,
     "end_time": "2023-02-12T03:44:14.003821",
     "exception": false,
     "start_time": "2023-02-12T03:44:13.989588",
     "status": "completed"
    },
    "tags": []
   },
   "outputs": [
    {
     "data": {
      "text/plain": [
       "array(['One_Story_1946_and_Newer_All_Styles', 'Two_Story_1946_and_Newer',\n",
       "       'One_Story_PUD_1946_and_Newer',\n",
       "       'One_and_Half_Story_Finished_All_Ages', 'Split_Foyer',\n",
       "       'Two_Story_PUD_1946_and_Newer', 'Split_or_Multilevel',\n",
       "       'One_Story_1945_and_Older', 'Duplex_All_Styles_and_Ages',\n",
       "       'Two_Family_conversion_All_Styles_and_Ages',\n",
       "       'One_and_Half_Story_Unfinished_All_Ages',\n",
       "       'Two_Story_1945_and_Older', 'Two_and_Half_Story_All_Ages',\n",
       "       'One_Story_with_Finished_Attic_All_Ages',\n",
       "       'PUD_Multilevel_Split_Level_Foyer',\n",
       "       'One_and_Half_Story_PUD_All_Ages'], dtype=object)"
      ]
     },
     "execution_count": 8,
     "metadata": {},
     "output_type": "execute_result"
    }
   ],
   "source": [
    "df.MSSubClass.unique()"
   ]
  },
  {
   "cell_type": "markdown",
   "id": "01e82d79",
   "metadata": {
    "papermill": {
     "duration": 0.005744,
     "end_time": "2023-02-12T03:44:14.015565",
     "exception": false,
     "start_time": "2023-02-12T03:44:14.009821",
     "status": "completed"
    },
    "tags": []
   },
   "source": [
    "You can see that there is a more general categorization described (roughly) by the first word of each category. Create a feature containing only these first words by splitting `MSSubClass` at the first underscore `_`. (Hint: In the `split` method use an argument `n=1`.)"
   ]
  },
  {
   "cell_type": "code",
   "execution_count": 9,
   "id": "941cfa61",
   "metadata": {
    "execution": {
     "iopub.execute_input": "2023-02-12T03:44:14.028197Z",
     "iopub.status.busy": "2023-02-12T03:44:14.027605Z",
     "iopub.status.idle": "2023-02-12T03:44:14.047028Z",
     "shell.execute_reply": "2023-02-12T03:44:14.046189Z"
    },
    "lines_to_next_cell": 0,
    "papermill": {
     "duration": 0.027577,
     "end_time": "2023-02-12T03:44:14.048715",
     "exception": false,
     "start_time": "2023-02-12T03:44:14.021138",
     "status": "completed"
    },
    "tags": []
   },
   "outputs": [
    {
     "data": {
      "application/javascript": [
       "parent.postMessage({\"jupyterEvent\": \"custom.exercise_interaction\", \"data\": {\"outcomeType\": 1, \"valueTowardsCompletion\": 0.2, \"interactionType\": 1, \"questionType\": 2, \"questionId\": \"4_Q4\", \"learnToolsVersion\": \"0.3.4\", \"failureMessage\": \"\", \"exceptionClass\": \"\", \"trace\": \"\"}}, \"*\")"
      ],
      "text/plain": [
       "<IPython.core.display.Javascript object>"
      ]
     },
     "metadata": {},
     "output_type": "display_data"
    },
    {
     "data": {
      "text/markdown": [
       "<span style=\"color:#33cc33\">Correct</span>"
      ],
      "text/plain": [
       "Correct"
      ]
     },
     "metadata": {},
     "output_type": "display_data"
    }
   ],
   "source": [
    "X_4 = pd.DataFrame()\n",
    "\n",
    "# YOUR CODE HERE\n",
    "X_4[\"MSClass\"] = df.MSSubClass.str.split(\"_\", n=1, expand=True)[0]\n",
    "\n",
    "# Check your answer\n",
    "q_4.check()"
   ]
  },
  {
   "cell_type": "code",
   "execution_count": 10,
   "id": "5c632170",
   "metadata": {
    "execution": {
     "iopub.execute_input": "2023-02-12T03:44:14.061490Z",
     "iopub.status.busy": "2023-02-12T03:44:14.060921Z",
     "iopub.status.idle": "2023-02-12T03:44:14.064795Z",
     "shell.execute_reply": "2023-02-12T03:44:14.063754Z"
    },
    "lines_to_next_cell": 0,
    "papermill": {
     "duration": 0.012482,
     "end_time": "2023-02-12T03:44:14.066919",
     "exception": false,
     "start_time": "2023-02-12T03:44:14.054437",
     "status": "completed"
    },
    "tags": []
   },
   "outputs": [],
   "source": [
    "# Lines below will give you a hint or solution code\n",
    "#q_4.hint()\n",
    "#q_4.solution()"
   ]
  },
  {
   "cell_type": "markdown",
   "id": "402e0830",
   "metadata": {
    "papermill": {
     "duration": 0.005321,
     "end_time": "2023-02-12T03:44:14.078145",
     "exception": false,
     "start_time": "2023-02-12T03:44:14.072824",
     "status": "completed"
    },
    "tags": []
   },
   "source": [
    "# 5) Use a Grouped Transform\n",
    "\n",
    "The value of a home often depends on how it compares to typical homes in its neighborhood. Create a feature `MedNhbdArea` that describes the *median* of `GrLivArea` grouped on `Neighborhood`."
   ]
  },
  {
   "cell_type": "code",
   "execution_count": 11,
   "id": "14773970",
   "metadata": {
    "execution": {
     "iopub.execute_input": "2023-02-12T03:44:14.091521Z",
     "iopub.status.busy": "2023-02-12T03:44:14.090470Z",
     "iopub.status.idle": "2023-02-12T03:44:14.105098Z",
     "shell.execute_reply": "2023-02-12T03:44:14.104512Z"
    },
    "lines_to_next_cell": 0,
    "papermill": {
     "duration": 0.023039,
     "end_time": "2023-02-12T03:44:14.106695",
     "exception": false,
     "start_time": "2023-02-12T03:44:14.083656",
     "status": "completed"
    },
    "tags": []
   },
   "outputs": [
    {
     "data": {
      "application/javascript": [
       "parent.postMessage({\"jupyterEvent\": \"custom.exercise_interaction\", \"data\": {\"outcomeType\": 1, \"valueTowardsCompletion\": 0.2, \"interactionType\": 1, \"questionType\": 2, \"questionId\": \"5_Q5\", \"learnToolsVersion\": \"0.3.4\", \"failureMessage\": \"\", \"exceptionClass\": \"\", \"trace\": \"\"}}, \"*\")"
      ],
      "text/plain": [
       "<IPython.core.display.Javascript object>"
      ]
     },
     "metadata": {},
     "output_type": "display_data"
    },
    {
     "data": {
      "text/markdown": [
       "<span style=\"color:#33cc33\">Correct</span>"
      ],
      "text/plain": [
       "Correct"
      ]
     },
     "metadata": {},
     "output_type": "display_data"
    }
   ],
   "source": [
    "X_5 = pd.DataFrame()\n",
    "\n",
    "# YOUR CODE HERE\n",
    "X_5[\"MedNhbdArea\"] = X_5[\"MedNhbdArea\"] = df.groupby(\"Neighborhood\")[\"GrLivArea\"].transform(\"median\")\n",
    "\n",
    "# Check your answer\n",
    "q_5.check()"
   ]
  },
  {
   "cell_type": "code",
   "execution_count": 12,
   "id": "9e27b4e5",
   "metadata": {
    "execution": {
     "iopub.execute_input": "2023-02-12T03:44:14.120436Z",
     "iopub.status.busy": "2023-02-12T03:44:14.119904Z",
     "iopub.status.idle": "2023-02-12T03:44:14.125358Z",
     "shell.execute_reply": "2023-02-12T03:44:14.124817Z"
    },
    "lines_to_next_cell": 0,
    "papermill": {
     "duration": 0.013842,
     "end_time": "2023-02-12T03:44:14.126868",
     "exception": false,
     "start_time": "2023-02-12T03:44:14.113026",
     "status": "completed"
    },
    "tags": []
   },
   "outputs": [
    {
     "data": {
      "application/javascript": [
       "parent.postMessage({\"jupyterEvent\": \"custom.exercise_interaction\", \"data\": {\"interactionType\": 3, \"questionType\": 2, \"questionId\": \"5_Q5\", \"learnToolsVersion\": \"0.3.4\", \"valueTowardsCompletion\": 0.0, \"failureMessage\": \"\", \"exceptionClass\": \"\", \"trace\": \"\", \"outcomeType\": 4}}, \"*\")"
      ],
      "text/plain": [
       "<IPython.core.display.Javascript object>"
      ]
     },
     "metadata": {},
     "output_type": "display_data"
    },
    {
     "data": {
      "text/markdown": [
       "<span style=\"color:#33cc99\">Solution:</span> \n",
       "```python\n",
       "\n",
       "X_5 = pd.DataFrame()\n",
       "\n",
       "X_5[\"MedNhbdArea\"] = df.groupby(\"Neighborhood\")[\"GrLivArea\"].transform(\"median\")\n",
       "\n",
       "```"
      ],
      "text/plain": [
       "Solution: \n",
       "```python\n",
       "\n",
       "X_5 = pd.DataFrame()\n",
       "\n",
       "X_5[\"MedNhbdArea\"] = df.groupby(\"Neighborhood\")[\"GrLivArea\"].transform(\"median\")\n",
       "\n",
       "```"
      ]
     },
     "metadata": {},
     "output_type": "display_data"
    }
   ],
   "source": [
    "# Lines below will give you a hint or solution code\n",
    "#q_5.hint()\n",
    "q_5.solution()"
   ]
  },
  {
   "cell_type": "markdown",
   "id": "765df71a",
   "metadata": {
    "papermill": {
     "duration": 0.005759,
     "end_time": "2023-02-12T03:44:14.138581",
     "exception": false,
     "start_time": "2023-02-12T03:44:14.132822",
     "status": "completed"
    },
    "tags": []
   },
   "source": [
    "Now you've made your first new feature set! If you like, you can run the cell below to score the model with all of your new features added:"
   ]
  },
  {
   "cell_type": "code",
   "execution_count": 13,
   "id": "1c5b52b9",
   "metadata": {
    "execution": {
     "iopub.execute_input": "2023-02-12T03:44:14.152124Z",
     "iopub.status.busy": "2023-02-12T03:44:14.151524Z",
     "iopub.status.idle": "2023-02-12T03:44:17.636442Z",
     "shell.execute_reply": "2023-02-12T03:44:17.635775Z"
    },
    "papermill": {
     "duration": 3.493966,
     "end_time": "2023-02-12T03:44:17.638395",
     "exception": false,
     "start_time": "2023-02-12T03:44:14.144429",
     "status": "completed"
    },
    "tags": []
   },
   "outputs": [
    {
     "data": {
      "text/plain": [
       "0.13847331710099203"
      ]
     },
     "execution_count": 13,
     "metadata": {},
     "output_type": "execute_result"
    }
   ],
   "source": [
    "X_new = X.join([X_1, X_2, X_3, X_4, X_5])\n",
    "score_dataset(X_new, y)"
   ]
  },
  {
   "cell_type": "markdown",
   "id": "13afdddc",
   "metadata": {
    "papermill": {
     "duration": 0.005865,
     "end_time": "2023-02-12T03:44:17.650534",
     "exception": false,
     "start_time": "2023-02-12T03:44:17.644669",
     "status": "completed"
    },
    "tags": []
   },
   "source": [
    "# Keep Going #\n",
    "\n",
    "[**Untangle spatial relationships**](https://www.kaggle.com/ryanholbrook/clustering-with-k-means) by adding cluster labels to your dataset."
   ]
  },
  {
   "cell_type": "markdown",
   "id": "e8810948",
   "metadata": {
    "papermill": {
     "duration": 0.005673,
     "end_time": "2023-02-12T03:44:17.662095",
     "exception": false,
     "start_time": "2023-02-12T03:44:17.656422",
     "status": "completed"
    },
    "tags": []
   },
   "source": [
    "---\n",
    "\n",
    "\n",
    "\n",
    "\n",
    "*Have questions or comments? Visit the [course discussion forum](https://www.kaggle.com/learn/feature-engineering/discussion) to chat with other learners.*"
   ]
  }
 ],
 "metadata": {
  "kernelspec": {
   "display_name": "Python 3",
   "language": "python",
   "name": "python3"
  },
  "language_info": {
   "codemirror_mode": {
    "name": "ipython",
    "version": 3
   },
   "file_extension": ".py",
   "mimetype": "text/x-python",
   "name": "python",
   "nbconvert_exporter": "python",
   "pygments_lexer": "ipython3",
   "version": "3.7.12"
  },
  "papermill": {
   "default_parameters": {},
   "duration": 12.187226,
   "end_time": "2023-02-12T03:44:18.286349",
   "environment_variables": {},
   "exception": null,
   "input_path": "__notebook__.ipynb",
   "output_path": "__notebook__.ipynb",
   "parameters": {},
   "start_time": "2023-02-12T03:44:06.099123",
   "version": "2.3.4"
  }
 },
 "nbformat": 4,
 "nbformat_minor": 5
}
