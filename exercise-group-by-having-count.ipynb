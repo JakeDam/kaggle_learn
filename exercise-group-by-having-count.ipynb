{
 "cells": [
  {
   "cell_type": "markdown",
   "id": "5fa8f6d4",
   "metadata": {
    "papermill": {
     "duration": 0.004181,
     "end_time": "2023-02-25T02:51:54.096071",
     "exception": false,
     "start_time": "2023-02-25T02:51:54.091890",
     "status": "completed"
    },
    "tags": []
   },
   "source": [
    "**This notebook is an exercise in the [SQL](https://www.kaggle.com/learn/intro-to-sql) course.  You can reference the tutorial at [this link](https://www.kaggle.com/dansbecker/group-by-having-count).**\n",
    "\n",
    "---\n"
   ]
  },
  {
   "cell_type": "markdown",
   "id": "c5f87fbf",
   "metadata": {
    "papermill": {
     "duration": 0.003021,
     "end_time": "2023-02-25T02:51:54.102481",
     "exception": false,
     "start_time": "2023-02-25T02:51:54.099460",
     "status": "completed"
    },
    "tags": []
   },
   "source": [
    "# Introduction\n",
    "\n",
    "Queries with **GROUP BY** can be powerful. There are many small things that can trip you up (like the order of the clauses), but it will start to feel natural once you've done it a few times. Here, you'll write queries using **GROUP BY** to answer questions from the Hacker News dataset.\n",
    "\n",
    "Before you get started, run the following cell to set everything up:"
   ]
  },
  {
   "cell_type": "code",
   "execution_count": 1,
   "id": "ca01fe3f",
   "metadata": {
    "execution": {
     "iopub.execute_input": "2023-02-25T02:51:54.110738Z",
     "iopub.status.busy": "2023-02-25T02:51:54.110405Z",
     "iopub.status.idle": "2023-02-25T02:51:56.568827Z",
     "shell.execute_reply": "2023-02-25T02:51:56.567697Z"
    },
    "papermill": {
     "duration": 2.46531,
     "end_time": "2023-02-25T02:51:56.571006",
     "exception": false,
     "start_time": "2023-02-25T02:51:54.105696",
     "status": "completed"
    },
    "tags": []
   },
   "outputs": [
    {
     "name": "stdout",
     "output_type": "stream",
     "text": [
      "Using Kaggle's public dataset BigQuery integration.\n"
     ]
    },
    {
     "name": "stderr",
     "output_type": "stream",
     "text": [
      "/opt/conda/lib/python3.7/site-packages/google/cloud/bigquery/client.py:440: UserWarning: Cannot create BigQuery Storage client, the dependency google-cloud-bigquery-storage is not installed.\n",
      "  \"Cannot create BigQuery Storage client, the dependency \"\n"
     ]
    },
    {
     "name": "stdout",
     "output_type": "stream",
     "text": [
      "Setup Complete\n"
     ]
    }
   ],
   "source": [
    "# Set up feedback system\n",
    "from learntools.core import binder\n",
    "binder.bind(globals())\n",
    "from learntools.sql.ex3 import *\n",
    "print(\"Setup Complete\")"
   ]
  },
  {
   "cell_type": "markdown",
   "id": "c41c9d80",
   "metadata": {
    "papermill": {
     "duration": 0.003391,
     "end_time": "2023-02-25T02:51:56.579746",
     "exception": false,
     "start_time": "2023-02-25T02:51:56.576355",
     "status": "completed"
    },
    "tags": []
   },
   "source": [
    "The code cell below fetches the `comments` table from the `hacker_news` dataset.  We also preview the first five rows of the table."
   ]
  },
  {
   "cell_type": "code",
   "execution_count": 2,
   "id": "dee90da4",
   "metadata": {
    "execution": {
     "iopub.execute_input": "2023-02-25T02:51:56.589333Z",
     "iopub.status.busy": "2023-02-25T02:51:56.588268Z",
     "iopub.status.idle": "2023-02-25T02:51:57.792721Z",
     "shell.execute_reply": "2023-02-25T02:51:57.791721Z"
    },
    "papermill": {
     "duration": 1.212011,
     "end_time": "2023-02-25T02:51:57.795271",
     "exception": false,
     "start_time": "2023-02-25T02:51:56.583260",
     "status": "completed"
    },
    "tags": []
   },
   "outputs": [
    {
     "name": "stdout",
     "output_type": "stream",
     "text": [
      "Using Kaggle's public dataset BigQuery integration.\n"
     ]
    },
    {
     "name": "stderr",
     "output_type": "stream",
     "text": [
      "/opt/conda/lib/python3.7/site-packages/ipykernel_launcher.py:19: UserWarning: Cannot use bqstorage_client if max_results is set, reverting to fetching data with the tabledata.list endpoint.\n"
     ]
    },
    {
     "data": {
      "text/html": [
       "<div>\n",
       "<style scoped>\n",
       "    .dataframe tbody tr th:only-of-type {\n",
       "        vertical-align: middle;\n",
       "    }\n",
       "\n",
       "    .dataframe tbody tr th {\n",
       "        vertical-align: top;\n",
       "    }\n",
       "\n",
       "    .dataframe thead th {\n",
       "        text-align: right;\n",
       "    }\n",
       "</style>\n",
       "<table border=\"1\" class=\"dataframe\">\n",
       "  <thead>\n",
       "    <tr style=\"text-align: right;\">\n",
       "      <th></th>\n",
       "      <th>id</th>\n",
       "      <th>by</th>\n",
       "      <th>author</th>\n",
       "      <th>time</th>\n",
       "      <th>time_ts</th>\n",
       "      <th>text</th>\n",
       "      <th>parent</th>\n",
       "      <th>deleted</th>\n",
       "      <th>dead</th>\n",
       "      <th>ranking</th>\n",
       "    </tr>\n",
       "  </thead>\n",
       "  <tbody>\n",
       "    <tr>\n",
       "      <th>0</th>\n",
       "      <td>9734136</td>\n",
       "      <td>None</td>\n",
       "      <td>None</td>\n",
       "      <td>1434565400</td>\n",
       "      <td>2015-06-17 18:23:20+00:00</td>\n",
       "      <td>None</td>\n",
       "      <td>9733698</td>\n",
       "      <td>True</td>\n",
       "      <td>None</td>\n",
       "      <td>0</td>\n",
       "    </tr>\n",
       "    <tr>\n",
       "      <th>1</th>\n",
       "      <td>4921158</td>\n",
       "      <td>None</td>\n",
       "      <td>None</td>\n",
       "      <td>1355496966</td>\n",
       "      <td>2012-12-14 14:56:06+00:00</td>\n",
       "      <td>None</td>\n",
       "      <td>4921100</td>\n",
       "      <td>True</td>\n",
       "      <td>None</td>\n",
       "      <td>0</td>\n",
       "    </tr>\n",
       "    <tr>\n",
       "      <th>2</th>\n",
       "      <td>7500568</td>\n",
       "      <td>None</td>\n",
       "      <td>None</td>\n",
       "      <td>1396261158</td>\n",
       "      <td>2014-03-31 10:19:18+00:00</td>\n",
       "      <td>None</td>\n",
       "      <td>7499385</td>\n",
       "      <td>True</td>\n",
       "      <td>None</td>\n",
       "      <td>0</td>\n",
       "    </tr>\n",
       "    <tr>\n",
       "      <th>3</th>\n",
       "      <td>8909635</td>\n",
       "      <td>None</td>\n",
       "      <td>None</td>\n",
       "      <td>1421627275</td>\n",
       "      <td>2015-01-19 00:27:55+00:00</td>\n",
       "      <td>None</td>\n",
       "      <td>8901135</td>\n",
       "      <td>True</td>\n",
       "      <td>None</td>\n",
       "      <td>0</td>\n",
       "    </tr>\n",
       "    <tr>\n",
       "      <th>4</th>\n",
       "      <td>9256463</td>\n",
       "      <td>None</td>\n",
       "      <td>None</td>\n",
       "      <td>1427204705</td>\n",
       "      <td>2015-03-24 13:45:05+00:00</td>\n",
       "      <td>None</td>\n",
       "      <td>9256346</td>\n",
       "      <td>True</td>\n",
       "      <td>None</td>\n",
       "      <td>0</td>\n",
       "    </tr>\n",
       "  </tbody>\n",
       "</table>\n",
       "</div>"
      ],
      "text/plain": [
       "        id    by author        time                   time_ts  text   parent  \\\n",
       "0  9734136  None   None  1434565400 2015-06-17 18:23:20+00:00  None  9733698   \n",
       "1  4921158  None   None  1355496966 2012-12-14 14:56:06+00:00  None  4921100   \n",
       "2  7500568  None   None  1396261158 2014-03-31 10:19:18+00:00  None  7499385   \n",
       "3  8909635  None   None  1421627275 2015-01-19 00:27:55+00:00  None  8901135   \n",
       "4  9256463  None   None  1427204705 2015-03-24 13:45:05+00:00  None  9256346   \n",
       "\n",
       "   deleted  dead  ranking  \n",
       "0     True  None        0  \n",
       "1     True  None        0  \n",
       "2     True  None        0  \n",
       "3     True  None        0  \n",
       "4     True  None        0  "
      ]
     },
     "execution_count": 2,
     "metadata": {},
     "output_type": "execute_result"
    }
   ],
   "source": [
    "from google.cloud import bigquery\n",
    "\n",
    "# Create a \"Client\" object\n",
    "client = bigquery.Client()\n",
    "\n",
    "# Construct a reference to the \"hacker_news\" dataset\n",
    "dataset_ref = client.dataset(\"hacker_news\", project=\"bigquery-public-data\")\n",
    "\n",
    "# API request - fetch the dataset\n",
    "dataset = client.get_dataset(dataset_ref)\n",
    "\n",
    "# Construct a reference to the \"comments\" table\n",
    "table_ref = dataset_ref.table(\"comments\")\n",
    "\n",
    "# API request - fetch the table\n",
    "table = client.get_table(table_ref)\n",
    "\n",
    "# Preview the first five lines of the \"comments\" table\n",
    "client.list_rows(table, max_results=5).to_dataframe()"
   ]
  },
  {
   "cell_type": "markdown",
   "id": "d091f6e7",
   "metadata": {
    "papermill": {
     "duration": 0.003723,
     "end_time": "2023-02-25T02:51:57.803147",
     "exception": false,
     "start_time": "2023-02-25T02:51:57.799424",
     "status": "completed"
    },
    "tags": []
   },
   "source": [
    "# Exercises\n",
    "\n",
    "### 1) Prolific commenters\n",
    "\n",
    "Hacker News would like to send awards to everyone who has written more than 10,000 posts. Write a query that returns all authors with more than 10,000 posts as well as their post counts. Call the column with post counts `NumPosts`.\n",
    "\n",
    "In case sample query is helpful, here is a query you saw in the tutorial to answer a similar question:\n",
    "```\n",
    "query = \"\"\"\n",
    "        SELECT parent, COUNT(1) AS NumPosts\n",
    "        FROM `bigquery-public-data.hacker_news.comments`\n",
    "        GROUP BY parent\n",
    "        HAVING COUNT(1) > 10\n",
    "        \"\"\"\n",
    "```"
   ]
  },
  {
   "cell_type": "code",
   "execution_count": 3,
   "id": "6c616247",
   "metadata": {
    "execution": {
     "iopub.execute_input": "2023-02-25T02:51:57.812670Z",
     "iopub.status.busy": "2023-02-25T02:51:57.812041Z",
     "iopub.status.idle": "2023-02-25T02:51:58.895810Z",
     "shell.execute_reply": "2023-02-25T02:51:58.894018Z"
    },
    "papermill": {
     "duration": 1.091535,
     "end_time": "2023-02-25T02:51:58.898497",
     "exception": false,
     "start_time": "2023-02-25T02:51:57.806962",
     "status": "completed"
    },
    "tags": []
   },
   "outputs": [
    {
     "name": "stderr",
     "output_type": "stream",
     "text": [
      "/opt/conda/lib/python3.7/site-packages/google/cloud/bigquery/client.py:440: UserWarning: Cannot create BigQuery Storage client, the dependency google-cloud-bigquery-storage is not installed.\n",
      "  \"Cannot create BigQuery Storage client, the dependency \"\n"
     ]
    },
    {
     "name": "stdout",
     "output_type": "stream",
     "text": [
      "         author  NumPosts\n",
      "0      jrockway     13626\n",
      "1  dragonwriter     10723\n",
      "2          None    227736\n",
      "3       tptacek     33839\n",
      "4     anigbrowl     11395\n"
     ]
    },
    {
     "data": {
      "application/javascript": [
       "parent.postMessage({\"jupyterEvent\": \"custom.exercise_interaction\", \"data\": {\"outcomeType\": 1, \"valueTowardsCompletion\": 0.5, \"interactionType\": 1, \"questionType\": 2, \"questionId\": \"1_ProlificCommenters\", \"learnToolsVersion\": \"0.3.4\", \"failureMessage\": \"\", \"exceptionClass\": \"\", \"trace\": \"\"}}, \"*\")"
      ],
      "text/plain": [
       "<IPython.core.display.Javascript object>"
      ]
     },
     "metadata": {},
     "output_type": "display_data"
    },
    {
     "data": {
      "text/markdown": [
       "<span style=\"color:#33cc33\">Correct</span>"
      ],
      "text/plain": [
       "Correct"
      ]
     },
     "metadata": {},
     "output_type": "display_data"
    }
   ],
   "source": [
    "# Query to select prolific commenters and post counts\n",
    "prolific_commenters_query = \"\"\"\n",
    "                            SELECT author, COUNT(*) AS NumPosts\n",
    "                            FROM `bigquery-public-data.hacker_news.comments`\n",
    "                            GROUP BY author\n",
    "                            HAVING COUNT(*) > 10000;\n",
    "                            \"\"\" # Your code goes here\n",
    "\n",
    "# Set up the query (cancel the query if it would use too much of \n",
    "# your quota, with the limit set to 1 GB)\n",
    "safe_config = bigquery.QueryJobConfig(maximum_bytes_billed=10**10)\n",
    "query_job = client.query(prolific_commenters_query, job_config=safe_config)\n",
    "\n",
    "# API request - run the query, and return a pandas DataFrame\n",
    "prolific_commenters = query_job.to_dataframe()\n",
    "\n",
    "# View top few rows of results\n",
    "print(prolific_commenters.head())\n",
    "\n",
    "# Check your answer\n",
    "q_1.check()"
   ]
  },
  {
   "cell_type": "markdown",
   "id": "54e066e1",
   "metadata": {
    "papermill": {
     "duration": 0.004147,
     "end_time": "2023-02-25T02:51:58.907138",
     "exception": false,
     "start_time": "2023-02-25T02:51:58.902991",
     "status": "completed"
    },
    "tags": []
   },
   "source": [
    "For the solution, uncomment the line below."
   ]
  },
  {
   "cell_type": "code",
   "execution_count": 4,
   "id": "ba288671",
   "metadata": {
    "execution": {
     "iopub.execute_input": "2023-02-25T02:51:58.917458Z",
     "iopub.status.busy": "2023-02-25T02:51:58.917078Z",
     "iopub.status.idle": "2023-02-25T02:51:58.922374Z",
     "shell.execute_reply": "2023-02-25T02:51:58.920786Z"
    },
    "papermill": {
     "duration": 0.013839,
     "end_time": "2023-02-25T02:51:58.925214",
     "exception": false,
     "start_time": "2023-02-25T02:51:58.911375",
     "status": "completed"
    },
    "tags": []
   },
   "outputs": [],
   "source": [
    "#q_1.solution()"
   ]
  },
  {
   "cell_type": "markdown",
   "id": "49b85250",
   "metadata": {
    "papermill": {
     "duration": 0.003825,
     "end_time": "2023-02-25T02:51:58.933445",
     "exception": false,
     "start_time": "2023-02-25T02:51:58.929620",
     "status": "completed"
    },
    "tags": []
   },
   "source": [
    "### 2) Deleted comments\n",
    "\n",
    "How many comments have been deleted? (If a comment was deleted, the `deleted` column in the comments table will have the value `True`.)"
   ]
  },
  {
   "cell_type": "code",
   "execution_count": 5,
   "id": "73c2b030",
   "metadata": {
    "execution": {
     "iopub.execute_input": "2023-02-25T02:51:58.942985Z",
     "iopub.status.busy": "2023-02-25T02:51:58.942655Z",
     "iopub.status.idle": "2023-02-25T02:52:00.050733Z",
     "shell.execute_reply": "2023-02-25T02:52:00.049448Z"
    },
    "papermill": {
     "duration": 1.115488,
     "end_time": "2023-02-25T02:52:00.052876",
     "exception": false,
     "start_time": "2023-02-25T02:51:58.937388",
     "status": "completed"
    },
    "tags": []
   },
   "outputs": [
    {
     "name": "stderr",
     "output_type": "stream",
     "text": [
      "/opt/conda/lib/python3.7/site-packages/google/cloud/bigquery/client.py:440: UserWarning: Cannot create BigQuery Storage client, the dependency google-cloud-bigquery-storage is not installed.\n",
      "  \"Cannot create BigQuery Storage client, the dependency \"\n"
     ]
    },
    {
     "name": "stdout",
     "output_type": "stream",
     "text": [
      "      f0_\n",
      "0  227736\n"
     ]
    }
   ],
   "source": [
    "# Write your query here and figure out the answer\n",
    "query = \"\"\"\n",
    "        SELECT COUNT(*) \n",
    "        FROM `bigquery-public-data.hacker_news.comments`\n",
    "        WHERE deleted = True\n",
    "        \"\"\"\n",
    "safe_config = bigquery.QueryJobConfig(maximum_bytes_billed=10**10)\n",
    "query_job = client.query(query, job_config=safe_config)\n",
    "deleted = query_job.to_dataframe()\n",
    "print(deleted)\n"
   ]
  },
  {
   "cell_type": "code",
   "execution_count": 6,
   "id": "e6cfffd9",
   "metadata": {
    "execution": {
     "iopub.execute_input": "2023-02-25T02:52:00.064007Z",
     "iopub.status.busy": "2023-02-25T02:52:00.063320Z",
     "iopub.status.idle": "2023-02-25T02:52:00.071007Z",
     "shell.execute_reply": "2023-02-25T02:52:00.069792Z"
    },
    "papermill": {
     "duration": 0.015617,
     "end_time": "2023-02-25T02:52:00.073104",
     "exception": false,
     "start_time": "2023-02-25T02:52:00.057487",
     "status": "completed"
    },
    "tags": []
   },
   "outputs": [
    {
     "data": {
      "application/javascript": [
       "parent.postMessage({\"jupyterEvent\": \"custom.exercise_interaction\", \"data\": {\"outcomeType\": 1, \"valueTowardsCompletion\": 0.5, \"interactionType\": 1, \"questionType\": 1, \"questionId\": \"2_NumDeletedPosts\", \"learnToolsVersion\": \"0.3.4\", \"failureMessage\": \"\", \"exceptionClass\": \"\", \"trace\": \"\"}}, \"*\")"
      ],
      "text/plain": [
       "<IPython.core.display.Javascript object>"
      ]
     },
     "metadata": {},
     "output_type": "display_data"
    },
    {
     "data": {
      "text/markdown": [
       "<span style=\"color:#33cc33\">Correct</span>"
      ],
      "text/plain": [
       "Correct"
      ]
     },
     "metadata": {},
     "output_type": "display_data"
    }
   ],
   "source": [
    "num_deleted_posts =  227736\n",
    "\n",
    "# Check your answer\n",
    "q_2.check()"
   ]
  },
  {
   "cell_type": "markdown",
   "id": "b9b170ce",
   "metadata": {
    "papermill": {
     "duration": 0.004498,
     "end_time": "2023-02-25T02:52:00.082391",
     "exception": false,
     "start_time": "2023-02-25T02:52:00.077893",
     "status": "completed"
    },
    "tags": []
   },
   "source": [
    "For the solution, uncomment the line below."
   ]
  },
  {
   "cell_type": "code",
   "execution_count": 7,
   "id": "a912e2d3",
   "metadata": {
    "execution": {
     "iopub.execute_input": "2023-02-25T02:52:00.093420Z",
     "iopub.status.busy": "2023-02-25T02:52:00.092979Z",
     "iopub.status.idle": "2023-02-25T02:52:00.096831Z",
     "shell.execute_reply": "2023-02-25T02:52:00.096105Z"
    },
    "papermill": {
     "duration": 0.011464,
     "end_time": "2023-02-25T02:52:00.098526",
     "exception": false,
     "start_time": "2023-02-25T02:52:00.087062",
     "status": "completed"
    },
    "tags": []
   },
   "outputs": [],
   "source": [
    "#q_2.solution()"
   ]
  },
  {
   "cell_type": "markdown",
   "id": "82a32a6b",
   "metadata": {
    "papermill": {
     "duration": 0.004545,
     "end_time": "2023-02-25T02:52:00.108077",
     "exception": false,
     "start_time": "2023-02-25T02:52:00.103532",
     "status": "completed"
    },
    "tags": []
   },
   "source": [
    "# Keep Going\n",
    "**[Click here](https://www.kaggle.com/dansbecker/order-by)** to move on and learn about the **ORDER BY** clause."
   ]
  },
  {
   "cell_type": "markdown",
   "id": "5d0603ce",
   "metadata": {
    "papermill": {
     "duration": 0.004595,
     "end_time": "2023-02-25T02:52:00.117848",
     "exception": false,
     "start_time": "2023-02-25T02:52:00.113253",
     "status": "completed"
    },
    "tags": []
   },
   "source": [
    "---\n",
    "\n",
    "\n",
    "\n",
    "\n",
    "*Have questions or comments? Visit the [course discussion forum](https://www.kaggle.com/learn/intro-to-sql/discussion) to chat with other learners.*"
   ]
  }
 ],
 "metadata": {
  "kernelspec": {
   "display_name": "Python 3",
   "language": "python",
   "name": "python3"
  },
  "language_info": {
   "codemirror_mode": {
    "name": "ipython",
    "version": 3
   },
   "file_extension": ".py",
   "mimetype": "text/x-python",
   "name": "python",
   "nbconvert_exporter": "python",
   "pygments_lexer": "ipython3",
   "version": "3.7.12"
  },
  "papermill": {
   "default_parameters": {},
   "duration": 15.476829,
   "end_time": "2023-02-25T02:52:00.743565",
   "environment_variables": {},
   "exception": null,
   "input_path": "__notebook__.ipynb",
   "output_path": "__notebook__.ipynb",
   "parameters": {},
   "start_time": "2023-02-25T02:51:45.266736",
   "version": "2.4.0"
  }
 },
 "nbformat": 4,
 "nbformat_minor": 5
}
