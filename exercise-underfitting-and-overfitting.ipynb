{
 "cells": [
  {
   "cell_type": "markdown",
   "id": "bea35439",
   "metadata": {
    "papermill": {
     "duration": 0.00453,
     "end_time": "2022-12-22T17:54:50.677394",
     "exception": false,
     "start_time": "2022-12-22T17:54:50.672864",
     "status": "completed"
    },
    "tags": []
   },
   "source": [
    "**This notebook is an exercise in the [Introduction to Machine Learning](https://www.kaggle.com/learn/intro-to-machine-learning) course.  You can reference the tutorial at [this link](https://www.kaggle.com/dansbecker/underfitting-and-overfitting).**\n",
    "\n",
    "---\n"
   ]
  },
  {
   "cell_type": "markdown",
   "id": "afc79245",
   "metadata": {
    "papermill": {
     "duration": 0.003164,
     "end_time": "2022-12-22T17:54:50.684334",
     "exception": false,
     "start_time": "2022-12-22T17:54:50.681170",
     "status": "completed"
    },
    "tags": []
   },
   "source": [
    "## Recap\n",
    "You've built your first model, and now it's time to optimize the size of the tree to make better predictions. Run this cell to set up your coding environment where the previous step left off."
   ]
  },
  {
   "cell_type": "code",
   "execution_count": 1,
   "id": "cf415fc8",
   "metadata": {
    "execution": {
     "iopub.execute_input": "2022-12-22T17:54:50.693579Z",
     "iopub.status.busy": "2022-12-22T17:54:50.693089Z",
     "iopub.status.idle": "2022-12-22T17:54:52.018174Z",
     "shell.execute_reply": "2022-12-22T17:54:52.016919Z"
    },
    "papermill": {
     "duration": 1.333273,
     "end_time": "2022-12-22T17:54:52.021109",
     "exception": false,
     "start_time": "2022-12-22T17:54:50.687836",
     "status": "completed"
    },
    "tags": []
   },
   "outputs": [
    {
     "name": "stdout",
     "output_type": "stream",
     "text": [
      "Validation MAE: 29,653\n",
      "\n",
      "Setup complete\n"
     ]
    }
   ],
   "source": [
    "# Code you have previously used to load data\n",
    "import pandas as pd\n",
    "from sklearn.metrics import mean_absolute_error\n",
    "from sklearn.model_selection import train_test_split\n",
    "from sklearn.tree import DecisionTreeRegressor\n",
    "\n",
    "\n",
    "# Path of the file to read\n",
    "iowa_file_path = '../input/home-data-for-ml-course/train.csv'\n",
    "\n",
    "home_data = pd.read_csv(iowa_file_path)\n",
    "# Create target object and call it y\n",
    "y = home_data.SalePrice\n",
    "# Create X\n",
    "features = ['LotArea', 'YearBuilt', '1stFlrSF', '2ndFlrSF', 'FullBath', 'BedroomAbvGr', 'TotRmsAbvGrd']\n",
    "X = home_data[features]\n",
    "\n",
    "# Split into validation and training data\n",
    "train_X, val_X, train_y, val_y = train_test_split(X, y, random_state=1)\n",
    "\n",
    "# Specify Model\n",
    "iowa_model = DecisionTreeRegressor(random_state=1)\n",
    "# Fit Model\n",
    "iowa_model.fit(train_X, train_y)\n",
    "\n",
    "# Make validation predictions and calculate mean absolute error\n",
    "val_predictions = iowa_model.predict(val_X)\n",
    "val_mae = mean_absolute_error(val_predictions, val_y)\n",
    "print(\"Validation MAE: {:,.0f}\".format(val_mae))\n",
    "\n",
    "# Set up code checking\n",
    "from learntools.core import binder\n",
    "binder.bind(globals())\n",
    "from learntools.machine_learning.ex5 import *\n",
    "print(\"\\nSetup complete\")"
   ]
  },
  {
   "cell_type": "markdown",
   "id": "537bb169",
   "metadata": {
    "papermill": {
     "duration": 0.003411,
     "end_time": "2022-12-22T17:54:52.028298",
     "exception": false,
     "start_time": "2022-12-22T17:54:52.024887",
     "status": "completed"
    },
    "tags": []
   },
   "source": [
    "# Exercises\n",
    "You could write the function `get_mae` yourself. For now, we'll supply it. This is the same function you read about in the previous lesson. Just run the cell below."
   ]
  },
  {
   "cell_type": "code",
   "execution_count": 2,
   "id": "8955f3bc",
   "metadata": {
    "execution": {
     "iopub.execute_input": "2022-12-22T17:54:52.038231Z",
     "iopub.status.busy": "2022-12-22T17:54:52.037802Z",
     "iopub.status.idle": "2022-12-22T17:54:52.044084Z",
     "shell.execute_reply": "2022-12-22T17:54:52.042857Z"
    },
    "papermill": {
     "duration": 0.014045,
     "end_time": "2022-12-22T17:54:52.046510",
     "exception": false,
     "start_time": "2022-12-22T17:54:52.032465",
     "status": "completed"
    },
    "tags": []
   },
   "outputs": [],
   "source": [
    "def get_mae(max_leaf_nodes, train_X, val_X, train_y, val_y):\n",
    "    model = DecisionTreeRegressor(max_leaf_nodes=max_leaf_nodes, random_state=0)\n",
    "    model.fit(train_X, train_y)\n",
    "    preds_val = model.predict(val_X)\n",
    "    mae = mean_absolute_error(val_y, preds_val)\n",
    "    return(mae)"
   ]
  },
  {
   "cell_type": "markdown",
   "id": "172bfb14",
   "metadata": {
    "papermill": {
     "duration": 0.003772,
     "end_time": "2022-12-22T17:54:52.054166",
     "exception": false,
     "start_time": "2022-12-22T17:54:52.050394",
     "status": "completed"
    },
    "tags": []
   },
   "source": [
    "## Step 1: Compare Different Tree Sizes\n",
    "Write a loop that tries the following values for *max_leaf_nodes* from a set of possible values.\n",
    "\n",
    "Call the *get_mae* function on each value of max_leaf_nodes. Store the output in some way that allows you to select the value of `max_leaf_nodes` that gives the most accurate model on your data."
   ]
  },
  {
   "cell_type": "code",
   "execution_count": 3,
   "id": "89b6d010",
   "metadata": {
    "execution": {
     "iopub.execute_input": "2022-12-22T17:54:52.065386Z",
     "iopub.status.busy": "2022-12-22T17:54:52.064583Z",
     "iopub.status.idle": "2022-12-22T17:54:52.120074Z",
     "shell.execute_reply": "2022-12-22T17:54:52.118624Z"
    },
    "papermill": {
     "duration": 0.064651,
     "end_time": "2022-12-22T17:54:52.122740",
     "exception": false,
     "start_time": "2022-12-22T17:54:52.058089",
     "status": "completed"
    },
    "tags": []
   },
   "outputs": [
    {
     "name": "stdout",
     "output_type": "stream",
     "text": [
      "100\n"
     ]
    },
    {
     "data": {
      "application/javascript": [
       "parent.postMessage({\"jupyterEvent\": \"custom.exercise_interaction\", \"data\": {\"outcomeType\": 1, \"valueTowardsCompletion\": 0.5, \"interactionType\": 1, \"questionType\": 1, \"questionId\": \"1_BestTreeSize\", \"learnToolsVersion\": \"0.3.4\", \"failureMessage\": \"\", \"exceptionClass\": \"\", \"trace\": \"\"}}, \"*\")"
      ],
      "text/plain": [
       "<IPython.core.display.Javascript object>"
      ]
     },
     "metadata": {},
     "output_type": "display_data"
    },
    {
     "data": {
      "text/markdown": [
       "<span style=\"color:#33cc33\">Correct</span>"
      ],
      "text/plain": [
       "Correct"
      ]
     },
     "metadata": {},
     "output_type": "display_data"
    }
   ],
   "source": [
    "candidate_max_leaf_nodes = [5, 25, 50, 100, 250, 500]\n",
    "# Write loop to find the ideal tree size from candidate_max_leaf_nodes\n",
    "node_dict = {}\n",
    "for node_num in candidate_max_leaf_nodes:\n",
    "    node_dict[node_num] = get_mae(node_num, train_X, val_X, train_y, val_y)\n",
    "    \n",
    "# Store the best value of max_leaf_nodes (it will be either 5, 25, 50, 100, 250 or 500)\n",
    "best_tree_size = min(node_dict, key=node_dict.get)\n",
    "print(best_tree_size)\n",
    "# Check your answer\n",
    "step_1.check()"
   ]
  },
  {
   "cell_type": "code",
   "execution_count": 4,
   "id": "f0a36f60",
   "metadata": {
    "execution": {
     "iopub.execute_input": "2022-12-22T17:54:52.133316Z",
     "iopub.status.busy": "2022-12-22T17:54:52.132908Z",
     "iopub.status.idle": "2022-12-22T17:54:52.138104Z",
     "shell.execute_reply": "2022-12-22T17:54:52.136882Z"
    },
    "papermill": {
     "duration": 0.013182,
     "end_time": "2022-12-22T17:54:52.140541",
     "exception": false,
     "start_time": "2022-12-22T17:54:52.127359",
     "status": "completed"
    },
    "tags": []
   },
   "outputs": [],
   "source": [
    "# The lines below will show you a hint or the solution.\n",
    "# step_1.hint() \n",
    "# step_1.solution()"
   ]
  },
  {
   "cell_type": "markdown",
   "id": "0c48be15",
   "metadata": {
    "papermill": {
     "duration": 0.003687,
     "end_time": "2022-12-22T17:54:52.148570",
     "exception": false,
     "start_time": "2022-12-22T17:54:52.144883",
     "status": "completed"
    },
    "tags": []
   },
   "source": [
    "## Step 2: Fit Model Using All Data\n",
    "You know the best tree size. If you were going to deploy this model in practice, you would make it even more accurate by using all of the data and keeping that tree size.  That is, you don't need to hold out the validation data now that you've made all your modeling decisions."
   ]
  },
  {
   "cell_type": "code",
   "execution_count": 5,
   "id": "690b2ffb",
   "metadata": {
    "execution": {
     "iopub.execute_input": "2022-12-22T17:54:52.158924Z",
     "iopub.status.busy": "2022-12-22T17:54:52.157862Z",
     "iopub.status.idle": "2022-12-22T17:54:52.177269Z",
     "shell.execute_reply": "2022-12-22T17:54:52.176107Z"
    },
    "papermill": {
     "duration": 0.027081,
     "end_time": "2022-12-22T17:54:52.179714",
     "exception": false,
     "start_time": "2022-12-22T17:54:52.152633",
     "status": "completed"
    },
    "tags": []
   },
   "outputs": [
    {
     "data": {
      "application/javascript": [
       "parent.postMessage({\"jupyterEvent\": \"custom.exercise_interaction\", \"data\": {\"outcomeType\": 1, \"valueTowardsCompletion\": 0.5, \"interactionType\": 1, \"questionType\": 2, \"questionId\": \"2_FitModelWithAllData\", \"learnToolsVersion\": \"0.3.4\", \"failureMessage\": \"\", \"exceptionClass\": \"\", \"trace\": \"\"}}, \"*\")"
      ],
      "text/plain": [
       "<IPython.core.display.Javascript object>"
      ]
     },
     "metadata": {},
     "output_type": "display_data"
    },
    {
     "data": {
      "text/markdown": [
       "<span style=\"color:#33cc33\">Correct</span>"
      ],
      "text/plain": [
       "Correct"
      ]
     },
     "metadata": {},
     "output_type": "display_data"
    }
   ],
   "source": [
    "# Fill in argument to make optimal size and uncomment\n",
    "final_model = DecisionTreeRegressor(max_leaf_nodes=100, random_state=0)\n",
    "\n",
    "#fit the final model and uncomment the next two lines\n",
    "final_model.fit(X, y)\n",
    "\n",
    "# Check your answer\n",
    "step_2.check()"
   ]
  },
  {
   "cell_type": "code",
   "execution_count": 6,
   "id": "505d3b5b",
   "metadata": {
    "execution": {
     "iopub.execute_input": "2022-12-22T17:54:52.189859Z",
     "iopub.status.busy": "2022-12-22T17:54:52.189422Z",
     "iopub.status.idle": "2022-12-22T17:54:52.194129Z",
     "shell.execute_reply": "2022-12-22T17:54:52.192931Z"
    },
    "papermill": {
     "duration": 0.012811,
     "end_time": "2022-12-22T17:54:52.196754",
     "exception": false,
     "start_time": "2022-12-22T17:54:52.183943",
     "status": "completed"
    },
    "tags": []
   },
   "outputs": [],
   "source": [
    "# step_2.hint()\n",
    "# step_2.solution()"
   ]
  },
  {
   "cell_type": "markdown",
   "id": "8a337df3",
   "metadata": {
    "papermill": {
     "duration": 0.00395,
     "end_time": "2022-12-22T17:54:52.205120",
     "exception": false,
     "start_time": "2022-12-22T17:54:52.201170",
     "status": "completed"
    },
    "tags": []
   },
   "source": [
    "You've tuned this model and improved your results. But we are still using Decision Tree models, which are not very sophisticated by modern machine learning standards. In the next step you will learn to use Random Forests to improve your models even more.\n",
    "\n",
    "# Keep Going\n",
    "\n",
    "You are ready for **[Random Forests](https://www.kaggle.com/dansbecker/random-forests).**\n"
   ]
  },
  {
   "cell_type": "markdown",
   "id": "2fb8f629",
   "metadata": {
    "papermill": {
     "duration": 0.003906,
     "end_time": "2022-12-22T17:54:52.213454",
     "exception": false,
     "start_time": "2022-12-22T17:54:52.209548",
     "status": "completed"
    },
    "tags": []
   },
   "source": [
    "---\n",
    "\n",
    "\n",
    "\n",
    "\n",
    "*Have questions or comments? Visit the [course discussion forum](https://www.kaggle.com/learn/intro-to-machine-learning/discussion) to chat with other learners.*"
   ]
  }
 ],
 "metadata": {
  "kernelspec": {
   "display_name": "Python 3",
   "language": "python",
   "name": "python3"
  },
  "language_info": {
   "codemirror_mode": {
    "name": "ipython",
    "version": 3
   },
   "file_extension": ".py",
   "mimetype": "text/x-python",
   "name": "python",
   "nbconvert_exporter": "python",
   "pygments_lexer": "ipython3",
   "version": "3.7.12"
  },
  "papermill": {
   "default_parameters": {},
   "duration": 11.771549,
   "end_time": "2022-12-22T17:54:53.040574",
   "environment_variables": {},
   "exception": null,
   "input_path": "__notebook__.ipynb",
   "output_path": "__notebook__.ipynb",
   "parameters": {},
   "start_time": "2022-12-22T17:54:41.269025",
   "version": "2.3.4"
  }
 },
 "nbformat": 4,
 "nbformat_minor": 5
}
