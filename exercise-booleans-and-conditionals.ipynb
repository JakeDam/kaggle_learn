{
 "cells": [
  {
   "cell_type": "markdown",
   "id": "c3f714b9",
   "metadata": {
    "papermill": {
     "duration": 0.010974,
     "end_time": "2022-12-10T02:30:59.721998",
     "exception": false,
     "start_time": "2022-12-10T02:30:59.711024",
     "status": "completed"
    },
    "tags": []
   },
   "source": [
    "**This notebook is an exercise in the [Python](https://www.kaggle.com/learn/python) course.  You can reference the tutorial at [this link](https://www.kaggle.com/colinmorris/booleans-and-conditionals).**\n",
    "\n",
    "---\n"
   ]
  },
  {
   "cell_type": "markdown",
   "id": "c8fd860e",
   "metadata": {
    "papermill": {
     "duration": 0.008394,
     "end_time": "2022-12-10T02:30:59.739497",
     "exception": false,
     "start_time": "2022-12-10T02:30:59.731103",
     "status": "completed"
    },
    "tags": []
   },
   "source": [
    "In this exercise, you'll put to work what you have learned about booleans and conditionals.\n",
    "\n",
    "To get started, **run the setup code below** before writing your own code (and if you leave this notebook and come back later, don't forget to run the setup code again)."
   ]
  },
  {
   "cell_type": "code",
   "execution_count": 1,
   "id": "a7b76a27",
   "metadata": {
    "execution": {
     "iopub.execute_input": "2022-12-10T02:30:59.759509Z",
     "iopub.status.busy": "2022-12-10T02:30:59.758146Z",
     "iopub.status.idle": "2022-12-10T02:30:59.809528Z",
     "shell.execute_reply": "2022-12-10T02:30:59.808360Z"
    },
    "papermill": {
     "duration": 0.064397,
     "end_time": "2022-12-10T02:30:59.812524",
     "exception": false,
     "start_time": "2022-12-10T02:30:59.748127",
     "status": "completed"
    },
    "tags": []
   },
   "outputs": [
    {
     "name": "stdout",
     "output_type": "stream",
     "text": [
      "Setup complete.\n"
     ]
    }
   ],
   "source": [
    "from learntools.core import binder; binder.bind(globals())\n",
    "from learntools.python.ex3 import *\n",
    "print('Setup complete.')"
   ]
  },
  {
   "cell_type": "markdown",
   "id": "aff61041",
   "metadata": {
    "papermill": {
     "duration": 0.008671,
     "end_time": "2022-12-10T02:30:59.830076",
     "exception": false,
     "start_time": "2022-12-10T02:30:59.821405",
     "status": "completed"
    },
    "tags": []
   },
   "source": [
    "# 1.\n",
    "\n",
    "Many programming languages have [`sign`](https://en.wikipedia.org/wiki/Sign_function) available as a built-in function. Python doesn't, but we can define our own!\n",
    "\n",
    "In the cell below, define a function called `sign` which takes a numerical argument and returns -1 if it's negative, 1 if it's positive, and 0 if it's 0."
   ]
  },
  {
   "cell_type": "code",
   "execution_count": 2,
   "id": "c2642078",
   "metadata": {
    "execution": {
     "iopub.execute_input": "2022-12-10T02:30:59.851363Z",
     "iopub.status.busy": "2022-12-10T02:30:59.850640Z",
     "iopub.status.idle": "2022-12-10T02:30:59.862097Z",
     "shell.execute_reply": "2022-12-10T02:30:59.861278Z"
    },
    "papermill": {
     "duration": 0.023474,
     "end_time": "2022-12-10T02:30:59.864078",
     "exception": false,
     "start_time": "2022-12-10T02:30:59.840604",
     "status": "completed"
    },
    "tags": []
   },
   "outputs": [
    {
     "data": {
      "application/javascript": [
       "parent.postMessage({\"jupyterEvent\": \"custom.exercise_interaction\", \"data\": {\"outcomeType\": 1, \"valueTowardsCompletion\": 0.2, \"interactionType\": 1, \"questionType\": 2, \"questionId\": \"1_SignFunctionProblem\", \"learnToolsVersion\": \"0.3.4\", \"failureMessage\": \"\", \"exceptionClass\": \"\", \"trace\": \"\"}}, \"*\")"
      ],
      "text/plain": [
       "<IPython.core.display.Javascript object>"
      ]
     },
     "metadata": {},
     "output_type": "display_data"
    },
    {
     "data": {
      "text/markdown": [
       "<span style=\"color:#33cc33\">Correct</span>"
      ],
      "text/plain": [
       "Correct"
      ]
     },
     "metadata": {},
     "output_type": "display_data"
    }
   ],
   "source": [
    "# Your code goes here. Define a function called 'sign'\n",
    "def sign(number):\n",
    "    if number < 0:\n",
    "        return -1\n",
    "    elif number > 0:\n",
    "        return 1\n",
    "    else:\n",
    "        return 0\n",
    "\n",
    "# Check your answer\n",
    "q1.check()"
   ]
  },
  {
   "cell_type": "code",
   "execution_count": 3,
   "id": "4e1768f6",
   "metadata": {
    "execution": {
     "iopub.execute_input": "2022-12-10T02:30:59.884308Z",
     "iopub.status.busy": "2022-12-10T02:30:59.883591Z",
     "iopub.status.idle": "2022-12-10T02:30:59.888006Z",
     "shell.execute_reply": "2022-12-10T02:30:59.886950Z"
    },
    "papermill": {
     "duration": 0.017135,
     "end_time": "2022-12-10T02:30:59.890297",
     "exception": false,
     "start_time": "2022-12-10T02:30:59.873162",
     "status": "completed"
    },
    "tags": []
   },
   "outputs": [],
   "source": [
    "#q1.solution()"
   ]
  },
  {
   "cell_type": "markdown",
   "id": "8cf6f6e6",
   "metadata": {
    "papermill": {
     "duration": 0.009116,
     "end_time": "2022-12-10T02:30:59.908689",
     "exception": false,
     "start_time": "2022-12-10T02:30:59.899573",
     "status": "completed"
    },
    "tags": []
   },
   "source": [
    "# 2.\n",
    "\n",
    "We've decided to add \"logging\" to our `to_smash` function from the previous exercise."
   ]
  },
  {
   "cell_type": "code",
   "execution_count": 4,
   "id": "5d154260",
   "metadata": {
    "execution": {
     "iopub.execute_input": "2022-12-10T02:30:59.928962Z",
     "iopub.status.busy": "2022-12-10T02:30:59.928533Z",
     "iopub.status.idle": "2022-12-10T02:30:59.936695Z",
     "shell.execute_reply": "2022-12-10T02:30:59.935612Z"
    },
    "papermill": {
     "duration": 0.020856,
     "end_time": "2022-12-10T02:30:59.938869",
     "exception": false,
     "start_time": "2022-12-10T02:30:59.918013",
     "status": "completed"
    },
    "tags": []
   },
   "outputs": [
    {
     "name": "stdout",
     "output_type": "stream",
     "text": [
      "Splitting 91 candies\n"
     ]
    },
    {
     "data": {
      "text/plain": [
       "1"
      ]
     },
     "execution_count": 4,
     "metadata": {},
     "output_type": "execute_result"
    }
   ],
   "source": [
    "def to_smash(total_candies):\n",
    "    \"\"\"Return the number of leftover candies that must be smashed after distributing\n",
    "    the given number of candies evenly between 3 friends.\n",
    "    \n",
    "    >>> to_smash(91)\n",
    "    1\n",
    "    \"\"\"\n",
    "    print(\"Splitting\", total_candies, \"candies\")\n",
    "    return total_candies % 3\n",
    "\n",
    "to_smash(91)"
   ]
  },
  {
   "cell_type": "markdown",
   "id": "2b30af4c",
   "metadata": {
    "papermill": {
     "duration": 0.009084,
     "end_time": "2022-12-10T02:30:59.957392",
     "exception": false,
     "start_time": "2022-12-10T02:30:59.948308",
     "status": "completed"
    },
    "tags": []
   },
   "source": [
    "What happens if we call it with `total_candies = 1`?"
   ]
  },
  {
   "cell_type": "code",
   "execution_count": 5,
   "id": "e9d4d306",
   "metadata": {
    "execution": {
     "iopub.execute_input": "2022-12-10T02:30:59.978318Z",
     "iopub.status.busy": "2022-12-10T02:30:59.977570Z",
     "iopub.status.idle": "2022-12-10T02:30:59.984463Z",
     "shell.execute_reply": "2022-12-10T02:30:59.983477Z"
    },
    "papermill": {
     "duration": 0.019677,
     "end_time": "2022-12-10T02:30:59.986480",
     "exception": false,
     "start_time": "2022-12-10T02:30:59.966803",
     "status": "completed"
    },
    "tags": []
   },
   "outputs": [
    {
     "name": "stdout",
     "output_type": "stream",
     "text": [
      "Splitting 1 candies\n"
     ]
    },
    {
     "data": {
      "text/plain": [
       "1"
      ]
     },
     "execution_count": 5,
     "metadata": {},
     "output_type": "execute_result"
    }
   ],
   "source": [
    "to_smash(1)"
   ]
  },
  {
   "cell_type": "markdown",
   "id": "967e8ab9",
   "metadata": {
    "papermill": {
     "duration": 0.009225,
     "end_time": "2022-12-10T02:31:00.005572",
     "exception": false,
     "start_time": "2022-12-10T02:30:59.996347",
     "status": "completed"
    },
    "tags": []
   },
   "source": [
    "That isn't great grammar!\n",
    "\n",
    "Modify the definition in the cell below to correct the grammar of our print statement. (If there's only one candy, we should use the singular \"candy\" instead of the plural \"candies\")"
   ]
  },
  {
   "cell_type": "code",
   "execution_count": 6,
   "id": "e50bdce0",
   "metadata": {
    "execution": {
     "iopub.execute_input": "2022-12-10T02:31:00.026492Z",
     "iopub.status.busy": "2022-12-10T02:31:00.025776Z",
     "iopub.status.idle": "2022-12-10T02:31:00.034201Z",
     "shell.execute_reply": "2022-12-10T02:31:00.033428Z"
    },
    "papermill": {
     "duration": 0.021069,
     "end_time": "2022-12-10T02:31:00.036165",
     "exception": false,
     "start_time": "2022-12-10T02:31:00.015096",
     "status": "completed"
    },
    "tags": []
   },
   "outputs": [
    {
     "name": "stdout",
     "output_type": "stream",
     "text": [
      "Splitting 91 candies\n",
      "Splitting 1 candy\n"
     ]
    },
    {
     "data": {
      "text/plain": [
       "1"
      ]
     },
     "execution_count": 6,
     "metadata": {},
     "output_type": "execute_result"
    }
   ],
   "source": [
    "def to_smash(total_candies):\n",
    "    \"\"\"Return the number of leftover candies that must be smashed after distributing\n",
    "    the given number of candies evenly between 3 friends.\n",
    "    \n",
    "    >>> to_smash(91)\n",
    "    1\n",
    "    \"\"\"\n",
    "    if total_candies == 1:\n",
    "        print(\"Splitting\", total_candies, \"candy\")\n",
    "    else:\n",
    "        print(\"Splitting\", total_candies, \"candies\")\n",
    "    return total_candies % 3\n",
    "\n",
    "to_smash(91)\n",
    "to_smash(1)"
   ]
  },
  {
   "cell_type": "markdown",
   "id": "3068e9cb",
   "metadata": {
    "papermill": {
     "duration": 0.009361,
     "end_time": "2022-12-10T02:31:00.055197",
     "exception": false,
     "start_time": "2022-12-10T02:31:00.045836",
     "status": "completed"
    },
    "tags": []
   },
   "source": [
    "To get credit for completing this problem, and to see the official answer, run the code cell below."
   ]
  },
  {
   "cell_type": "code",
   "execution_count": 7,
   "id": "89d02dd5",
   "metadata": {
    "execution": {
     "iopub.execute_input": "2022-12-10T02:31:00.076391Z",
     "iopub.status.busy": "2022-12-10T02:31:00.075720Z",
     "iopub.status.idle": "2022-12-10T02:31:00.082777Z",
     "shell.execute_reply": "2022-12-10T02:31:00.082023Z"
    },
    "papermill": {
     "duration": 0.019973,
     "end_time": "2022-12-10T02:31:00.084819",
     "exception": false,
     "start_time": "2022-12-10T02:31:00.064846",
     "status": "completed"
    },
    "tags": []
   },
   "outputs": [
    {
     "data": {
      "application/javascript": [
       "parent.postMessage({\"jupyterEvent\": \"custom.exercise_interaction\", \"data\": {\"interactionType\": 3, \"questionType\": 4, \"questionId\": \"2_PluralizationProblem\", \"learnToolsVersion\": \"0.3.4\", \"valueTowardsCompletion\": 0.0, \"failureMessage\": \"\", \"exceptionClass\": \"\", \"trace\": \"\", \"outcomeType\": 4}}, \"*\")"
      ],
      "text/plain": [
       "<IPython.core.display.Javascript object>"
      ]
     },
     "metadata": {},
     "output_type": "display_data"
    },
    {
     "data": {
      "text/markdown": [
       "<span style=\"color:#33cc99\">Solution:</span> A straightforward (and totally fine) solution is to replace the original `print` call with:\n",
       "\n",
       "```python\n",
       "if total_candies == 1:\n",
       "    print(\"Splitting 1 candy\")\n",
       "else:\n",
       "    print(\"Splitting\", total_candies, \"candies\")\n",
       "```\n",
       "\n",
       "Here's a slightly more succinct solution using a conditional expression:\n",
       "\n",
       "```python\n",
       "print(\"Splitting\", total_candies, \"candy\" if total_candies == 1 else \"candies\")\n",
       "```"
      ],
      "text/plain": [
       "Solution: A straightforward (and totally fine) solution is to replace the original `print` call with:\n",
       "\n",
       "```python\n",
       "if total_candies == 1:\n",
       "    print(\"Splitting 1 candy\")\n",
       "else:\n",
       "    print(\"Splitting\", total_candies, \"candies\")\n",
       "```\n",
       "\n",
       "Here's a slightly more succinct solution using a conditional expression:\n",
       "\n",
       "```python\n",
       "print(\"Splitting\", total_candies, \"candy\" if total_candies == 1 else \"candies\")\n",
       "```"
      ]
     },
     "metadata": {},
     "output_type": "display_data"
    }
   ],
   "source": [
    "# Check your answer (Run this code cell to receive credit!)\n",
    "q2.solution()"
   ]
  },
  {
   "cell_type": "markdown",
   "id": "5552df2f",
   "metadata": {
    "papermill": {
     "duration": 0.00972,
     "end_time": "2022-12-10T02:31:00.104714",
     "exception": false,
     "start_time": "2022-12-10T02:31:00.094994",
     "status": "completed"
    },
    "tags": []
   },
   "source": [
    "# 3. <span title=\"A bit spicy\" style=\"color: darkgreen \">🌶️</span>\n",
    "\n",
    "In the tutorial, we talked about deciding whether we're prepared for the weather. I said that I'm safe from today's weather if...\n",
    "- I have an umbrella...\n",
    "- or if the rain isn't too heavy and I have a hood...\n",
    "- otherwise, I'm still fine unless it's raining *and* it's a workday\n",
    "\n",
    "The function below uses our first attempt at turning this logic into a Python expression. I claimed that there was a bug in that code. Can you find it?\n",
    "\n",
    "To prove that `prepared_for_weather` is buggy, come up with a set of inputs where either:\n",
    "- the function returns `False` (but should have returned `True`), or\n",
    "- the function returned `True` (but should have returned `False`).\n",
    "\n",
    "To get credit for completing this question, your code should return a <font color='#33cc33'>Correct</font> result."
   ]
  },
  {
   "cell_type": "code",
   "execution_count": 8,
   "id": "1d1bb03d",
   "metadata": {
    "execution": {
     "iopub.execute_input": "2022-12-10T02:31:00.126645Z",
     "iopub.status.busy": "2022-12-10T02:31:00.126005Z",
     "iopub.status.idle": "2022-12-10T02:31:00.137655Z",
     "shell.execute_reply": "2022-12-10T02:31:00.136534Z"
    },
    "papermill": {
     "duration": 0.025158,
     "end_time": "2022-12-10T02:31:00.139818",
     "exception": false,
     "start_time": "2022-12-10T02:31:00.114660",
     "status": "completed"
    },
    "tags": []
   },
   "outputs": [
    {
     "name": "stdout",
     "output_type": "stream",
     "text": [
      "False\n"
     ]
    },
    {
     "data": {
      "application/javascript": [
       "parent.postMessage({\"jupyterEvent\": \"custom.exercise_interaction\", \"data\": {\"outcomeType\": 1, \"valueTowardsCompletion\": 0.2, \"interactionType\": 1, \"questionType\": 1, \"questionId\": \"3_WeatherDebug\", \"learnToolsVersion\": \"0.3.4\", \"failureMessage\": \"\", \"exceptionClass\": \"\", \"trace\": \"\"}}, \"*\")"
      ],
      "text/plain": [
       "<IPython.core.display.Javascript object>"
      ]
     },
     "metadata": {},
     "output_type": "display_data"
    },
    {
     "data": {
      "text/markdown": [
       "<span style=\"color:#33cc33\">Correct:</span> \n",
       "\n",
       "One example of a failing test case is:\n",
       "\n",
       "```python\n",
       "have_umbrella = False\n",
       "rain_level = 0.0\n",
       "have_hood = False\n",
       "is_workday = False\n",
       "```\n",
       "\n",
       "Clearly we're prepared for the weather in this case. It's not raining. Not only that, it's not a workday, so we don't even need to leave the house! But our function will return False on these inputs.\n",
       "\n",
       "The key problem is that Python implictly parenthesizes the last part as:\n",
       "\n",
       "```python\n",
       "(not (rain_level > 0)) and is_workday\n",
       "```\n",
       "\n",
       "Whereas what we were trying to express would look more like:\n",
       "\n",
       "```python\n",
       "not (rain_level > 0 and is_workday)\n",
       "```\n"
      ],
      "text/plain": [
       "Correct: \n",
       "\n",
       "One example of a failing test case is:\n",
       "\n",
       "```python\n",
       "have_umbrella = False\n",
       "rain_level = 0.0\n",
       "have_hood = False\n",
       "is_workday = False\n",
       "```\n",
       "\n",
       "Clearly we're prepared for the weather in this case. It's not raining. Not only that, it's not a workday, so we don't even need to leave the house! But our function will return False on these inputs.\n",
       "\n",
       "The key problem is that Python implictly parenthesizes the last part as:\n",
       "\n",
       "```python\n",
       "(not (rain_level > 0)) and is_workday\n",
       "```\n",
       "\n",
       "Whereas what we were trying to express would look more like:\n",
       "\n",
       "```python\n",
       "not (rain_level > 0 and is_workday)\n",
       "```"
      ]
     },
     "metadata": {},
     "output_type": "display_data"
    }
   ],
   "source": [
    "def prepared_for_weather(have_umbrella, rain_level, have_hood, is_workday):\n",
    "    # Don't change this code. Our goal is just to find the bug, not fix it!\n",
    "    return have_umbrella or rain_level < 5 and have_hood or not rain_level > 0 and is_workday\n",
    "\n",
    "# Change the values of these inputs so they represent a case where prepared_for_weather\n",
    "# returns the wrong answer.\n",
    "have_umbrella = False\n",
    "rain_level = 6\n",
    "have_hood = False\n",
    "is_workday = False\n",
    "\n",
    "# Check what the function returns given the current values of the variables above\n",
    "actual = prepared_for_weather(have_umbrella, rain_level, have_hood, is_workday)\n",
    "print(actual)\n",
    "\n",
    "# Check your answer\n",
    "q3.check()"
   ]
  },
  {
   "cell_type": "code",
   "execution_count": 9,
   "id": "37d4712e",
   "metadata": {
    "execution": {
     "iopub.execute_input": "2022-12-10T02:31:00.162882Z",
     "iopub.status.busy": "2022-12-10T02:31:00.162205Z",
     "iopub.status.idle": "2022-12-10T02:31:00.165857Z",
     "shell.execute_reply": "2022-12-10T02:31:00.165117Z"
    },
    "papermill": {
     "duration": 0.017314,
     "end_time": "2022-12-10T02:31:00.167782",
     "exception": false,
     "start_time": "2022-12-10T02:31:00.150468",
     "status": "completed"
    },
    "tags": []
   },
   "outputs": [],
   "source": [
    "#q3.hint()\n",
    "#q3.solution()"
   ]
  },
  {
   "cell_type": "markdown",
   "id": "eab76f8a",
   "metadata": {
    "papermill": {
     "duration": 0.010095,
     "end_time": "2022-12-10T02:31:00.188307",
     "exception": false,
     "start_time": "2022-12-10T02:31:00.178212",
     "status": "completed"
    },
    "tags": []
   },
   "source": [
    "# 4.\n",
    "\n",
    "The function `is_negative` below is implemented correctly - it returns True if the given number is negative and False otherwise.\n",
    "\n",
    "However, it's more verbose than it needs to be. We can actually reduce the number of lines of code in this function by *75%* while keeping the same behaviour. \n",
    "\n",
    "See if you can come up with an equivalent body that uses just **one line** of code, and put it in the function `concise_is_negative`. (HINT: you don't even need Python's ternary syntax)"
   ]
  },
  {
   "cell_type": "code",
   "execution_count": 10,
   "id": "c2e21c49",
   "metadata": {
    "execution": {
     "iopub.execute_input": "2022-12-10T02:31:00.210951Z",
     "iopub.status.busy": "2022-12-10T02:31:00.210310Z",
     "iopub.status.idle": "2022-12-10T02:31:00.218210Z",
     "shell.execute_reply": "2022-12-10T02:31:00.217436Z"
    },
    "papermill": {
     "duration": 0.021532,
     "end_time": "2022-12-10T02:31:00.220223",
     "exception": false,
     "start_time": "2022-12-10T02:31:00.198691",
     "status": "completed"
    },
    "tags": []
   },
   "outputs": [
    {
     "data": {
      "application/javascript": [
       "parent.postMessage({\"jupyterEvent\": \"custom.exercise_interaction\", \"data\": {\"outcomeType\": 1, \"valueTowardsCompletion\": 0.2, \"interactionType\": 1, \"questionType\": 2, \"questionId\": \"4_ConciseIsNegative\", \"learnToolsVersion\": \"0.3.4\", \"failureMessage\": \"\", \"exceptionClass\": \"\", \"trace\": \"\"}}, \"*\")"
      ],
      "text/plain": [
       "<IPython.core.display.Javascript object>"
      ]
     },
     "metadata": {},
     "output_type": "display_data"
    },
    {
     "data": {
      "text/markdown": [
       "<span style=\"color:#33cc33\">Correct</span>"
      ],
      "text/plain": [
       "Correct"
      ]
     },
     "metadata": {},
     "output_type": "display_data"
    }
   ],
   "source": [
    "def is_negative(number):\n",
    "    if number < 0:\n",
    "        return True\n",
    "    else:\n",
    "        return False\n",
    "\n",
    "def concise_is_negative(number):\n",
    "    return number < 0\n",
    "\n",
    "# Check your answer\n",
    "q4.check()"
   ]
  },
  {
   "cell_type": "code",
   "execution_count": 11,
   "id": "c6335d8f",
   "metadata": {
    "execution": {
     "iopub.execute_input": "2022-12-10T02:31:00.243359Z",
     "iopub.status.busy": "2022-12-10T02:31:00.242684Z",
     "iopub.status.idle": "2022-12-10T02:31:00.246410Z",
     "shell.execute_reply": "2022-12-10T02:31:00.245615Z"
    },
    "papermill": {
     "duration": 0.017742,
     "end_time": "2022-12-10T02:31:00.248541",
     "exception": false,
     "start_time": "2022-12-10T02:31:00.230799",
     "status": "completed"
    },
    "tags": []
   },
   "outputs": [],
   "source": [
    "#q4.hint()\n",
    "#q4.solution()"
   ]
  },
  {
   "cell_type": "markdown",
   "id": "549abd58",
   "metadata": {
    "papermill": {
     "duration": 0.01036,
     "end_time": "2022-12-10T02:31:00.269724",
     "exception": false,
     "start_time": "2022-12-10T02:31:00.259364",
     "status": "completed"
    },
    "tags": []
   },
   "source": [
    "# 5a.\n",
    "\n",
    "The boolean variables `ketchup`, `mustard` and `onion` represent whether a customer wants a particular topping on their hot dog. We want to implement a number of boolean functions that correspond to some yes-or-no questions about the customer's order. For example:"
   ]
  },
  {
   "cell_type": "code",
   "execution_count": 12,
   "id": "ecf8ebc0",
   "metadata": {
    "execution": {
     "iopub.execute_input": "2022-12-10T02:31:00.292873Z",
     "iopub.status.busy": "2022-12-10T02:31:00.292204Z",
     "iopub.status.idle": "2022-12-10T02:31:00.296833Z",
     "shell.execute_reply": "2022-12-10T02:31:00.295759Z"
    },
    "papermill": {
     "duration": 0.018785,
     "end_time": "2022-12-10T02:31:00.299085",
     "exception": false,
     "start_time": "2022-12-10T02:31:00.280300",
     "status": "completed"
    },
    "tags": []
   },
   "outputs": [],
   "source": [
    "def onionless(ketchup, mustard, onion):\n",
    "    \"\"\"Return whether the customer doesn't want onions.\n",
    "    \"\"\"\n",
    "    return not onion"
   ]
  },
  {
   "cell_type": "code",
   "execution_count": 13,
   "id": "bfa8ce9d",
   "metadata": {
    "execution": {
     "iopub.execute_input": "2022-12-10T02:31:00.321896Z",
     "iopub.status.busy": "2022-12-10T02:31:00.321512Z",
     "iopub.status.idle": "2022-12-10T02:31:00.330812Z",
     "shell.execute_reply": "2022-12-10T02:31:00.329811Z"
    },
    "papermill": {
     "duration": 0.025398,
     "end_time": "2022-12-10T02:31:00.335078",
     "exception": false,
     "start_time": "2022-12-10T02:31:00.309680",
     "status": "completed"
    },
    "tags": []
   },
   "outputs": [
    {
     "data": {
      "application/javascript": [
       "parent.postMessage({\"jupyterEvent\": \"custom.exercise_interaction\", \"data\": {\"outcomeType\": 1, \"valueTowardsCompletion\": 0.2, \"interactionType\": 1, \"questionType\": 2, \"questionId\": \"5.1_AllToppings\", \"learnToolsVersion\": \"0.3.4\", \"failureMessage\": \"\", \"exceptionClass\": \"\", \"trace\": \"\"}}, \"*\")"
      ],
      "text/plain": [
       "<IPython.core.display.Javascript object>"
      ]
     },
     "metadata": {},
     "output_type": "display_data"
    },
    {
     "data": {
      "text/markdown": [
       "<span style=\"color:#33cc33\">Correct</span>"
      ],
      "text/plain": [
       "Correct"
      ]
     },
     "metadata": {},
     "output_type": "display_data"
    }
   ],
   "source": [
    "def wants_all_toppings(ketchup, mustard, onion):\n",
    "    \"\"\"Return whether the customer wants \"the works\" (all 3 toppings)\n",
    "    \"\"\"\n",
    "    return ketchup and mustard and onion\n",
    "\n",
    "# Check your answer\n",
    "q5.a.check()"
   ]
  },
  {
   "cell_type": "code",
   "execution_count": 14,
   "id": "95afbfb0",
   "metadata": {
    "execution": {
     "iopub.execute_input": "2022-12-10T02:31:00.359174Z",
     "iopub.status.busy": "2022-12-10T02:31:00.358776Z",
     "iopub.status.idle": "2022-12-10T02:31:00.363228Z",
     "shell.execute_reply": "2022-12-10T02:31:00.362179Z"
    },
    "papermill": {
     "duration": 0.018541,
     "end_time": "2022-12-10T02:31:00.365274",
     "exception": false,
     "start_time": "2022-12-10T02:31:00.346733",
     "status": "completed"
    },
    "tags": []
   },
   "outputs": [],
   "source": [
    "#q5.a.hint()\n",
    "#q5.a.solution()"
   ]
  },
  {
   "cell_type": "markdown",
   "id": "517026c2",
   "metadata": {
    "papermill": {
     "duration": 0.010736,
     "end_time": "2022-12-10T02:31:00.387405",
     "exception": false,
     "start_time": "2022-12-10T02:31:00.376669",
     "status": "completed"
    },
    "tags": []
   },
   "source": [
    "# 5b.\n",
    "\n",
    "For the next function, fill in the body to match the English description in the docstring. "
   ]
  },
  {
   "cell_type": "code",
   "execution_count": 15,
   "id": "f1816692",
   "metadata": {
    "execution": {
     "iopub.execute_input": "2022-12-10T02:31:00.411407Z",
     "iopub.status.busy": "2022-12-10T02:31:00.410731Z",
     "iopub.status.idle": "2022-12-10T02:31:00.419076Z",
     "shell.execute_reply": "2022-12-10T02:31:00.418257Z"
    },
    "papermill": {
     "duration": 0.022765,
     "end_time": "2022-12-10T02:31:00.421195",
     "exception": false,
     "start_time": "2022-12-10T02:31:00.398430",
     "status": "completed"
    },
    "tags": []
   },
   "outputs": [
    {
     "data": {
      "application/javascript": [
       "parent.postMessage({\"jupyterEvent\": \"custom.exercise_interaction\", \"data\": {\"outcomeType\": 1, \"valueTowardsCompletion\": 0.2, \"interactionType\": 1, \"questionType\": 2, \"questionId\": \"5.2_PlainDog\", \"learnToolsVersion\": \"0.3.4\", \"failureMessage\": \"\", \"exceptionClass\": \"\", \"trace\": \"\"}}, \"*\")"
      ],
      "text/plain": [
       "<IPython.core.display.Javascript object>"
      ]
     },
     "metadata": {},
     "output_type": "display_data"
    },
    {
     "data": {
      "text/markdown": [
       "<span style=\"color:#33cc33\">Correct:</span> \n",
       "\n",
       "One solution looks like:\n",
       "```python\n",
       "return not ketchup and not mustard and not onion\n",
       "```\n",
       "\n",
       "We can also [\"factor out\" the nots](https://en.wikipedia.org/wiki/De_Morgan%27s_laws) to get:\n",
       "\n",
       "```python\n",
       "return not (ketchup or mustard or onion)\n",
       "```"
      ],
      "text/plain": [
       "Correct: \n",
       "\n",
       "One solution looks like:\n",
       "```python\n",
       "return not ketchup and not mustard and not onion\n",
       "```\n",
       "\n",
       "We can also [\"factor out\" the nots](https://en.wikipedia.org/wiki/De_Morgan%27s_laws) to get:\n",
       "\n",
       "```python\n",
       "return not (ketchup or mustard or onion)\n",
       "```"
      ]
     },
     "metadata": {},
     "output_type": "display_data"
    }
   ],
   "source": [
    "def wants_plain_hotdog(ketchup, mustard, onion):\n",
    "    \"\"\"Return whether the customer wants a plain hot dog with no toppings.\n",
    "    \"\"\"\n",
    "    return not ketchup and not mustard and not onion\n",
    "\n",
    "# Check your answer\n",
    "q5.b.check()"
   ]
  },
  {
   "cell_type": "code",
   "execution_count": 16,
   "id": "d933159a",
   "metadata": {
    "execution": {
     "iopub.execute_input": "2022-12-10T02:31:00.445944Z",
     "iopub.status.busy": "2022-12-10T02:31:00.444838Z",
     "iopub.status.idle": "2022-12-10T02:31:00.449522Z",
     "shell.execute_reply": "2022-12-10T02:31:00.448475Z"
    },
    "papermill": {
     "duration": 0.019381,
     "end_time": "2022-12-10T02:31:00.451857",
     "exception": false,
     "start_time": "2022-12-10T02:31:00.432476",
     "status": "completed"
    },
    "tags": []
   },
   "outputs": [],
   "source": [
    "#q5.b.hint()\n",
    "#q5.b.solution()"
   ]
  },
  {
   "cell_type": "markdown",
   "id": "530c4f04",
   "metadata": {
    "papermill": {
     "duration": 0.011059,
     "end_time": "2022-12-10T02:31:00.474363",
     "exception": false,
     "start_time": "2022-12-10T02:31:00.463304",
     "status": "completed"
    },
    "tags": []
   },
   "source": [
    "# 5c.\n",
    "\n",
    "You know what to do: for the next function, fill in the body to match the English description in the docstring."
   ]
  },
  {
   "cell_type": "code",
   "execution_count": 17,
   "id": "fd7332ec",
   "metadata": {
    "execution": {
     "iopub.execute_input": "2022-12-10T02:31:00.498880Z",
     "iopub.status.busy": "2022-12-10T02:31:00.498482Z",
     "iopub.status.idle": "2022-12-10T02:31:00.507268Z",
     "shell.execute_reply": "2022-12-10T02:31:00.506206Z"
    },
    "papermill": {
     "duration": 0.02382,
     "end_time": "2022-12-10T02:31:00.509512",
     "exception": false,
     "start_time": "2022-12-10T02:31:00.485692",
     "status": "completed"
    },
    "tags": []
   },
   "outputs": [
    {
     "data": {
      "application/javascript": [
       "parent.postMessage({\"jupyterEvent\": \"custom.exercise_interaction\", \"data\": {\"outcomeType\": 1, \"valueTowardsCompletion\": 0.2, \"interactionType\": 1, \"questionType\": 2, \"questionId\": \"5.3_OneSauce\", \"learnToolsVersion\": \"0.3.4\", \"failureMessage\": \"\", \"exceptionClass\": \"\", \"trace\": \"\"}}, \"*\")"
      ],
      "text/plain": [
       "<IPython.core.display.Javascript object>"
      ]
     },
     "metadata": {},
     "output_type": "display_data"
    },
    {
     "data": {
      "text/markdown": [
       "<span style=\"color:#33cc33\">Correct</span>"
      ],
      "text/plain": [
       "Correct"
      ]
     },
     "metadata": {},
     "output_type": "display_data"
    }
   ],
   "source": [
    "def exactly_one_sauce(ketchup, mustard, onion):\n",
    "    \"\"\"Return whether the customer wants either ketchup or mustard, but not both.\n",
    "    (You may be familiar with this operation under the name \"exclusive or\")\n",
    "    \"\"\"\n",
    "    return (ketchup and not mustard) or (mustard and not ketchup)\n",
    "\n",
    "# Check your answer\n",
    "q5.c.check()"
   ]
  },
  {
   "cell_type": "code",
   "execution_count": 18,
   "id": "bb511bfb",
   "metadata": {
    "execution": {
     "iopub.execute_input": "2022-12-10T02:31:00.534638Z",
     "iopub.status.busy": "2022-12-10T02:31:00.534225Z",
     "iopub.status.idle": "2022-12-10T02:31:00.538043Z",
     "shell.execute_reply": "2022-12-10T02:31:00.537293Z"
    },
    "papermill": {
     "duration": 0.018887,
     "end_time": "2022-12-10T02:31:00.539949",
     "exception": false,
     "start_time": "2022-12-10T02:31:00.521062",
     "status": "completed"
    },
    "tags": []
   },
   "outputs": [],
   "source": [
    "#q5.c.hint()\n",
    "#q5.c.solution()"
   ]
  },
  {
   "cell_type": "markdown",
   "id": "4a5a9be0",
   "metadata": {
    "papermill": {
     "duration": 0.011538,
     "end_time": "2022-12-10T02:31:00.563561",
     "exception": false,
     "start_time": "2022-12-10T02:31:00.552023",
     "status": "completed"
    },
    "tags": []
   },
   "source": [
    "# 6. <span title=\"A bit spicy\" style=\"color: darkgreen \">🌶️</span>\n",
    "\n",
    "We’ve seen that calling `bool()` on an integer returns `False` if it’s equal to 0 and `True` otherwise. What happens if we call `int()` on a bool? Try it out in the notebook cell below.\n",
    "\n",
    "Can you take advantage of this to write a succinct function that corresponds to the English sentence \"does the customer want exactly one topping?\"?"
   ]
  },
  {
   "cell_type": "code",
   "execution_count": 19,
   "id": "8d028ac3",
   "metadata": {
    "execution": {
     "iopub.execute_input": "2022-12-10T02:31:00.589657Z",
     "iopub.status.busy": "2022-12-10T02:31:00.588498Z",
     "iopub.status.idle": "2022-12-10T02:31:00.600843Z",
     "shell.execute_reply": "2022-12-10T02:31:00.599753Z"
    },
    "papermill": {
     "duration": 0.028404,
     "end_time": "2022-12-10T02:31:00.603631",
     "exception": false,
     "start_time": "2022-12-10T02:31:00.575227",
     "status": "completed"
    },
    "tags": []
   },
   "outputs": [
    {
     "data": {
      "application/javascript": [
       "parent.postMessage({\"jupyterEvent\": \"custom.exercise_interaction\", \"data\": {\"outcomeType\": 1, \"valueTowardsCompletion\": 0.2, \"interactionType\": 1, \"questionType\": 2, \"questionId\": \"6_OneTopping\", \"learnToolsVersion\": \"0.3.4\", \"failureMessage\": \"\", \"exceptionClass\": \"\", \"trace\": \"\"}}, \"*\")"
      ],
      "text/plain": [
       "<IPython.core.display.Javascript object>"
      ]
     },
     "metadata": {},
     "output_type": "display_data"
    },
    {
     "data": {
      "text/markdown": [
       "<span style=\"color:#33cc33\">Correct:</span> \n",
       "\n",
       "This condition would be pretty complicated to express using just `and`, `or` and `not`, but using boolean-to-integer conversion gives us this short solution:\n",
       "```python\n",
       "return (int(ketchup) + int(mustard) + int(onion)) == 1\n",
       "```\n",
       "\n",
       "Fun fact: we don't technically need to call `int` on the arguments. Just by doing addition with booleans, Python implicitly does the integer conversion. So we could also write...\n",
       "\n",
       "```python\n",
       "return (ketchup + mustard + onion) == 1\n",
       "```"
      ],
      "text/plain": [
       "Correct: \n",
       "\n",
       "This condition would be pretty complicated to express using just `and`, `or` and `not`, but using boolean-to-integer conversion gives us this short solution:\n",
       "```python\n",
       "return (int(ketchup) + int(mustard) + int(onion)) == 1\n",
       "```\n",
       "\n",
       "Fun fact: we don't technically need to call `int` on the arguments. Just by doing addition with booleans, Python implicitly does the integer conversion. So we could also write...\n",
       "\n",
       "```python\n",
       "return (ketchup + mustard + onion) == 1\n",
       "```"
      ]
     },
     "metadata": {},
     "output_type": "display_data"
    }
   ],
   "source": [
    "def exactly_one_topping(ketchup, mustard, onion):\n",
    "    \"\"\"Return whether the customer wants exactly one of the three available toppings\n",
    "    on their hot dog.\n",
    "    \"\"\"\n",
    "    return (int(ketchup) + int(mustard) + int(onion)) == 1\n",
    "\n",
    "# Check your answer\n",
    "q6.check()"
   ]
  },
  {
   "cell_type": "code",
   "execution_count": 20,
   "id": "7e78d1d7",
   "metadata": {
    "execution": {
     "iopub.execute_input": "2022-12-10T02:31:00.635601Z",
     "iopub.status.busy": "2022-12-10T02:31:00.634839Z",
     "iopub.status.idle": "2022-12-10T02:31:00.639194Z",
     "shell.execute_reply": "2022-12-10T02:31:00.638477Z"
    },
    "papermill": {
     "duration": 0.024499,
     "end_time": "2022-12-10T02:31:00.641489",
     "exception": false,
     "start_time": "2022-12-10T02:31:00.616990",
     "status": "completed"
    },
    "tags": []
   },
   "outputs": [],
   "source": [
    "#q6.hint()\n",
    "#q6.solution()"
   ]
  },
  {
   "cell_type": "markdown",
   "id": "a002f8c6",
   "metadata": {
    "papermill": {
     "duration": 0.011561,
     "end_time": "2022-12-10T02:31:00.667932",
     "exception": false,
     "start_time": "2022-12-10T02:31:00.656371",
     "status": "completed"
    },
    "tags": []
   },
   "source": [
    "# 7. <span title=\"A bit spicy\" style=\"color: darkgreen \">🌶️</span> (Optional)\n",
    "\n",
    "In this problem we'll be working with a simplified version of [blackjack](https://en.wikipedia.org/wiki/Blackjack) (aka twenty-one). In this version there is one player (who you'll control) and a dealer. Play proceeds as follows:\n",
    "\n",
    "- The player is dealt two face-up cards. The dealer is dealt one face-up card.\n",
    "- The player may ask to be dealt another card ('hit') as many times as they wish. If the sum of their cards exceeds 21, they lose the round immediately.\n",
    "- The dealer then deals additional cards to himself until either:\n",
    "    - the sum of the dealer's cards exceeds 21, in which case the player wins the round\n",
    "    - the sum of the dealer's cards is greater than or equal to 17. If the player's total is greater than the dealer's, the player wins. Otherwise, the dealer wins (even in case of a tie).\n",
    "    \n",
    "When calculating the sum of cards, Jack, Queen, and King count for 10. Aces can count as 1 or 11 (when referring to a player's \"total\" above, we mean the largest total that can be made without exceeding 21. So e.g. A+8 = 19, A+8+8 = 17)\n",
    "\n",
    "For this problem, you'll write a function representing the player's decision-making strategy in this game. We've provided a very unintelligent implementation below:"
   ]
  },
  {
   "cell_type": "code",
   "execution_count": 21,
   "id": "033fff25",
   "metadata": {
    "execution": {
     "iopub.execute_input": "2022-12-10T02:31:00.693262Z",
     "iopub.status.busy": "2022-12-10T02:31:00.692844Z",
     "iopub.status.idle": "2022-12-10T02:31:00.698079Z",
     "shell.execute_reply": "2022-12-10T02:31:00.696964Z"
    },
    "papermill": {
     "duration": 0.020611,
     "end_time": "2022-12-10T02:31:00.700330",
     "exception": false,
     "start_time": "2022-12-10T02:31:00.679719",
     "status": "completed"
    },
    "tags": []
   },
   "outputs": [],
   "source": [
    "def should_hit(dealer_total, player_total, player_low_aces, player_high_aces):\n",
    "    \"\"\"Return True if the player should hit (request another card) given the current game\n",
    "    state, or False if the player should stay.\n",
    "    When calculating a hand's total value, we count aces as \"high\" (with value 11) if doing so\n",
    "    doesn't bring the total above 21, otherwise we count them as low (with value 1). \n",
    "    For example, if the player's hand is {A, A, A, 7}, we will count it as 11 + 1 + 1 + 7,\n",
    "    and therefore set player_total=20, player_low_aces=2, player_high_aces=1.\n",
    "    \"\"\"\n",
    "    return False"
   ]
  },
  {
   "cell_type": "markdown",
   "id": "d2e9a454",
   "metadata": {
    "papermill": {
     "duration": 0.011246,
     "end_time": "2022-12-10T02:31:00.723460",
     "exception": false,
     "start_time": "2022-12-10T02:31:00.712214",
     "status": "completed"
    },
    "tags": []
   },
   "source": [
    "This very conservative agent *always* sticks with the hand of two cards that they're dealt.\n",
    "\n",
    "We'll be simulating games between your player agent and our own dealer agent by calling your function.\n",
    "\n",
    "Try running the function below to see an example of a simulated game:"
   ]
  },
  {
   "cell_type": "code",
   "execution_count": 22,
   "id": "233ee8ca",
   "metadata": {
    "execution": {
     "iopub.execute_input": "2022-12-10T02:31:00.753290Z",
     "iopub.status.busy": "2022-12-10T02:31:00.752544Z",
     "iopub.status.idle": "2022-12-10T02:31:00.759860Z",
     "shell.execute_reply": "2022-12-10T02:31:00.757115Z"
    },
    "papermill": {
     "duration": 0.025995,
     "end_time": "2022-12-10T02:31:00.762270",
     "exception": false,
     "start_time": "2022-12-10T02:31:00.736275",
     "status": "completed"
    },
    "tags": []
   },
   "outputs": [
    {
     "name": "stdout",
     "output_type": "stream",
     "text": [
      "Player starts with 7 and 9 (total = 16)\n",
      "Dealer starts with K\n",
      "\n",
      "__Player's turn__\n",
      "Player stays\n",
      "\n",
      "__Dealer's turn__\n",
      "Dealer hits and receives A. (total = 21)\n",
      "Dealer stands.\n",
      "Dealer wins. 21 >= 16\n"
     ]
    }
   ],
   "source": [
    "q7.simulate_one_game()"
   ]
  },
  {
   "cell_type": "markdown",
   "id": "f324d0de",
   "metadata": {
    "papermill": {
     "duration": 0.012482,
     "end_time": "2022-12-10T02:31:00.788353",
     "exception": false,
     "start_time": "2022-12-10T02:31:00.775871",
     "status": "completed"
    },
    "tags": []
   },
   "source": [
    "The real test of your agent's mettle is their average win rate over many games. Try calling the function below to simulate 50000 games of blackjack (it may take a couple seconds):"
   ]
  },
  {
   "cell_type": "code",
   "execution_count": 23,
   "id": "27536acc",
   "metadata": {
    "execution": {
     "iopub.execute_input": "2022-12-10T02:31:00.814553Z",
     "iopub.status.busy": "2022-12-10T02:31:00.814136Z",
     "iopub.status.idle": "2022-12-10T02:31:02.495757Z",
     "shell.execute_reply": "2022-12-10T02:31:02.494530Z"
    },
    "papermill": {
     "duration": 1.697986,
     "end_time": "2022-12-10T02:31:02.498651",
     "exception": false,
     "start_time": "2022-12-10T02:31:00.800665",
     "status": "completed"
    },
    "tags": []
   },
   "outputs": [
    {
     "name": "stdout",
     "output_type": "stream",
     "text": [
      "Player won 19152 out of 50000 games (win rate = 38.3%)\n"
     ]
    }
   ],
   "source": [
    "q7.simulate(n_games=50000)"
   ]
  },
  {
   "cell_type": "markdown",
   "id": "d16aca93",
   "metadata": {
    "papermill": {
     "duration": 0.01187,
     "end_time": "2022-12-10T02:31:02.523485",
     "exception": false,
     "start_time": "2022-12-10T02:31:02.511615",
     "status": "completed"
    },
    "tags": []
   },
   "source": [
    "Our dumb agent that completely ignores the game state still manages to win shockingly often!\n",
    "\n",
    "Try adding some more smarts to the `should_hit` function and see how it affects the results."
   ]
  },
  {
   "cell_type": "code",
   "execution_count": 24,
   "id": "8158db72",
   "metadata": {
    "execution": {
     "iopub.execute_input": "2022-12-10T02:31:02.550222Z",
     "iopub.status.busy": "2022-12-10T02:31:02.549214Z",
     "iopub.status.idle": "2022-12-10T02:31:04.350932Z",
     "shell.execute_reply": "2022-12-10T02:31:04.349935Z"
    },
    "papermill": {
     "duration": 1.818357,
     "end_time": "2022-12-10T02:31:04.353825",
     "exception": false,
     "start_time": "2022-12-10T02:31:02.535468",
     "status": "completed"
    },
    "tags": []
   },
   "outputs": [
    {
     "name": "stdout",
     "output_type": "stream",
     "text": [
      "Player won 20655 out of 50000 games (win rate = 41.3%)\n"
     ]
    }
   ],
   "source": [
    "def should_hit(dealer_total, player_total, player_low_aces, player_high_aces):\n",
    "    \"\"\"Return True if the player should hit (request another card) given the current game\n",
    "    state, or False if the player should stay.\n",
    "    When calculating a hand's total value, we count aces as \"high\" (with value 11) if doing so\n",
    "    doesn't bring the total above 21, otherwise we count them as low (with value 1). \n",
    "    For example, if the player's hand is {A, A, A, 7}, we will count it as 11 + 1 + 1 + 7,\n",
    "    and therefore set player_total=20, player_low_aces=2, player_high_aces=1.\n",
    "    \"\"\"\n",
    "    if player_total < 16:\n",
    "        return True\n",
    "    elif dealer_total > 17:\n",
    "        return True\n",
    "    else:\n",
    "        return False\n",
    "\n",
    "q7.simulate(n_games=50000)"
   ]
  },
  {
   "cell_type": "markdown",
   "id": "4248ce86",
   "metadata": {
    "papermill": {
     "duration": 0.011833,
     "end_time": "2022-12-10T02:31:04.377849",
     "exception": false,
     "start_time": "2022-12-10T02:31:04.366016",
     "status": "completed"
    },
    "tags": []
   },
   "source": [
    "# Keep Going\n",
    "\n",
    "Learn about **[lists and tuples](https://www.kaggle.com/colinmorris/lists)** to handle multiple items of data in a systematic way."
   ]
  },
  {
   "cell_type": "markdown",
   "id": "cc6e8ea3",
   "metadata": {
    "papermill": {
     "duration": 0.011695,
     "end_time": "2022-12-10T02:31:04.401649",
     "exception": false,
     "start_time": "2022-12-10T02:31:04.389954",
     "status": "completed"
    },
    "tags": []
   },
   "source": [
    "---\n",
    "\n",
    "\n",
    "\n",
    "\n",
    "*Have questions or comments? Visit the [course discussion forum](https://www.kaggle.com/learn/python/discussion) to chat with other learners.*"
   ]
  }
 ],
 "metadata": {
  "kernelspec": {
   "display_name": "Python 3",
   "language": "python",
   "name": "python3"
  },
  "language_info": {
   "codemirror_mode": {
    "name": "ipython",
    "version": 3
   },
   "file_extension": ".py",
   "mimetype": "text/x-python",
   "name": "python",
   "nbconvert_exporter": "python",
   "pygments_lexer": "ipython3",
   "version": "3.7.12"
  },
  "papermill": {
   "default_parameters": {},
   "duration": 13.629325,
   "end_time": "2022-12-10T02:31:05.035918",
   "environment_variables": {},
   "exception": null,
   "input_path": "__notebook__.ipynb",
   "output_path": "__notebook__.ipynb",
   "parameters": {},
   "start_time": "2022-12-10T02:30:51.406593",
   "version": "2.3.4"
  }
 },
 "nbformat": 4,
 "nbformat_minor": 5
}
