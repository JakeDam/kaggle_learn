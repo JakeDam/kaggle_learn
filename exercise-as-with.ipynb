{
 "cells": [
  {
   "cell_type": "markdown",
   "id": "7409a53f",
   "metadata": {
    "papermill": {
     "duration": 0.007974,
     "end_time": "2023-02-28T18:25:15.102468",
     "exception": false,
     "start_time": "2023-02-28T18:25:15.094494",
     "status": "completed"
    },
    "tags": []
   },
   "source": [
    "**This notebook is an exercise in the [SQL](https://www.kaggle.com/learn/intro-to-sql) course.  You can reference the tutorial at [this link](https://www.kaggle.com/dansbecker/as-with).**\n",
    "\n",
    "---\n"
   ]
  },
  {
   "cell_type": "markdown",
   "id": "5560fb86",
   "metadata": {
    "papermill": {
     "duration": 0.006189,
     "end_time": "2023-02-28T18:25:15.115514",
     "exception": false,
     "start_time": "2023-02-28T18:25:15.109325",
     "status": "completed"
    },
    "tags": []
   },
   "source": [
    "# Introduction\n",
    "\n",
    "You are getting to the point where you can own an analysis from beginning to end. So you'll do more data exploration in this exercise than you've done before.  Before you get started, run the following set-up code as usual. "
   ]
  },
  {
   "cell_type": "code",
   "execution_count": 1,
   "id": "ed57e0c4",
   "metadata": {
    "execution": {
     "iopub.execute_input": "2023-02-28T18:25:15.131562Z",
     "iopub.status.busy": "2023-02-28T18:25:15.130877Z",
     "iopub.status.idle": "2023-02-28T18:25:41.769856Z",
     "shell.execute_reply": "2023-02-28T18:25:41.768075Z"
    },
    "papermill": {
     "duration": 26.651269,
     "end_time": "2023-02-28T18:25:41.773257",
     "exception": false,
     "start_time": "2023-02-28T18:25:15.121988",
     "status": "completed"
    },
    "tags": []
   },
   "outputs": [
    {
     "name": "stdout",
     "output_type": "stream",
     "text": [
      "Collecting git+https://github.com/Kaggle/learntools.git\r\n",
      "  Cloning https://github.com/Kaggle/learntools.git to /tmp/pip-req-build-odxzwoi_\r\n",
      "  Running command git clone --filter=blob:none --quiet https://github.com/Kaggle/learntools.git /tmp/pip-req-build-odxzwoi_\r\n",
      "  fatal: unable to access 'https://github.com/Kaggle/learntools.git/': Could not resolve host: github.com\r\n",
      "  \u001b[1;31merror\u001b[0m: \u001b[1msubprocess-exited-with-error\u001b[0m\r\n",
      "  \r\n",
      "  \u001b[31m×\u001b[0m \u001b[32mgit clone --\u001b[0m\u001b[32mfilter\u001b[0m\u001b[32m=\u001b[0m\u001b[32mblob\u001b[0m\u001b[32m:none --quiet \u001b[0m\u001b[4;32mhttps://github.com/Kaggle/learntools.git\u001b[0m\u001b[32m \u001b[0m\u001b[32m/tmp/\u001b[0m\u001b[32mpip-req-build-odxzwoi_\u001b[0m did not run successfully.\r\n",
      "  \u001b[31m│\u001b[0m exit code: \u001b[1;36m128\u001b[0m\r\n",
      "  \u001b[31m╰─>\u001b[0m See above for output.\r\n",
      "  \r\n",
      "  \u001b[1;35mnote\u001b[0m: This error originates from a subprocess, and is likely not a problem with pip.\r\n",
      "\u001b[1;31merror\u001b[0m: \u001b[1msubprocess-exited-with-error\u001b[0m\r\n",
      "\r\n",
      "\u001b[31m×\u001b[0m \u001b[32mgit clone --\u001b[0m\u001b[32mfilter\u001b[0m\u001b[32m=\u001b[0m\u001b[32mblob\u001b[0m\u001b[32m:none --quiet \u001b[0m\u001b[4;32mhttps://github.com/Kaggle/learntools.git\u001b[0m\u001b[32m \u001b[0m\u001b[32m/tmp/\u001b[0m\u001b[32mpip-req-build-odxzwoi_\u001b[0m did not run successfully.\r\n",
      "\u001b[31m│\u001b[0m exit code: \u001b[1;36m128\u001b[0m\r\n",
      "\u001b[31m╰─>\u001b[0m See above for output.\r\n",
      "\r\n",
      "\u001b[1;35mnote\u001b[0m: This error originates from a subprocess, and is likely not a problem with pip.\r\n",
      "Using Kaggle's public dataset BigQuery integration.\n"
     ]
    },
    {
     "name": "stderr",
     "output_type": "stream",
     "text": [
      "/opt/conda/lib/python3.7/site-packages/google/cloud/bigquery/client.py:440: UserWarning: Cannot create BigQuery Storage client, the dependency google-cloud-bigquery-storage is not installed.\n",
      "  \"Cannot create BigQuery Storage client, the dependency \"\n"
     ]
    },
    {
     "name": "stdout",
     "output_type": "stream",
     "text": [
      "Setup Complete\n"
     ]
    }
   ],
   "source": [
    "# Get most recent checking code\n",
    "!pip install -U -t /kaggle/working/ git+https://github.com/Kaggle/learntools.git\n",
    "# Set up feedback system\n",
    "from learntools.core import binder\n",
    "binder.bind(globals())\n",
    "from learntools.sql.ex5 import *\n",
    "print(\"Setup Complete\")"
   ]
  },
  {
   "cell_type": "markdown",
   "id": "24e36e15",
   "metadata": {
    "papermill": {
     "duration": 0.007163,
     "end_time": "2023-02-28T18:25:41.787726",
     "exception": false,
     "start_time": "2023-02-28T18:25:41.780563",
     "status": "completed"
    },
    "tags": []
   },
   "source": [
    "You'll work with a dataset about taxi trips in the city of Chicago. Run the cell below to fetch the `chicago_taxi_trips` dataset."
   ]
  },
  {
   "cell_type": "code",
   "execution_count": 2,
   "id": "9123aa62",
   "metadata": {
    "execution": {
     "iopub.execute_input": "2023-02-28T18:25:41.804812Z",
     "iopub.status.busy": "2023-02-28T18:25:41.804244Z",
     "iopub.status.idle": "2023-02-28T18:25:42.181640Z",
     "shell.execute_reply": "2023-02-28T18:25:42.180274Z"
    },
    "papermill": {
     "duration": 0.390021,
     "end_time": "2023-02-28T18:25:42.184992",
     "exception": false,
     "start_time": "2023-02-28T18:25:41.794971",
     "status": "completed"
    },
    "tags": []
   },
   "outputs": [
    {
     "name": "stdout",
     "output_type": "stream",
     "text": [
      "Using Kaggle's public dataset BigQuery integration.\n"
     ]
    }
   ],
   "source": [
    "from google.cloud import bigquery\n",
    "\n",
    "# Create a \"Client\" object\n",
    "client = bigquery.Client()\n",
    "\n",
    "# Construct a reference to the \"chicago_taxi_trips\" dataset\n",
    "dataset_ref = client.dataset(\"chicago_taxi_trips\", project=\"bigquery-public-data\")\n",
    "\n",
    "# API request - fetch the dataset\n",
    "dataset = client.get_dataset(dataset_ref)"
   ]
  },
  {
   "cell_type": "markdown",
   "id": "275e4a6c",
   "metadata": {
    "papermill": {
     "duration": 0.006999,
     "end_time": "2023-02-28T18:25:42.199338",
     "exception": false,
     "start_time": "2023-02-28T18:25:42.192339",
     "status": "completed"
    },
    "tags": []
   },
   "source": [
    "# Exercises\n",
    "\n",
    "You are curious how much slower traffic moves when traffic volume is high. This involves a few steps.\n",
    "\n",
    "### 1) Find the data\n",
    "Before you can access the data, you need to find the table name with the data.\n",
    "\n",
    "*Hint*: Tab completion is helpful whenever you can't remember a command. Type `client.` and then hit the tab key. Don't forget the period before hitting tab."
   ]
  },
  {
   "cell_type": "code",
   "execution_count": 3,
   "id": "96a7f038",
   "metadata": {
    "execution": {
     "iopub.execute_input": "2023-02-28T18:25:42.216982Z",
     "iopub.status.busy": "2023-02-28T18:25:42.215868Z",
     "iopub.status.idle": "2023-02-28T18:25:42.481278Z",
     "shell.execute_reply": "2023-02-28T18:25:42.479133Z"
    },
    "papermill": {
     "duration": 0.277903,
     "end_time": "2023-02-28T18:25:42.484656",
     "exception": false,
     "start_time": "2023-02-28T18:25:42.206753",
     "status": "completed"
    },
    "tags": []
   },
   "outputs": [
    {
     "name": "stdout",
     "output_type": "stream",
     "text": [
      "taxi_trips\n"
     ]
    }
   ],
   "source": [
    "# Your code here to find the table name\n",
    "tables = list(client.list_tables(dataset))\n",
    "for table in tables:\n",
    "    print(table.table_id)"
   ]
  },
  {
   "cell_type": "code",
   "execution_count": 4,
   "id": "73a006d0",
   "metadata": {
    "execution": {
     "iopub.execute_input": "2023-02-28T18:25:42.502398Z",
     "iopub.status.busy": "2023-02-28T18:25:42.501350Z",
     "iopub.status.idle": "2023-02-28T18:25:42.515486Z",
     "shell.execute_reply": "2023-02-28T18:25:42.514126Z"
    },
    "papermill": {
     "duration": 0.02594,
     "end_time": "2023-02-28T18:25:42.518283",
     "exception": false,
     "start_time": "2023-02-28T18:25:42.492343",
     "status": "completed"
    },
    "tags": []
   },
   "outputs": [
    {
     "data": {
      "application/javascript": [
       "parent.postMessage({\"jupyterEvent\": \"custom.exercise_interaction\", \"data\": {\"outcomeType\": 1, \"valueTowardsCompletion\": 0.16666666666666666, \"interactionType\": 1, \"questionType\": 1, \"questionId\": \"1_GetTableName\", \"learnToolsVersion\": \"0.3.4\", \"failureMessage\": \"\", \"exceptionClass\": \"\", \"trace\": \"\"}}, \"*\")"
      ],
      "text/plain": [
       "<IPython.core.display.Javascript object>"
      ]
     },
     "metadata": {},
     "output_type": "display_data"
    },
    {
     "data": {
      "text/markdown": [
       "<span style=\"color:#33cc33\">Correct</span>"
      ],
      "text/plain": [
       "Correct"
      ]
     },
     "metadata": {},
     "output_type": "display_data"
    }
   ],
   "source": [
    "# Write the table name as a string below\n",
    "table_name = \"taxi_trips\"\n",
    "\n",
    "# Check your answer\n",
    "q_1.check()"
   ]
  },
  {
   "cell_type": "markdown",
   "id": "f4f8c11b",
   "metadata": {
    "papermill": {
     "duration": 0.007057,
     "end_time": "2023-02-28T18:25:42.532889",
     "exception": false,
     "start_time": "2023-02-28T18:25:42.525832",
     "status": "completed"
    },
    "tags": []
   },
   "source": [
    "For the solution, uncomment the line below."
   ]
  },
  {
   "cell_type": "code",
   "execution_count": 5,
   "id": "e25b2af8",
   "metadata": {
    "execution": {
     "iopub.execute_input": "2023-02-28T18:25:42.551463Z",
     "iopub.status.busy": "2023-02-28T18:25:42.550922Z",
     "iopub.status.idle": "2023-02-28T18:25:42.556741Z",
     "shell.execute_reply": "2023-02-28T18:25:42.555154Z"
    },
    "papermill": {
     "duration": 0.019488,
     "end_time": "2023-02-28T18:25:42.559662",
     "exception": false,
     "start_time": "2023-02-28T18:25:42.540174",
     "status": "completed"
    },
    "tags": []
   },
   "outputs": [],
   "source": [
    "#q_1.solution()"
   ]
  },
  {
   "cell_type": "markdown",
   "id": "cebfe9a8",
   "metadata": {
    "papermill": {
     "duration": 0.007145,
     "end_time": "2023-02-28T18:25:42.574312",
     "exception": false,
     "start_time": "2023-02-28T18:25:42.567167",
     "status": "completed"
    },
    "tags": []
   },
   "source": [
    "### 2) Peek at the data\n",
    "\n",
    "Use the next code cell to peek at the top few rows of the data. Inspect the data and see if any issues with data quality are immediately obvious. "
   ]
  },
  {
   "cell_type": "code",
   "execution_count": 6,
   "id": "c36edb7a",
   "metadata": {
    "execution": {
     "iopub.execute_input": "2023-02-28T18:25:42.591987Z",
     "iopub.status.busy": "2023-02-28T18:25:42.591434Z",
     "iopub.status.idle": "2023-02-28T18:25:43.591842Z",
     "shell.execute_reply": "2023-02-28T18:25:43.590412Z"
    },
    "papermill": {
     "duration": 1.013535,
     "end_time": "2023-02-28T18:25:43.595269",
     "exception": false,
     "start_time": "2023-02-28T18:25:42.581734",
     "status": "completed"
    },
    "tags": []
   },
   "outputs": [
    {
     "name": "stderr",
     "output_type": "stream",
     "text": [
      "/opt/conda/lib/python3.7/site-packages/ipykernel_launcher.py:4: UserWarning: Cannot use bqstorage_client if max_results is set, reverting to fetching data with the tabledata.list endpoint.\n",
      "  after removing the cwd from sys.path.\n"
     ]
    },
    {
     "data": {
      "text/html": [
       "<div>\n",
       "<style scoped>\n",
       "    .dataframe tbody tr th:only-of-type {\n",
       "        vertical-align: middle;\n",
       "    }\n",
       "\n",
       "    .dataframe tbody tr th {\n",
       "        vertical-align: top;\n",
       "    }\n",
       "\n",
       "    .dataframe thead th {\n",
       "        text-align: right;\n",
       "    }\n",
       "</style>\n",
       "<table border=\"1\" class=\"dataframe\">\n",
       "  <thead>\n",
       "    <tr style=\"text-align: right;\">\n",
       "      <th></th>\n",
       "      <th>unique_key</th>\n",
       "      <th>taxi_id</th>\n",
       "      <th>trip_start_timestamp</th>\n",
       "      <th>trip_end_timestamp</th>\n",
       "      <th>trip_seconds</th>\n",
       "      <th>trip_miles</th>\n",
       "      <th>pickup_census_tract</th>\n",
       "      <th>dropoff_census_tract</th>\n",
       "      <th>pickup_community_area</th>\n",
       "      <th>dropoff_community_area</th>\n",
       "      <th>...</th>\n",
       "      <th>extras</th>\n",
       "      <th>trip_total</th>\n",
       "      <th>payment_type</th>\n",
       "      <th>company</th>\n",
       "      <th>pickup_latitude</th>\n",
       "      <th>pickup_longitude</th>\n",
       "      <th>pickup_location</th>\n",
       "      <th>dropoff_latitude</th>\n",
       "      <th>dropoff_longitude</th>\n",
       "      <th>dropoff_location</th>\n",
       "    </tr>\n",
       "  </thead>\n",
       "  <tbody>\n",
       "    <tr>\n",
       "      <th>0</th>\n",
       "      <td>be080b1fa9e976749b482244efd3c3b0f347b13b</td>\n",
       "      <td>bca79085da78d157007711d04c6e06f655ee5eafb1e5b6...</td>\n",
       "      <td>2018-08-09 14:15:00+00:00</td>\n",
       "      <td>2018-08-09 14:30:00+00:00</td>\n",
       "      <td>780</td>\n",
       "      <td>0.0</td>\n",
       "      <td>NaN</td>\n",
       "      <td>NaN</td>\n",
       "      <td>NaN</td>\n",
       "      <td>NaN</td>\n",
       "      <td>...</td>\n",
       "      <td>0.0</td>\n",
       "      <td>11.75</td>\n",
       "      <td>Cash</td>\n",
       "      <td>Chicago Independents</td>\n",
       "      <td>NaN</td>\n",
       "      <td>NaN</td>\n",
       "      <td>None</td>\n",
       "      <td>NaN</td>\n",
       "      <td>NaN</td>\n",
       "      <td>None</td>\n",
       "    </tr>\n",
       "    <tr>\n",
       "      <th>1</th>\n",
       "      <td>60cbe39d2413c6a529eaa87c6897fc3c5f966f3a</td>\n",
       "      <td>5cee8ec7dd48dd171270a4f56ac537aa955fb0404ea5ad...</td>\n",
       "      <td>2018-08-09 14:15:00+00:00</td>\n",
       "      <td>2018-08-09 14:15:00+00:00</td>\n",
       "      <td>240</td>\n",
       "      <td>0.8</td>\n",
       "      <td>NaN</td>\n",
       "      <td>NaN</td>\n",
       "      <td>NaN</td>\n",
       "      <td>NaN</td>\n",
       "      <td>...</td>\n",
       "      <td>0.0</td>\n",
       "      <td>4.40</td>\n",
       "      <td>Cash</td>\n",
       "      <td>Taxi Affiliation Services</td>\n",
       "      <td>NaN</td>\n",
       "      <td>NaN</td>\n",
       "      <td>None</td>\n",
       "      <td>NaN</td>\n",
       "      <td>NaN</td>\n",
       "      <td>None</td>\n",
       "    </tr>\n",
       "    <tr>\n",
       "      <th>2</th>\n",
       "      <td>a520a19b62f6b50bcba11c824e98a626747819c3</td>\n",
       "      <td>6e2e908ec8c7a6de1c5a75d92dd61b810ab1286fd20280...</td>\n",
       "      <td>2018-08-09 14:15:00+00:00</td>\n",
       "      <td>2018-08-09 14:30:00+00:00</td>\n",
       "      <td>540</td>\n",
       "      <td>3.4</td>\n",
       "      <td>NaN</td>\n",
       "      <td>NaN</td>\n",
       "      <td>NaN</td>\n",
       "      <td>NaN</td>\n",
       "      <td>...</td>\n",
       "      <td>0.0</td>\n",
       "      <td>9.40</td>\n",
       "      <td>Cash</td>\n",
       "      <td>Taxi Affiliation Services</td>\n",
       "      <td>NaN</td>\n",
       "      <td>NaN</td>\n",
       "      <td>None</td>\n",
       "      <td>NaN</td>\n",
       "      <td>NaN</td>\n",
       "      <td>None</td>\n",
       "    </tr>\n",
       "    <tr>\n",
       "      <th>3</th>\n",
       "      <td>90118f298fdccd194c3d413315814d4f1f4ee03c</td>\n",
       "      <td>99d28f53719cc2e93e6cc242144fba05452a93a418af0b...</td>\n",
       "      <td>2016-04-29 13:30:00+00:00</td>\n",
       "      <td>2016-04-29 13:30:00+00:00</td>\n",
       "      <td>660</td>\n",
       "      <td>4.3</td>\n",
       "      <td>NaN</td>\n",
       "      <td>NaN</td>\n",
       "      <td>NaN</td>\n",
       "      <td>NaN</td>\n",
       "      <td>...</td>\n",
       "      <td>0.0</td>\n",
       "      <td>13.50</td>\n",
       "      <td>Cash</td>\n",
       "      <td>None</td>\n",
       "      <td>NaN</td>\n",
       "      <td>NaN</td>\n",
       "      <td>None</td>\n",
       "      <td>NaN</td>\n",
       "      <td>NaN</td>\n",
       "      <td>None</td>\n",
       "    </tr>\n",
       "    <tr>\n",
       "      <th>4</th>\n",
       "      <td>4fc4ccdae816e6df4412ad6275e92ed2637a8cb2</td>\n",
       "      <td>a4029d16e9814a3b06e5affb38e8ad0d0147e4d917f7f9...</td>\n",
       "      <td>2018-08-08 21:15:00+00:00</td>\n",
       "      <td>2018-08-08 22:00:00+00:00</td>\n",
       "      <td>2700</td>\n",
       "      <td>0.9</td>\n",
       "      <td>NaN</td>\n",
       "      <td>1.703106e+10</td>\n",
       "      <td>NaN</td>\n",
       "      <td>6.0</td>\n",
       "      <td>...</td>\n",
       "      <td>4.0</td>\n",
       "      <td>44.75</td>\n",
       "      <td>Credit Card</td>\n",
       "      <td>Blue Ribbon Taxi Association Inc.</td>\n",
       "      <td>NaN</td>\n",
       "      <td>NaN</td>\n",
       "      <td>None</td>\n",
       "      <td>41.943155</td>\n",
       "      <td>-87.640698</td>\n",
       "      <td>POINT (-87.640698076 41.9431550855)</td>\n",
       "    </tr>\n",
       "  </tbody>\n",
       "</table>\n",
       "<p>5 rows × 23 columns</p>\n",
       "</div>"
      ],
      "text/plain": [
       "                                 unique_key  \\\n",
       "0  be080b1fa9e976749b482244efd3c3b0f347b13b   \n",
       "1  60cbe39d2413c6a529eaa87c6897fc3c5f966f3a   \n",
       "2  a520a19b62f6b50bcba11c824e98a626747819c3   \n",
       "3  90118f298fdccd194c3d413315814d4f1f4ee03c   \n",
       "4  4fc4ccdae816e6df4412ad6275e92ed2637a8cb2   \n",
       "\n",
       "                                             taxi_id  \\\n",
       "0  bca79085da78d157007711d04c6e06f655ee5eafb1e5b6...   \n",
       "1  5cee8ec7dd48dd171270a4f56ac537aa955fb0404ea5ad...   \n",
       "2  6e2e908ec8c7a6de1c5a75d92dd61b810ab1286fd20280...   \n",
       "3  99d28f53719cc2e93e6cc242144fba05452a93a418af0b...   \n",
       "4  a4029d16e9814a3b06e5affb38e8ad0d0147e4d917f7f9...   \n",
       "\n",
       "       trip_start_timestamp        trip_end_timestamp  trip_seconds  \\\n",
       "0 2018-08-09 14:15:00+00:00 2018-08-09 14:30:00+00:00           780   \n",
       "1 2018-08-09 14:15:00+00:00 2018-08-09 14:15:00+00:00           240   \n",
       "2 2018-08-09 14:15:00+00:00 2018-08-09 14:30:00+00:00           540   \n",
       "3 2016-04-29 13:30:00+00:00 2016-04-29 13:30:00+00:00           660   \n",
       "4 2018-08-08 21:15:00+00:00 2018-08-08 22:00:00+00:00          2700   \n",
       "\n",
       "   trip_miles  pickup_census_tract  dropoff_census_tract  \\\n",
       "0         0.0                  NaN                   NaN   \n",
       "1         0.8                  NaN                   NaN   \n",
       "2         3.4                  NaN                   NaN   \n",
       "3         4.3                  NaN                   NaN   \n",
       "4         0.9                  NaN          1.703106e+10   \n",
       "\n",
       "   pickup_community_area  dropoff_community_area  ...  extras  trip_total  \\\n",
       "0                    NaN                     NaN  ...     0.0       11.75   \n",
       "1                    NaN                     NaN  ...     0.0        4.40   \n",
       "2                    NaN                     NaN  ...     0.0        9.40   \n",
       "3                    NaN                     NaN  ...     0.0       13.50   \n",
       "4                    NaN                     6.0  ...     4.0       44.75   \n",
       "\n",
       "   payment_type                            company  pickup_latitude  \\\n",
       "0          Cash               Chicago Independents              NaN   \n",
       "1          Cash          Taxi Affiliation Services              NaN   \n",
       "2          Cash          Taxi Affiliation Services              NaN   \n",
       "3          Cash                               None              NaN   \n",
       "4   Credit Card  Blue Ribbon Taxi Association Inc.              NaN   \n",
       "\n",
       "  pickup_longitude pickup_location  dropoff_latitude  dropoff_longitude  \\\n",
       "0              NaN            None               NaN                NaN   \n",
       "1              NaN            None               NaN                NaN   \n",
       "2              NaN            None               NaN                NaN   \n",
       "3              NaN            None               NaN                NaN   \n",
       "4              NaN            None         41.943155         -87.640698   \n",
       "\n",
       "                      dropoff_location  \n",
       "0                                 None  \n",
       "1                                 None  \n",
       "2                                 None  \n",
       "3                                 None  \n",
       "4  POINT (-87.640698076 41.9431550855)  \n",
       "\n",
       "[5 rows x 23 columns]"
      ]
     },
     "execution_count": 6,
     "metadata": {},
     "output_type": "execute_result"
    }
   ],
   "source": [
    "# Your code here\n",
    "table_ref = dataset_ref.table(\"taxi_trips\")\n",
    "table = client.get_table(table_ref)\n",
    "client.list_rows(table, max_results=5).to_dataframe()"
   ]
  },
  {
   "cell_type": "markdown",
   "id": "30f60a06",
   "metadata": {
    "papermill": {
     "duration": 0.007759,
     "end_time": "2023-02-28T18:25:43.611376",
     "exception": false,
     "start_time": "2023-02-28T18:25:43.603617",
     "status": "completed"
    },
    "tags": []
   },
   "source": [
    "After deciding whether you see any important issues, run the code cell below."
   ]
  },
  {
   "cell_type": "code",
   "execution_count": 7,
   "id": "8d96abad",
   "metadata": {
    "execution": {
     "iopub.execute_input": "2023-02-28T18:25:43.630428Z",
     "iopub.status.busy": "2023-02-28T18:25:43.629897Z",
     "iopub.status.idle": "2023-02-28T18:25:43.641740Z",
     "shell.execute_reply": "2023-02-28T18:25:43.640046Z"
    },
    "papermill": {
     "duration": 0.025356,
     "end_time": "2023-02-28T18:25:43.645119",
     "exception": false,
     "start_time": "2023-02-28T18:25:43.619763",
     "status": "completed"
    },
    "tags": []
   },
   "outputs": [
    {
     "data": {
      "application/javascript": [
       "parent.postMessage({\"jupyterEvent\": \"custom.exercise_interaction\", \"data\": {\"interactionType\": 3, \"questionType\": 4, \"questionId\": \"2_WhatsWrongWithData\", \"learnToolsVersion\": \"0.3.4\", \"valueTowardsCompletion\": 0.0, \"failureMessage\": \"\", \"exceptionClass\": \"\", \"trace\": \"\", \"outcomeType\": 4}}, \"*\")"
      ],
      "text/plain": [
       "<IPython.core.display.Javascript object>"
      ]
     },
     "metadata": {},
     "output_type": "display_data"
    },
    {
     "data": {
      "text/markdown": [
       "<span style=\"color:#33cc99\">Solution:</span> \n",
       "You can see the data by calling: \n",
       "```python\n",
       "# Construct a reference to the \"taxi_trips\" table\n",
       "table_ref = dataset_ref.table(\"taxi_trips\")\n",
       "\n",
       "# API request - fetch the table\n",
       "table = client.get_table(table_ref)\n",
       "\n",
       "# Preview the first five lines of the \"taxi_trips\" table\n",
       "client.list_rows(table, max_results=5).to_dataframe()\n",
       "```\n",
       "\n",
       "Some location fields have values of `None` or `NaN`. That is a problem if we want to use those fields.\n"
      ],
      "text/plain": [
       "Solution: \n",
       "You can see the data by calling: \n",
       "```python\n",
       "# Construct a reference to the \"taxi_trips\" table\n",
       "table_ref = dataset_ref.table(\"taxi_trips\")\n",
       "\n",
       "# API request - fetch the table\n",
       "table = client.get_table(table_ref)\n",
       "\n",
       "# Preview the first five lines of the \"taxi_trips\" table\n",
       "client.list_rows(table, max_results=5).to_dataframe()\n",
       "```\n",
       "\n",
       "Some location fields have values of `None` or `NaN`. That is a problem if we want to use those fields."
      ]
     },
     "metadata": {},
     "output_type": "display_data"
    }
   ],
   "source": [
    "# Check your answer (Run this code cell to receive credit!)\n",
    "q_2.solution()"
   ]
  },
  {
   "cell_type": "markdown",
   "id": "19f72c0c",
   "metadata": {
    "papermill": {
     "duration": 0.008393,
     "end_time": "2023-02-28T18:25:43.662171",
     "exception": false,
     "start_time": "2023-02-28T18:25:43.653778",
     "status": "completed"
    },
    "tags": []
   },
   "source": [
    "### 3) Determine when this data is from\n",
    "\n",
    "If the data is sufficiently old, we might be careful before assuming the data is still relevant to traffic patterns today. Write a query that counts the number of trips in each year.  \n",
    "\n",
    "Your results should have two columns:\n",
    "- `year` - the year of the trips\n",
    "- `num_trips` - the number of trips in that year\n",
    "\n",
    "Hints:\n",
    "- When using **GROUP BY** and **ORDER BY**, you should refer to the columns by the alias `year` that you set at the top of the **SELECT** query.\n",
    "- The SQL code to **SELECT** the year from `trip_start_timestamp` is <code>SELECT EXTRACT(YEAR FROM trip_start_timestamp)</code>\n",
    "- The **FROM** field can be a little tricky until you are used to it.  The format is:\n",
    "    1. A backick (the symbol \\`).\n",
    "    2. The project name. In this case it is `bigquery-public-data`.\n",
    "    3. A period.\n",
    "    4. The dataset name. In this case, it is `chicago_taxi_trips`.\n",
    "    5. A period.\n",
    "    6. The table name. You used this as your answer in **1) Find the data**.\n",
    "    7. A backtick (the symbol \\`)."
   ]
  },
  {
   "cell_type": "code",
   "execution_count": 8,
   "id": "29c23312",
   "metadata": {
    "execution": {
     "iopub.execute_input": "2023-02-28T18:25:43.682115Z",
     "iopub.status.busy": "2023-02-28T18:25:43.680813Z",
     "iopub.status.idle": "2023-02-28T18:25:44.804761Z",
     "shell.execute_reply": "2023-02-28T18:25:44.803326Z"
    },
    "papermill": {
     "duration": 1.137539,
     "end_time": "2023-02-28T18:25:44.808053",
     "exception": false,
     "start_time": "2023-02-28T18:25:43.670514",
     "status": "completed"
    },
    "tags": []
   },
   "outputs": [
    {
     "name": "stderr",
     "output_type": "stream",
     "text": [
      "/opt/conda/lib/python3.7/site-packages/google/cloud/bigquery/client.py:440: UserWarning: Cannot create BigQuery Storage client, the dependency google-cloud-bigquery-storage is not installed.\n",
      "  \"Cannot create BigQuery Storage client, the dependency \"\n"
     ]
    },
    {
     "name": "stdout",
     "output_type": "stream",
     "text": [
      "    year  num_trips\n",
      "0   2013   27217300\n",
      "1   2014   37395079\n",
      "2   2015   32385527\n",
      "3   2016   31756403\n",
      "4   2017   24979611\n",
      "5   2018   20731105\n",
      "6   2019   16476440\n",
      "7   2020    3888831\n",
      "8   2021    3947677\n",
      "9   2022    6382071\n",
      "10  2023     414489\n"
     ]
    },
    {
     "data": {
      "application/javascript": [
       "parent.postMessage({\"jupyterEvent\": \"custom.exercise_interaction\", \"data\": {\"outcomeType\": 1, \"valueTowardsCompletion\": 0.16666666666666666, \"interactionType\": 1, \"questionType\": 2, \"questionId\": \"3_YearDistrib\", \"learnToolsVersion\": \"0.3.4\", \"failureMessage\": \"\", \"exceptionClass\": \"\", \"trace\": \"\"}}, \"*\")"
      ],
      "text/plain": [
       "<IPython.core.display.Javascript object>"
      ]
     },
     "metadata": {},
     "output_type": "display_data"
    },
    {
     "data": {
      "text/markdown": [
       "<span style=\"color:#33cc33\">Correct</span>"
      ],
      "text/plain": [
       "Correct"
      ]
     },
     "metadata": {},
     "output_type": "display_data"
    }
   ],
   "source": [
    "# Your code goes here\n",
    "rides_per_year_query = \"\"\"\n",
    "                       SELECT \n",
    "                           EXTRACT(YEAR FROM trip_start_timestamp) AS year,\n",
    "                           COUNT(*) AS num_trips\n",
    "                       FROM \n",
    "                           `bigquery-public-data.chicago_taxi_trips.taxi_trips`\n",
    "                       GROUP BY \n",
    "                           year\n",
    "                       ORDER BY \n",
    "                           year\n",
    "                       \"\"\"\n",
    "\n",
    "# Set up the query (cancel the query if it would use too much of \n",
    "# your quota)\n",
    "safe_config = bigquery.QueryJobConfig(maximum_bytes_billed=10**10)\n",
    "rides_per_year_query_job = client.query(rides_per_year_query, job_config=safe_config) # Your code goes here\n",
    "\n",
    "# API request - run the query, and return a pandas DataFrame\n",
    "rides_per_year_result = rides_per_year_query_job.to_dataframe() # Your code goes here\n",
    "\n",
    "# View results\n",
    "print(rides_per_year_result)\n",
    "\n",
    "# Check your answer\n",
    "q_3.check()"
   ]
  },
  {
   "cell_type": "markdown",
   "id": "629a6867",
   "metadata": {
    "papermill": {
     "duration": 0.008215,
     "end_time": "2023-02-28T18:25:44.825547",
     "exception": false,
     "start_time": "2023-02-28T18:25:44.817332",
     "status": "completed"
    },
    "tags": []
   },
   "source": [
    "For a hint or the solution, uncomment the appropriate line below."
   ]
  },
  {
   "cell_type": "code",
   "execution_count": 9,
   "id": "dfcdf512",
   "metadata": {
    "execution": {
     "iopub.execute_input": "2023-02-28T18:25:44.844657Z",
     "iopub.status.busy": "2023-02-28T18:25:44.844168Z",
     "iopub.status.idle": "2023-02-28T18:25:44.849228Z",
     "shell.execute_reply": "2023-02-28T18:25:44.848024Z"
    },
    "papermill": {
     "duration": 0.017538,
     "end_time": "2023-02-28T18:25:44.851704",
     "exception": false,
     "start_time": "2023-02-28T18:25:44.834166",
     "status": "completed"
    },
    "tags": []
   },
   "outputs": [],
   "source": [
    "#q_3.hint()\n",
    "#q_3.solution()"
   ]
  },
  {
   "cell_type": "markdown",
   "id": "4dc23d16",
   "metadata": {
    "papermill": {
     "duration": 0.008331,
     "end_time": "2023-02-28T18:25:44.868619",
     "exception": false,
     "start_time": "2023-02-28T18:25:44.860288",
     "status": "completed"
    },
    "tags": []
   },
   "source": [
    "### 4) Dive slightly deeper\n",
    "\n",
    "You'd like to take a closer look at rides from 2016.  Copy the query you used above in `rides_per_year_query` into the cell below for `rides_per_month_query`.  Then modify it in two ways:\n",
    "1. Use a **WHERE** clause to limit the query to data from 2016.\n",
    "2. Modify the query to extract the month rather than the year."
   ]
  },
  {
   "cell_type": "code",
   "execution_count": 10,
   "id": "82961af8",
   "metadata": {
    "execution": {
     "iopub.execute_input": "2023-02-28T18:25:44.888507Z",
     "iopub.status.busy": "2023-02-28T18:25:44.887921Z",
     "iopub.status.idle": "2023-02-28T18:25:46.097493Z",
     "shell.execute_reply": "2023-02-28T18:25:46.095997Z"
    },
    "papermill": {
     "duration": 1.222974,
     "end_time": "2023-02-28T18:25:46.100278",
     "exception": false,
     "start_time": "2023-02-28T18:25:44.877304",
     "status": "completed"
    },
    "tags": []
   },
   "outputs": [
    {
     "name": "stderr",
     "output_type": "stream",
     "text": [
      "/opt/conda/lib/python3.7/site-packages/google/cloud/bigquery/client.py:440: UserWarning: Cannot create BigQuery Storage client, the dependency google-cloud-bigquery-storage is not installed.\n",
      "  \"Cannot create BigQuery Storage client, the dependency \"\n"
     ]
    },
    {
     "name": "stdout",
     "output_type": "stream",
     "text": [
      "    month  num_trips\n",
      "0       1    2510389\n",
      "1       2    2568433\n",
      "2       3    2851106\n",
      "3       4    2854290\n",
      "4       5    2859147\n",
      "5       6    2841872\n",
      "6       7    2682912\n",
      "7       8    2629482\n",
      "8       9    2532650\n",
      "9      10    2725340\n",
      "10     11    2387790\n",
      "11     12    2312992\n"
     ]
    },
    {
     "data": {
      "application/javascript": [
       "parent.postMessage({\"jupyterEvent\": \"custom.exercise_interaction\", \"data\": {\"outcomeType\": 1, \"valueTowardsCompletion\": 0.16666666666666666, \"interactionType\": 1, \"questionType\": 2, \"questionId\": \"4_MonthDistrib\", \"learnToolsVersion\": \"0.3.4\", \"failureMessage\": \"\", \"exceptionClass\": \"\", \"trace\": \"\"}}, \"*\")"
      ],
      "text/plain": [
       "<IPython.core.display.Javascript object>"
      ]
     },
     "metadata": {},
     "output_type": "display_data"
    },
    {
     "data": {
      "text/markdown": [
       "<span style=\"color:#33cc33\">Correct</span>"
      ],
      "text/plain": [
       "Correct"
      ]
     },
     "metadata": {},
     "output_type": "display_data"
    }
   ],
   "source": [
    "# Your code goes here\n",
    "rides_per_month_query =  \"\"\"\n",
    "                       SELECT \n",
    "                           EXTRACT(MONTH FROM trip_start_timestamp) AS month,\n",
    "                           COUNT(*) AS num_trips\n",
    "                       FROM \n",
    "                           `bigquery-public-data.chicago_taxi_trips.taxi_trips`\n",
    "                       WHERE \n",
    "                           EXTRACT(YEAR FROM trip_start_timestamp) = 2016\n",
    "                       GROUP BY \n",
    "                           month\n",
    "                       ORDER BY \n",
    "                           month\n",
    "                       \"\"\" \n",
    "\n",
    "# Set up the query\n",
    "safe_config = bigquery.QueryJobConfig(maximum_bytes_billed=10**10)\n",
    "rides_per_month_query_job = client.query(rides_per_month_query, job_config=safe_config) # Your code goes here\n",
    "\n",
    "# API request - run the query, and return a pandas DataFrame\n",
    "rides_per_month_result = rides_per_month_query_job.to_dataframe() # Your code goes here\n",
    "\n",
    "# View results\n",
    "print(rides_per_month_result)\n",
    "\n",
    "# Check your answer\n",
    "q_4.check()"
   ]
  },
  {
   "cell_type": "markdown",
   "id": "a064e299",
   "metadata": {
    "papermill": {
     "duration": 0.008681,
     "end_time": "2023-02-28T18:25:46.117854",
     "exception": false,
     "start_time": "2023-02-28T18:25:46.109173",
     "status": "completed"
    },
    "tags": []
   },
   "source": [
    "For a hint or the solution, uncomment the appropriate line below."
   ]
  },
  {
   "cell_type": "code",
   "execution_count": 11,
   "id": "56c7fa44",
   "metadata": {
    "execution": {
     "iopub.execute_input": "2023-02-28T18:25:46.137929Z",
     "iopub.status.busy": "2023-02-28T18:25:46.137448Z",
     "iopub.status.idle": "2023-02-28T18:25:46.142466Z",
     "shell.execute_reply": "2023-02-28T18:25:46.141501Z"
    },
    "papermill": {
     "duration": 0.017897,
     "end_time": "2023-02-28T18:25:46.144613",
     "exception": false,
     "start_time": "2023-02-28T18:25:46.126716",
     "status": "completed"
    },
    "tags": []
   },
   "outputs": [],
   "source": [
    "#q_4.hint()\n",
    "#q_4.solution()"
   ]
  },
  {
   "cell_type": "markdown",
   "id": "3ef2c4da",
   "metadata": {
    "papermill": {
     "duration": 0.008435,
     "end_time": "2023-02-28T18:25:46.162435",
     "exception": false,
     "start_time": "2023-02-28T18:25:46.154000",
     "status": "completed"
    },
    "tags": []
   },
   "source": [
    "### 5) Write the query\n",
    "\n",
    "It's time to step up the sophistication of your queries.  Write a query that shows, for each hour of the day in the dataset, the corresponding number of trips and average speed.\n",
    "\n",
    "Your results should have three columns:\n",
    "- `hour_of_day` - sort by this column, which holds the result of extracting the hour from `trip_start_timestamp`.\n",
    "- `num_trips` - the count of the total number of trips in each hour of the day (e.g. how many trips were started between 6AM and 7AM, independent of which day it occurred on).\n",
    "- `avg_mph` - the average speed, measured in miles per hour, for trips that started in that hour of the day.  Average speed in miles per hour is calculated as `3600 * SUM(trip_miles) / SUM(trip_seconds)`. (The value 3600 is used to convert from seconds to hours.)\n",
    "\n",
    "Restrict your query to data meeting the following criteria:\n",
    "- a `trip_start_timestamp` > **2016-01-01** and < **2016-04-01**\n",
    "- `trip_seconds` > 0 and `trip_miles` > 0\n",
    "\n",
    "You will use a common table expression (CTE) to select just the relevant rides.  Because this dataset is very big, this CTE should select only the columns you'll need to create the final output (though you won't actually create those in the CTE -- instead you'll create those in the later **SELECT** statement below the CTE).\n",
    "\n",
    "This is a much harder query than anything you've written so far.  Good luck!"
   ]
  },
  {
   "cell_type": "code",
   "execution_count": 12,
   "id": "d35cacc1",
   "metadata": {
    "execution": {
     "iopub.execute_input": "2023-02-28T18:25:46.182631Z",
     "iopub.status.busy": "2023-02-28T18:25:46.182180Z",
     "iopub.status.idle": "2023-02-28T18:25:47.352716Z",
     "shell.execute_reply": "2023-02-28T18:25:47.351157Z"
    },
    "papermill": {
     "duration": 1.184536,
     "end_time": "2023-02-28T18:25:47.356024",
     "exception": false,
     "start_time": "2023-02-28T18:25:46.171488",
     "status": "completed"
    },
    "tags": []
   },
   "outputs": [
    {
     "name": "stderr",
     "output_type": "stream",
     "text": [
      "/opt/conda/lib/python3.7/site-packages/google/cloud/bigquery/client.py:440: UserWarning: Cannot create BigQuery Storage client, the dependency google-cloud-bigquery-storage is not installed.\n",
      "  \"Cannot create BigQuery Storage client, the dependency \"\n"
     ]
    },
    {
     "name": "stdout",
     "output_type": "stream",
     "text": [
      "    hour_of_day  num_trips    avg_mph\n",
      "0             0     203092  20.191744\n",
      "1             1     178046  18.628598\n",
      "2             2     143447  18.444370\n",
      "3             3     108899  19.273107\n",
      "4             4      80067  27.599669\n",
      "5             5      75786  33.065604\n",
      "6             6     102254  28.533112\n",
      "7             7     187585  19.884592\n",
      "8             8     284223  16.787900\n",
      "9             9     306854  18.434124\n",
      "10           10     279762  20.091309\n",
      "11           11     294006  20.926340\n",
      "12           12     311522  20.063901\n",
      "13           13     317225  19.766321\n",
      "14           14     312629  19.309655\n",
      "15           15     319953  18.515564\n",
      "16           16     349455  17.168814\n",
      "17           17     394324  14.641375\n",
      "18           18     431991  15.381995\n",
      "19           19     416743  17.795008\n",
      "20           20     356279  20.347398\n",
      "21           21     318363  22.584731\n",
      "22           22     289886  21.129847\n",
      "23           23     241690  20.259757\n"
     ]
    },
    {
     "data": {
      "application/javascript": [
       "parent.postMessage({\"jupyterEvent\": \"custom.exercise_interaction\", \"data\": {\"outcomeType\": 1, \"valueTowardsCompletion\": 0.16666666666666666, \"interactionType\": 1, \"questionType\": 2, \"questionId\": \"5_TheLongQuery\", \"learnToolsVersion\": \"0.3.4\", \"failureMessage\": \"\", \"exceptionClass\": \"\", \"trace\": \"\"}}, \"*\")"
      ],
      "text/plain": [
       "<IPython.core.display.Javascript object>"
      ]
     },
     "metadata": {},
     "output_type": "display_data"
    },
    {
     "data": {
      "text/markdown": [
       "<span style=\"color:#33cc33\">Correct</span>"
      ],
      "text/plain": [
       "Correct"
      ]
     },
     "metadata": {},
     "output_type": "display_data"
    }
   ],
   "source": [
    "# Your code goes here\n",
    "speeds_query = \"\"\"\n",
    "               WITH RelevantRides AS\n",
    "               (\n",
    "                   SELECT trip_start_timestamp, trip_miles, trip_seconds\n",
    "                   FROM `bigquery-public-data.chicago_taxi_trips.taxi_trips`\n",
    "                   WHERE trip_start_timestamp > '2016-01-01'\n",
    "                         AND trip_start_timestamp < '2016-04-01'\n",
    "                         AND trip_seconds > 0\n",
    "                         AND trip_miles > 0\n",
    "               )\n",
    "               SELECT EXTRACT(HOUR FROM trip_start_timestamp) AS hour_of_day,\n",
    "                      COUNT(*) AS num_trips,\n",
    "                      3600 * SUM(trip_miles) / SUM(trip_seconds) AS avg_mph\n",
    "               FROM RelevantRides\n",
    "               GROUP BY hour_of_day\n",
    "               ORDER BY hour_of_day\n",
    "               \"\"\"\n",
    "\n",
    "# Set up the query\n",
    "safe_config = bigquery.QueryJobConfig(maximum_bytes_billed=10**10)\n",
    "speeds_query_job = client.query(speeds_query, job_config=safe_config) # Your code here\n",
    "\n",
    "# API request - run the query, and return a pandas DataFrame\n",
    "speeds_result = speeds_query_job.to_dataframe() # Your code here\n",
    "\n",
    "# View results\n",
    "print(speeds_result)\n",
    "\n",
    "# Check your answer\n",
    "q_5.check()"
   ]
  },
  {
   "cell_type": "markdown",
   "id": "8f14a1c6",
   "metadata": {
    "papermill": {
     "duration": 0.011584,
     "end_time": "2023-02-28T18:25:47.377774",
     "exception": false,
     "start_time": "2023-02-28T18:25:47.366190",
     "status": "completed"
    },
    "tags": []
   },
   "source": [
    "For the solution, uncomment the appropriate line below."
   ]
  },
  {
   "cell_type": "code",
   "execution_count": 13,
   "id": "cc10e957",
   "metadata": {
    "execution": {
     "iopub.execute_input": "2023-02-28T18:25:47.400157Z",
     "iopub.status.busy": "2023-02-28T18:25:47.398847Z",
     "iopub.status.idle": "2023-02-28T18:25:47.404141Z",
     "shell.execute_reply": "2023-02-28T18:25:47.403200Z"
    },
    "papermill": {
     "duration": 0.019169,
     "end_time": "2023-02-28T18:25:47.406727",
     "exception": false,
     "start_time": "2023-02-28T18:25:47.387558",
     "status": "completed"
    },
    "tags": []
   },
   "outputs": [],
   "source": [
    "#q_5.solution()"
   ]
  },
  {
   "cell_type": "markdown",
   "id": "c4d815be",
   "metadata": {
    "papermill": {
     "duration": 0.009304,
     "end_time": "2023-02-28T18:25:47.425644",
     "exception": false,
     "start_time": "2023-02-28T18:25:47.416340",
     "status": "completed"
    },
    "tags": []
   },
   "source": [
    "That's a hard query. If you made good progress towards the solution, congratulations!"
   ]
  },
  {
   "cell_type": "markdown",
   "id": "ada7e808",
   "metadata": {
    "papermill": {
     "duration": 0.00926,
     "end_time": "2023-02-28T18:25:47.444642",
     "exception": false,
     "start_time": "2023-02-28T18:25:47.435382",
     "status": "completed"
    },
    "tags": []
   },
   "source": [
    "# Keep going\n",
    "\n",
    "You can write very complex queries now with a single data source. But nothing expands the horizons of SQL as much as the ability to combine or **JOIN** tables.\n",
    "\n",
    "**[Click here](https://www.kaggle.com/dansbecker/joining-data)** to start the last lesson in the Intro to SQL course."
   ]
  },
  {
   "cell_type": "markdown",
   "id": "65d93402",
   "metadata": {
    "papermill": {
     "duration": 0.009314,
     "end_time": "2023-02-28T18:25:47.463785",
     "exception": false,
     "start_time": "2023-02-28T18:25:47.454471",
     "status": "completed"
    },
    "tags": []
   },
   "source": [
    "---\n",
    "\n",
    "\n",
    "\n",
    "\n",
    "*Have questions or comments? Visit the [course discussion forum](https://www.kaggle.com/learn/intro-to-sql/discussion) to chat with other learners.*"
   ]
  }
 ],
 "metadata": {
  "kernelspec": {
   "display_name": "Python 3",
   "language": "python",
   "name": "python3"
  },
  "language_info": {
   "codemirror_mode": {
    "name": "ipython",
    "version": 3
   },
   "file_extension": ".py",
   "mimetype": "text/x-python",
   "name": "python",
   "nbconvert_exporter": "python",
   "pygments_lexer": "ipython3",
   "version": "3.7.12"
  },
  "papermill": {
   "default_parameters": {},
   "duration": 46.304612,
   "end_time": "2023-02-28T18:25:48.501230",
   "environment_variables": {},
   "exception": null,
   "input_path": "__notebook__.ipynb",
   "output_path": "__notebook__.ipynb",
   "parameters": {},
   "start_time": "2023-02-28T18:25:02.196618",
   "version": "2.4.0"
  }
 },
 "nbformat": 4,
 "nbformat_minor": 5
}
