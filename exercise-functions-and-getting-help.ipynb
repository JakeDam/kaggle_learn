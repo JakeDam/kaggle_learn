{
 "cells": [
  {
   "cell_type": "markdown",
   "id": "e33d1c83",
   "metadata": {
    "papermill": {
     "duration": 0.00482,
     "end_time": "2022-12-08T22:00:39.506711",
     "exception": false,
     "start_time": "2022-12-08T22:00:39.501891",
     "status": "completed"
    },
    "tags": []
   },
   "source": [
    "**This notebook is an exercise in the [Python](https://www.kaggle.com/learn/python) course.  You can reference the tutorial at [this link](https://www.kaggle.com/colinmorris/functions-and-getting-help).**\n",
    "\n",
    "---\n"
   ]
  },
  {
   "cell_type": "markdown",
   "id": "47c8fc75",
   "metadata": {
    "papermill": {
     "duration": 0.003619,
     "end_time": "2022-12-08T22:00:39.514445",
     "exception": false,
     "start_time": "2022-12-08T22:00:39.510826",
     "status": "completed"
    },
    "tags": []
   },
   "source": [
    "Functions are powerful. Try writing some yourself.\n",
    "\n",
    "As before, don't forget to run the setup code below before jumping into question 1."
   ]
  },
  {
   "cell_type": "code",
   "execution_count": 1,
   "id": "f4eb596d",
   "metadata": {
    "_kg_hide-input": true,
    "_kg_hide-output": true,
    "execution": {
     "iopub.execute_input": "2022-12-08T22:00:39.523924Z",
     "iopub.status.busy": "2022-12-08T22:00:39.523532Z",
     "iopub.status.idle": "2022-12-08T22:00:39.578839Z",
     "shell.execute_reply": "2022-12-08T22:00:39.577692Z"
    },
    "papermill": {
     "duration": 0.063381,
     "end_time": "2022-12-08T22:00:39.581692",
     "exception": false,
     "start_time": "2022-12-08T22:00:39.518311",
     "status": "completed"
    },
    "tags": []
   },
   "outputs": [
    {
     "name": "stdout",
     "output_type": "stream",
     "text": [
      "Setup complete.\n"
     ]
    }
   ],
   "source": [
    "# SETUP. You don't need to worry for now about what this code does or how it works.\n",
    "from learntools.core import binder; binder.bind(globals())\n",
    "from learntools.python.ex2 import *\n",
    "print('Setup complete.')"
   ]
  },
  {
   "cell_type": "markdown",
   "id": "291e8af5",
   "metadata": {
    "papermill": {
     "duration": 0.003974,
     "end_time": "2022-12-08T22:00:39.590120",
     "exception": false,
     "start_time": "2022-12-08T22:00:39.586146",
     "status": "completed"
    },
    "tags": []
   },
   "source": [
    "# 1.\n",
    "\n",
    "Complete the body of the following function according to its docstring.\n",
    "\n",
    "HINT: Python has a built-in function `round`."
   ]
  },
  {
   "cell_type": "code",
   "execution_count": 2,
   "id": "79cee3d5",
   "metadata": {
    "execution": {
     "iopub.execute_input": "2022-12-08T22:00:39.600680Z",
     "iopub.status.busy": "2022-12-08T22:00:39.600103Z",
     "iopub.status.idle": "2022-12-08T22:00:39.609651Z",
     "shell.execute_reply": "2022-12-08T22:00:39.608991Z"
    },
    "papermill": {
     "duration": 0.017493,
     "end_time": "2022-12-08T22:00:39.611822",
     "exception": false,
     "start_time": "2022-12-08T22:00:39.594329",
     "status": "completed"
    },
    "tags": []
   },
   "outputs": [
    {
     "data": {
      "application/javascript": [
       "parent.postMessage({\"jupyterEvent\": \"custom.exercise_interaction\", \"data\": {\"outcomeType\": 1, \"valueTowardsCompletion\": 0.16666666666666666, \"interactionType\": 1, \"questionType\": 2, \"questionId\": \"1_RoundFunctionProblem\", \"learnToolsVersion\": \"0.3.4\", \"failureMessage\": \"\", \"exceptionClass\": \"\", \"trace\": \"\"}}, \"*\")"
      ],
      "text/plain": [
       "<IPython.core.display.Javascript object>"
      ]
     },
     "metadata": {},
     "output_type": "display_data"
    },
    {
     "data": {
      "text/markdown": [
       "<span style=\"color:#33cc33\">Correct</span>"
      ],
      "text/plain": [
       "Correct"
      ]
     },
     "metadata": {},
     "output_type": "display_data"
    }
   ],
   "source": [
    "def round_to_two_places(num):\n",
    "    \"\"\"Return the given number rounded to two decimal places. \n",
    "    \n",
    "    >>> round_to_two_places(3.14159)\n",
    "    3.14\n",
    "    \"\"\"\n",
    "    # Replace this body with your own code.\n",
    "    # (\"pass\" is a keyword that does literally nothing. We used it as a placeholder\n",
    "    # because after we begin a code block, Python requires at least one line of code)\n",
    "    output = round(num, 2)\n",
    "    return output\n",
    "    pass\n",
    "\n",
    "# Check your answer\n",
    "q1.check()"
   ]
  },
  {
   "cell_type": "code",
   "execution_count": 3,
   "id": "082a3998",
   "metadata": {
    "execution": {
     "iopub.execute_input": "2022-12-08T22:00:39.622462Z",
     "iopub.status.busy": "2022-12-08T22:00:39.621955Z",
     "iopub.status.idle": "2022-12-08T22:00:39.625070Z",
     "shell.execute_reply": "2022-12-08T22:00:39.624423Z"
    },
    "papermill": {
     "duration": 0.01036,
     "end_time": "2022-12-08T22:00:39.626710",
     "exception": false,
     "start_time": "2022-12-08T22:00:39.616350",
     "status": "completed"
    },
    "tags": []
   },
   "outputs": [],
   "source": [
    "# Uncomment the following for a hint\n",
    "#q1.hint()\n",
    "# Or uncomment the following to peek at the solution\n",
    "#q1.solution()"
   ]
  },
  {
   "cell_type": "markdown",
   "id": "05c258b5",
   "metadata": {
    "papermill": {
     "duration": 0.005025,
     "end_time": "2022-12-08T22:00:39.636754",
     "exception": false,
     "start_time": "2022-12-08T22:00:39.631729",
     "status": "completed"
    },
    "tags": []
   },
   "source": [
    "# 2.\n",
    "The help for `round` says that `ndigits` (the second argument) may be negative.\n",
    "What do you think will happen when it is? Try some examples in the following cell."
   ]
  },
  {
   "cell_type": "code",
   "execution_count": 4,
   "id": "bc9a5060",
   "metadata": {
    "execution": {
     "iopub.execute_input": "2022-12-08T22:00:39.647606Z",
     "iopub.status.busy": "2022-12-08T22:00:39.647055Z",
     "iopub.status.idle": "2022-12-08T22:00:39.651990Z",
     "shell.execute_reply": "2022-12-08T22:00:39.650746Z"
    },
    "papermill": {
     "duration": 0.012926,
     "end_time": "2022-12-08T22:00:39.654195",
     "exception": false,
     "start_time": "2022-12-08T22:00:39.641269",
     "status": "completed"
    },
    "tags": []
   },
   "outputs": [
    {
     "name": "stdout",
     "output_type": "stream",
     "text": [
      "0.0\n"
     ]
    }
   ],
   "source": [
    "# Put your test code here\n",
    "print(round(10.22222, -2))"
   ]
  },
  {
   "cell_type": "markdown",
   "id": "0680fa24",
   "metadata": {
    "papermill": {
     "duration": 0.004272,
     "end_time": "2022-12-08T22:00:39.663842",
     "exception": false,
     "start_time": "2022-12-08T22:00:39.659570",
     "status": "completed"
    },
    "tags": []
   },
   "source": [
    "Can you think of a case where this would be useful?  Once you're ready, run the code cell below to see the answer and to receive credit for completing the problem."
   ]
  },
  {
   "cell_type": "code",
   "execution_count": 5,
   "id": "b4e6ce12",
   "metadata": {
    "execution": {
     "iopub.execute_input": "2022-12-08T22:00:39.675021Z",
     "iopub.status.busy": "2022-12-08T22:00:39.673886Z",
     "iopub.status.idle": "2022-12-08T22:00:39.684350Z",
     "shell.execute_reply": "2022-12-08T22:00:39.683039Z"
    },
    "papermill": {
     "duration": 0.018153,
     "end_time": "2022-12-08T22:00:39.686406",
     "exception": false,
     "start_time": "2022-12-08T22:00:39.668253",
     "status": "completed"
    },
    "tags": []
   },
   "outputs": [
    {
     "data": {
      "application/javascript": [
       "parent.postMessage({\"jupyterEvent\": \"custom.exercise_interaction\", \"data\": {\"interactionType\": 3, \"questionType\": 4, \"questionId\": \"2_RoundNdigitsProblem\", \"learnToolsVersion\": \"0.3.4\", \"valueTowardsCompletion\": 0.0, \"failureMessage\": \"\", \"exceptionClass\": \"\", \"trace\": \"\", \"outcomeType\": 4}}, \"*\")"
      ],
      "text/plain": [
       "<IPython.core.display.Javascript object>"
      ]
     },
     "metadata": {},
     "output_type": "display_data"
    },
    {
     "data": {
      "text/markdown": [
       "<span style=\"color:#33cc99\">Solution:</span> As you've seen, `ndigits=-1` rounds to the nearest 10, `ndigits=-2` rounds to the nearest 100 and so on. Where might this be useful? Suppose we're dealing with large numbers:\n",
       "\n",
       "> The area of Finland is 338,424 km²  \n",
       "> The area of Greenland is 2,166,086 km²\n",
       "\n",
       "We probably don't care whether it's really 338,424, or 338,425, or 338,177. All those digits of accuracy are just distracting. We can chop them off by calling `round()` with `ndigits=-3`:\n",
       "\n",
       "> The area of Finland is 338,000 km²  \n",
       "> The area of Greenland is 2,166,000 km²\n",
       "\n",
       "(We'll talk about how we would get the commas later when we talk about string formatting :))\n"
      ],
      "text/plain": [
       "Solution: As you've seen, `ndigits=-1` rounds to the nearest 10, `ndigits=-2` rounds to the nearest 100 and so on. Where might this be useful? Suppose we're dealing with large numbers:\n",
       "\n",
       "> The area of Finland is 338,424 km²  \n",
       "> The area of Greenland is 2,166,086 km²\n",
       "\n",
       "We probably don't care whether it's really 338,424, or 338,425, or 338,177. All those digits of accuracy are just distracting. We can chop them off by calling `round()` with `ndigits=-3`:\n",
       "\n",
       "> The area of Finland is 338,000 km²  \n",
       "> The area of Greenland is 2,166,000 km²\n",
       "\n",
       "(We'll talk about how we would get the commas later when we talk about string formatting :))"
      ]
     },
     "metadata": {},
     "output_type": "display_data"
    }
   ],
   "source": [
    "# Check your answer (Run this code cell to receive credit!)\n",
    "q2.solution()"
   ]
  },
  {
   "cell_type": "markdown",
   "id": "863dd3fc",
   "metadata": {
    "papermill": {
     "duration": 0.005866,
     "end_time": "2022-12-08T22:00:39.697273",
     "exception": false,
     "start_time": "2022-12-08T22:00:39.691407",
     "status": "completed"
    },
    "tags": []
   },
   "source": [
    "# 3.\n",
    "\n",
    "In the previous exercise, the candy-sharing friends Alice, Bob and Carol tried to split candies evenly. For the sake of their friendship, any candies left over would be smashed. For example, if they collectively bring home 91 candies, they'll take 30 each and smash 1.\n",
    "\n",
    "Below is a simple function that will calculate the number of candies to smash for *any* number of total candies.\n",
    "\n",
    "Modify it so that it optionally takes a second argument representing the number of friends the candies are being split between. If no second argument is provided, it should assume 3 friends, as before.\n",
    "\n",
    "Update the docstring to reflect this new behaviour."
   ]
  },
  {
   "cell_type": "code",
   "execution_count": 6,
   "id": "dd7558a6",
   "metadata": {
    "execution": {
     "iopub.execute_input": "2022-12-08T22:00:39.708667Z",
     "iopub.status.busy": "2022-12-08T22:00:39.708141Z",
     "iopub.status.idle": "2022-12-08T22:00:39.717433Z",
     "shell.execute_reply": "2022-12-08T22:00:39.716305Z"
    },
    "papermill": {
     "duration": 0.018645,
     "end_time": "2022-12-08T22:00:39.720630",
     "exception": false,
     "start_time": "2022-12-08T22:00:39.701985",
     "status": "completed"
    },
    "tags": []
   },
   "outputs": [
    {
     "data": {
      "application/javascript": [
       "parent.postMessage({\"jupyterEvent\": \"custom.exercise_interaction\", \"data\": {\"outcomeType\": 1, \"valueTowardsCompletion\": 0.16666666666666666, \"interactionType\": 1, \"questionType\": 2, \"questionId\": \"3_CandySmashingFunctionProblem\", \"learnToolsVersion\": \"0.3.4\", \"failureMessage\": \"\", \"exceptionClass\": \"\", \"trace\": \"\"}}, \"*\")"
      ],
      "text/plain": [
       "<IPython.core.display.Javascript object>"
      ]
     },
     "metadata": {},
     "output_type": "display_data"
    },
    {
     "data": {
      "text/markdown": [
       "<span style=\"color:#33cc33\">Correct</span>"
      ],
      "text/plain": [
       "Correct"
      ]
     },
     "metadata": {},
     "output_type": "display_data"
    }
   ],
   "source": [
    "def to_smash(total_candies, num_friends=3):\n",
    "    \"\"\"Return the number of leftover candies that must be smashed after distributing\n",
    "    the given number of candies evenly between 3 friends.\n",
    "    \n",
    "    >>> to_smash(91)\n",
    "    1\n",
    "    \"\"\"\n",
    "    return total_candies % num_friends\n",
    "\n",
    "# Check your answer\n",
    "q3.check()"
   ]
  },
  {
   "cell_type": "code",
   "execution_count": 7,
   "id": "42de6414",
   "metadata": {
    "execution": {
     "iopub.execute_input": "2022-12-08T22:00:39.732763Z",
     "iopub.status.busy": "2022-12-08T22:00:39.732370Z",
     "iopub.status.idle": "2022-12-08T22:00:39.738039Z",
     "shell.execute_reply": "2022-12-08T22:00:39.736435Z"
    },
    "papermill": {
     "duration": 0.014918,
     "end_time": "2022-12-08T22:00:39.740681",
     "exception": false,
     "start_time": "2022-12-08T22:00:39.725763",
     "status": "completed"
    },
    "tags": []
   },
   "outputs": [],
   "source": [
    "#q3.hint()"
   ]
  },
  {
   "cell_type": "code",
   "execution_count": 8,
   "id": "e841c01d",
   "metadata": {
    "execution": {
     "iopub.execute_input": "2022-12-08T22:00:39.752511Z",
     "iopub.status.busy": "2022-12-08T22:00:39.752165Z",
     "iopub.status.idle": "2022-12-08T22:00:39.757394Z",
     "shell.execute_reply": "2022-12-08T22:00:39.755562Z"
    },
    "papermill": {
     "duration": 0.014699,
     "end_time": "2022-12-08T22:00:39.760442",
     "exception": false,
     "start_time": "2022-12-08T22:00:39.745743",
     "status": "completed"
    },
    "tags": []
   },
   "outputs": [],
   "source": [
    "#q3.solution()"
   ]
  },
  {
   "cell_type": "markdown",
   "id": "b808ff50",
   "metadata": {
    "papermill": {
     "duration": 0.004849,
     "end_time": "2022-12-08T22:00:39.770511",
     "exception": false,
     "start_time": "2022-12-08T22:00:39.765662",
     "status": "completed"
    },
    "tags": []
   },
   "source": [
    "# 4. (Optional)\n",
    "\n",
    "It may not be fun, but reading and understanding error messages will be an important part of your Python career.\n",
    "\n",
    "Each code cell below contains some commented buggy code. For each cell...\n",
    "\n",
    "1. Read the code and predict what you think will happen when it's run.\n",
    "2. Then uncomment the code and run it to see what happens. (**Tip**: In the kernel editor, you can highlight several lines and press `ctrl`+`/` to toggle commenting.)\n",
    "3. Fix the code (so that it accomplishes its intended purpose without throwing an exception)\n",
    "\n",
    "<!-- TODO: should this be autochecked? Delta is probably pretty small. -->"
   ]
  },
  {
   "cell_type": "code",
   "execution_count": 9,
   "id": "21e93dac",
   "metadata": {
    "execution": {
     "iopub.execute_input": "2022-12-08T22:00:39.782567Z",
     "iopub.status.busy": "2022-12-08T22:00:39.782235Z",
     "iopub.status.idle": "2022-12-08T22:00:39.789392Z",
     "shell.execute_reply": "2022-12-08T22:00:39.787839Z"
    },
    "papermill": {
     "duration": 0.016118,
     "end_time": "2022-12-08T22:00:39.791833",
     "exception": false,
     "start_time": "2022-12-08T22:00:39.775715",
     "status": "completed"
    },
    "tags": []
   },
   "outputs": [
    {
     "data": {
      "text/plain": [
       "10.0"
      ]
     },
     "execution_count": 9,
     "metadata": {},
     "output_type": "execute_result"
    }
   ],
   "source": [
    "round_to_two_places(9.9999)"
   ]
  },
  {
   "cell_type": "code",
   "execution_count": 10,
   "id": "c45a2be4",
   "metadata": {
    "execution": {
     "iopub.execute_input": "2022-12-08T22:00:39.803711Z",
     "iopub.status.busy": "2022-12-08T22:00:39.803354Z",
     "iopub.status.idle": "2022-12-08T22:00:39.810179Z",
     "shell.execute_reply": "2022-12-08T22:00:39.808659Z"
    },
    "papermill": {
     "duration": 0.015088,
     "end_time": "2022-12-08T22:00:39.812137",
     "exception": false,
     "start_time": "2022-12-08T22:00:39.797049",
     "status": "completed"
    },
    "tags": []
   },
   "outputs": [
    {
     "name": "stdout",
     "output_type": "stream",
     "text": [
      "5\n"
     ]
    }
   ],
   "source": [
    "x = -10\n",
    "y = 5\n",
    "# Which of the two variables above has the smallest absolute value?\n",
    "smallest_abs = min(abs(x), abs(y))\n",
    "print(smallest_abs)"
   ]
  },
  {
   "cell_type": "code",
   "execution_count": 11,
   "id": "56f603d4",
   "metadata": {
    "execution": {
     "iopub.execute_input": "2022-12-08T22:00:39.825219Z",
     "iopub.status.busy": "2022-12-08T22:00:39.824386Z",
     "iopub.status.idle": "2022-12-08T22:00:39.830825Z",
     "shell.execute_reply": "2022-12-08T22:00:39.829267Z"
    },
    "papermill": {
     "duration": 0.015984,
     "end_time": "2022-12-08T22:00:39.833463",
     "exception": false,
     "start_time": "2022-12-08T22:00:39.817479",
     "status": "completed"
    },
    "tags": []
   },
   "outputs": [
    {
     "name": "stdout",
     "output_type": "stream",
     "text": [
      "5\n"
     ]
    }
   ],
   "source": [
    "def f(x):\n",
    "     y = abs(x)\n",
    "     return y\n",
    "print(f(5))"
   ]
  },
  {
   "cell_type": "markdown",
   "id": "7e06331e",
   "metadata": {
    "papermill": {
     "duration": 0.005642,
     "end_time": "2022-12-08T22:00:39.844500",
     "exception": false,
     "start_time": "2022-12-08T22:00:39.838858",
     "status": "completed"
    },
    "tags": []
   },
   "source": [
    "# Keep Going\n",
    "\n",
    "Nice job with the code. Next up, you'll learn about *conditionals*, which you'll need to **[write interesting programs](https://www.kaggle.com/colinmorris/booleans-and-conditionals)**. "
   ]
  },
  {
   "cell_type": "markdown",
   "id": "f7b55a09",
   "metadata": {
    "papermill": {
     "duration": 0.004838,
     "end_time": "2022-12-08T22:00:39.854617",
     "exception": false,
     "start_time": "2022-12-08T22:00:39.849779",
     "status": "completed"
    },
    "tags": []
   },
   "source": [
    "---\n",
    "\n",
    "\n",
    "\n",
    "\n",
    "*Have questions or comments? Visit the [course discussion forum](https://www.kaggle.com/learn/python/discussion) to chat with other learners.*"
   ]
  }
 ],
 "metadata": {
  "kernelspec": {
   "display_name": "Python 3",
   "language": "python",
   "name": "python3"
  },
  "language_info": {
   "codemirror_mode": {
    "name": "ipython",
    "version": 3
   },
   "file_extension": ".py",
   "mimetype": "text/x-python",
   "name": "python",
   "nbconvert_exporter": "python",
   "pygments_lexer": "ipython3",
   "version": "3.7.12"
  },
  "papermill": {
   "default_parameters": {},
   "duration": 8.89072,
   "end_time": "2022-12-08T22:00:40.580040",
   "environment_variables": {},
   "exception": null,
   "input_path": "__notebook__.ipynb",
   "output_path": "__notebook__.ipynb",
   "parameters": {},
   "start_time": "2022-12-08T22:00:31.689320",
   "version": "2.3.4"
  }
 },
 "nbformat": 4,
 "nbformat_minor": 5
}
