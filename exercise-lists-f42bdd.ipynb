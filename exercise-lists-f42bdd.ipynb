{
 "cells": [
  {
   "cell_type": "markdown",
   "id": "aacf031a",
   "metadata": {
    "papermill": {
     "duration": 0.006607,
     "end_time": "2022-12-10T19:09:02.237832",
     "exception": false,
     "start_time": "2022-12-10T19:09:02.231225",
     "status": "completed"
    },
    "tags": []
   },
   "source": [
    "**This notebook is an exercise in the [Python](https://www.kaggle.com/learn/python) course.  You can reference the tutorial at [this link](https://www.kaggle.com/colinmorris/lists).**\n",
    "\n",
    "---\n"
   ]
  },
  {
   "cell_type": "markdown",
   "id": "72ba70cb",
   "metadata": {
    "papermill": {
     "duration": 0.004804,
     "end_time": "2022-12-10T19:09:02.248242",
     "exception": false,
     "start_time": "2022-12-10T19:09:02.243438",
     "status": "completed"
    },
    "tags": []
   },
   "source": [
    "Things get more interesting with lists. You'll apply your new knowledge to solve the questions below. Remember to run the following cell first."
   ]
  },
  {
   "cell_type": "code",
   "execution_count": 1,
   "id": "fc222d36",
   "metadata": {
    "execution": {
     "iopub.execute_input": "2022-12-10T19:09:02.262175Z",
     "iopub.status.busy": "2022-12-10T19:09:02.261253Z",
     "iopub.status.idle": "2022-12-10T19:09:02.319201Z",
     "shell.execute_reply": "2022-12-10T19:09:02.317873Z"
    },
    "papermill": {
     "duration": 0.068841,
     "end_time": "2022-12-10T19:09:02.322892",
     "exception": false,
     "start_time": "2022-12-10T19:09:02.254051",
     "status": "completed"
    },
    "tags": []
   },
   "outputs": [
    {
     "name": "stdout",
     "output_type": "stream",
     "text": [
      "Setup complete.\n"
     ]
    }
   ],
   "source": [
    "from learntools.core import binder; binder.bind(globals())\n",
    "from learntools.python.ex4 import *\n",
    "print('Setup complete.')"
   ]
  },
  {
   "cell_type": "markdown",
   "id": "6dd85e83",
   "metadata": {
    "papermill": {
     "duration": 0.005105,
     "end_time": "2022-12-10T19:09:02.334091",
     "exception": false,
     "start_time": "2022-12-10T19:09:02.328986",
     "status": "completed"
    },
    "tags": []
   },
   "source": [
    "# 1.\n",
    "\n",
    "Complete the function below according to its docstring."
   ]
  },
  {
   "cell_type": "code",
   "execution_count": 2,
   "id": "9dce422c",
   "metadata": {
    "execution": {
     "iopub.execute_input": "2022-12-10T19:09:02.346709Z",
     "iopub.status.busy": "2022-12-10T19:09:02.346275Z",
     "iopub.status.idle": "2022-12-10T19:09:02.360118Z",
     "shell.execute_reply": "2022-12-10T19:09:02.358513Z"
    },
    "papermill": {
     "duration": 0.023069,
     "end_time": "2022-12-10T19:09:02.362633",
     "exception": false,
     "start_time": "2022-12-10T19:09:02.339564",
     "status": "completed"
    },
    "tags": []
   },
   "outputs": [
    {
     "data": {
      "application/javascript": [
       "parent.postMessage({\"jupyterEvent\": \"custom.exercise_interaction\", \"data\": {\"outcomeType\": 1, \"valueTowardsCompletion\": 0.2, \"interactionType\": 1, \"questionType\": 2, \"questionId\": \"1_SelectSecondItem\", \"learnToolsVersion\": \"0.3.4\", \"failureMessage\": \"\", \"exceptionClass\": \"\", \"trace\": \"\"}}, \"*\")"
      ],
      "text/plain": [
       "<IPython.core.display.Javascript object>"
      ]
     },
     "metadata": {},
     "output_type": "display_data"
    },
    {
     "data": {
      "text/markdown": [
       "<span style=\"color:#33cc33\">Correct</span>"
      ],
      "text/plain": [
       "Correct"
      ]
     },
     "metadata": {},
     "output_type": "display_data"
    }
   ],
   "source": [
    "def select_second(L):\n",
    "    \"\"\"Return the second element of the given list. If the list has no second\n",
    "    element, return None.\n",
    "    \"\"\"\n",
    "    if len(L) < 2:\n",
    "        return None\n",
    "    else:\n",
    "        return L[1]\n",
    "\n",
    "# Check your answer\n",
    "q1.check()"
   ]
  },
  {
   "cell_type": "code",
   "execution_count": 3,
   "id": "eae62ce3",
   "metadata": {
    "collapsed": true,
    "execution": {
     "iopub.execute_input": "2022-12-10T19:09:02.376217Z",
     "iopub.status.busy": "2022-12-10T19:09:02.375393Z",
     "iopub.status.idle": "2022-12-10T19:09:02.380065Z",
     "shell.execute_reply": "2022-12-10T19:09:02.379267Z"
    },
    "jupyter": {
     "outputs_hidden": true
    },
    "papermill": {
     "duration": 0.014201,
     "end_time": "2022-12-10T19:09:02.382544",
     "exception": false,
     "start_time": "2022-12-10T19:09:02.368343",
     "status": "completed"
    },
    "tags": []
   },
   "outputs": [],
   "source": [
    "#q1.hint()\n",
    "#q1.solution()"
   ]
  },
  {
   "cell_type": "markdown",
   "id": "a781b1b9",
   "metadata": {
    "papermill": {
     "duration": 0.005249,
     "end_time": "2022-12-10T19:09:02.393378",
     "exception": false,
     "start_time": "2022-12-10T19:09:02.388129",
     "status": "completed"
    },
    "tags": []
   },
   "source": [
    "# 2.\n",
    "\n",
    "You are analyzing sports teams.  Members of each team are stored in a list. The Coach is the first name in the list, the captain is the second name in the list, and other players are listed after that. \n",
    "These lists are stored in another list, which starts with the best team and proceeds through the list to the worst team last.  Complete the function below to select the **captain** of the worst team."
   ]
  },
  {
   "cell_type": "code",
   "execution_count": 4,
   "id": "3627771b",
   "metadata": {
    "execution": {
     "iopub.execute_input": "2022-12-10T19:09:02.406476Z",
     "iopub.status.busy": "2022-12-10T19:09:02.406034Z",
     "iopub.status.idle": "2022-12-10T19:09:02.414125Z",
     "shell.execute_reply": "2022-12-10T19:09:02.412957Z"
    },
    "papermill": {
     "duration": 0.017557,
     "end_time": "2022-12-10T19:09:02.416449",
     "exception": false,
     "start_time": "2022-12-10T19:09:02.398892",
     "status": "completed"
    },
    "tags": []
   },
   "outputs": [
    {
     "data": {
      "application/javascript": [
       "parent.postMessage({\"jupyterEvent\": \"custom.exercise_interaction\", \"data\": {\"outcomeType\": 1, \"valueTowardsCompletion\": 0.2, \"interactionType\": 1, \"questionType\": 2, \"questionId\": \"2_LosingTeamCaptain\", \"learnToolsVersion\": \"0.3.4\", \"failureMessage\": \"\", \"exceptionClass\": \"\", \"trace\": \"\"}}, \"*\")"
      ],
      "text/plain": [
       "<IPython.core.display.Javascript object>"
      ]
     },
     "metadata": {},
     "output_type": "display_data"
    },
    {
     "data": {
      "text/markdown": [
       "<span style=\"color:#33cc33\">Correct</span>"
      ],
      "text/plain": [
       "Correct"
      ]
     },
     "metadata": {},
     "output_type": "display_data"
    }
   ],
   "source": [
    "def losing_team_captain(teams):\n",
    "    \"\"\"Given a list of teams, where each team is a list of names, return the 2nd player (captain)\n",
    "    from the last listed team\n",
    "    \"\"\"\n",
    "    return teams[-1][1]\n",
    "\n",
    "# Check your answer\n",
    "q2.check()"
   ]
  },
  {
   "cell_type": "code",
   "execution_count": 5,
   "id": "d658660d",
   "metadata": {
    "collapsed": true,
    "execution": {
     "iopub.execute_input": "2022-12-10T19:09:02.430957Z",
     "iopub.status.busy": "2022-12-10T19:09:02.430221Z",
     "iopub.status.idle": "2022-12-10T19:09:02.434093Z",
     "shell.execute_reply": "2022-12-10T19:09:02.433263Z"
    },
    "jupyter": {
     "outputs_hidden": true
    },
    "papermill": {
     "duration": 0.014036,
     "end_time": "2022-12-10T19:09:02.436274",
     "exception": false,
     "start_time": "2022-12-10T19:09:02.422238",
     "status": "completed"
    },
    "tags": []
   },
   "outputs": [],
   "source": [
    "#q2.hint()\n",
    "#q2.solution()"
   ]
  },
  {
   "cell_type": "markdown",
   "id": "dfb6e3e2",
   "metadata": {
    "papermill": {
     "duration": 0.005473,
     "end_time": "2022-12-10T19:09:02.447762",
     "exception": false,
     "start_time": "2022-12-10T19:09:02.442289",
     "status": "completed"
    },
    "tags": []
   },
   "source": [
    "# 3.\n",
    "\n",
    "The next iteration of Mario Kart will feature an extra-infuriating new item, the *Purple Shell*. When used, it warps the last place racer into first place and the first place racer into last place. Complete the function below to implement the Purple Shell's effect."
   ]
  },
  {
   "cell_type": "code",
   "execution_count": 6,
   "id": "a3582c67",
   "metadata": {
    "execution": {
     "iopub.execute_input": "2022-12-10T19:09:02.462524Z",
     "iopub.status.busy": "2022-12-10T19:09:02.461799Z",
     "iopub.status.idle": "2022-12-10T19:09:02.471266Z",
     "shell.execute_reply": "2022-12-10T19:09:02.470056Z"
    },
    "papermill": {
     "duration": 0.019905,
     "end_time": "2022-12-10T19:09:02.474087",
     "exception": false,
     "start_time": "2022-12-10T19:09:02.454182",
     "status": "completed"
    },
    "tags": []
   },
   "outputs": [
    {
     "data": {
      "application/javascript": [
       "parent.postMessage({\"jupyterEvent\": \"custom.exercise_interaction\", \"data\": {\"outcomeType\": 1, \"valueTowardsCompletion\": 0.2, \"interactionType\": 1, \"questionType\": 2, \"questionId\": \"3_PurpleShell\", \"learnToolsVersion\": \"0.3.4\", \"failureMessage\": \"\", \"exceptionClass\": \"\", \"trace\": \"\"}}, \"*\")"
      ],
      "text/plain": [
       "<IPython.core.display.Javascript object>"
      ]
     },
     "metadata": {},
     "output_type": "display_data"
    },
    {
     "data": {
      "text/markdown": [
       "<span style=\"color:#33cc33\">Correct</span>"
      ],
      "text/plain": [
       "Correct"
      ]
     },
     "metadata": {},
     "output_type": "display_data"
    }
   ],
   "source": [
    "def purple_shell(racers):\n",
    "    \"\"\"Given a list of racers, set the first place racer (at the front of the list) to last\n",
    "    place and vice versa.\n",
    "    \n",
    "    >>> r = [\"Mario\", \"Bowser\", \"Luigi\"]\n",
    "    >>> purple_shell(r)\n",
    "    >>> r\n",
    "    [\"Luigi\", \"Bowser\", \"Mario\"]\n",
    "    \"\"\"\n",
    "    first = racers[0]\n",
    "    last = racers[-1]\n",
    "    racers[0] = last\n",
    "    racers[-1] = first\n",
    "\n",
    "# Check your answer\n",
    "q3.check()"
   ]
  },
  {
   "cell_type": "code",
   "execution_count": 7,
   "id": "a02a59c0",
   "metadata": {
    "collapsed": true,
    "execution": {
     "iopub.execute_input": "2022-12-10T19:09:02.488781Z",
     "iopub.status.busy": "2022-12-10T19:09:02.487991Z",
     "iopub.status.idle": "2022-12-10T19:09:02.493002Z",
     "shell.execute_reply": "2022-12-10T19:09:02.491989Z"
    },
    "jupyter": {
     "outputs_hidden": true
    },
    "papermill": {
     "duration": 0.015882,
     "end_time": "2022-12-10T19:09:02.496066",
     "exception": false,
     "start_time": "2022-12-10T19:09:02.480184",
     "status": "completed"
    },
    "tags": []
   },
   "outputs": [],
   "source": [
    "#q3.hint()\n",
    "#q3.solution()"
   ]
  },
  {
   "cell_type": "markdown",
   "id": "f6a19080",
   "metadata": {
    "papermill": {
     "duration": 0.007238,
     "end_time": "2022-12-10T19:09:02.509688",
     "exception": false,
     "start_time": "2022-12-10T19:09:02.502450",
     "status": "completed"
    },
    "tags": []
   },
   "source": [
    "# 4.\n",
    "\n",
    "What are the lengths of the following lists? Fill in the variable `lengths` with your predictions. (Try to make a prediction for each list *without* just calling `len()` on it.)"
   ]
  },
  {
   "cell_type": "code",
   "execution_count": 8,
   "id": "12e30e55",
   "metadata": {
    "execution": {
     "iopub.execute_input": "2022-12-10T19:09:02.524952Z",
     "iopub.status.busy": "2022-12-10T19:09:02.524135Z",
     "iopub.status.idle": "2022-12-10T19:09:02.536454Z",
     "shell.execute_reply": "2022-12-10T19:09:02.535133Z"
    },
    "papermill": {
     "duration": 0.022939,
     "end_time": "2022-12-10T19:09:02.538924",
     "exception": false,
     "start_time": "2022-12-10T19:09:02.515985",
     "status": "completed"
    },
    "tags": []
   },
   "outputs": [
    {
     "data": {
      "application/javascript": [
       "parent.postMessage({\"jupyterEvent\": \"custom.exercise_interaction\", \"data\": {\"outcomeType\": 1, \"valueTowardsCompletion\": 0.2, \"interactionType\": 1, \"questionType\": 1, \"questionId\": \"4_UnderstandLen\", \"learnToolsVersion\": \"0.3.4\", \"failureMessage\": \"\", \"exceptionClass\": \"\", \"trace\": \"\"}}, \"*\")"
      ],
      "text/plain": [
       "<IPython.core.display.Javascript object>"
      ]
     },
     "metadata": {},
     "output_type": "display_data"
    },
    {
     "data": {
      "text/markdown": [
       "<span style=\"color:#33cc33\">Correct:</span> \n",
       "\n",
       "\n",
       "- a: There are three items in this list. Nothing tricky yet.\n",
       "- b: The list `[2, 3]` counts as a single item. It has one item before it. So we have 2 items in the list\n",
       "- c: The empty list has 0 items\n",
       "- d: The expression is the same as the list `[2, 3]`, which has length 2."
      ],
      "text/plain": [
       "Correct: \n",
       "\n",
       "\n",
       "- a: There are three items in this list. Nothing tricky yet.\n",
       "- b: The list `[2, 3]` counts as a single item. It has one item before it. So we have 2 items in the list\n",
       "- c: The empty list has 0 items\n",
       "- d: The expression is the same as the list `[2, 3]`, which has length 2."
      ]
     },
     "metadata": {},
     "output_type": "display_data"
    }
   ],
   "source": [
    "a = [1, 2, 3]\n",
    "b = [1, [2, 3]]\n",
    "c = []\n",
    "d = [1, 2, 3][1:]\n",
    "\n",
    "# Put your predictions in the list below. Lengths should contain 4 numbers, the\n",
    "# first being the length of a, the second being the length of b and so on.\n",
    "lengths = [3, 2, 0, 2]\n",
    "\n",
    "# Check your answer\n",
    "q4.check()"
   ]
  },
  {
   "cell_type": "code",
   "execution_count": 9,
   "id": "d90e7f52",
   "metadata": {
    "execution": {
     "iopub.execute_input": "2022-12-10T19:09:02.555011Z",
     "iopub.status.busy": "2022-12-10T19:09:02.554255Z",
     "iopub.status.idle": "2022-12-10T19:09:02.559953Z",
     "shell.execute_reply": "2022-12-10T19:09:02.558646Z"
    },
    "papermill": {
     "duration": 0.017305,
     "end_time": "2022-12-10T19:09:02.563135",
     "exception": false,
     "start_time": "2022-12-10T19:09:02.545830",
     "status": "completed"
    },
    "tags": []
   },
   "outputs": [],
   "source": [
    "# line below provides some explanation\n",
    "# q4.solution()"
   ]
  },
  {
   "cell_type": "markdown",
   "id": "300d452d",
   "metadata": {
    "papermill": {
     "duration": 0.006028,
     "end_time": "2022-12-10T19:09:02.575877",
     "exception": false,
     "start_time": "2022-12-10T19:09:02.569849",
     "status": "completed"
    },
    "tags": []
   },
   "source": [
    "# 5. <span title=\"A bit spicy\" style=\"color: darkgreen \">🌶️</span>\n",
    "\n",
    "We're using lists to record people who attended our party and what order they arrived in. For example, the following list represents a party with 7 guests, in which Adela showed up first and Ford was the last to arrive:\n",
    "\n",
    "    party_attendees = ['Adela', 'Fleda', 'Owen', 'May', 'Mona', 'Gilbert', 'Ford']\n",
    "\n",
    "A guest is considered 'fashionably late' if they arrived after at least half of the party's guests. However, they must not be the very last guest (that's taking it too far). In the above example, Mona and Gilbert are the only guests who were fashionably late.\n",
    "\n",
    "Complete the function below which takes a list of party attendees as well as a person, and tells us whether that person is fashionably late."
   ]
  },
  {
   "cell_type": "code",
   "execution_count": 10,
   "id": "ef97c579",
   "metadata": {
    "execution": {
     "iopub.execute_input": "2022-12-10T19:09:02.591531Z",
     "iopub.status.busy": "2022-12-10T19:09:02.590759Z",
     "iopub.status.idle": "2022-12-10T19:09:02.601805Z",
     "shell.execute_reply": "2022-12-10T19:09:02.600689Z"
    },
    "papermill": {
     "duration": 0.021944,
     "end_time": "2022-12-10T19:09:02.604524",
     "exception": false,
     "start_time": "2022-12-10T19:09:02.582580",
     "status": "completed"
    },
    "tags": []
   },
   "outputs": [
    {
     "data": {
      "application/javascript": [
       "parent.postMessage({\"jupyterEvent\": \"custom.exercise_interaction\", \"data\": {\"outcomeType\": 1, \"valueTowardsCompletion\": 0.2, \"interactionType\": 1, \"questionType\": 2, \"questionId\": \"5_FashionablyLate\", \"learnToolsVersion\": \"0.3.4\", \"failureMessage\": \"\", \"exceptionClass\": \"\", \"trace\": \"\"}}, \"*\")"
      ],
      "text/plain": [
       "<IPython.core.display.Javascript object>"
      ]
     },
     "metadata": {},
     "output_type": "display_data"
    },
    {
     "data": {
      "text/markdown": [
       "<span style=\"color:#33cc33\">Correct</span>"
      ],
      "text/plain": [
       "Correct"
      ]
     },
     "metadata": {},
     "output_type": "display_data"
    }
   ],
   "source": [
    "def fashionably_late(arrivals, name):\n",
    "    \"\"\"Given an ordered list of arrivals to the party and a name, return whether the guest with that\n",
    "    name was fashionably late.\n",
    "    \"\"\"\n",
    "    if (arrivals.index(name) >= (len(arrivals) / 2)) and (arrivals.index(name) != len(arrivals) - 1):\n",
    "        return True\n",
    "    else:\n",
    "        return False\n",
    "\n",
    "# Check your answer\n",
    "q5.check()"
   ]
  },
  {
   "cell_type": "code",
   "execution_count": 11,
   "id": "523798c1",
   "metadata": {
    "collapsed": true,
    "execution": {
     "iopub.execute_input": "2022-12-10T19:09:02.621284Z",
     "iopub.status.busy": "2022-12-10T19:09:02.620448Z",
     "iopub.status.idle": "2022-12-10T19:09:02.624833Z",
     "shell.execute_reply": "2022-12-10T19:09:02.623833Z"
    },
    "jupyter": {
     "outputs_hidden": true
    },
    "papermill": {
     "duration": 0.015378,
     "end_time": "2022-12-10T19:09:02.627106",
     "exception": false,
     "start_time": "2022-12-10T19:09:02.611728",
     "status": "completed"
    },
    "tags": []
   },
   "outputs": [],
   "source": [
    "#q5.hint()\n",
    "#q5.solution()"
   ]
  },
  {
   "cell_type": "markdown",
   "id": "646fb159",
   "metadata": {
    "papermill": {
     "duration": 0.00607,
     "end_time": "2022-12-10T19:09:02.640016",
     "exception": false,
     "start_time": "2022-12-10T19:09:02.633946",
     "status": "completed"
    },
    "tags": []
   },
   "source": [
    "# Keep Going\n",
    "\n",
    "That's it for lists and tuples! Now you have the baseline knowledge to **[learn about loops](https://www.kaggle.com/colinmorris/loops-and-list-comprehensions)**, which is where lists and tuples get really interesting. "
   ]
  },
  {
   "cell_type": "markdown",
   "id": "0dc6198e",
   "metadata": {
    "papermill": {
     "duration": 0.006011,
     "end_time": "2022-12-10T19:09:02.652351",
     "exception": false,
     "start_time": "2022-12-10T19:09:02.646340",
     "status": "completed"
    },
    "tags": []
   },
   "source": [
    "---\n",
    "\n",
    "\n",
    "\n",
    "\n",
    "*Have questions or comments? Visit the [course discussion forum](https://www.kaggle.com/learn/python/discussion) to chat with other learners.*"
   ]
  }
 ],
 "metadata": {
  "kernelspec": {
   "display_name": "Python 3",
   "language": "python",
   "name": "python3"
  },
  "language_info": {
   "codemirror_mode": {
    "name": "ipython",
    "version": 3
   },
   "file_extension": ".py",
   "mimetype": "text/x-python",
   "name": "python",
   "nbconvert_exporter": "python",
   "pygments_lexer": "ipython3",
   "version": "3.7.12"
  },
  "papermill": {
   "default_parameters": {},
   "duration": 10.276907,
   "end_time": "2022-12-10T19:09:03.684216",
   "environment_variables": {},
   "exception": null,
   "input_path": "__notebook__.ipynb",
   "output_path": "__notebook__.ipynb",
   "parameters": {},
   "start_time": "2022-12-10T19:08:53.407309",
   "version": "2.3.4"
  }
 },
 "nbformat": 4,
 "nbformat_minor": 5
}
