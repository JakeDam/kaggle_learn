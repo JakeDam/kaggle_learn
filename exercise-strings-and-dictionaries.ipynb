{
 "cells": [
  {
   "cell_type": "markdown",
   "id": "ad7a6cfd",
   "metadata": {
    "papermill": {
     "duration": 0.009026,
     "end_time": "2022-12-12T21:00:20.347228",
     "exception": false,
     "start_time": "2022-12-12T21:00:20.338202",
     "status": "completed"
    },
    "tags": []
   },
   "source": [
    "**This notebook is an exercise in the [Python](https://www.kaggle.com/learn/python) course.  You can reference the tutorial at [this link](https://www.kaggle.com/colinmorris/strings-and-dictionaries).**\n",
    "\n",
    "---\n"
   ]
  },
  {
   "cell_type": "markdown",
   "id": "96177edf",
   "metadata": {
    "papermill": {
     "duration": 0.005303,
     "end_time": "2022-12-12T21:00:20.361563",
     "exception": false,
     "start_time": "2022-12-12T21:00:20.356260",
     "status": "completed"
    },
    "tags": []
   },
   "source": [
    "You are almost done with the course. Nice job!\n",
    "\n",
    "We have a couple more interesting problems for you before you go. \n",
    "\n",
    "As always, run the setup code below before working on the questions."
   ]
  },
  {
   "cell_type": "code",
   "execution_count": 1,
   "id": "f748c4e8",
   "metadata": {
    "execution": {
     "iopub.execute_input": "2022-12-12T21:00:20.374704Z",
     "iopub.status.busy": "2022-12-12T21:00:20.374056Z",
     "iopub.status.idle": "2022-12-12T21:00:20.453131Z",
     "shell.execute_reply": "2022-12-12T21:00:20.451944Z"
    },
    "papermill": {
     "duration": 0.089004,
     "end_time": "2022-12-12T21:00:20.456121",
     "exception": false,
     "start_time": "2022-12-12T21:00:20.367117",
     "status": "completed"
    },
    "tags": []
   },
   "outputs": [
    {
     "name": "stdout",
     "output_type": "stream",
     "text": [
      "Setup complete.\n"
     ]
    }
   ],
   "source": [
    "from learntools.core import binder; binder.bind(globals())\n",
    "from learntools.python.ex6 import *\n",
    "print('Setup complete.')"
   ]
  },
  {
   "cell_type": "markdown",
   "id": "c545acda",
   "metadata": {
    "papermill": {
     "duration": 0.005775,
     "end_time": "2022-12-12T21:00:20.467977",
     "exception": false,
     "start_time": "2022-12-12T21:00:20.462202",
     "status": "completed"
    },
    "tags": []
   },
   "source": [
    "Let's start with a string lightning round to warm up. What are the lengths of the strings below?\n",
    "\n",
    "For each of the five strings below, predict what `len()` would return when passed that string. Use the variable `length` to record your answer, then run the cell to check whether you were right.  \n",
    "\n",
    "# 0a."
   ]
  },
  {
   "cell_type": "code",
   "execution_count": 2,
   "id": "3b187ba4",
   "metadata": {
    "execution": {
     "iopub.execute_input": "2022-12-12T21:00:20.486808Z",
     "iopub.status.busy": "2022-12-12T21:00:20.486319Z",
     "iopub.status.idle": "2022-12-12T21:00:20.498848Z",
     "shell.execute_reply": "2022-12-12T21:00:20.497379Z"
    },
    "papermill": {
     "duration": 0.024671,
     "end_time": "2022-12-12T21:00:20.501623",
     "exception": false,
     "start_time": "2022-12-12T21:00:20.476952",
     "status": "completed"
    },
    "tags": []
   },
   "outputs": [
    {
     "data": {
      "application/javascript": [
       "parent.postMessage({\"jupyterEvent\": \"custom.exercise_interaction\", \"data\": {\"outcomeType\": 1, \"valueTowardsCompletion\": 0.3333333333333333, \"interactionType\": 1, \"questionType\": 1, \"questionId\": \"0.1_ZA\", \"learnToolsVersion\": \"0.3.4\", \"failureMessage\": \"\", \"exceptionClass\": \"\", \"trace\": \"\"}}, \"*\")"
      ],
      "text/plain": [
       "<IPython.core.display.Javascript object>"
      ]
     },
     "metadata": {},
     "output_type": "display_data"
    },
    {
     "data": {
      "text/markdown": [
       "<span style=\"color:#33cc33\">Correct:</span> \n",
       "\n",
       "The empty string has length zero. Note that the empty string is also the only string that Python considers as False when converting to boolean."
      ],
      "text/plain": [
       "Correct: \n",
       "\n",
       "The empty string has length zero. Note that the empty string is also the only string that Python considers as False when converting to boolean."
      ]
     },
     "metadata": {},
     "output_type": "display_data"
    }
   ],
   "source": [
    "a = \"\"\n",
    "length = 0\n",
    "q0.a.check()"
   ]
  },
  {
   "cell_type": "markdown",
   "id": "4f9033ad",
   "metadata": {
    "papermill": {
     "duration": 0.006665,
     "end_time": "2022-12-12T21:00:20.514455",
     "exception": false,
     "start_time": "2022-12-12T21:00:20.507790",
     "status": "completed"
    },
    "tags": []
   },
   "source": [
    "# 0b."
   ]
  },
  {
   "cell_type": "code",
   "execution_count": 3,
   "id": "8061ea03",
   "metadata": {
    "execution": {
     "iopub.execute_input": "2022-12-12T21:00:20.528146Z",
     "iopub.status.busy": "2022-12-12T21:00:20.527621Z",
     "iopub.status.idle": "2022-12-12T21:00:20.538968Z",
     "shell.execute_reply": "2022-12-12T21:00:20.537981Z"
    },
    "papermill": {
     "duration": 0.021952,
     "end_time": "2022-12-12T21:00:20.542222",
     "exception": false,
     "start_time": "2022-12-12T21:00:20.520270",
     "status": "completed"
    },
    "tags": []
   },
   "outputs": [
    {
     "data": {
      "application/javascript": [
       "parent.postMessage({\"jupyterEvent\": \"custom.exercise_interaction\", \"data\": {\"outcomeType\": 1, \"valueTowardsCompletion\": 0.3333333333333333, \"interactionType\": 1, \"questionType\": 1, \"questionId\": \"0.2_ZB\", \"learnToolsVersion\": \"0.3.4\", \"failureMessage\": \"\", \"exceptionClass\": \"\", \"trace\": \"\"}}, \"*\")"
      ],
      "text/plain": [
       "<IPython.core.display.Javascript object>"
      ]
     },
     "metadata": {},
     "output_type": "display_data"
    },
    {
     "data": {
      "text/markdown": [
       "<span style=\"color:#33cc33\">Correct:</span> \n",
       "\n",
       "Keep in mind Python includes spaces (and punctuation) when counting string length."
      ],
      "text/plain": [
       "Correct: \n",
       "\n",
       "Keep in mind Python includes spaces (and punctuation) when counting string length."
      ]
     },
     "metadata": {},
     "output_type": "display_data"
    }
   ],
   "source": [
    "b = \"it's ok\"\n",
    "length = 7\n",
    "q0.b.check()"
   ]
  },
  {
   "cell_type": "markdown",
   "id": "dd776404",
   "metadata": {
    "papermill": {
     "duration": 0.005912,
     "end_time": "2022-12-12T21:00:20.555353",
     "exception": false,
     "start_time": "2022-12-12T21:00:20.549441",
     "status": "completed"
    },
    "tags": []
   },
   "source": [
    "# 0c."
   ]
  },
  {
   "cell_type": "code",
   "execution_count": 4,
   "id": "fb3bf40e",
   "metadata": {
    "execution": {
     "iopub.execute_input": "2022-12-12T21:00:20.571906Z",
     "iopub.status.busy": "2022-12-12T21:00:20.570616Z",
     "iopub.status.idle": "2022-12-12T21:00:20.583947Z",
     "shell.execute_reply": "2022-12-12T21:00:20.580564Z"
    },
    "papermill": {
     "duration": 0.023384,
     "end_time": "2022-12-12T21:00:20.586429",
     "exception": false,
     "start_time": "2022-12-12T21:00:20.563045",
     "status": "completed"
    },
    "tags": []
   },
   "outputs": [
    {
     "data": {
      "application/javascript": [
       "parent.postMessage({\"jupyterEvent\": \"custom.exercise_interaction\", \"data\": {\"outcomeType\": 1, \"valueTowardsCompletion\": 0.3333333333333333, \"interactionType\": 1, \"questionType\": 1, \"questionId\": \"0.3_ZC\", \"learnToolsVersion\": \"0.3.4\", \"failureMessage\": \"\", \"exceptionClass\": \"\", \"trace\": \"\"}}, \"*\")"
      ],
      "text/plain": [
       "<IPython.core.display.Javascript object>"
      ]
     },
     "metadata": {},
     "output_type": "display_data"
    },
    {
     "data": {
      "text/markdown": [
       "<span style=\"color:#33cc33\">Correct:</span> \n",
       "\n",
       "Even though we use different syntax to create it, the string `c` is identical to `b`. In particular, note that the backslash is not part of the string, so it doesn't contribute to its length."
      ],
      "text/plain": [
       "Correct: \n",
       "\n",
       "Even though we use different syntax to create it, the string `c` is identical to `b`. In particular, note that the backslash is not part of the string, so it doesn't contribute to its length."
      ]
     },
     "metadata": {},
     "output_type": "display_data"
    }
   ],
   "source": [
    "c = 'it\\'s ok'\n",
    "length = 7\n",
    "q0.c.check()"
   ]
  },
  {
   "cell_type": "markdown",
   "id": "e777b769",
   "metadata": {
    "papermill": {
     "duration": 0.006007,
     "end_time": "2022-12-12T21:00:20.601032",
     "exception": false,
     "start_time": "2022-12-12T21:00:20.595025",
     "status": "completed"
    },
    "tags": []
   },
   "source": [
    "# 0d."
   ]
  },
  {
   "cell_type": "code",
   "execution_count": 5,
   "id": "8b9bd233",
   "metadata": {
    "execution": {
     "iopub.execute_input": "2022-12-12T21:00:20.615548Z",
     "iopub.status.busy": "2022-12-12T21:00:20.615141Z",
     "iopub.status.idle": "2022-12-12T21:00:20.624921Z",
     "shell.execute_reply": "2022-12-12T21:00:20.623780Z"
    },
    "papermill": {
     "duration": 0.020111,
     "end_time": "2022-12-12T21:00:20.627457",
     "exception": false,
     "start_time": "2022-12-12T21:00:20.607346",
     "status": "completed"
    },
    "tags": []
   },
   "outputs": [
    {
     "data": {
      "application/javascript": [
       "parent.postMessage({\"jupyterEvent\": \"custom.exercise_interaction\", \"data\": {\"outcomeType\": 1, \"valueTowardsCompletion\": 0.3333333333333333, \"interactionType\": 1, \"questionType\": 1, \"questionId\": \"0.4_ZD\", \"learnToolsVersion\": \"0.3.4\", \"failureMessage\": \"\", \"exceptionClass\": \"\", \"trace\": \"\"}}, \"*\")"
      ],
      "text/plain": [
       "<IPython.core.display.Javascript object>"
      ]
     },
     "metadata": {},
     "output_type": "display_data"
    },
    {
     "data": {
      "text/markdown": [
       "<span style=\"color:#33cc33\">Correct:</span> \n",
       "\n",
       "The fact that this string was created using triple-quote syntax doesn't make any difference in terms of its content or length. This string is exactly the same as `'hey'`."
      ],
      "text/plain": [
       "Correct: \n",
       "\n",
       "The fact that this string was created using triple-quote syntax doesn't make any difference in terms of its content or length. This string is exactly the same as `'hey'`."
      ]
     },
     "metadata": {},
     "output_type": "display_data"
    }
   ],
   "source": [
    "d = \"\"\"hey\"\"\"\n",
    "length = 3\n",
    "q0.d.check()"
   ]
  },
  {
   "cell_type": "markdown",
   "id": "652b5049",
   "metadata": {
    "papermill": {
     "duration": 0.006101,
     "end_time": "2022-12-12T21:00:20.640145",
     "exception": false,
     "start_time": "2022-12-12T21:00:20.634044",
     "status": "completed"
    },
    "tags": []
   },
   "source": [
    "# 0e."
   ]
  },
  {
   "cell_type": "code",
   "execution_count": 6,
   "id": "0a39a095",
   "metadata": {
    "execution": {
     "iopub.execute_input": "2022-12-12T21:00:20.655772Z",
     "iopub.status.busy": "2022-12-12T21:00:20.655123Z",
     "iopub.status.idle": "2022-12-12T21:00:20.664646Z",
     "shell.execute_reply": "2022-12-12T21:00:20.663386Z"
    },
    "papermill": {
     "duration": 0.02041,
     "end_time": "2022-12-12T21:00:20.667238",
     "exception": false,
     "start_time": "2022-12-12T21:00:20.646828",
     "status": "completed"
    },
    "tags": []
   },
   "outputs": [
    {
     "data": {
      "application/javascript": [
       "parent.postMessage({\"jupyterEvent\": \"custom.exercise_interaction\", \"data\": {\"outcomeType\": 1, \"valueTowardsCompletion\": 0.3333333333333333, \"interactionType\": 1, \"questionType\": 1, \"questionId\": \"0.5_ZE\", \"learnToolsVersion\": \"0.3.4\", \"failureMessage\": \"\", \"exceptionClass\": \"\", \"trace\": \"\"}}, \"*\")"
      ],
      "text/plain": [
       "<IPython.core.display.Javascript object>"
      ]
     },
     "metadata": {},
     "output_type": "display_data"
    },
    {
     "data": {
      "text/markdown": [
       "<span style=\"color:#33cc33\">Correct:</span> \n",
       "\n",
       "The newline character is just a single character! (Even though we represent it to Python using a combination of two characters.)"
      ],
      "text/plain": [
       "Correct: \n",
       "\n",
       "The newline character is just a single character! (Even though we represent it to Python using a combination of two characters.)"
      ]
     },
     "metadata": {},
     "output_type": "display_data"
    }
   ],
   "source": [
    "e = '\\n'\n",
    "length = 1\n",
    "q0.e.check()"
   ]
  },
  {
   "cell_type": "markdown",
   "id": "e94aeca2",
   "metadata": {
    "papermill": {
     "duration": 0.006724,
     "end_time": "2022-12-12T21:00:20.680937",
     "exception": false,
     "start_time": "2022-12-12T21:00:20.674213",
     "status": "completed"
    },
    "tags": []
   },
   "source": [
    "# 1.\n",
    "\n",
    "There is a saying that \"Data scientists spend 80% of their time cleaning data, and 20% of their time complaining about cleaning data.\" Let's see if you can write a function to help clean US zip code data. Given a string, it should return whether or not that string represents a valid zip code. For our purposes, a valid zip code is any string consisting of exactly 5 digits.\n",
    "\n",
    "HINT: `str` has a method that will be useful here. Use `help(str)` to review a list of string methods."
   ]
  },
  {
   "cell_type": "code",
   "execution_count": 7,
   "id": "0ee4b6cb",
   "metadata": {
    "execution": {
     "iopub.execute_input": "2022-12-12T21:00:20.696903Z",
     "iopub.status.busy": "2022-12-12T21:00:20.695832Z",
     "iopub.status.idle": "2022-12-12T21:00:20.712023Z",
     "shell.execute_reply": "2022-12-12T21:00:20.705742Z"
    },
    "papermill": {
     "duration": 0.028055,
     "end_time": "2022-12-12T21:00:20.715780",
     "exception": false,
     "start_time": "2022-12-12T21:00:20.687725",
     "status": "completed"
    },
    "tags": []
   },
   "outputs": [
    {
     "data": {
      "application/javascript": [
       "parent.postMessage({\"jupyterEvent\": \"custom.exercise_interaction\", \"data\": {\"outcomeType\": 1, \"valueTowardsCompletion\": 0.3333333333333333, \"interactionType\": 1, \"questionType\": 2, \"questionId\": \"1_ZipValidator\", \"learnToolsVersion\": \"0.3.4\", \"failureMessage\": \"\", \"exceptionClass\": \"\", \"trace\": \"\"}}, \"*\")"
      ],
      "text/plain": [
       "<IPython.core.display.Javascript object>"
      ]
     },
     "metadata": {},
     "output_type": "display_data"
    },
    {
     "data": {
      "text/markdown": [
       "<span style=\"color:#33cc33\">Correct</span>"
      ],
      "text/plain": [
       "Correct"
      ]
     },
     "metadata": {},
     "output_type": "display_data"
    }
   ],
   "source": [
    "def is_valid_zip(zip_code):\n",
    "    \"\"\"Returns whether the input string is a valid (5 digit) zip code\n",
    "    \"\"\"\n",
    "    if len(zip_code) != 5:\n",
    "        return False\n",
    "    for num in zip_code:\n",
    "        if not num.isdigit():\n",
    "            return False\n",
    "    return True\n",
    "\n",
    "# Check your answer\n",
    "q1.check()"
   ]
  },
  {
   "cell_type": "code",
   "execution_count": 8,
   "id": "f7c0d38d",
   "metadata": {
    "execution": {
     "iopub.execute_input": "2022-12-12T21:00:20.736037Z",
     "iopub.status.busy": "2022-12-12T21:00:20.735217Z",
     "iopub.status.idle": "2022-12-12T21:00:20.739983Z",
     "shell.execute_reply": "2022-12-12T21:00:20.739065Z"
    },
    "papermill": {
     "duration": 0.018518,
     "end_time": "2022-12-12T21:00:20.742837",
     "exception": false,
     "start_time": "2022-12-12T21:00:20.724319",
     "status": "completed"
    },
    "tags": []
   },
   "outputs": [],
   "source": [
    "#q1.hint()\n",
    "#q1.solution()"
   ]
  },
  {
   "cell_type": "markdown",
   "id": "4f19b4cc",
   "metadata": {
    "papermill": {
     "duration": 0.006963,
     "end_time": "2022-12-12T21:00:20.758293",
     "exception": false,
     "start_time": "2022-12-12T21:00:20.751330",
     "status": "completed"
    },
    "tags": []
   },
   "source": [
    "# 2.\n",
    "\n",
    "A researcher has gathered thousands of news articles. But she wants to focus her attention on articles including a specific word. Complete the function below to help her filter her list of articles.\n",
    "\n",
    "Your function should meet the following criteria:\n",
    "\n",
    "- Do not include documents where the keyword string shows up only as a part of a larger word. For example, if she were looking for the keyword “closed”, you would not include the string “enclosed.” \n",
    "- She does not want you to distinguish upper case from lower case letters. So the phrase “Closed the case.” would be included when the keyword is “closed”\n",
    "- Do not let periods or commas affect what is matched. “It is closed.” would be included when the keyword is “closed”. But you can assume there are no other types of punctuation."
   ]
  },
  {
   "cell_type": "code",
   "execution_count": 9,
   "id": "183a31cb",
   "metadata": {
    "execution": {
     "iopub.execute_input": "2022-12-12T21:00:20.775039Z",
     "iopub.status.busy": "2022-12-12T21:00:20.774192Z",
     "iopub.status.idle": "2022-12-12T21:00:20.787073Z",
     "shell.execute_reply": "2022-12-12T21:00:20.786026Z"
    },
    "papermill": {
     "duration": 0.025048,
     "end_time": "2022-12-12T21:00:20.790549",
     "exception": false,
     "start_time": "2022-12-12T21:00:20.765501",
     "status": "completed"
    },
    "tags": []
   },
   "outputs": [
    {
     "data": {
      "application/javascript": [
       "parent.postMessage({\"jupyterEvent\": \"custom.exercise_interaction\", \"data\": {\"outcomeType\": 1, \"valueTowardsCompletion\": 0.3333333333333333, \"interactionType\": 1, \"questionType\": 2, \"questionId\": \"2_WordSearch\", \"learnToolsVersion\": \"0.3.4\", \"failureMessage\": \"\", \"exceptionClass\": \"\", \"trace\": \"\"}}, \"*\")"
      ],
      "text/plain": [
       "<IPython.core.display.Javascript object>"
      ]
     },
     "metadata": {},
     "output_type": "display_data"
    },
    {
     "data": {
      "text/markdown": [
       "<span style=\"color:#33cc33\">Correct</span>"
      ],
      "text/plain": [
       "Correct"
      ]
     },
     "metadata": {},
     "output_type": "display_data"
    }
   ],
   "source": [
    "def word_search(doc_list, keyword):\n",
    "    \"\"\"\n",
    "    Takes a list of documents (each document is a string) and a keyword. \n",
    "    Returns list of the index values into the original list for all documents \n",
    "    containing the keyword.\n",
    "\n",
    "    Example:\n",
    "    doc_list = [\"The Learn Python Challenge Casino.\", \"They bought a car\", \"Casinoville\"]\n",
    "    >>> word_search(doc_list, 'casino')\n",
    "    >>> [0]\n",
    "    \"\"\"\n",
    "    ret_list = []\n",
    "    for i in range(0, len(doc_list)):\n",
    "        words = doc_list[i].split()\n",
    "        for word in words:\n",
    "            stripped = word.replace(\",\", \"\").replace(\".\", '')\n",
    "            if stripped.lower() == keyword.lower():\n",
    "                ret_list.append(i)\n",
    "                break\n",
    "                \n",
    "    return ret_list\n",
    "                \n",
    "\n",
    "# Check your answer\n",
    "q2.check()"
   ]
  },
  {
   "cell_type": "code",
   "execution_count": 10,
   "id": "53847be0",
   "metadata": {
    "execution": {
     "iopub.execute_input": "2022-12-12T21:00:20.809673Z",
     "iopub.status.busy": "2022-12-12T21:00:20.809123Z",
     "iopub.status.idle": "2022-12-12T21:00:20.814866Z",
     "shell.execute_reply": "2022-12-12T21:00:20.813373Z"
    },
    "papermill": {
     "duration": 0.018072,
     "end_time": "2022-12-12T21:00:20.818037",
     "exception": false,
     "start_time": "2022-12-12T21:00:20.799965",
     "status": "completed"
    },
    "tags": []
   },
   "outputs": [],
   "source": [
    "#q2.hint()\n",
    "#q2.solution()"
   ]
  },
  {
   "cell_type": "markdown",
   "id": "970c4b84",
   "metadata": {
    "papermill": {
     "duration": 0.007853,
     "end_time": "2022-12-12T21:00:20.834292",
     "exception": false,
     "start_time": "2022-12-12T21:00:20.826439",
     "status": "completed"
    },
    "tags": []
   },
   "source": [
    "# 3.\n",
    "\n",
    "Now the researcher wants to supply multiple keywords to search for. Complete the function below to help her.\n",
    "\n",
    "(You're encouraged to use the `word_search` function you just wrote when implementing this function. Reusing code in this way makes your programs more robust and readable - and it saves typing!)"
   ]
  },
  {
   "cell_type": "code",
   "execution_count": 11,
   "id": "d19f5d4f",
   "metadata": {
    "execution": {
     "iopub.execute_input": "2022-12-12T21:00:20.853815Z",
     "iopub.status.busy": "2022-12-12T21:00:20.853115Z",
     "iopub.status.idle": "2022-12-12T21:00:20.866852Z",
     "shell.execute_reply": "2022-12-12T21:00:20.866050Z"
    },
    "papermill": {
     "duration": 0.025887,
     "end_time": "2022-12-12T21:00:20.869239",
     "exception": false,
     "start_time": "2022-12-12T21:00:20.843352",
     "status": "completed"
    },
    "tags": []
   },
   "outputs": [
    {
     "data": {
      "application/javascript": [
       "parent.postMessage({\"jupyterEvent\": \"custom.exercise_interaction\", \"data\": {\"outcomeType\": 1, \"valueTowardsCompletion\": 0.3333333333333333, \"interactionType\": 1, \"questionType\": 2, \"questionId\": \"3_MultiWordSearch\", \"learnToolsVersion\": \"0.3.4\", \"failureMessage\": \"\", \"exceptionClass\": \"\", \"trace\": \"\"}}, \"*\")"
      ],
      "text/plain": [
       "<IPython.core.display.Javascript object>"
      ]
     },
     "metadata": {},
     "output_type": "display_data"
    },
    {
     "data": {
      "text/markdown": [
       "<span style=\"color:#33cc33\">Correct</span>"
      ],
      "text/plain": [
       "Correct"
      ]
     },
     "metadata": {},
     "output_type": "display_data"
    }
   ],
   "source": [
    "def multi_word_search(doc_list, keywords):\n",
    "    \"\"\"\n",
    "    Takes list of documents (each document is a string) and a list of keywords.  \n",
    "    Returns a dictionary where each key is a keyword, and the value is a list of indices\n",
    "    (from doc_list) of the documents containing that keyword\n",
    "\n",
    "    >>> doc_list = [\"The Learn Python Challenge Casino.\", \"They bought a car and a casino\", \"Casinoville\"]\n",
    "    >>> keywords = ['casino', 'they']\n",
    "    >>> multi_word_search(doc_list, keywords)\n",
    "    {'casino': [0, 1], 'they': [1]}\n",
    "    \"\"\"\n",
    "    lower_keys = [word.lower() for word in keywords]\n",
    "    ret_dict = {}\n",
    "    for keyword in lower_keys:\n",
    "        ret_dict[keyword] = []\n",
    "        for i in range(0, len(doc_list)):\n",
    "            words = doc_list[i].split()\n",
    "            for word in words:\n",
    "                stripped = word.replace(\",\", \"\").replace(\".\", '')\n",
    "                if stripped.lower() == keyword:\n",
    "                    ret_dict[keyword].append(i)\n",
    "                    break\n",
    "                \n",
    "    return ret_dict\n",
    "\n",
    "# Check your answer\n",
    "q3.check()"
   ]
  },
  {
   "cell_type": "code",
   "execution_count": 12,
   "id": "6fb1d943",
   "metadata": {
    "execution": {
     "iopub.execute_input": "2022-12-12T21:00:20.886255Z",
     "iopub.status.busy": "2022-12-12T21:00:20.885618Z",
     "iopub.status.idle": "2022-12-12T21:00:20.891022Z",
     "shell.execute_reply": "2022-12-12T21:00:20.889813Z"
    },
    "papermill": {
     "duration": 0.01682,
     "end_time": "2022-12-12T21:00:20.893647",
     "exception": false,
     "start_time": "2022-12-12T21:00:20.876827",
     "status": "completed"
    },
    "tags": []
   },
   "outputs": [],
   "source": [
    "#q3.solution()"
   ]
  },
  {
   "cell_type": "markdown",
   "id": "15d4d78a",
   "metadata": {
    "papermill": {
     "duration": 0.007255,
     "end_time": "2022-12-12T21:00:20.908756",
     "exception": false,
     "start_time": "2022-12-12T21:00:20.901501",
     "status": "completed"
    },
    "tags": []
   },
   "source": [
    "# Keep Going\n",
    "\n",
    "You've learned a lot. But even the best programmers rely heavily on \"libraries\" of code from other programmers. You'll learn about that in **[the last lesson](https://www.kaggle.com/colinmorris/working-with-external-libraries)**.\n"
   ]
  },
  {
   "cell_type": "markdown",
   "id": "a77b1acb",
   "metadata": {
    "papermill": {
     "duration": 0.007361,
     "end_time": "2022-12-12T21:00:20.923762",
     "exception": false,
     "start_time": "2022-12-12T21:00:20.916401",
     "status": "completed"
    },
    "tags": []
   },
   "source": [
    "---\n",
    "\n",
    "\n",
    "\n",
    "\n",
    "*Have questions or comments? Visit the [course discussion forum](https://www.kaggle.com/learn/python/discussion) to chat with other learners.*"
   ]
  }
 ],
 "metadata": {
  "kernelspec": {
   "display_name": "Python 3",
   "language": "python",
   "name": "python3"
  },
  "language_info": {
   "codemirror_mode": {
    "name": "ipython",
    "version": 3
   },
   "file_extension": ".py",
   "mimetype": "text/x-python",
   "name": "python",
   "nbconvert_exporter": "python",
   "pygments_lexer": "ipython3",
   "version": "3.7.12"
  },
  "papermill": {
   "default_parameters": {},
   "duration": 10.255083,
   "end_time": "2022-12-12T21:00:21.654616",
   "environment_variables": {},
   "exception": null,
   "input_path": "__notebook__.ipynb",
   "output_path": "__notebook__.ipynb",
   "parameters": {},
   "start_time": "2022-12-12T21:00:11.399533",
   "version": "2.3.4"
  }
 },
 "nbformat": 4,
 "nbformat_minor": 5
}
